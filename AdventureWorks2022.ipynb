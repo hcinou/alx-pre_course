{
  "metadata": {
    "kernelspec": {
      "name": "SQL",
      "display_name": "SQL",
      "language": "sql"
    },
    "language_info": {
      "name": "sql",
      "version": ""
    },
    "colab": {
      "provenance": [],
      "include_colab_link": true
    }
  },
  "nbformat_minor": 0,
  "nbformat": 4,
  "cells": [
    {
      "cell_type": "markdown",
      "metadata": {
        "id": "view-in-github",
        "colab_type": "text"
      },
      "source": [
        "<a href=\"https://colab.research.google.com/github/hcinou/alx-pre_course/blob/master/AdventureWorks2022.ipynb\" target=\"_parent\"><img src=\"https://colab.research.google.com/assets/colab-badge.svg\" alt=\"Open In Colab\"/></a>"
      ]
    },
    {
      "cell_type": "markdown",
      "source": [
        "This code aims to provide a comprehensive overview of the tables within the AdventureWorks2022 database. Here's a detailed explanation of what it does and how it can help:\n",
        "\n",
        "**Objective:**\n",
        "\n",
        "- **Optimize database queries:** Knowing the distribution of tables across schemas and the total number of tables can assist in optimizing queries by identifying potential bottlenecks or areas where schema-specific optimizations might be beneficial.\n",
        "- **Facilitate data analysis:** Understanding the schema organization and table counts can aid in data exploration or identifying relevant tables for specific data analysis tasks.\n",
        "- **Plan database maintenance and migration:** This overview can be a valuable asset when planning maintenance activities like schema cleanup or index optimization. It can also serve as a starting point for database migration strategies.\n",
        "- **Support database design decisions:** By visualizing the existing schema structure and table distribution, this information can inform future database design choices and ensure efficient organization of new tables.\n",
        "\n",
        "**Extracted Information:**\n",
        "\n",
        "1. **Table Schema:** The schema (or owner) to which each table belongs.\n",
        "2. **Table Name:** The name of each individual table.\n",
        "3. **Table Type:** The type of table, such as BASE TABLE or VIEW (if applicable).\n",
        "4. **Count of Tables per Schema:** This shows you how many tables reside within each specific schema. It's calculated using a window function that groups by `TABLE_SCHEMA` and then counts the occurrences of `TABLE_NAME` within each group.\n",
        "5. **Total Number of Tables:** This represents the total number of tables present across all schemas in the database.\n",
        "6. **Total Number of Schemas:** This indicates the count of distinct schemas (owners) that contain tables. It's calculated using a subquery that retrieves the number of unique values in the `TABLE_SCHEMA` column.\n",
        "\n",
        "**How it Helps:**\n",
        "\n",
        "This script provides valuable insights into the structure and organization of your database. Here are some ways this information can be useful:\n",
        "\n",
        "- **Understanding Database Schema:** It gives you a quick view of how the tables are categorized within different schemas.\n",
        "- **Identifying Schema with Most Tables:** You can see which schema holds the largest number of tables, potentially indicating areas of the database that require more attention or organization.\n",
        "- **Verifying Table Count:** The `Total Number of Tables` helps confirm that all expected tables are present in the database.\n",
        "- **Schema Management:** The `Total Number of Schemas` can be helpful if you're managing multiple schemas and want to track their usage."
      ],
      "metadata": {
        "language": "sql",
        "azdata_cell_guid": "c0caec1c-b7fc-4e2a-b8f6-584a68d6ac26",
        "id": "VNQIYB-PY4w2"
      }
    },
    {
      "cell_type": "code",
      "source": [
        "USE AdventureWorks2022;\n",
        "SELECT\n",
        "    TABLE_SCHEMA,\n",
        "    TABLE_NAME,\n",
        "    TABLE_TYPE,\n",
        "    COUNT(TABLE_NAME) OVER(PARTITION BY TABLE_SCHEMA) CountOfTablesPerSchema,\n",
        "\n",
        "    COUNT(TABLE_NAME) OVER() TotalNumberOfTables,\n",
        "    (\n",
        "        SELECT\n",
        "            COUNT(DISTINCT TABLE_SCHEMA)\n",
        "        FROM INFORMATION_SCHEMA.TABLES t1\n",
        "    ) TotalNumberOfSchemas\n",
        "FROM INFORMATION_SCHEMA.TABLES t0\n",
        "ORDER BY TABLE_SCHEMA, TABLE_NAME"
      ],
      "metadata": {
        "azdata_cell_guid": "4bd64c0d-c5ea-4182-b4a7-532cc9e63cf5",
        "language": "sql",
        "tags": [],
        "id": "wRVbNqfRY4w5",
        "outputId": "0a738bf7-44be-42ae-c45e-666168e7e8bf"
      },
      "outputs": [
        {
          "output_type": "display_data",
          "data": {
            "text/html": "(91 rows affected)"
          },
          "metadata": {}
        },
        {
          "output_type": "display_data",
          "data": {
            "text/html": "Total execution time: 00:00:00.054"
          },
          "metadata": {}
        },
        {
          "output_type": "execute_result",
          "metadata": {},
          "execution_count": 1,
          "data": {
            "application/vnd.dataresource+json": {
              "schema": {
                "fields": [
                  {
                    "name": "TABLE_SCHEMA"
                  },
                  {
                    "name": "TABLE_NAME"
                  },
                  {
                    "name": "TABLE_TYPE"
                  },
                  {
                    "name": "CountOfTablesPerSchema"
                  },
                  {
                    "name": "TotalNumberOfTables"
                  },
                  {
                    "name": "TotalNumberOfSchemas"
                  }
                ]
              },
              "data": [
                {
                  "TABLE_SCHEMA": "dbo",
                  "TABLE_NAME": "AWBuildVersion",
                  "TABLE_TYPE": "BASE TABLE",
                  "CountOfTablesPerSchema": "3",
                  "TotalNumberOfTables": "91",
                  "TotalNumberOfSchemas": "6"
                },
                {
                  "TABLE_SCHEMA": "dbo",
                  "TABLE_NAME": "DatabaseLog",
                  "TABLE_TYPE": "BASE TABLE",
                  "CountOfTablesPerSchema": "3",
                  "TotalNumberOfTables": "91",
                  "TotalNumberOfSchemas": "6"
                },
                {
                  "TABLE_SCHEMA": "dbo",
                  "TABLE_NAME": "ErrorLog",
                  "TABLE_TYPE": "BASE TABLE",
                  "CountOfTablesPerSchema": "3",
                  "TotalNumberOfTables": "91",
                  "TotalNumberOfSchemas": "6"
                },
                {
                  "TABLE_SCHEMA": "HumanResources",
                  "TABLE_NAME": "Department",
                  "TABLE_TYPE": "BASE TABLE",
                  "CountOfTablesPerSchema": "12",
                  "TotalNumberOfTables": "91",
                  "TotalNumberOfSchemas": "6"
                },
                {
                  "TABLE_SCHEMA": "HumanResources",
                  "TABLE_NAME": "Employee",
                  "TABLE_TYPE": "BASE TABLE",
                  "CountOfTablesPerSchema": "12",
                  "TotalNumberOfTables": "91",
                  "TotalNumberOfSchemas": "6"
                },
                {
                  "TABLE_SCHEMA": "HumanResources",
                  "TABLE_NAME": "EmployeeDepartmentHistory",
                  "TABLE_TYPE": "BASE TABLE",
                  "CountOfTablesPerSchema": "12",
                  "TotalNumberOfTables": "91",
                  "TotalNumberOfSchemas": "6"
                },
                {
                  "TABLE_SCHEMA": "HumanResources",
                  "TABLE_NAME": "EmployeePayHistory",
                  "TABLE_TYPE": "BASE TABLE",
                  "CountOfTablesPerSchema": "12",
                  "TotalNumberOfTables": "91",
                  "TotalNumberOfSchemas": "6"
                },
                {
                  "TABLE_SCHEMA": "HumanResources",
                  "TABLE_NAME": "JobCandidate",
                  "TABLE_TYPE": "BASE TABLE",
                  "CountOfTablesPerSchema": "12",
                  "TotalNumberOfTables": "91",
                  "TotalNumberOfSchemas": "6"
                },
                {
                  "TABLE_SCHEMA": "HumanResources",
                  "TABLE_NAME": "Shift",
                  "TABLE_TYPE": "BASE TABLE",
                  "CountOfTablesPerSchema": "12",
                  "TotalNumberOfTables": "91",
                  "TotalNumberOfSchemas": "6"
                },
                {
                  "TABLE_SCHEMA": "HumanResources",
                  "TABLE_NAME": "vEmployee",
                  "TABLE_TYPE": "VIEW",
                  "CountOfTablesPerSchema": "12",
                  "TotalNumberOfTables": "91",
                  "TotalNumberOfSchemas": "6"
                },
                {
                  "TABLE_SCHEMA": "HumanResources",
                  "TABLE_NAME": "vEmployeeDepartment",
                  "TABLE_TYPE": "VIEW",
                  "CountOfTablesPerSchema": "12",
                  "TotalNumberOfTables": "91",
                  "TotalNumberOfSchemas": "6"
                },
                {
                  "TABLE_SCHEMA": "HumanResources",
                  "TABLE_NAME": "vEmployeeDepartmentHistory",
                  "TABLE_TYPE": "VIEW",
                  "CountOfTablesPerSchema": "12",
                  "TotalNumberOfTables": "91",
                  "TotalNumberOfSchemas": "6"
                },
                {
                  "TABLE_SCHEMA": "HumanResources",
                  "TABLE_NAME": "vJobCandidate",
                  "TABLE_TYPE": "VIEW",
                  "CountOfTablesPerSchema": "12",
                  "TotalNumberOfTables": "91",
                  "TotalNumberOfSchemas": "6"
                },
                {
                  "TABLE_SCHEMA": "HumanResources",
                  "TABLE_NAME": "vJobCandidateEducation",
                  "TABLE_TYPE": "VIEW",
                  "CountOfTablesPerSchema": "12",
                  "TotalNumberOfTables": "91",
                  "TotalNumberOfSchemas": "6"
                },
                {
                  "TABLE_SCHEMA": "HumanResources",
                  "TABLE_NAME": "vJobCandidateEmployment",
                  "TABLE_TYPE": "VIEW",
                  "CountOfTablesPerSchema": "12",
                  "TotalNumberOfTables": "91",
                  "TotalNumberOfSchemas": "6"
                },
                {
                  "TABLE_SCHEMA": "Person",
                  "TABLE_NAME": "Address",
                  "TABLE_TYPE": "BASE TABLE",
                  "CountOfTablesPerSchema": "15",
                  "TotalNumberOfTables": "91",
                  "TotalNumberOfSchemas": "6"
                },
                {
                  "TABLE_SCHEMA": "Person",
                  "TABLE_NAME": "AddressType",
                  "TABLE_TYPE": "BASE TABLE",
                  "CountOfTablesPerSchema": "15",
                  "TotalNumberOfTables": "91",
                  "TotalNumberOfSchemas": "6"
                },
                {
                  "TABLE_SCHEMA": "Person",
                  "TABLE_NAME": "BusinessEntity",
                  "TABLE_TYPE": "BASE TABLE",
                  "CountOfTablesPerSchema": "15",
                  "TotalNumberOfTables": "91",
                  "TotalNumberOfSchemas": "6"
                },
                {
                  "TABLE_SCHEMA": "Person",
                  "TABLE_NAME": "BusinessEntityAddress",
                  "TABLE_TYPE": "BASE TABLE",
                  "CountOfTablesPerSchema": "15",
                  "TotalNumberOfTables": "91",
                  "TotalNumberOfSchemas": "6"
                },
                {
                  "TABLE_SCHEMA": "Person",
                  "TABLE_NAME": "BusinessEntityContact",
                  "TABLE_TYPE": "BASE TABLE",
                  "CountOfTablesPerSchema": "15",
                  "TotalNumberOfTables": "91",
                  "TotalNumberOfSchemas": "6"
                },
                {
                  "TABLE_SCHEMA": "Person",
                  "TABLE_NAME": "ContactType",
                  "TABLE_TYPE": "BASE TABLE",
                  "CountOfTablesPerSchema": "15",
                  "TotalNumberOfTables": "91",
                  "TotalNumberOfSchemas": "6"
                },
                {
                  "TABLE_SCHEMA": "Person",
                  "TABLE_NAME": "CountryRegion",
                  "TABLE_TYPE": "BASE TABLE",
                  "CountOfTablesPerSchema": "15",
                  "TotalNumberOfTables": "91",
                  "TotalNumberOfSchemas": "6"
                },
                {
                  "TABLE_SCHEMA": "Person",
                  "TABLE_NAME": "EmailAddress",
                  "TABLE_TYPE": "BASE TABLE",
                  "CountOfTablesPerSchema": "15",
                  "TotalNumberOfTables": "91",
                  "TotalNumberOfSchemas": "6"
                },
                {
                  "TABLE_SCHEMA": "Person",
                  "TABLE_NAME": "Password",
                  "TABLE_TYPE": "BASE TABLE",
                  "CountOfTablesPerSchema": "15",
                  "TotalNumberOfTables": "91",
                  "TotalNumberOfSchemas": "6"
                },
                {
                  "TABLE_SCHEMA": "Person",
                  "TABLE_NAME": "Person",
                  "TABLE_TYPE": "BASE TABLE",
                  "CountOfTablesPerSchema": "15",
                  "TotalNumberOfTables": "91",
                  "TotalNumberOfSchemas": "6"
                },
                {
                  "TABLE_SCHEMA": "Person",
                  "TABLE_NAME": "PersonPhone",
                  "TABLE_TYPE": "BASE TABLE",
                  "CountOfTablesPerSchema": "15",
                  "TotalNumberOfTables": "91",
                  "TotalNumberOfSchemas": "6"
                },
                {
                  "TABLE_SCHEMA": "Person",
                  "TABLE_NAME": "PhoneNumberType",
                  "TABLE_TYPE": "BASE TABLE",
                  "CountOfTablesPerSchema": "15",
                  "TotalNumberOfTables": "91",
                  "TotalNumberOfSchemas": "6"
                },
                {
                  "TABLE_SCHEMA": "Person",
                  "TABLE_NAME": "StateProvince",
                  "TABLE_TYPE": "BASE TABLE",
                  "CountOfTablesPerSchema": "15",
                  "TotalNumberOfTables": "91",
                  "TotalNumberOfSchemas": "6"
                },
                {
                  "TABLE_SCHEMA": "Person",
                  "TABLE_NAME": "vAdditionalContactInfo",
                  "TABLE_TYPE": "VIEW",
                  "CountOfTablesPerSchema": "15",
                  "TotalNumberOfTables": "91",
                  "TotalNumberOfSchemas": "6"
                },
                {
                  "TABLE_SCHEMA": "Person",
                  "TABLE_NAME": "vStateProvinceCountryRegion",
                  "TABLE_TYPE": "VIEW",
                  "CountOfTablesPerSchema": "15",
                  "TotalNumberOfTables": "91",
                  "TotalNumberOfSchemas": "6"
                },
                {
                  "TABLE_SCHEMA": "Production",
                  "TABLE_NAME": "BillOfMaterials",
                  "TABLE_TYPE": "BASE TABLE",
                  "CountOfTablesPerSchema": "28",
                  "TotalNumberOfTables": "91",
                  "TotalNumberOfSchemas": "6"
                },
                {
                  "TABLE_SCHEMA": "Production",
                  "TABLE_NAME": "Culture",
                  "TABLE_TYPE": "BASE TABLE",
                  "CountOfTablesPerSchema": "28",
                  "TotalNumberOfTables": "91",
                  "TotalNumberOfSchemas": "6"
                },
                {
                  "TABLE_SCHEMA": "Production",
                  "TABLE_NAME": "Document",
                  "TABLE_TYPE": "BASE TABLE",
                  "CountOfTablesPerSchema": "28",
                  "TotalNumberOfTables": "91",
                  "TotalNumberOfSchemas": "6"
                },
                {
                  "TABLE_SCHEMA": "Production",
                  "TABLE_NAME": "Illustration",
                  "TABLE_TYPE": "BASE TABLE",
                  "CountOfTablesPerSchema": "28",
                  "TotalNumberOfTables": "91",
                  "TotalNumberOfSchemas": "6"
                },
                {
                  "TABLE_SCHEMA": "Production",
                  "TABLE_NAME": "Location",
                  "TABLE_TYPE": "BASE TABLE",
                  "CountOfTablesPerSchema": "28",
                  "TotalNumberOfTables": "91",
                  "TotalNumberOfSchemas": "6"
                },
                {
                  "TABLE_SCHEMA": "Production",
                  "TABLE_NAME": "Product",
                  "TABLE_TYPE": "BASE TABLE",
                  "CountOfTablesPerSchema": "28",
                  "TotalNumberOfTables": "91",
                  "TotalNumberOfSchemas": "6"
                },
                {
                  "TABLE_SCHEMA": "Production",
                  "TABLE_NAME": "ProductCategory",
                  "TABLE_TYPE": "BASE TABLE",
                  "CountOfTablesPerSchema": "28",
                  "TotalNumberOfTables": "91",
                  "TotalNumberOfSchemas": "6"
                },
                {
                  "TABLE_SCHEMA": "Production",
                  "TABLE_NAME": "ProductCostHistory",
                  "TABLE_TYPE": "BASE TABLE",
                  "CountOfTablesPerSchema": "28",
                  "TotalNumberOfTables": "91",
                  "TotalNumberOfSchemas": "6"
                },
                {
                  "TABLE_SCHEMA": "Production",
                  "TABLE_NAME": "ProductDescription",
                  "TABLE_TYPE": "BASE TABLE",
                  "CountOfTablesPerSchema": "28",
                  "TotalNumberOfTables": "91",
                  "TotalNumberOfSchemas": "6"
                },
                {
                  "TABLE_SCHEMA": "Production",
                  "TABLE_NAME": "ProductDocument",
                  "TABLE_TYPE": "BASE TABLE",
                  "CountOfTablesPerSchema": "28",
                  "TotalNumberOfTables": "91",
                  "TotalNumberOfSchemas": "6"
                },
                {
                  "TABLE_SCHEMA": "Production",
                  "TABLE_NAME": "ProductInventory",
                  "TABLE_TYPE": "BASE TABLE",
                  "CountOfTablesPerSchema": "28",
                  "TotalNumberOfTables": "91",
                  "TotalNumberOfSchemas": "6"
                },
                {
                  "TABLE_SCHEMA": "Production",
                  "TABLE_NAME": "ProductListPriceHistory",
                  "TABLE_TYPE": "BASE TABLE",
                  "CountOfTablesPerSchema": "28",
                  "TotalNumberOfTables": "91",
                  "TotalNumberOfSchemas": "6"
                },
                {
                  "TABLE_SCHEMA": "Production",
                  "TABLE_NAME": "ProductModel",
                  "TABLE_TYPE": "BASE TABLE",
                  "CountOfTablesPerSchema": "28",
                  "TotalNumberOfTables": "91",
                  "TotalNumberOfSchemas": "6"
                },
                {
                  "TABLE_SCHEMA": "Production",
                  "TABLE_NAME": "ProductModelIllustration",
                  "TABLE_TYPE": "BASE TABLE",
                  "CountOfTablesPerSchema": "28",
                  "TotalNumberOfTables": "91",
                  "TotalNumberOfSchemas": "6"
                },
                {
                  "TABLE_SCHEMA": "Production",
                  "TABLE_NAME": "ProductModelProductDescriptionCulture",
                  "TABLE_TYPE": "BASE TABLE",
                  "CountOfTablesPerSchema": "28",
                  "TotalNumberOfTables": "91",
                  "TotalNumberOfSchemas": "6"
                },
                {
                  "TABLE_SCHEMA": "Production",
                  "TABLE_NAME": "ProductPhoto",
                  "TABLE_TYPE": "BASE TABLE",
                  "CountOfTablesPerSchema": "28",
                  "TotalNumberOfTables": "91",
                  "TotalNumberOfSchemas": "6"
                },
                {
                  "TABLE_SCHEMA": "Production",
                  "TABLE_NAME": "ProductProductPhoto",
                  "TABLE_TYPE": "BASE TABLE",
                  "CountOfTablesPerSchema": "28",
                  "TotalNumberOfTables": "91",
                  "TotalNumberOfSchemas": "6"
                },
                {
                  "TABLE_SCHEMA": "Production",
                  "TABLE_NAME": "ProductReview",
                  "TABLE_TYPE": "BASE TABLE",
                  "CountOfTablesPerSchema": "28",
                  "TotalNumberOfTables": "91",
                  "TotalNumberOfSchemas": "6"
                },
                {
                  "TABLE_SCHEMA": "Production",
                  "TABLE_NAME": "ProductSubcategory",
                  "TABLE_TYPE": "BASE TABLE",
                  "CountOfTablesPerSchema": "28",
                  "TotalNumberOfTables": "91",
                  "TotalNumberOfSchemas": "6"
                },
                {
                  "TABLE_SCHEMA": "Production",
                  "TABLE_NAME": "ScrapReason",
                  "TABLE_TYPE": "BASE TABLE",
                  "CountOfTablesPerSchema": "28",
                  "TotalNumberOfTables": "91",
                  "TotalNumberOfSchemas": "6"
                },
                {
                  "TABLE_SCHEMA": "Production",
                  "TABLE_NAME": "TransactionHistory",
                  "TABLE_TYPE": "BASE TABLE",
                  "CountOfTablesPerSchema": "28",
                  "TotalNumberOfTables": "91",
                  "TotalNumberOfSchemas": "6"
                },
                {
                  "TABLE_SCHEMA": "Production",
                  "TABLE_NAME": "TransactionHistoryArchive",
                  "TABLE_TYPE": "BASE TABLE",
                  "CountOfTablesPerSchema": "28",
                  "TotalNumberOfTables": "91",
                  "TotalNumberOfSchemas": "6"
                },
                {
                  "TABLE_SCHEMA": "Production",
                  "TABLE_NAME": "UnitMeasure",
                  "TABLE_TYPE": "BASE TABLE",
                  "CountOfTablesPerSchema": "28",
                  "TotalNumberOfTables": "91",
                  "TotalNumberOfSchemas": "6"
                },
                {
                  "TABLE_SCHEMA": "Production",
                  "TABLE_NAME": "vProductAndDescription",
                  "TABLE_TYPE": "VIEW",
                  "CountOfTablesPerSchema": "28",
                  "TotalNumberOfTables": "91",
                  "TotalNumberOfSchemas": "6"
                },
                {
                  "TABLE_SCHEMA": "Production",
                  "TABLE_NAME": "vProductModelCatalogDescription",
                  "TABLE_TYPE": "VIEW",
                  "CountOfTablesPerSchema": "28",
                  "TotalNumberOfTables": "91",
                  "TotalNumberOfSchemas": "6"
                },
                {
                  "TABLE_SCHEMA": "Production",
                  "TABLE_NAME": "vProductModelInstructions",
                  "TABLE_TYPE": "VIEW",
                  "CountOfTablesPerSchema": "28",
                  "TotalNumberOfTables": "91",
                  "TotalNumberOfSchemas": "6"
                },
                {
                  "TABLE_SCHEMA": "Production",
                  "TABLE_NAME": "WorkOrder",
                  "TABLE_TYPE": "BASE TABLE",
                  "CountOfTablesPerSchema": "28",
                  "TotalNumberOfTables": "91",
                  "TotalNumberOfSchemas": "6"
                },
                {
                  "TABLE_SCHEMA": "Production",
                  "TABLE_NAME": "WorkOrderRouting",
                  "TABLE_TYPE": "BASE TABLE",
                  "CountOfTablesPerSchema": "28",
                  "TotalNumberOfTables": "91",
                  "TotalNumberOfSchemas": "6"
                },
                {
                  "TABLE_SCHEMA": "Purchasing",
                  "TABLE_NAME": "ProductVendor",
                  "TABLE_TYPE": "BASE TABLE",
                  "CountOfTablesPerSchema": "7",
                  "TotalNumberOfTables": "91",
                  "TotalNumberOfSchemas": "6"
                },
                {
                  "TABLE_SCHEMA": "Purchasing",
                  "TABLE_NAME": "PurchaseOrderDetail",
                  "TABLE_TYPE": "BASE TABLE",
                  "CountOfTablesPerSchema": "7",
                  "TotalNumberOfTables": "91",
                  "TotalNumberOfSchemas": "6"
                },
                {
                  "TABLE_SCHEMA": "Purchasing",
                  "TABLE_NAME": "PurchaseOrderHeader",
                  "TABLE_TYPE": "BASE TABLE",
                  "CountOfTablesPerSchema": "7",
                  "TotalNumberOfTables": "91",
                  "TotalNumberOfSchemas": "6"
                },
                {
                  "TABLE_SCHEMA": "Purchasing",
                  "TABLE_NAME": "ShipMethod",
                  "TABLE_TYPE": "BASE TABLE",
                  "CountOfTablesPerSchema": "7",
                  "TotalNumberOfTables": "91",
                  "TotalNumberOfSchemas": "6"
                },
                {
                  "TABLE_SCHEMA": "Purchasing",
                  "TABLE_NAME": "Vendor",
                  "TABLE_TYPE": "BASE TABLE",
                  "CountOfTablesPerSchema": "7",
                  "TotalNumberOfTables": "91",
                  "TotalNumberOfSchemas": "6"
                },
                {
                  "TABLE_SCHEMA": "Purchasing",
                  "TABLE_NAME": "vVendorWithAddresses",
                  "TABLE_TYPE": "VIEW",
                  "CountOfTablesPerSchema": "7",
                  "TotalNumberOfTables": "91",
                  "TotalNumberOfSchemas": "6"
                },
                {
                  "TABLE_SCHEMA": "Purchasing",
                  "TABLE_NAME": "vVendorWithContacts",
                  "TABLE_TYPE": "VIEW",
                  "CountOfTablesPerSchema": "7",
                  "TotalNumberOfTables": "91",
                  "TotalNumberOfSchemas": "6"
                },
                {
                  "TABLE_SCHEMA": "Sales",
                  "TABLE_NAME": "CountryRegionCurrency",
                  "TABLE_TYPE": "BASE TABLE",
                  "CountOfTablesPerSchema": "26",
                  "TotalNumberOfTables": "91",
                  "TotalNumberOfSchemas": "6"
                },
                {
                  "TABLE_SCHEMA": "Sales",
                  "TABLE_NAME": "CreditCard",
                  "TABLE_TYPE": "BASE TABLE",
                  "CountOfTablesPerSchema": "26",
                  "TotalNumberOfTables": "91",
                  "TotalNumberOfSchemas": "6"
                },
                {
                  "TABLE_SCHEMA": "Sales",
                  "TABLE_NAME": "Currency",
                  "TABLE_TYPE": "BASE TABLE",
                  "CountOfTablesPerSchema": "26",
                  "TotalNumberOfTables": "91",
                  "TotalNumberOfSchemas": "6"
                },
                {
                  "TABLE_SCHEMA": "Sales",
                  "TABLE_NAME": "CurrencyRate",
                  "TABLE_TYPE": "BASE TABLE",
                  "CountOfTablesPerSchema": "26",
                  "TotalNumberOfTables": "91",
                  "TotalNumberOfSchemas": "6"
                },
                {
                  "TABLE_SCHEMA": "Sales",
                  "TABLE_NAME": "Customer",
                  "TABLE_TYPE": "BASE TABLE",
                  "CountOfTablesPerSchema": "26",
                  "TotalNumberOfTables": "91",
                  "TotalNumberOfSchemas": "6"
                },
                {
                  "TABLE_SCHEMA": "Sales",
                  "TABLE_NAME": "PersonCreditCard",
                  "TABLE_TYPE": "BASE TABLE",
                  "CountOfTablesPerSchema": "26",
                  "TotalNumberOfTables": "91",
                  "TotalNumberOfSchemas": "6"
                },
                {
                  "TABLE_SCHEMA": "Sales",
                  "TABLE_NAME": "SalesOrderDetail",
                  "TABLE_TYPE": "BASE TABLE",
                  "CountOfTablesPerSchema": "26",
                  "TotalNumberOfTables": "91",
                  "TotalNumberOfSchemas": "6"
                },
                {
                  "TABLE_SCHEMA": "Sales",
                  "TABLE_NAME": "SalesOrderHeader",
                  "TABLE_TYPE": "BASE TABLE",
                  "CountOfTablesPerSchema": "26",
                  "TotalNumberOfTables": "91",
                  "TotalNumberOfSchemas": "6"
                },
                {
                  "TABLE_SCHEMA": "Sales",
                  "TABLE_NAME": "SalesOrderHeaderSalesReason",
                  "TABLE_TYPE": "BASE TABLE",
                  "CountOfTablesPerSchema": "26",
                  "TotalNumberOfTables": "91",
                  "TotalNumberOfSchemas": "6"
                },
                {
                  "TABLE_SCHEMA": "Sales",
                  "TABLE_NAME": "SalesPerson",
                  "TABLE_TYPE": "BASE TABLE",
                  "CountOfTablesPerSchema": "26",
                  "TotalNumberOfTables": "91",
                  "TotalNumberOfSchemas": "6"
                },
                {
                  "TABLE_SCHEMA": "Sales",
                  "TABLE_NAME": "SalesPersonQuotaHistory",
                  "TABLE_TYPE": "BASE TABLE",
                  "CountOfTablesPerSchema": "26",
                  "TotalNumberOfTables": "91",
                  "TotalNumberOfSchemas": "6"
                },
                {
                  "TABLE_SCHEMA": "Sales",
                  "TABLE_NAME": "SalesReason",
                  "TABLE_TYPE": "BASE TABLE",
                  "CountOfTablesPerSchema": "26",
                  "TotalNumberOfTables": "91",
                  "TotalNumberOfSchemas": "6"
                },
                {
                  "TABLE_SCHEMA": "Sales",
                  "TABLE_NAME": "SalesTaxRate",
                  "TABLE_TYPE": "BASE TABLE",
                  "CountOfTablesPerSchema": "26",
                  "TotalNumberOfTables": "91",
                  "TotalNumberOfSchemas": "6"
                },
                {
                  "TABLE_SCHEMA": "Sales",
                  "TABLE_NAME": "SalesTerritory",
                  "TABLE_TYPE": "BASE TABLE",
                  "CountOfTablesPerSchema": "26",
                  "TotalNumberOfTables": "91",
                  "TotalNumberOfSchemas": "6"
                },
                {
                  "TABLE_SCHEMA": "Sales",
                  "TABLE_NAME": "SalesTerritoryHistory",
                  "TABLE_TYPE": "BASE TABLE",
                  "CountOfTablesPerSchema": "26",
                  "TotalNumberOfTables": "91",
                  "TotalNumberOfSchemas": "6"
                },
                {
                  "TABLE_SCHEMA": "Sales",
                  "TABLE_NAME": "ShoppingCartItem",
                  "TABLE_TYPE": "BASE TABLE",
                  "CountOfTablesPerSchema": "26",
                  "TotalNumberOfTables": "91",
                  "TotalNumberOfSchemas": "6"
                },
                {
                  "TABLE_SCHEMA": "Sales",
                  "TABLE_NAME": "SpecialOffer",
                  "TABLE_TYPE": "BASE TABLE",
                  "CountOfTablesPerSchema": "26",
                  "TotalNumberOfTables": "91",
                  "TotalNumberOfSchemas": "6"
                },
                {
                  "TABLE_SCHEMA": "Sales",
                  "TABLE_NAME": "SpecialOfferProduct",
                  "TABLE_TYPE": "BASE TABLE",
                  "CountOfTablesPerSchema": "26",
                  "TotalNumberOfTables": "91",
                  "TotalNumberOfSchemas": "6"
                },
                {
                  "TABLE_SCHEMA": "Sales",
                  "TABLE_NAME": "Store",
                  "TABLE_TYPE": "BASE TABLE",
                  "CountOfTablesPerSchema": "26",
                  "TotalNumberOfTables": "91",
                  "TotalNumberOfSchemas": "6"
                },
                {
                  "TABLE_SCHEMA": "Sales",
                  "TABLE_NAME": "vIndividualCustomer",
                  "TABLE_TYPE": "VIEW",
                  "CountOfTablesPerSchema": "26",
                  "TotalNumberOfTables": "91",
                  "TotalNumberOfSchemas": "6"
                },
                {
                  "TABLE_SCHEMA": "Sales",
                  "TABLE_NAME": "vPersonDemographics",
                  "TABLE_TYPE": "VIEW",
                  "CountOfTablesPerSchema": "26",
                  "TotalNumberOfTables": "91",
                  "TotalNumberOfSchemas": "6"
                },
                {
                  "TABLE_SCHEMA": "Sales",
                  "TABLE_NAME": "vSalesPerson",
                  "TABLE_TYPE": "VIEW",
                  "CountOfTablesPerSchema": "26",
                  "TotalNumberOfTables": "91",
                  "TotalNumberOfSchemas": "6"
                },
                {
                  "TABLE_SCHEMA": "Sales",
                  "TABLE_NAME": "vSalesPersonSalesByFiscalYears",
                  "TABLE_TYPE": "VIEW",
                  "CountOfTablesPerSchema": "26",
                  "TotalNumberOfTables": "91",
                  "TotalNumberOfSchemas": "6"
                },
                {
                  "TABLE_SCHEMA": "Sales",
                  "TABLE_NAME": "vStoreWithAddresses",
                  "TABLE_TYPE": "VIEW",
                  "CountOfTablesPerSchema": "26",
                  "TotalNumberOfTables": "91",
                  "TotalNumberOfSchemas": "6"
                },
                {
                  "TABLE_SCHEMA": "Sales",
                  "TABLE_NAME": "vStoreWithContacts",
                  "TABLE_TYPE": "VIEW",
                  "CountOfTablesPerSchema": "26",
                  "TotalNumberOfTables": "91",
                  "TotalNumberOfSchemas": "6"
                },
                {
                  "TABLE_SCHEMA": "Sales",
                  "TABLE_NAME": "vStoreWithDemographics",
                  "TABLE_TYPE": "VIEW",
                  "CountOfTablesPerSchema": "26",
                  "TotalNumberOfTables": "91",
                  "TotalNumberOfSchemas": "6"
                }
              ]
            },
            "text/html": [
              "<table>",
              "<tr><th>TABLE_SCHEMA</th><th>TABLE_NAME</th><th>TABLE_TYPE</th><th>CountOfTablesPerSchema</th><th>TotalNumberOfTables</th><th>TotalNumberOfSchemas</th></tr>",
              "<tr><td>dbo</td><td>AWBuildVersion</td><td>BASE TABLE</td><td>3</td><td>91</td><td>6</td></tr>",
              "<tr><td>dbo</td><td>DatabaseLog</td><td>BASE TABLE</td><td>3</td><td>91</td><td>6</td></tr>",
              "<tr><td>dbo</td><td>ErrorLog</td><td>BASE TABLE</td><td>3</td><td>91</td><td>6</td></tr>",
              "<tr><td>HumanResources</td><td>Department</td><td>BASE TABLE</td><td>12</td><td>91</td><td>6</td></tr>",
              "<tr><td>HumanResources</td><td>Employee</td><td>BASE TABLE</td><td>12</td><td>91</td><td>6</td></tr>",
              "<tr><td>HumanResources</td><td>EmployeeDepartmentHistory</td><td>BASE TABLE</td><td>12</td><td>91</td><td>6</td></tr>",
              "<tr><td>HumanResources</td><td>EmployeePayHistory</td><td>BASE TABLE</td><td>12</td><td>91</td><td>6</td></tr>",
              "<tr><td>HumanResources</td><td>JobCandidate</td><td>BASE TABLE</td><td>12</td><td>91</td><td>6</td></tr>",
              "<tr><td>HumanResources</td><td>Shift</td><td>BASE TABLE</td><td>12</td><td>91</td><td>6</td></tr>",
              "<tr><td>HumanResources</td><td>vEmployee</td><td>VIEW</td><td>12</td><td>91</td><td>6</td></tr>",
              "<tr><td>HumanResources</td><td>vEmployeeDepartment</td><td>VIEW</td><td>12</td><td>91</td><td>6</td></tr>",
              "<tr><td>HumanResources</td><td>vEmployeeDepartmentHistory</td><td>VIEW</td><td>12</td><td>91</td><td>6</td></tr>",
              "<tr><td>HumanResources</td><td>vJobCandidate</td><td>VIEW</td><td>12</td><td>91</td><td>6</td></tr>",
              "<tr><td>HumanResources</td><td>vJobCandidateEducation</td><td>VIEW</td><td>12</td><td>91</td><td>6</td></tr>",
              "<tr><td>HumanResources</td><td>vJobCandidateEmployment</td><td>VIEW</td><td>12</td><td>91</td><td>6</td></tr>",
              "<tr><td>Person</td><td>Address</td><td>BASE TABLE</td><td>15</td><td>91</td><td>6</td></tr>",
              "<tr><td>Person</td><td>AddressType</td><td>BASE TABLE</td><td>15</td><td>91</td><td>6</td></tr>",
              "<tr><td>Person</td><td>BusinessEntity</td><td>BASE TABLE</td><td>15</td><td>91</td><td>6</td></tr>",
              "<tr><td>Person</td><td>BusinessEntityAddress</td><td>BASE TABLE</td><td>15</td><td>91</td><td>6</td></tr>",
              "<tr><td>Person</td><td>BusinessEntityContact</td><td>BASE TABLE</td><td>15</td><td>91</td><td>6</td></tr>",
              "<tr><td>Person</td><td>ContactType</td><td>BASE TABLE</td><td>15</td><td>91</td><td>6</td></tr>",
              "<tr><td>Person</td><td>CountryRegion</td><td>BASE TABLE</td><td>15</td><td>91</td><td>6</td></tr>",
              "<tr><td>Person</td><td>EmailAddress</td><td>BASE TABLE</td><td>15</td><td>91</td><td>6</td></tr>",
              "<tr><td>Person</td><td>Password</td><td>BASE TABLE</td><td>15</td><td>91</td><td>6</td></tr>",
              "<tr><td>Person</td><td>Person</td><td>BASE TABLE</td><td>15</td><td>91</td><td>6</td></tr>",
              "<tr><td>Person</td><td>PersonPhone</td><td>BASE TABLE</td><td>15</td><td>91</td><td>6</td></tr>",
              "<tr><td>Person</td><td>PhoneNumberType</td><td>BASE TABLE</td><td>15</td><td>91</td><td>6</td></tr>",
              "<tr><td>Person</td><td>StateProvince</td><td>BASE TABLE</td><td>15</td><td>91</td><td>6</td></tr>",
              "<tr><td>Person</td><td>vAdditionalContactInfo</td><td>VIEW</td><td>15</td><td>91</td><td>6</td></tr>",
              "<tr><td>Person</td><td>vStateProvinceCountryRegion</td><td>VIEW</td><td>15</td><td>91</td><td>6</td></tr>",
              "<tr><td>Production</td><td>BillOfMaterials</td><td>BASE TABLE</td><td>28</td><td>91</td><td>6</td></tr>",
              "<tr><td>Production</td><td>Culture</td><td>BASE TABLE</td><td>28</td><td>91</td><td>6</td></tr>",
              "<tr><td>Production</td><td>Document</td><td>BASE TABLE</td><td>28</td><td>91</td><td>6</td></tr>",
              "<tr><td>Production</td><td>Illustration</td><td>BASE TABLE</td><td>28</td><td>91</td><td>6</td></tr>",
              "<tr><td>Production</td><td>Location</td><td>BASE TABLE</td><td>28</td><td>91</td><td>6</td></tr>",
              "<tr><td>Production</td><td>Product</td><td>BASE TABLE</td><td>28</td><td>91</td><td>6</td></tr>",
              "<tr><td>Production</td><td>ProductCategory</td><td>BASE TABLE</td><td>28</td><td>91</td><td>6</td></tr>",
              "<tr><td>Production</td><td>ProductCostHistory</td><td>BASE TABLE</td><td>28</td><td>91</td><td>6</td></tr>",
              "<tr><td>Production</td><td>ProductDescription</td><td>BASE TABLE</td><td>28</td><td>91</td><td>6</td></tr>",
              "<tr><td>Production</td><td>ProductDocument</td><td>BASE TABLE</td><td>28</td><td>91</td><td>6</td></tr>",
              "<tr><td>Production</td><td>ProductInventory</td><td>BASE TABLE</td><td>28</td><td>91</td><td>6</td></tr>",
              "<tr><td>Production</td><td>ProductListPriceHistory</td><td>BASE TABLE</td><td>28</td><td>91</td><td>6</td></tr>",
              "<tr><td>Production</td><td>ProductModel</td><td>BASE TABLE</td><td>28</td><td>91</td><td>6</td></tr>",
              "<tr><td>Production</td><td>ProductModelIllustration</td><td>BASE TABLE</td><td>28</td><td>91</td><td>6</td></tr>",
              "<tr><td>Production</td><td>ProductModelProductDescriptionCulture</td><td>BASE TABLE</td><td>28</td><td>91</td><td>6</td></tr>",
              "<tr><td>Production</td><td>ProductPhoto</td><td>BASE TABLE</td><td>28</td><td>91</td><td>6</td></tr>",
              "<tr><td>Production</td><td>ProductProductPhoto</td><td>BASE TABLE</td><td>28</td><td>91</td><td>6</td></tr>",
              "<tr><td>Production</td><td>ProductReview</td><td>BASE TABLE</td><td>28</td><td>91</td><td>6</td></tr>",
              "<tr><td>Production</td><td>ProductSubcategory</td><td>BASE TABLE</td><td>28</td><td>91</td><td>6</td></tr>",
              "<tr><td>Production</td><td>ScrapReason</td><td>BASE TABLE</td><td>28</td><td>91</td><td>6</td></tr>",
              "<tr><td>Production</td><td>TransactionHistory</td><td>BASE TABLE</td><td>28</td><td>91</td><td>6</td></tr>",
              "<tr><td>Production</td><td>TransactionHistoryArchive</td><td>BASE TABLE</td><td>28</td><td>91</td><td>6</td></tr>",
              "<tr><td>Production</td><td>UnitMeasure</td><td>BASE TABLE</td><td>28</td><td>91</td><td>6</td></tr>",
              "<tr><td>Production</td><td>vProductAndDescription</td><td>VIEW</td><td>28</td><td>91</td><td>6</td></tr>",
              "<tr><td>Production</td><td>vProductModelCatalogDescription</td><td>VIEW</td><td>28</td><td>91</td><td>6</td></tr>",
              "<tr><td>Production</td><td>vProductModelInstructions</td><td>VIEW</td><td>28</td><td>91</td><td>6</td></tr>",
              "<tr><td>Production</td><td>WorkOrder</td><td>BASE TABLE</td><td>28</td><td>91</td><td>6</td></tr>",
              "<tr><td>Production</td><td>WorkOrderRouting</td><td>BASE TABLE</td><td>28</td><td>91</td><td>6</td></tr>",
              "<tr><td>Purchasing</td><td>ProductVendor</td><td>BASE TABLE</td><td>7</td><td>91</td><td>6</td></tr>",
              "<tr><td>Purchasing</td><td>PurchaseOrderDetail</td><td>BASE TABLE</td><td>7</td><td>91</td><td>6</td></tr>",
              "<tr><td>Purchasing</td><td>PurchaseOrderHeader</td><td>BASE TABLE</td><td>7</td><td>91</td><td>6</td></tr>",
              "<tr><td>Purchasing</td><td>ShipMethod</td><td>BASE TABLE</td><td>7</td><td>91</td><td>6</td></tr>",
              "<tr><td>Purchasing</td><td>Vendor</td><td>BASE TABLE</td><td>7</td><td>91</td><td>6</td></tr>",
              "<tr><td>Purchasing</td><td>vVendorWithAddresses</td><td>VIEW</td><td>7</td><td>91</td><td>6</td></tr>",
              "<tr><td>Purchasing</td><td>vVendorWithContacts</td><td>VIEW</td><td>7</td><td>91</td><td>6</td></tr>",
              "<tr><td>Sales</td><td>CountryRegionCurrency</td><td>BASE TABLE</td><td>26</td><td>91</td><td>6</td></tr>",
              "<tr><td>Sales</td><td>CreditCard</td><td>BASE TABLE</td><td>26</td><td>91</td><td>6</td></tr>",
              "<tr><td>Sales</td><td>Currency</td><td>BASE TABLE</td><td>26</td><td>91</td><td>6</td></tr>",
              "<tr><td>Sales</td><td>CurrencyRate</td><td>BASE TABLE</td><td>26</td><td>91</td><td>6</td></tr>",
              "<tr><td>Sales</td><td>Customer</td><td>BASE TABLE</td><td>26</td><td>91</td><td>6</td></tr>",
              "<tr><td>Sales</td><td>PersonCreditCard</td><td>BASE TABLE</td><td>26</td><td>91</td><td>6</td></tr>",
              "<tr><td>Sales</td><td>SalesOrderDetail</td><td>BASE TABLE</td><td>26</td><td>91</td><td>6</td></tr>",
              "<tr><td>Sales</td><td>SalesOrderHeader</td><td>BASE TABLE</td><td>26</td><td>91</td><td>6</td></tr>",
              "<tr><td>Sales</td><td>SalesOrderHeaderSalesReason</td><td>BASE TABLE</td><td>26</td><td>91</td><td>6</td></tr>",
              "<tr><td>Sales</td><td>SalesPerson</td><td>BASE TABLE</td><td>26</td><td>91</td><td>6</td></tr>",
              "<tr><td>Sales</td><td>SalesPersonQuotaHistory</td><td>BASE TABLE</td><td>26</td><td>91</td><td>6</td></tr>",
              "<tr><td>Sales</td><td>SalesReason</td><td>BASE TABLE</td><td>26</td><td>91</td><td>6</td></tr>",
              "<tr><td>Sales</td><td>SalesTaxRate</td><td>BASE TABLE</td><td>26</td><td>91</td><td>6</td></tr>",
              "<tr><td>Sales</td><td>SalesTerritory</td><td>BASE TABLE</td><td>26</td><td>91</td><td>6</td></tr>",
              "<tr><td>Sales</td><td>SalesTerritoryHistory</td><td>BASE TABLE</td><td>26</td><td>91</td><td>6</td></tr>",
              "<tr><td>Sales</td><td>ShoppingCartItem</td><td>BASE TABLE</td><td>26</td><td>91</td><td>6</td></tr>",
              "<tr><td>Sales</td><td>SpecialOffer</td><td>BASE TABLE</td><td>26</td><td>91</td><td>6</td></tr>",
              "<tr><td>Sales</td><td>SpecialOfferProduct</td><td>BASE TABLE</td><td>26</td><td>91</td><td>6</td></tr>",
              "<tr><td>Sales</td><td>Store</td><td>BASE TABLE</td><td>26</td><td>91</td><td>6</td></tr>",
              "<tr><td>Sales</td><td>vIndividualCustomer</td><td>VIEW</td><td>26</td><td>91</td><td>6</td></tr>",
              "<tr><td>Sales</td><td>vPersonDemographics</td><td>VIEW</td><td>26</td><td>91</td><td>6</td></tr>",
              "<tr><td>Sales</td><td>vSalesPerson</td><td>VIEW</td><td>26</td><td>91</td><td>6</td></tr>",
              "<tr><td>Sales</td><td>vSalesPersonSalesByFiscalYears</td><td>VIEW</td><td>26</td><td>91</td><td>6</td></tr>",
              "<tr><td>Sales</td><td>vStoreWithAddresses</td><td>VIEW</td><td>26</td><td>91</td><td>6</td></tr>",
              "<tr><td>Sales</td><td>vStoreWithContacts</td><td>VIEW</td><td>26</td><td>91</td><td>6</td></tr>",
              "<tr><td>Sales</td><td>vStoreWithDemographics</td><td>VIEW</td><td>26</td><td>91</td><td>6</td></tr>",
              "</table>"
            ]
          }
        }
      ],
      "execution_count": null
    },
    {
      "cell_type": "markdown",
      "source": [
        "This code efficiently retrieves a list of non-default schema tables (excluding system views) in AdventureWorks2022, organized by schema and table name."
      ],
      "metadata": {
        "language": "sql",
        "azdata_cell_guid": "deba5d9e-4569-4a78-9337-61cc7d63df63",
        "id": "pdIW54hsY4w7"
      }
    },
    {
      "cell_type": "code",
      "source": [
        "SELECT\n",
        "    TABLE_SCHEMA,\n",
        "    TABLE_NAME,\n",
        "    TABLE_TYPE,\n",
        "    COUNT(TABLE_SCHEMA) OVER(PARTITION BY TABLE_SCHEMA) CountOfSchemas\n",
        "FROM INFORMATION_SCHEMA.TABLES\n",
        "WHERE TABLE_SCHEMA != 'dbo' AND TABLE_TYPE != 'VIEW'\n",
        "ORDER BY TABLE_SCHEMA, TABLE_NAME"
      ],
      "metadata": {
        "language": "sql",
        "azdata_cell_guid": "f7bab6eb-5ef6-458b-b9f3-8d3aaf630a82",
        "tags": [],
        "id": "NOqxiAG-Y4w7",
        "outputId": "b708b09b-c953-4b7d-e33e-06e437af2308"
      },
      "outputs": [
        {
          "output_type": "display_data",
          "data": {
            "text/html": "(68 rows affected)"
          },
          "metadata": {}
        },
        {
          "output_type": "display_data",
          "data": {
            "text/html": "Total execution time: 00:00:00.022"
          },
          "metadata": {}
        },
        {
          "output_type": "execute_result",
          "metadata": {},
          "execution_count": 2,
          "data": {
            "application/vnd.dataresource+json": {
              "schema": {
                "fields": [
                  {
                    "name": "TABLE_SCHEMA"
                  },
                  {
                    "name": "TABLE_NAME"
                  },
                  {
                    "name": "TABLE_TYPE"
                  },
                  {
                    "name": "CountOfSchemas"
                  }
                ]
              },
              "data": [
                {
                  "TABLE_SCHEMA": "HumanResources",
                  "TABLE_NAME": "Department",
                  "TABLE_TYPE": "BASE TABLE",
                  "CountOfSchemas": "6"
                },
                {
                  "TABLE_SCHEMA": "HumanResources",
                  "TABLE_NAME": "Employee",
                  "TABLE_TYPE": "BASE TABLE",
                  "CountOfSchemas": "6"
                },
                {
                  "TABLE_SCHEMA": "HumanResources",
                  "TABLE_NAME": "EmployeeDepartmentHistory",
                  "TABLE_TYPE": "BASE TABLE",
                  "CountOfSchemas": "6"
                },
                {
                  "TABLE_SCHEMA": "HumanResources",
                  "TABLE_NAME": "EmployeePayHistory",
                  "TABLE_TYPE": "BASE TABLE",
                  "CountOfSchemas": "6"
                },
                {
                  "TABLE_SCHEMA": "HumanResources",
                  "TABLE_NAME": "JobCandidate",
                  "TABLE_TYPE": "BASE TABLE",
                  "CountOfSchemas": "6"
                },
                {
                  "TABLE_SCHEMA": "HumanResources",
                  "TABLE_NAME": "Shift",
                  "TABLE_TYPE": "BASE TABLE",
                  "CountOfSchemas": "6"
                },
                {
                  "TABLE_SCHEMA": "Person",
                  "TABLE_NAME": "Address",
                  "TABLE_TYPE": "BASE TABLE",
                  "CountOfSchemas": "13"
                },
                {
                  "TABLE_SCHEMA": "Person",
                  "TABLE_NAME": "AddressType",
                  "TABLE_TYPE": "BASE TABLE",
                  "CountOfSchemas": "13"
                },
                {
                  "TABLE_SCHEMA": "Person",
                  "TABLE_NAME": "BusinessEntity",
                  "TABLE_TYPE": "BASE TABLE",
                  "CountOfSchemas": "13"
                },
                {
                  "TABLE_SCHEMA": "Person",
                  "TABLE_NAME": "BusinessEntityAddress",
                  "TABLE_TYPE": "BASE TABLE",
                  "CountOfSchemas": "13"
                },
                {
                  "TABLE_SCHEMA": "Person",
                  "TABLE_NAME": "BusinessEntityContact",
                  "TABLE_TYPE": "BASE TABLE",
                  "CountOfSchemas": "13"
                },
                {
                  "TABLE_SCHEMA": "Person",
                  "TABLE_NAME": "ContactType",
                  "TABLE_TYPE": "BASE TABLE",
                  "CountOfSchemas": "13"
                },
                {
                  "TABLE_SCHEMA": "Person",
                  "TABLE_NAME": "CountryRegion",
                  "TABLE_TYPE": "BASE TABLE",
                  "CountOfSchemas": "13"
                },
                {
                  "TABLE_SCHEMA": "Person",
                  "TABLE_NAME": "EmailAddress",
                  "TABLE_TYPE": "BASE TABLE",
                  "CountOfSchemas": "13"
                },
                {
                  "TABLE_SCHEMA": "Person",
                  "TABLE_NAME": "Password",
                  "TABLE_TYPE": "BASE TABLE",
                  "CountOfSchemas": "13"
                },
                {
                  "TABLE_SCHEMA": "Person",
                  "TABLE_NAME": "Person",
                  "TABLE_TYPE": "BASE TABLE",
                  "CountOfSchemas": "13"
                },
                {
                  "TABLE_SCHEMA": "Person",
                  "TABLE_NAME": "PersonPhone",
                  "TABLE_TYPE": "BASE TABLE",
                  "CountOfSchemas": "13"
                },
                {
                  "TABLE_SCHEMA": "Person",
                  "TABLE_NAME": "PhoneNumberType",
                  "TABLE_TYPE": "BASE TABLE",
                  "CountOfSchemas": "13"
                },
                {
                  "TABLE_SCHEMA": "Person",
                  "TABLE_NAME": "StateProvince",
                  "TABLE_TYPE": "BASE TABLE",
                  "CountOfSchemas": "13"
                },
                {
                  "TABLE_SCHEMA": "Production",
                  "TABLE_NAME": "BillOfMaterials",
                  "TABLE_TYPE": "BASE TABLE",
                  "CountOfSchemas": "25"
                },
                {
                  "TABLE_SCHEMA": "Production",
                  "TABLE_NAME": "Culture",
                  "TABLE_TYPE": "BASE TABLE",
                  "CountOfSchemas": "25"
                },
                {
                  "TABLE_SCHEMA": "Production",
                  "TABLE_NAME": "Document",
                  "TABLE_TYPE": "BASE TABLE",
                  "CountOfSchemas": "25"
                },
                {
                  "TABLE_SCHEMA": "Production",
                  "TABLE_NAME": "Illustration",
                  "TABLE_TYPE": "BASE TABLE",
                  "CountOfSchemas": "25"
                },
                {
                  "TABLE_SCHEMA": "Production",
                  "TABLE_NAME": "Location",
                  "TABLE_TYPE": "BASE TABLE",
                  "CountOfSchemas": "25"
                },
                {
                  "TABLE_SCHEMA": "Production",
                  "TABLE_NAME": "Product",
                  "TABLE_TYPE": "BASE TABLE",
                  "CountOfSchemas": "25"
                },
                {
                  "TABLE_SCHEMA": "Production",
                  "TABLE_NAME": "ProductCategory",
                  "TABLE_TYPE": "BASE TABLE",
                  "CountOfSchemas": "25"
                },
                {
                  "TABLE_SCHEMA": "Production",
                  "TABLE_NAME": "ProductCostHistory",
                  "TABLE_TYPE": "BASE TABLE",
                  "CountOfSchemas": "25"
                },
                {
                  "TABLE_SCHEMA": "Production",
                  "TABLE_NAME": "ProductDescription",
                  "TABLE_TYPE": "BASE TABLE",
                  "CountOfSchemas": "25"
                },
                {
                  "TABLE_SCHEMA": "Production",
                  "TABLE_NAME": "ProductDocument",
                  "TABLE_TYPE": "BASE TABLE",
                  "CountOfSchemas": "25"
                },
                {
                  "TABLE_SCHEMA": "Production",
                  "TABLE_NAME": "ProductInventory",
                  "TABLE_TYPE": "BASE TABLE",
                  "CountOfSchemas": "25"
                },
                {
                  "TABLE_SCHEMA": "Production",
                  "TABLE_NAME": "ProductListPriceHistory",
                  "TABLE_TYPE": "BASE TABLE",
                  "CountOfSchemas": "25"
                },
                {
                  "TABLE_SCHEMA": "Production",
                  "TABLE_NAME": "ProductModel",
                  "TABLE_TYPE": "BASE TABLE",
                  "CountOfSchemas": "25"
                },
                {
                  "TABLE_SCHEMA": "Production",
                  "TABLE_NAME": "ProductModelIllustration",
                  "TABLE_TYPE": "BASE TABLE",
                  "CountOfSchemas": "25"
                },
                {
                  "TABLE_SCHEMA": "Production",
                  "TABLE_NAME": "ProductModelProductDescriptionCulture",
                  "TABLE_TYPE": "BASE TABLE",
                  "CountOfSchemas": "25"
                },
                {
                  "TABLE_SCHEMA": "Production",
                  "TABLE_NAME": "ProductPhoto",
                  "TABLE_TYPE": "BASE TABLE",
                  "CountOfSchemas": "25"
                },
                {
                  "TABLE_SCHEMA": "Production",
                  "TABLE_NAME": "ProductProductPhoto",
                  "TABLE_TYPE": "BASE TABLE",
                  "CountOfSchemas": "25"
                },
                {
                  "TABLE_SCHEMA": "Production",
                  "TABLE_NAME": "ProductReview",
                  "TABLE_TYPE": "BASE TABLE",
                  "CountOfSchemas": "25"
                },
                {
                  "TABLE_SCHEMA": "Production",
                  "TABLE_NAME": "ProductSubcategory",
                  "TABLE_TYPE": "BASE TABLE",
                  "CountOfSchemas": "25"
                },
                {
                  "TABLE_SCHEMA": "Production",
                  "TABLE_NAME": "ScrapReason",
                  "TABLE_TYPE": "BASE TABLE",
                  "CountOfSchemas": "25"
                },
                {
                  "TABLE_SCHEMA": "Production",
                  "TABLE_NAME": "TransactionHistory",
                  "TABLE_TYPE": "BASE TABLE",
                  "CountOfSchemas": "25"
                },
                {
                  "TABLE_SCHEMA": "Production",
                  "TABLE_NAME": "TransactionHistoryArchive",
                  "TABLE_TYPE": "BASE TABLE",
                  "CountOfSchemas": "25"
                },
                {
                  "TABLE_SCHEMA": "Production",
                  "TABLE_NAME": "UnitMeasure",
                  "TABLE_TYPE": "BASE TABLE",
                  "CountOfSchemas": "25"
                },
                {
                  "TABLE_SCHEMA": "Production",
                  "TABLE_NAME": "WorkOrder",
                  "TABLE_TYPE": "BASE TABLE",
                  "CountOfSchemas": "25"
                },
                {
                  "TABLE_SCHEMA": "Production",
                  "TABLE_NAME": "WorkOrderRouting",
                  "TABLE_TYPE": "BASE TABLE",
                  "CountOfSchemas": "25"
                },
                {
                  "TABLE_SCHEMA": "Purchasing",
                  "TABLE_NAME": "ProductVendor",
                  "TABLE_TYPE": "BASE TABLE",
                  "CountOfSchemas": "5"
                },
                {
                  "TABLE_SCHEMA": "Purchasing",
                  "TABLE_NAME": "PurchaseOrderDetail",
                  "TABLE_TYPE": "BASE TABLE",
                  "CountOfSchemas": "5"
                },
                {
                  "TABLE_SCHEMA": "Purchasing",
                  "TABLE_NAME": "PurchaseOrderHeader",
                  "TABLE_TYPE": "BASE TABLE",
                  "CountOfSchemas": "5"
                },
                {
                  "TABLE_SCHEMA": "Purchasing",
                  "TABLE_NAME": "ShipMethod",
                  "TABLE_TYPE": "BASE TABLE",
                  "CountOfSchemas": "5"
                },
                {
                  "TABLE_SCHEMA": "Purchasing",
                  "TABLE_NAME": "Vendor",
                  "TABLE_TYPE": "BASE TABLE",
                  "CountOfSchemas": "5"
                },
                {
                  "TABLE_SCHEMA": "Sales",
                  "TABLE_NAME": "CountryRegionCurrency",
                  "TABLE_TYPE": "BASE TABLE",
                  "CountOfSchemas": "19"
                },
                {
                  "TABLE_SCHEMA": "Sales",
                  "TABLE_NAME": "CreditCard",
                  "TABLE_TYPE": "BASE TABLE",
                  "CountOfSchemas": "19"
                },
                {
                  "TABLE_SCHEMA": "Sales",
                  "TABLE_NAME": "Currency",
                  "TABLE_TYPE": "BASE TABLE",
                  "CountOfSchemas": "19"
                },
                {
                  "TABLE_SCHEMA": "Sales",
                  "TABLE_NAME": "CurrencyRate",
                  "TABLE_TYPE": "BASE TABLE",
                  "CountOfSchemas": "19"
                },
                {
                  "TABLE_SCHEMA": "Sales",
                  "TABLE_NAME": "Customer",
                  "TABLE_TYPE": "BASE TABLE",
                  "CountOfSchemas": "19"
                },
                {
                  "TABLE_SCHEMA": "Sales",
                  "TABLE_NAME": "PersonCreditCard",
                  "TABLE_TYPE": "BASE TABLE",
                  "CountOfSchemas": "19"
                },
                {
                  "TABLE_SCHEMA": "Sales",
                  "TABLE_NAME": "SalesOrderDetail",
                  "TABLE_TYPE": "BASE TABLE",
                  "CountOfSchemas": "19"
                },
                {
                  "TABLE_SCHEMA": "Sales",
                  "TABLE_NAME": "SalesOrderHeader",
                  "TABLE_TYPE": "BASE TABLE",
                  "CountOfSchemas": "19"
                },
                {
                  "TABLE_SCHEMA": "Sales",
                  "TABLE_NAME": "SalesOrderHeaderSalesReason",
                  "TABLE_TYPE": "BASE TABLE",
                  "CountOfSchemas": "19"
                },
                {
                  "TABLE_SCHEMA": "Sales",
                  "TABLE_NAME": "SalesPerson",
                  "TABLE_TYPE": "BASE TABLE",
                  "CountOfSchemas": "19"
                },
                {
                  "TABLE_SCHEMA": "Sales",
                  "TABLE_NAME": "SalesPersonQuotaHistory",
                  "TABLE_TYPE": "BASE TABLE",
                  "CountOfSchemas": "19"
                },
                {
                  "TABLE_SCHEMA": "Sales",
                  "TABLE_NAME": "SalesReason",
                  "TABLE_TYPE": "BASE TABLE",
                  "CountOfSchemas": "19"
                },
                {
                  "TABLE_SCHEMA": "Sales",
                  "TABLE_NAME": "SalesTaxRate",
                  "TABLE_TYPE": "BASE TABLE",
                  "CountOfSchemas": "19"
                },
                {
                  "TABLE_SCHEMA": "Sales",
                  "TABLE_NAME": "SalesTerritory",
                  "TABLE_TYPE": "BASE TABLE",
                  "CountOfSchemas": "19"
                },
                {
                  "TABLE_SCHEMA": "Sales",
                  "TABLE_NAME": "SalesTerritoryHistory",
                  "TABLE_TYPE": "BASE TABLE",
                  "CountOfSchemas": "19"
                },
                {
                  "TABLE_SCHEMA": "Sales",
                  "TABLE_NAME": "ShoppingCartItem",
                  "TABLE_TYPE": "BASE TABLE",
                  "CountOfSchemas": "19"
                },
                {
                  "TABLE_SCHEMA": "Sales",
                  "TABLE_NAME": "SpecialOffer",
                  "TABLE_TYPE": "BASE TABLE",
                  "CountOfSchemas": "19"
                },
                {
                  "TABLE_SCHEMA": "Sales",
                  "TABLE_NAME": "SpecialOfferProduct",
                  "TABLE_TYPE": "BASE TABLE",
                  "CountOfSchemas": "19"
                },
                {
                  "TABLE_SCHEMA": "Sales",
                  "TABLE_NAME": "Store",
                  "TABLE_TYPE": "BASE TABLE",
                  "CountOfSchemas": "19"
                }
              ]
            },
            "text/html": [
              "<table>",
              "<tr><th>TABLE_SCHEMA</th><th>TABLE_NAME</th><th>TABLE_TYPE</th><th>CountOfSchemas</th></tr>",
              "<tr><td>HumanResources</td><td>Department</td><td>BASE TABLE</td><td>6</td></tr>",
              "<tr><td>HumanResources</td><td>Employee</td><td>BASE TABLE</td><td>6</td></tr>",
              "<tr><td>HumanResources</td><td>EmployeeDepartmentHistory</td><td>BASE TABLE</td><td>6</td></tr>",
              "<tr><td>HumanResources</td><td>EmployeePayHistory</td><td>BASE TABLE</td><td>6</td></tr>",
              "<tr><td>HumanResources</td><td>JobCandidate</td><td>BASE TABLE</td><td>6</td></tr>",
              "<tr><td>HumanResources</td><td>Shift</td><td>BASE TABLE</td><td>6</td></tr>",
              "<tr><td>Person</td><td>Address</td><td>BASE TABLE</td><td>13</td></tr>",
              "<tr><td>Person</td><td>AddressType</td><td>BASE TABLE</td><td>13</td></tr>",
              "<tr><td>Person</td><td>BusinessEntity</td><td>BASE TABLE</td><td>13</td></tr>",
              "<tr><td>Person</td><td>BusinessEntityAddress</td><td>BASE TABLE</td><td>13</td></tr>",
              "<tr><td>Person</td><td>BusinessEntityContact</td><td>BASE TABLE</td><td>13</td></tr>",
              "<tr><td>Person</td><td>ContactType</td><td>BASE TABLE</td><td>13</td></tr>",
              "<tr><td>Person</td><td>CountryRegion</td><td>BASE TABLE</td><td>13</td></tr>",
              "<tr><td>Person</td><td>EmailAddress</td><td>BASE TABLE</td><td>13</td></tr>",
              "<tr><td>Person</td><td>Password</td><td>BASE TABLE</td><td>13</td></tr>",
              "<tr><td>Person</td><td>Person</td><td>BASE TABLE</td><td>13</td></tr>",
              "<tr><td>Person</td><td>PersonPhone</td><td>BASE TABLE</td><td>13</td></tr>",
              "<tr><td>Person</td><td>PhoneNumberType</td><td>BASE TABLE</td><td>13</td></tr>",
              "<tr><td>Person</td><td>StateProvince</td><td>BASE TABLE</td><td>13</td></tr>",
              "<tr><td>Production</td><td>BillOfMaterials</td><td>BASE TABLE</td><td>25</td></tr>",
              "<tr><td>Production</td><td>Culture</td><td>BASE TABLE</td><td>25</td></tr>",
              "<tr><td>Production</td><td>Document</td><td>BASE TABLE</td><td>25</td></tr>",
              "<tr><td>Production</td><td>Illustration</td><td>BASE TABLE</td><td>25</td></tr>",
              "<tr><td>Production</td><td>Location</td><td>BASE TABLE</td><td>25</td></tr>",
              "<tr><td>Production</td><td>Product</td><td>BASE TABLE</td><td>25</td></tr>",
              "<tr><td>Production</td><td>ProductCategory</td><td>BASE TABLE</td><td>25</td></tr>",
              "<tr><td>Production</td><td>ProductCostHistory</td><td>BASE TABLE</td><td>25</td></tr>",
              "<tr><td>Production</td><td>ProductDescription</td><td>BASE TABLE</td><td>25</td></tr>",
              "<tr><td>Production</td><td>ProductDocument</td><td>BASE TABLE</td><td>25</td></tr>",
              "<tr><td>Production</td><td>ProductInventory</td><td>BASE TABLE</td><td>25</td></tr>",
              "<tr><td>Production</td><td>ProductListPriceHistory</td><td>BASE TABLE</td><td>25</td></tr>",
              "<tr><td>Production</td><td>ProductModel</td><td>BASE TABLE</td><td>25</td></tr>",
              "<tr><td>Production</td><td>ProductModelIllustration</td><td>BASE TABLE</td><td>25</td></tr>",
              "<tr><td>Production</td><td>ProductModelProductDescriptionCulture</td><td>BASE TABLE</td><td>25</td></tr>",
              "<tr><td>Production</td><td>ProductPhoto</td><td>BASE TABLE</td><td>25</td></tr>",
              "<tr><td>Production</td><td>ProductProductPhoto</td><td>BASE TABLE</td><td>25</td></tr>",
              "<tr><td>Production</td><td>ProductReview</td><td>BASE TABLE</td><td>25</td></tr>",
              "<tr><td>Production</td><td>ProductSubcategory</td><td>BASE TABLE</td><td>25</td></tr>",
              "<tr><td>Production</td><td>ScrapReason</td><td>BASE TABLE</td><td>25</td></tr>",
              "<tr><td>Production</td><td>TransactionHistory</td><td>BASE TABLE</td><td>25</td></tr>",
              "<tr><td>Production</td><td>TransactionHistoryArchive</td><td>BASE TABLE</td><td>25</td></tr>",
              "<tr><td>Production</td><td>UnitMeasure</td><td>BASE TABLE</td><td>25</td></tr>",
              "<tr><td>Production</td><td>WorkOrder</td><td>BASE TABLE</td><td>25</td></tr>",
              "<tr><td>Production</td><td>WorkOrderRouting</td><td>BASE TABLE</td><td>25</td></tr>",
              "<tr><td>Purchasing</td><td>ProductVendor</td><td>BASE TABLE</td><td>5</td></tr>",
              "<tr><td>Purchasing</td><td>PurchaseOrderDetail</td><td>BASE TABLE</td><td>5</td></tr>",
              "<tr><td>Purchasing</td><td>PurchaseOrderHeader</td><td>BASE TABLE</td><td>5</td></tr>",
              "<tr><td>Purchasing</td><td>ShipMethod</td><td>BASE TABLE</td><td>5</td></tr>",
              "<tr><td>Purchasing</td><td>Vendor</td><td>BASE TABLE</td><td>5</td></tr>",
              "<tr><td>Sales</td><td>CountryRegionCurrency</td><td>BASE TABLE</td><td>19</td></tr>",
              "<tr><td>Sales</td><td>CreditCard</td><td>BASE TABLE</td><td>19</td></tr>",
              "<tr><td>Sales</td><td>Currency</td><td>BASE TABLE</td><td>19</td></tr>",
              "<tr><td>Sales</td><td>CurrencyRate</td><td>BASE TABLE</td><td>19</td></tr>",
              "<tr><td>Sales</td><td>Customer</td><td>BASE TABLE</td><td>19</td></tr>",
              "<tr><td>Sales</td><td>PersonCreditCard</td><td>BASE TABLE</td><td>19</td></tr>",
              "<tr><td>Sales</td><td>SalesOrderDetail</td><td>BASE TABLE</td><td>19</td></tr>",
              "<tr><td>Sales</td><td>SalesOrderHeader</td><td>BASE TABLE</td><td>19</td></tr>",
              "<tr><td>Sales</td><td>SalesOrderHeaderSalesReason</td><td>BASE TABLE</td><td>19</td></tr>",
              "<tr><td>Sales</td><td>SalesPerson</td><td>BASE TABLE</td><td>19</td></tr>",
              "<tr><td>Sales</td><td>SalesPersonQuotaHistory</td><td>BASE TABLE</td><td>19</td></tr>",
              "<tr><td>Sales</td><td>SalesReason</td><td>BASE TABLE</td><td>19</td></tr>",
              "<tr><td>Sales</td><td>SalesTaxRate</td><td>BASE TABLE</td><td>19</td></tr>",
              "<tr><td>Sales</td><td>SalesTerritory</td><td>BASE TABLE</td><td>19</td></tr>",
              "<tr><td>Sales</td><td>SalesTerritoryHistory</td><td>BASE TABLE</td><td>19</td></tr>",
              "<tr><td>Sales</td><td>ShoppingCartItem</td><td>BASE TABLE</td><td>19</td></tr>",
              "<tr><td>Sales</td><td>SpecialOffer</td><td>BASE TABLE</td><td>19</td></tr>",
              "<tr><td>Sales</td><td>SpecialOfferProduct</td><td>BASE TABLE</td><td>19</td></tr>",
              "<tr><td>Sales</td><td>Store</td><td>BASE TABLE</td><td>19</td></tr>",
              "</table>"
            ]
          }
        }
      ],
      "execution_count": null
    },
    {
      "cell_type": "markdown",
      "source": [
        "This code effectively explores the `INFORMATION_SCHEMA.COLUMNS` view to provide details about tables and their columns in AdventureWorks2022. Here's a breakdown:\n",
        "\n",
        "- **Data Source:** It retrieves information from `INFORMATION_SCHEMA.COLUMNS`.\n",
        "- **Selected Columns:**\n",
        "    - `TABLE_NAME`: Name of the table the column belongs to.\n",
        "    - `COLUMN_NAME`: Name of the column itself.\n",
        "    - `DATA_TYPE`: Data type of the column (e.g., int, varchar, etc.).\n",
        "    - `NumberOfColumnsPerTable`: This is calculated using a window function `COUNT(COLUMN_NAME) OVER(PARTITION BY TABLE_NAME)`. It counts the number of columns within each table, providing an overview of the column density for each table.\n",
        "- **Ordering:** The results are ordered by:\n",
        "    - `TABLE_SCHEMA` (although not explicitly included in the provided code, this view might contain a `TABLE_SCHEMA` column depending on your SQL Server version). This would order by schema first.\n",
        "    - `TABLE_NAME`: This ensures tables are grouped together.\n",
        "    - `COLUMN_NAME`: This organizes the columns within each table alphabetically."
      ],
      "metadata": {
        "language": "sql",
        "azdata_cell_guid": "38286216-dcb6-4cc0-8bb3-249b03fd7b4b",
        "id": "2wx0GSpxY4w7"
      }
    },
    {
      "cell_type": "code",
      "source": [
        "/*Explore The INFORMATION_SCHEMA.COLUMNS to find more about the tables and their columns*/\n",
        "SELECT\n",
        "    TABLE_NAME,\n",
        "    COLUMN_NAME,\n",
        "    DATA_TYPE,\n",
        "    COUNT(COLUMN_NAME) OVER(PARTITION BY TABLE_NAME) NumberOfColumnsPerTable\n",
        "FROM INFORMATION_SCHEMA.COLUMNS\n",
        "ORDER BY TABLE_SCHEMA, TABLE_NAME, COLUMN_NAME"
      ],
      "metadata": {
        "azdata_cell_guid": "04417357-1db9-414c-ae54-c8bdb93c6f30",
        "language": "sql",
        "tags": [],
        "id": "wEXJt3bQY4w7",
        "outputId": "b877f0a6-4c4a-46a5-95e2-fceb0053c383"
      },
      "outputs": [
        {
          "output_type": "display_data",
          "data": {
            "text/html": "(744 rows affected)"
          },
          "metadata": {}
        },
        {
          "output_type": "display_data",
          "data": {
            "text/html": "Total execution time: 00:00:00.020"
          },
          "metadata": {}
        },
        {
          "output_type": "execute_result",
          "metadata": {},
          "execution_count": 3,
          "data": {
            "application/vnd.dataresource+json": {
              "schema": {
                "fields": [
                  {
                    "name": "TABLE_NAME"
                  },
                  {
                    "name": "COLUMN_NAME"
                  },
                  {
                    "name": "DATA_TYPE"
                  },
                  {
                    "name": "NumberOfColumnsPerTable"
                  }
                ]
              },
              "data": [
                {
                  "TABLE_NAME": "AWBuildVersion",
                  "COLUMN_NAME": "Database Version",
                  "DATA_TYPE": "nvarchar",
                  "NumberOfColumnsPerTable": "4"
                },
                {
                  "TABLE_NAME": "AWBuildVersion",
                  "COLUMN_NAME": "ModifiedDate",
                  "DATA_TYPE": "datetime",
                  "NumberOfColumnsPerTable": "4"
                },
                {
                  "TABLE_NAME": "AWBuildVersion",
                  "COLUMN_NAME": "SystemInformationID",
                  "DATA_TYPE": "tinyint",
                  "NumberOfColumnsPerTable": "4"
                },
                {
                  "TABLE_NAME": "AWBuildVersion",
                  "COLUMN_NAME": "VersionDate",
                  "DATA_TYPE": "datetime",
                  "NumberOfColumnsPerTable": "4"
                },
                {
                  "TABLE_NAME": "DatabaseLog",
                  "COLUMN_NAME": "DatabaseLogID",
                  "DATA_TYPE": "int",
                  "NumberOfColumnsPerTable": "8"
                },
                {
                  "TABLE_NAME": "DatabaseLog",
                  "COLUMN_NAME": "DatabaseUser",
                  "DATA_TYPE": "nvarchar",
                  "NumberOfColumnsPerTable": "8"
                },
                {
                  "TABLE_NAME": "DatabaseLog",
                  "COLUMN_NAME": "Event",
                  "DATA_TYPE": "nvarchar",
                  "NumberOfColumnsPerTable": "8"
                },
                {
                  "TABLE_NAME": "DatabaseLog",
                  "COLUMN_NAME": "Object",
                  "DATA_TYPE": "nvarchar",
                  "NumberOfColumnsPerTable": "8"
                },
                {
                  "TABLE_NAME": "DatabaseLog",
                  "COLUMN_NAME": "PostTime",
                  "DATA_TYPE": "datetime",
                  "NumberOfColumnsPerTable": "8"
                },
                {
                  "TABLE_NAME": "DatabaseLog",
                  "COLUMN_NAME": "Schema",
                  "DATA_TYPE": "nvarchar",
                  "NumberOfColumnsPerTable": "8"
                },
                {
                  "TABLE_NAME": "DatabaseLog",
                  "COLUMN_NAME": "TSQL",
                  "DATA_TYPE": "nvarchar",
                  "NumberOfColumnsPerTable": "8"
                },
                {
                  "TABLE_NAME": "DatabaseLog",
                  "COLUMN_NAME": "XmlEvent",
                  "DATA_TYPE": "xml",
                  "NumberOfColumnsPerTable": "8"
                },
                {
                  "TABLE_NAME": "ErrorLog",
                  "COLUMN_NAME": "ErrorLine",
                  "DATA_TYPE": "int",
                  "NumberOfColumnsPerTable": "9"
                },
                {
                  "TABLE_NAME": "ErrorLog",
                  "COLUMN_NAME": "ErrorLogID",
                  "DATA_TYPE": "int",
                  "NumberOfColumnsPerTable": "9"
                },
                {
                  "TABLE_NAME": "ErrorLog",
                  "COLUMN_NAME": "ErrorMessage",
                  "DATA_TYPE": "nvarchar",
                  "NumberOfColumnsPerTable": "9"
                },
                {
                  "TABLE_NAME": "ErrorLog",
                  "COLUMN_NAME": "ErrorNumber",
                  "DATA_TYPE": "int",
                  "NumberOfColumnsPerTable": "9"
                },
                {
                  "TABLE_NAME": "ErrorLog",
                  "COLUMN_NAME": "ErrorProcedure",
                  "DATA_TYPE": "nvarchar",
                  "NumberOfColumnsPerTable": "9"
                },
                {
                  "TABLE_NAME": "ErrorLog",
                  "COLUMN_NAME": "ErrorSeverity",
                  "DATA_TYPE": "int",
                  "NumberOfColumnsPerTable": "9"
                },
                {
                  "TABLE_NAME": "ErrorLog",
                  "COLUMN_NAME": "ErrorState",
                  "DATA_TYPE": "int",
                  "NumberOfColumnsPerTable": "9"
                },
                {
                  "TABLE_NAME": "ErrorLog",
                  "COLUMN_NAME": "ErrorTime",
                  "DATA_TYPE": "datetime",
                  "NumberOfColumnsPerTable": "9"
                },
                {
                  "TABLE_NAME": "ErrorLog",
                  "COLUMN_NAME": "UserName",
                  "DATA_TYPE": "nvarchar",
                  "NumberOfColumnsPerTable": "9"
                },
                {
                  "TABLE_NAME": "Department",
                  "COLUMN_NAME": "DepartmentID",
                  "DATA_TYPE": "smallint",
                  "NumberOfColumnsPerTable": "4"
                },
                {
                  "TABLE_NAME": "Department",
                  "COLUMN_NAME": "GroupName",
                  "DATA_TYPE": "nvarchar",
                  "NumberOfColumnsPerTable": "4"
                },
                {
                  "TABLE_NAME": "Department",
                  "COLUMN_NAME": "ModifiedDate",
                  "DATA_TYPE": "datetime",
                  "NumberOfColumnsPerTable": "4"
                },
                {
                  "TABLE_NAME": "Department",
                  "COLUMN_NAME": "Name",
                  "DATA_TYPE": "nvarchar",
                  "NumberOfColumnsPerTable": "4"
                },
                {
                  "TABLE_NAME": "Employee",
                  "COLUMN_NAME": "BirthDate",
                  "DATA_TYPE": "date",
                  "NumberOfColumnsPerTable": "16"
                },
                {
                  "TABLE_NAME": "Employee",
                  "COLUMN_NAME": "BusinessEntityID",
                  "DATA_TYPE": "int",
                  "NumberOfColumnsPerTable": "16"
                },
                {
                  "TABLE_NAME": "Employee",
                  "COLUMN_NAME": "CurrentFlag",
                  "DATA_TYPE": "bit",
                  "NumberOfColumnsPerTable": "16"
                },
                {
                  "TABLE_NAME": "Employee",
                  "COLUMN_NAME": "Gender",
                  "DATA_TYPE": "nchar",
                  "NumberOfColumnsPerTable": "16"
                },
                {
                  "TABLE_NAME": "Employee",
                  "COLUMN_NAME": "HireDate",
                  "DATA_TYPE": "date",
                  "NumberOfColumnsPerTable": "16"
                },
                {
                  "TABLE_NAME": "Employee",
                  "COLUMN_NAME": "JobTitle",
                  "DATA_TYPE": "nvarchar",
                  "NumberOfColumnsPerTable": "16"
                },
                {
                  "TABLE_NAME": "Employee",
                  "COLUMN_NAME": "LoginID",
                  "DATA_TYPE": "nvarchar",
                  "NumberOfColumnsPerTable": "16"
                },
                {
                  "TABLE_NAME": "Employee",
                  "COLUMN_NAME": "MaritalStatus",
                  "DATA_TYPE": "nchar",
                  "NumberOfColumnsPerTable": "16"
                },
                {
                  "TABLE_NAME": "Employee",
                  "COLUMN_NAME": "ModifiedDate",
                  "DATA_TYPE": "datetime",
                  "NumberOfColumnsPerTable": "16"
                },
                {
                  "TABLE_NAME": "Employee",
                  "COLUMN_NAME": "NationalIDNumber",
                  "DATA_TYPE": "nvarchar",
                  "NumberOfColumnsPerTable": "16"
                },
                {
                  "TABLE_NAME": "Employee",
                  "COLUMN_NAME": "OrganizationLevel",
                  "DATA_TYPE": "smallint",
                  "NumberOfColumnsPerTable": "16"
                },
                {
                  "TABLE_NAME": "Employee",
                  "COLUMN_NAME": "OrganizationNode",
                  "DATA_TYPE": "hierarchyid",
                  "NumberOfColumnsPerTable": "16"
                },
                {
                  "TABLE_NAME": "Employee",
                  "COLUMN_NAME": "rowguid",
                  "DATA_TYPE": "uniqueidentifier",
                  "NumberOfColumnsPerTable": "16"
                },
                {
                  "TABLE_NAME": "Employee",
                  "COLUMN_NAME": "SalariedFlag",
                  "DATA_TYPE": "bit",
                  "NumberOfColumnsPerTable": "16"
                },
                {
                  "TABLE_NAME": "Employee",
                  "COLUMN_NAME": "SickLeaveHours",
                  "DATA_TYPE": "smallint",
                  "NumberOfColumnsPerTable": "16"
                },
                {
                  "TABLE_NAME": "Employee",
                  "COLUMN_NAME": "VacationHours",
                  "DATA_TYPE": "smallint",
                  "NumberOfColumnsPerTable": "16"
                },
                {
                  "TABLE_NAME": "EmployeeDepartmentHistory",
                  "COLUMN_NAME": "BusinessEntityID",
                  "DATA_TYPE": "int",
                  "NumberOfColumnsPerTable": "6"
                },
                {
                  "TABLE_NAME": "EmployeeDepartmentHistory",
                  "COLUMN_NAME": "DepartmentID",
                  "DATA_TYPE": "smallint",
                  "NumberOfColumnsPerTable": "6"
                },
                {
                  "TABLE_NAME": "EmployeeDepartmentHistory",
                  "COLUMN_NAME": "EndDate",
                  "DATA_TYPE": "date",
                  "NumberOfColumnsPerTable": "6"
                },
                {
                  "TABLE_NAME": "EmployeeDepartmentHistory",
                  "COLUMN_NAME": "ModifiedDate",
                  "DATA_TYPE": "datetime",
                  "NumberOfColumnsPerTable": "6"
                },
                {
                  "TABLE_NAME": "EmployeeDepartmentHistory",
                  "COLUMN_NAME": "ShiftID",
                  "DATA_TYPE": "tinyint",
                  "NumberOfColumnsPerTable": "6"
                },
                {
                  "TABLE_NAME": "EmployeeDepartmentHistory",
                  "COLUMN_NAME": "StartDate",
                  "DATA_TYPE": "date",
                  "NumberOfColumnsPerTable": "6"
                },
                {
                  "TABLE_NAME": "EmployeePayHistory",
                  "COLUMN_NAME": "BusinessEntityID",
                  "DATA_TYPE": "int",
                  "NumberOfColumnsPerTable": "5"
                },
                {
                  "TABLE_NAME": "EmployeePayHistory",
                  "COLUMN_NAME": "ModifiedDate",
                  "DATA_TYPE": "datetime",
                  "NumberOfColumnsPerTable": "5"
                },
                {
                  "TABLE_NAME": "EmployeePayHistory",
                  "COLUMN_NAME": "PayFrequency",
                  "DATA_TYPE": "tinyint",
                  "NumberOfColumnsPerTable": "5"
                },
                {
                  "TABLE_NAME": "EmployeePayHistory",
                  "COLUMN_NAME": "Rate",
                  "DATA_TYPE": "money",
                  "NumberOfColumnsPerTable": "5"
                },
                {
                  "TABLE_NAME": "EmployeePayHistory",
                  "COLUMN_NAME": "RateChangeDate",
                  "DATA_TYPE": "datetime",
                  "NumberOfColumnsPerTable": "5"
                },
                {
                  "TABLE_NAME": "JobCandidate",
                  "COLUMN_NAME": "BusinessEntityID",
                  "DATA_TYPE": "int",
                  "NumberOfColumnsPerTable": "4"
                },
                {
                  "TABLE_NAME": "JobCandidate",
                  "COLUMN_NAME": "JobCandidateID",
                  "DATA_TYPE": "int",
                  "NumberOfColumnsPerTable": "4"
                },
                {
                  "TABLE_NAME": "JobCandidate",
                  "COLUMN_NAME": "ModifiedDate",
                  "DATA_TYPE": "datetime",
                  "NumberOfColumnsPerTable": "4"
                },
                {
                  "TABLE_NAME": "JobCandidate",
                  "COLUMN_NAME": "Resume",
                  "DATA_TYPE": "xml",
                  "NumberOfColumnsPerTable": "4"
                },
                {
                  "TABLE_NAME": "Shift",
                  "COLUMN_NAME": "EndTime",
                  "DATA_TYPE": "time",
                  "NumberOfColumnsPerTable": "5"
                },
                {
                  "TABLE_NAME": "Shift",
                  "COLUMN_NAME": "ModifiedDate",
                  "DATA_TYPE": "datetime",
                  "NumberOfColumnsPerTable": "5"
                },
                {
                  "TABLE_NAME": "Shift",
                  "COLUMN_NAME": "Name",
                  "DATA_TYPE": "nvarchar",
                  "NumberOfColumnsPerTable": "5"
                },
                {
                  "TABLE_NAME": "Shift",
                  "COLUMN_NAME": "ShiftID",
                  "DATA_TYPE": "tinyint",
                  "NumberOfColumnsPerTable": "5"
                },
                {
                  "TABLE_NAME": "Shift",
                  "COLUMN_NAME": "StartTime",
                  "DATA_TYPE": "time",
                  "NumberOfColumnsPerTable": "5"
                },
                {
                  "TABLE_NAME": "vEmployee",
                  "COLUMN_NAME": "AdditionalContactInfo",
                  "DATA_TYPE": "xml",
                  "NumberOfColumnsPerTable": "18"
                },
                {
                  "TABLE_NAME": "vEmployee",
                  "COLUMN_NAME": "AddressLine1",
                  "DATA_TYPE": "nvarchar",
                  "NumberOfColumnsPerTable": "18"
                },
                {
                  "TABLE_NAME": "vEmployee",
                  "COLUMN_NAME": "AddressLine2",
                  "DATA_TYPE": "nvarchar",
                  "NumberOfColumnsPerTable": "18"
                },
                {
                  "TABLE_NAME": "vEmployee",
                  "COLUMN_NAME": "BusinessEntityID",
                  "DATA_TYPE": "int",
                  "NumberOfColumnsPerTable": "18"
                },
                {
                  "TABLE_NAME": "vEmployee",
                  "COLUMN_NAME": "City",
                  "DATA_TYPE": "nvarchar",
                  "NumberOfColumnsPerTable": "18"
                },
                {
                  "TABLE_NAME": "vEmployee",
                  "COLUMN_NAME": "CountryRegionName",
                  "DATA_TYPE": "nvarchar",
                  "NumberOfColumnsPerTable": "18"
                },
                {
                  "TABLE_NAME": "vEmployee",
                  "COLUMN_NAME": "EmailAddress",
                  "DATA_TYPE": "nvarchar",
                  "NumberOfColumnsPerTable": "18"
                },
                {
                  "TABLE_NAME": "vEmployee",
                  "COLUMN_NAME": "EmailPromotion",
                  "DATA_TYPE": "int",
                  "NumberOfColumnsPerTable": "18"
                },
                {
                  "TABLE_NAME": "vEmployee",
                  "COLUMN_NAME": "FirstName",
                  "DATA_TYPE": "nvarchar",
                  "NumberOfColumnsPerTable": "18"
                },
                {
                  "TABLE_NAME": "vEmployee",
                  "COLUMN_NAME": "JobTitle",
                  "DATA_TYPE": "nvarchar",
                  "NumberOfColumnsPerTable": "18"
                },
                {
                  "TABLE_NAME": "vEmployee",
                  "COLUMN_NAME": "LastName",
                  "DATA_TYPE": "nvarchar",
                  "NumberOfColumnsPerTable": "18"
                },
                {
                  "TABLE_NAME": "vEmployee",
                  "COLUMN_NAME": "MiddleName",
                  "DATA_TYPE": "nvarchar",
                  "NumberOfColumnsPerTable": "18"
                },
                {
                  "TABLE_NAME": "vEmployee",
                  "COLUMN_NAME": "PhoneNumber",
                  "DATA_TYPE": "nvarchar",
                  "NumberOfColumnsPerTable": "18"
                },
                {
                  "TABLE_NAME": "vEmployee",
                  "COLUMN_NAME": "PhoneNumberType",
                  "DATA_TYPE": "nvarchar",
                  "NumberOfColumnsPerTable": "18"
                },
                {
                  "TABLE_NAME": "vEmployee",
                  "COLUMN_NAME": "PostalCode",
                  "DATA_TYPE": "nvarchar",
                  "NumberOfColumnsPerTable": "18"
                },
                {
                  "TABLE_NAME": "vEmployee",
                  "COLUMN_NAME": "StateProvinceName",
                  "DATA_TYPE": "nvarchar",
                  "NumberOfColumnsPerTable": "18"
                },
                {
                  "TABLE_NAME": "vEmployee",
                  "COLUMN_NAME": "Suffix",
                  "DATA_TYPE": "nvarchar",
                  "NumberOfColumnsPerTable": "18"
                },
                {
                  "TABLE_NAME": "vEmployee",
                  "COLUMN_NAME": "Title",
                  "DATA_TYPE": "nvarchar",
                  "NumberOfColumnsPerTable": "18"
                },
                {
                  "TABLE_NAME": "vEmployeeDepartment",
                  "COLUMN_NAME": "BusinessEntityID",
                  "DATA_TYPE": "int",
                  "NumberOfColumnsPerTable": "10"
                },
                {
                  "TABLE_NAME": "vEmployeeDepartment",
                  "COLUMN_NAME": "Department",
                  "DATA_TYPE": "nvarchar",
                  "NumberOfColumnsPerTable": "10"
                },
                {
                  "TABLE_NAME": "vEmployeeDepartment",
                  "COLUMN_NAME": "FirstName",
                  "DATA_TYPE": "nvarchar",
                  "NumberOfColumnsPerTable": "10"
                },
                {
                  "TABLE_NAME": "vEmployeeDepartment",
                  "COLUMN_NAME": "GroupName",
                  "DATA_TYPE": "nvarchar",
                  "NumberOfColumnsPerTable": "10"
                },
                {
                  "TABLE_NAME": "vEmployeeDepartment",
                  "COLUMN_NAME": "JobTitle",
                  "DATA_TYPE": "nvarchar",
                  "NumberOfColumnsPerTable": "10"
                },
                {
                  "TABLE_NAME": "vEmployeeDepartment",
                  "COLUMN_NAME": "LastName",
                  "DATA_TYPE": "nvarchar",
                  "NumberOfColumnsPerTable": "10"
                },
                {
                  "TABLE_NAME": "vEmployeeDepartment",
                  "COLUMN_NAME": "MiddleName",
                  "DATA_TYPE": "nvarchar",
                  "NumberOfColumnsPerTable": "10"
                },
                {
                  "TABLE_NAME": "vEmployeeDepartment",
                  "COLUMN_NAME": "StartDate",
                  "DATA_TYPE": "date",
                  "NumberOfColumnsPerTable": "10"
                },
                {
                  "TABLE_NAME": "vEmployeeDepartment",
                  "COLUMN_NAME": "Suffix",
                  "DATA_TYPE": "nvarchar",
                  "NumberOfColumnsPerTable": "10"
                },
                {
                  "TABLE_NAME": "vEmployeeDepartment",
                  "COLUMN_NAME": "Title",
                  "DATA_TYPE": "nvarchar",
                  "NumberOfColumnsPerTable": "10"
                },
                {
                  "TABLE_NAME": "vEmployeeDepartmentHistory",
                  "COLUMN_NAME": "BusinessEntityID",
                  "DATA_TYPE": "int",
                  "NumberOfColumnsPerTable": "11"
                },
                {
                  "TABLE_NAME": "vEmployeeDepartmentHistory",
                  "COLUMN_NAME": "Department",
                  "DATA_TYPE": "nvarchar",
                  "NumberOfColumnsPerTable": "11"
                },
                {
                  "TABLE_NAME": "vEmployeeDepartmentHistory",
                  "COLUMN_NAME": "EndDate",
                  "DATA_TYPE": "date",
                  "NumberOfColumnsPerTable": "11"
                },
                {
                  "TABLE_NAME": "vEmployeeDepartmentHistory",
                  "COLUMN_NAME": "FirstName",
                  "DATA_TYPE": "nvarchar",
                  "NumberOfColumnsPerTable": "11"
                },
                {
                  "TABLE_NAME": "vEmployeeDepartmentHistory",
                  "COLUMN_NAME": "GroupName",
                  "DATA_TYPE": "nvarchar",
                  "NumberOfColumnsPerTable": "11"
                },
                {
                  "TABLE_NAME": "vEmployeeDepartmentHistory",
                  "COLUMN_NAME": "LastName",
                  "DATA_TYPE": "nvarchar",
                  "NumberOfColumnsPerTable": "11"
                },
                {
                  "TABLE_NAME": "vEmployeeDepartmentHistory",
                  "COLUMN_NAME": "MiddleName",
                  "DATA_TYPE": "nvarchar",
                  "NumberOfColumnsPerTable": "11"
                },
                {
                  "TABLE_NAME": "vEmployeeDepartmentHistory",
                  "COLUMN_NAME": "Shift",
                  "DATA_TYPE": "nvarchar",
                  "NumberOfColumnsPerTable": "11"
                },
                {
                  "TABLE_NAME": "vEmployeeDepartmentHistory",
                  "COLUMN_NAME": "StartDate",
                  "DATA_TYPE": "date",
                  "NumberOfColumnsPerTable": "11"
                },
                {
                  "TABLE_NAME": "vEmployeeDepartmentHistory",
                  "COLUMN_NAME": "Suffix",
                  "DATA_TYPE": "nvarchar",
                  "NumberOfColumnsPerTable": "11"
                },
                {
                  "TABLE_NAME": "vEmployeeDepartmentHistory",
                  "COLUMN_NAME": "Title",
                  "DATA_TYPE": "nvarchar",
                  "NumberOfColumnsPerTable": "11"
                },
                {
                  "TABLE_NAME": "vJobCandidate",
                  "COLUMN_NAME": "Addr.Loc.City",
                  "DATA_TYPE": "nvarchar",
                  "NumberOfColumnsPerTable": "16"
                },
                {
                  "TABLE_NAME": "vJobCandidate",
                  "COLUMN_NAME": "Addr.Loc.CountryRegion",
                  "DATA_TYPE": "nvarchar",
                  "NumberOfColumnsPerTable": "16"
                },
                {
                  "TABLE_NAME": "vJobCandidate",
                  "COLUMN_NAME": "Addr.Loc.State",
                  "DATA_TYPE": "nvarchar",
                  "NumberOfColumnsPerTable": "16"
                },
                {
                  "TABLE_NAME": "vJobCandidate",
                  "COLUMN_NAME": "Addr.PostalCode",
                  "DATA_TYPE": "nvarchar",
                  "NumberOfColumnsPerTable": "16"
                },
                {
                  "TABLE_NAME": "vJobCandidate",
                  "COLUMN_NAME": "Addr.Type",
                  "DATA_TYPE": "nvarchar",
                  "NumberOfColumnsPerTable": "16"
                },
                {
                  "TABLE_NAME": "vJobCandidate",
                  "COLUMN_NAME": "BusinessEntityID",
                  "DATA_TYPE": "int",
                  "NumberOfColumnsPerTable": "16"
                },
                {
                  "TABLE_NAME": "vJobCandidate",
                  "COLUMN_NAME": "EMail",
                  "DATA_TYPE": "nvarchar",
                  "NumberOfColumnsPerTable": "16"
                },
                {
                  "TABLE_NAME": "vJobCandidate",
                  "COLUMN_NAME": "JobCandidateID",
                  "DATA_TYPE": "int",
                  "NumberOfColumnsPerTable": "16"
                },
                {
                  "TABLE_NAME": "vJobCandidate",
                  "COLUMN_NAME": "ModifiedDate",
                  "DATA_TYPE": "datetime",
                  "NumberOfColumnsPerTable": "16"
                },
                {
                  "TABLE_NAME": "vJobCandidate",
                  "COLUMN_NAME": "Name.First",
                  "DATA_TYPE": "nvarchar",
                  "NumberOfColumnsPerTable": "16"
                },
                {
                  "TABLE_NAME": "vJobCandidate",
                  "COLUMN_NAME": "Name.Last",
                  "DATA_TYPE": "nvarchar",
                  "NumberOfColumnsPerTable": "16"
                },
                {
                  "TABLE_NAME": "vJobCandidate",
                  "COLUMN_NAME": "Name.Middle",
                  "DATA_TYPE": "nvarchar",
                  "NumberOfColumnsPerTable": "16"
                },
                {
                  "TABLE_NAME": "vJobCandidate",
                  "COLUMN_NAME": "Name.Prefix",
                  "DATA_TYPE": "nvarchar",
                  "NumberOfColumnsPerTable": "16"
                },
                {
                  "TABLE_NAME": "vJobCandidate",
                  "COLUMN_NAME": "Name.Suffix",
                  "DATA_TYPE": "nvarchar",
                  "NumberOfColumnsPerTable": "16"
                },
                {
                  "TABLE_NAME": "vJobCandidate",
                  "COLUMN_NAME": "Skills",
                  "DATA_TYPE": "nvarchar",
                  "NumberOfColumnsPerTable": "16"
                },
                {
                  "TABLE_NAME": "vJobCandidate",
                  "COLUMN_NAME": "WebSite",
                  "DATA_TYPE": "nvarchar",
                  "NumberOfColumnsPerTable": "16"
                },
                {
                  "TABLE_NAME": "vJobCandidateEducation",
                  "COLUMN_NAME": "Edu.Degree",
                  "DATA_TYPE": "nvarchar",
                  "NumberOfColumnsPerTable": "13"
                },
                {
                  "TABLE_NAME": "vJobCandidateEducation",
                  "COLUMN_NAME": "Edu.EndDate",
                  "DATA_TYPE": "datetime",
                  "NumberOfColumnsPerTable": "13"
                },
                {
                  "TABLE_NAME": "vJobCandidateEducation",
                  "COLUMN_NAME": "Edu.GPA",
                  "DATA_TYPE": "nvarchar",
                  "NumberOfColumnsPerTable": "13"
                },
                {
                  "TABLE_NAME": "vJobCandidateEducation",
                  "COLUMN_NAME": "Edu.GPAScale",
                  "DATA_TYPE": "nvarchar",
                  "NumberOfColumnsPerTable": "13"
                },
                {
                  "TABLE_NAME": "vJobCandidateEducation",
                  "COLUMN_NAME": "Edu.Level",
                  "DATA_TYPE": "nvarchar",
                  "NumberOfColumnsPerTable": "13"
                },
                {
                  "TABLE_NAME": "vJobCandidateEducation",
                  "COLUMN_NAME": "Edu.Loc.City",
                  "DATA_TYPE": "nvarchar",
                  "NumberOfColumnsPerTable": "13"
                },
                {
                  "TABLE_NAME": "vJobCandidateEducation",
                  "COLUMN_NAME": "Edu.Loc.CountryRegion",
                  "DATA_TYPE": "nvarchar",
                  "NumberOfColumnsPerTable": "13"
                },
                {
                  "TABLE_NAME": "vJobCandidateEducation",
                  "COLUMN_NAME": "Edu.Loc.State",
                  "DATA_TYPE": "nvarchar",
                  "NumberOfColumnsPerTable": "13"
                },
                {
                  "TABLE_NAME": "vJobCandidateEducation",
                  "COLUMN_NAME": "Edu.Major",
                  "DATA_TYPE": "nvarchar",
                  "NumberOfColumnsPerTable": "13"
                },
                {
                  "TABLE_NAME": "vJobCandidateEducation",
                  "COLUMN_NAME": "Edu.Minor",
                  "DATA_TYPE": "nvarchar",
                  "NumberOfColumnsPerTable": "13"
                },
                {
                  "TABLE_NAME": "vJobCandidateEducation",
                  "COLUMN_NAME": "Edu.School",
                  "DATA_TYPE": "nvarchar",
                  "NumberOfColumnsPerTable": "13"
                },
                {
                  "TABLE_NAME": "vJobCandidateEducation",
                  "COLUMN_NAME": "Edu.StartDate",
                  "DATA_TYPE": "datetime",
                  "NumberOfColumnsPerTable": "13"
                },
                {
                  "TABLE_NAME": "vJobCandidateEducation",
                  "COLUMN_NAME": "JobCandidateID",
                  "DATA_TYPE": "int",
                  "NumberOfColumnsPerTable": "13"
                },
                {
                  "TABLE_NAME": "vJobCandidateEmployment",
                  "COLUMN_NAME": "Emp.EndDate",
                  "DATA_TYPE": "datetime",
                  "NumberOfColumnsPerTable": "11"
                },
                {
                  "TABLE_NAME": "vJobCandidateEmployment",
                  "COLUMN_NAME": "Emp.FunctionCategory",
                  "DATA_TYPE": "nvarchar",
                  "NumberOfColumnsPerTable": "11"
                },
                {
                  "TABLE_NAME": "vJobCandidateEmployment",
                  "COLUMN_NAME": "Emp.IndustryCategory",
                  "DATA_TYPE": "nvarchar",
                  "NumberOfColumnsPerTable": "11"
                },
                {
                  "TABLE_NAME": "vJobCandidateEmployment",
                  "COLUMN_NAME": "Emp.JobTitle",
                  "DATA_TYPE": "nvarchar",
                  "NumberOfColumnsPerTable": "11"
                },
                {
                  "TABLE_NAME": "vJobCandidateEmployment",
                  "COLUMN_NAME": "Emp.Loc.City",
                  "DATA_TYPE": "nvarchar",
                  "NumberOfColumnsPerTable": "11"
                },
                {
                  "TABLE_NAME": "vJobCandidateEmployment",
                  "COLUMN_NAME": "Emp.Loc.CountryRegion",
                  "DATA_TYPE": "nvarchar",
                  "NumberOfColumnsPerTable": "11"
                },
                {
                  "TABLE_NAME": "vJobCandidateEmployment",
                  "COLUMN_NAME": "Emp.Loc.State",
                  "DATA_TYPE": "nvarchar",
                  "NumberOfColumnsPerTable": "11"
                },
                {
                  "TABLE_NAME": "vJobCandidateEmployment",
                  "COLUMN_NAME": "Emp.OrgName",
                  "DATA_TYPE": "nvarchar",
                  "NumberOfColumnsPerTable": "11"
                },
                {
                  "TABLE_NAME": "vJobCandidateEmployment",
                  "COLUMN_NAME": "Emp.Responsibility",
                  "DATA_TYPE": "nvarchar",
                  "NumberOfColumnsPerTable": "11"
                },
                {
                  "TABLE_NAME": "vJobCandidateEmployment",
                  "COLUMN_NAME": "Emp.StartDate",
                  "DATA_TYPE": "datetime",
                  "NumberOfColumnsPerTable": "11"
                },
                {
                  "TABLE_NAME": "vJobCandidateEmployment",
                  "COLUMN_NAME": "JobCandidateID",
                  "DATA_TYPE": "int",
                  "NumberOfColumnsPerTable": "11"
                },
                {
                  "TABLE_NAME": "Address",
                  "COLUMN_NAME": "AddressID",
                  "DATA_TYPE": "int",
                  "NumberOfColumnsPerTable": "9"
                },
                {
                  "TABLE_NAME": "Address",
                  "COLUMN_NAME": "AddressLine1",
                  "DATA_TYPE": "nvarchar",
                  "NumberOfColumnsPerTable": "9"
                },
                {
                  "TABLE_NAME": "Address",
                  "COLUMN_NAME": "AddressLine2",
                  "DATA_TYPE": "nvarchar",
                  "NumberOfColumnsPerTable": "9"
                },
                {
                  "TABLE_NAME": "Address",
                  "COLUMN_NAME": "City",
                  "DATA_TYPE": "nvarchar",
                  "NumberOfColumnsPerTable": "9"
                },
                {
                  "TABLE_NAME": "Address",
                  "COLUMN_NAME": "ModifiedDate",
                  "DATA_TYPE": "datetime",
                  "NumberOfColumnsPerTable": "9"
                },
                {
                  "TABLE_NAME": "Address",
                  "COLUMN_NAME": "PostalCode",
                  "DATA_TYPE": "nvarchar",
                  "NumberOfColumnsPerTable": "9"
                },
                {
                  "TABLE_NAME": "Address",
                  "COLUMN_NAME": "rowguid",
                  "DATA_TYPE": "uniqueidentifier",
                  "NumberOfColumnsPerTable": "9"
                },
                {
                  "TABLE_NAME": "Address",
                  "COLUMN_NAME": "SpatialLocation",
                  "DATA_TYPE": "geography",
                  "NumberOfColumnsPerTable": "9"
                },
                {
                  "TABLE_NAME": "Address",
                  "COLUMN_NAME": "StateProvinceID",
                  "DATA_TYPE": "int",
                  "NumberOfColumnsPerTable": "9"
                },
                {
                  "TABLE_NAME": "AddressType",
                  "COLUMN_NAME": "AddressTypeID",
                  "DATA_TYPE": "int",
                  "NumberOfColumnsPerTable": "4"
                },
                {
                  "TABLE_NAME": "AddressType",
                  "COLUMN_NAME": "ModifiedDate",
                  "DATA_TYPE": "datetime",
                  "NumberOfColumnsPerTable": "4"
                },
                {
                  "TABLE_NAME": "AddressType",
                  "COLUMN_NAME": "Name",
                  "DATA_TYPE": "nvarchar",
                  "NumberOfColumnsPerTable": "4"
                },
                {
                  "TABLE_NAME": "AddressType",
                  "COLUMN_NAME": "rowguid",
                  "DATA_TYPE": "uniqueidentifier",
                  "NumberOfColumnsPerTable": "4"
                },
                {
                  "TABLE_NAME": "BusinessEntity",
                  "COLUMN_NAME": "BusinessEntityID",
                  "DATA_TYPE": "int",
                  "NumberOfColumnsPerTable": "3"
                },
                {
                  "TABLE_NAME": "BusinessEntity",
                  "COLUMN_NAME": "ModifiedDate",
                  "DATA_TYPE": "datetime",
                  "NumberOfColumnsPerTable": "3"
                },
                {
                  "TABLE_NAME": "BusinessEntity",
                  "COLUMN_NAME": "rowguid",
                  "DATA_TYPE": "uniqueidentifier",
                  "NumberOfColumnsPerTable": "3"
                },
                {
                  "TABLE_NAME": "BusinessEntityAddress",
                  "COLUMN_NAME": "AddressID",
                  "DATA_TYPE": "int",
                  "NumberOfColumnsPerTable": "5"
                },
                {
                  "TABLE_NAME": "BusinessEntityAddress",
                  "COLUMN_NAME": "AddressTypeID",
                  "DATA_TYPE": "int",
                  "NumberOfColumnsPerTable": "5"
                },
                {
                  "TABLE_NAME": "BusinessEntityAddress",
                  "COLUMN_NAME": "BusinessEntityID",
                  "DATA_TYPE": "int",
                  "NumberOfColumnsPerTable": "5"
                },
                {
                  "TABLE_NAME": "BusinessEntityAddress",
                  "COLUMN_NAME": "ModifiedDate",
                  "DATA_TYPE": "datetime",
                  "NumberOfColumnsPerTable": "5"
                },
                {
                  "TABLE_NAME": "BusinessEntityAddress",
                  "COLUMN_NAME": "rowguid",
                  "DATA_TYPE": "uniqueidentifier",
                  "NumberOfColumnsPerTable": "5"
                },
                {
                  "TABLE_NAME": "BusinessEntityContact",
                  "COLUMN_NAME": "BusinessEntityID",
                  "DATA_TYPE": "int",
                  "NumberOfColumnsPerTable": "5"
                },
                {
                  "TABLE_NAME": "BusinessEntityContact",
                  "COLUMN_NAME": "ContactTypeID",
                  "DATA_TYPE": "int",
                  "NumberOfColumnsPerTable": "5"
                },
                {
                  "TABLE_NAME": "BusinessEntityContact",
                  "COLUMN_NAME": "ModifiedDate",
                  "DATA_TYPE": "datetime",
                  "NumberOfColumnsPerTable": "5"
                },
                {
                  "TABLE_NAME": "BusinessEntityContact",
                  "COLUMN_NAME": "PersonID",
                  "DATA_TYPE": "int",
                  "NumberOfColumnsPerTable": "5"
                },
                {
                  "TABLE_NAME": "BusinessEntityContact",
                  "COLUMN_NAME": "rowguid",
                  "DATA_TYPE": "uniqueidentifier",
                  "NumberOfColumnsPerTable": "5"
                },
                {
                  "TABLE_NAME": "ContactType",
                  "COLUMN_NAME": "ContactTypeID",
                  "DATA_TYPE": "int",
                  "NumberOfColumnsPerTable": "3"
                },
                {
                  "TABLE_NAME": "ContactType",
                  "COLUMN_NAME": "ModifiedDate",
                  "DATA_TYPE": "datetime",
                  "NumberOfColumnsPerTable": "3"
                },
                {
                  "TABLE_NAME": "ContactType",
                  "COLUMN_NAME": "Name",
                  "DATA_TYPE": "nvarchar",
                  "NumberOfColumnsPerTable": "3"
                },
                {
                  "TABLE_NAME": "CountryRegion",
                  "COLUMN_NAME": "CountryRegionCode",
                  "DATA_TYPE": "nvarchar",
                  "NumberOfColumnsPerTable": "3"
                },
                {
                  "TABLE_NAME": "CountryRegion",
                  "COLUMN_NAME": "ModifiedDate",
                  "DATA_TYPE": "datetime",
                  "NumberOfColumnsPerTable": "3"
                },
                {
                  "TABLE_NAME": "CountryRegion",
                  "COLUMN_NAME": "Name",
                  "DATA_TYPE": "nvarchar",
                  "NumberOfColumnsPerTable": "3"
                },
                {
                  "TABLE_NAME": "EmailAddress",
                  "COLUMN_NAME": "BusinessEntityID",
                  "DATA_TYPE": "int",
                  "NumberOfColumnsPerTable": "5"
                },
                {
                  "TABLE_NAME": "EmailAddress",
                  "COLUMN_NAME": "EmailAddress",
                  "DATA_TYPE": "nvarchar",
                  "NumberOfColumnsPerTable": "5"
                },
                {
                  "TABLE_NAME": "EmailAddress",
                  "COLUMN_NAME": "EmailAddressID",
                  "DATA_TYPE": "int",
                  "NumberOfColumnsPerTable": "5"
                },
                {
                  "TABLE_NAME": "EmailAddress",
                  "COLUMN_NAME": "ModifiedDate",
                  "DATA_TYPE": "datetime",
                  "NumberOfColumnsPerTable": "5"
                },
                {
                  "TABLE_NAME": "EmailAddress",
                  "COLUMN_NAME": "rowguid",
                  "DATA_TYPE": "uniqueidentifier",
                  "NumberOfColumnsPerTable": "5"
                },
                {
                  "TABLE_NAME": "Password",
                  "COLUMN_NAME": "BusinessEntityID",
                  "DATA_TYPE": "int",
                  "NumberOfColumnsPerTable": "5"
                },
                {
                  "TABLE_NAME": "Password",
                  "COLUMN_NAME": "ModifiedDate",
                  "DATA_TYPE": "datetime",
                  "NumberOfColumnsPerTable": "5"
                },
                {
                  "TABLE_NAME": "Password",
                  "COLUMN_NAME": "PasswordHash",
                  "DATA_TYPE": "varchar",
                  "NumberOfColumnsPerTable": "5"
                },
                {
                  "TABLE_NAME": "Password",
                  "COLUMN_NAME": "PasswordSalt",
                  "DATA_TYPE": "varchar",
                  "NumberOfColumnsPerTable": "5"
                },
                {
                  "TABLE_NAME": "Password",
                  "COLUMN_NAME": "rowguid",
                  "DATA_TYPE": "uniqueidentifier",
                  "NumberOfColumnsPerTable": "5"
                },
                {
                  "TABLE_NAME": "Person",
                  "COLUMN_NAME": "AdditionalContactInfo",
                  "DATA_TYPE": "xml",
                  "NumberOfColumnsPerTable": "13"
                },
                {
                  "TABLE_NAME": "Person",
                  "COLUMN_NAME": "BusinessEntityID",
                  "DATA_TYPE": "int",
                  "NumberOfColumnsPerTable": "13"
                },
                {
                  "TABLE_NAME": "Person",
                  "COLUMN_NAME": "Demographics",
                  "DATA_TYPE": "xml",
                  "NumberOfColumnsPerTable": "13"
                },
                {
                  "TABLE_NAME": "Person",
                  "COLUMN_NAME": "EmailPromotion",
                  "DATA_TYPE": "int",
                  "NumberOfColumnsPerTable": "13"
                },
                {
                  "TABLE_NAME": "Person",
                  "COLUMN_NAME": "FirstName",
                  "DATA_TYPE": "nvarchar",
                  "NumberOfColumnsPerTable": "13"
                },
                {
                  "TABLE_NAME": "Person",
                  "COLUMN_NAME": "LastName",
                  "DATA_TYPE": "nvarchar",
                  "NumberOfColumnsPerTable": "13"
                },
                {
                  "TABLE_NAME": "Person",
                  "COLUMN_NAME": "MiddleName",
                  "DATA_TYPE": "nvarchar",
                  "NumberOfColumnsPerTable": "13"
                },
                {
                  "TABLE_NAME": "Person",
                  "COLUMN_NAME": "ModifiedDate",
                  "DATA_TYPE": "datetime",
                  "NumberOfColumnsPerTable": "13"
                },
                {
                  "TABLE_NAME": "Person",
                  "COLUMN_NAME": "NameStyle",
                  "DATA_TYPE": "bit",
                  "NumberOfColumnsPerTable": "13"
                },
                {
                  "TABLE_NAME": "Person",
                  "COLUMN_NAME": "PersonType",
                  "DATA_TYPE": "nchar",
                  "NumberOfColumnsPerTable": "13"
                },
                {
                  "TABLE_NAME": "Person",
                  "COLUMN_NAME": "rowguid",
                  "DATA_TYPE": "uniqueidentifier",
                  "NumberOfColumnsPerTable": "13"
                },
                {
                  "TABLE_NAME": "Person",
                  "COLUMN_NAME": "Suffix",
                  "DATA_TYPE": "nvarchar",
                  "NumberOfColumnsPerTable": "13"
                },
                {
                  "TABLE_NAME": "Person",
                  "COLUMN_NAME": "Title",
                  "DATA_TYPE": "nvarchar",
                  "NumberOfColumnsPerTable": "13"
                },
                {
                  "TABLE_NAME": "PersonPhone",
                  "COLUMN_NAME": "BusinessEntityID",
                  "DATA_TYPE": "int",
                  "NumberOfColumnsPerTable": "4"
                },
                {
                  "TABLE_NAME": "PersonPhone",
                  "COLUMN_NAME": "ModifiedDate",
                  "DATA_TYPE": "datetime",
                  "NumberOfColumnsPerTable": "4"
                },
                {
                  "TABLE_NAME": "PersonPhone",
                  "COLUMN_NAME": "PhoneNumber",
                  "DATA_TYPE": "nvarchar",
                  "NumberOfColumnsPerTable": "4"
                },
                {
                  "TABLE_NAME": "PersonPhone",
                  "COLUMN_NAME": "PhoneNumberTypeID",
                  "DATA_TYPE": "int",
                  "NumberOfColumnsPerTable": "4"
                },
                {
                  "TABLE_NAME": "PhoneNumberType",
                  "COLUMN_NAME": "ModifiedDate",
                  "DATA_TYPE": "datetime",
                  "NumberOfColumnsPerTable": "3"
                },
                {
                  "TABLE_NAME": "PhoneNumberType",
                  "COLUMN_NAME": "Name",
                  "DATA_TYPE": "nvarchar",
                  "NumberOfColumnsPerTable": "3"
                },
                {
                  "TABLE_NAME": "PhoneNumberType",
                  "COLUMN_NAME": "PhoneNumberTypeID",
                  "DATA_TYPE": "int",
                  "NumberOfColumnsPerTable": "3"
                },
                {
                  "TABLE_NAME": "StateProvince",
                  "COLUMN_NAME": "CountryRegionCode",
                  "DATA_TYPE": "nvarchar",
                  "NumberOfColumnsPerTable": "8"
                },
                {
                  "TABLE_NAME": "StateProvince",
                  "COLUMN_NAME": "IsOnlyStateProvinceFlag",
                  "DATA_TYPE": "bit",
                  "NumberOfColumnsPerTable": "8"
                },
                {
                  "TABLE_NAME": "StateProvince",
                  "COLUMN_NAME": "ModifiedDate",
                  "DATA_TYPE": "datetime",
                  "NumberOfColumnsPerTable": "8"
                },
                {
                  "TABLE_NAME": "StateProvince",
                  "COLUMN_NAME": "Name",
                  "DATA_TYPE": "nvarchar",
                  "NumberOfColumnsPerTable": "8"
                },
                {
                  "TABLE_NAME": "StateProvince",
                  "COLUMN_NAME": "rowguid",
                  "DATA_TYPE": "uniqueidentifier",
                  "NumberOfColumnsPerTable": "8"
                },
                {
                  "TABLE_NAME": "StateProvince",
                  "COLUMN_NAME": "StateProvinceCode",
                  "DATA_TYPE": "nchar",
                  "NumberOfColumnsPerTable": "8"
                },
                {
                  "TABLE_NAME": "StateProvince",
                  "COLUMN_NAME": "StateProvinceID",
                  "DATA_TYPE": "int",
                  "NumberOfColumnsPerTable": "8"
                },
                {
                  "TABLE_NAME": "StateProvince",
                  "COLUMN_NAME": "TerritoryID",
                  "DATA_TYPE": "int",
                  "NumberOfColumnsPerTable": "8"
                },
                {
                  "TABLE_NAME": "vAdditionalContactInfo",
                  "COLUMN_NAME": "BusinessEntityID",
                  "DATA_TYPE": "int",
                  "NumberOfColumnsPerTable": "17"
                },
                {
                  "TABLE_NAME": "vAdditionalContactInfo",
                  "COLUMN_NAME": "City",
                  "DATA_TYPE": "nvarchar",
                  "NumberOfColumnsPerTable": "17"
                },
                {
                  "TABLE_NAME": "vAdditionalContactInfo",
                  "COLUMN_NAME": "CountryRegion",
                  "DATA_TYPE": "nvarchar",
                  "NumberOfColumnsPerTable": "17"
                },
                {
                  "TABLE_NAME": "vAdditionalContactInfo",
                  "COLUMN_NAME": "EMailAddress",
                  "DATA_TYPE": "nvarchar",
                  "NumberOfColumnsPerTable": "17"
                },
                {
                  "TABLE_NAME": "vAdditionalContactInfo",
                  "COLUMN_NAME": "EMailSpecialInstructions",
                  "DATA_TYPE": "nvarchar",
                  "NumberOfColumnsPerTable": "17"
                },
                {
                  "TABLE_NAME": "vAdditionalContactInfo",
                  "COLUMN_NAME": "EMailTelephoneNumber",
                  "DATA_TYPE": "nvarchar",
                  "NumberOfColumnsPerTable": "17"
                },
                {
                  "TABLE_NAME": "vAdditionalContactInfo",
                  "COLUMN_NAME": "FirstName",
                  "DATA_TYPE": "nvarchar",
                  "NumberOfColumnsPerTable": "17"
                },
                {
                  "TABLE_NAME": "vAdditionalContactInfo",
                  "COLUMN_NAME": "HomeAddressSpecialInstructions",
                  "DATA_TYPE": "nvarchar",
                  "NumberOfColumnsPerTable": "17"
                },
                {
                  "TABLE_NAME": "vAdditionalContactInfo",
                  "COLUMN_NAME": "LastName",
                  "DATA_TYPE": "nvarchar",
                  "NumberOfColumnsPerTable": "17"
                },
                {
                  "TABLE_NAME": "vAdditionalContactInfo",
                  "COLUMN_NAME": "MiddleName",
                  "DATA_TYPE": "nvarchar",
                  "NumberOfColumnsPerTable": "17"
                },
                {
                  "TABLE_NAME": "vAdditionalContactInfo",
                  "COLUMN_NAME": "ModifiedDate",
                  "DATA_TYPE": "datetime",
                  "NumberOfColumnsPerTable": "17"
                },
                {
                  "TABLE_NAME": "vAdditionalContactInfo",
                  "COLUMN_NAME": "PostalCode",
                  "DATA_TYPE": "nvarchar",
                  "NumberOfColumnsPerTable": "17"
                },
                {
                  "TABLE_NAME": "vAdditionalContactInfo",
                  "COLUMN_NAME": "rowguid",
                  "DATA_TYPE": "uniqueidentifier",
                  "NumberOfColumnsPerTable": "17"
                },
                {
                  "TABLE_NAME": "vAdditionalContactInfo",
                  "COLUMN_NAME": "StateProvince",
                  "DATA_TYPE": "nvarchar",
                  "NumberOfColumnsPerTable": "17"
                },
                {
                  "TABLE_NAME": "vAdditionalContactInfo",
                  "COLUMN_NAME": "Street",
                  "DATA_TYPE": "nvarchar",
                  "NumberOfColumnsPerTable": "17"
                },
                {
                  "TABLE_NAME": "vAdditionalContactInfo",
                  "COLUMN_NAME": "TelephoneNumber",
                  "DATA_TYPE": "nvarchar",
                  "NumberOfColumnsPerTable": "17"
                },
                {
                  "TABLE_NAME": "vAdditionalContactInfo",
                  "COLUMN_NAME": "TelephoneSpecialInstructions",
                  "DATA_TYPE": "nvarchar",
                  "NumberOfColumnsPerTable": "17"
                },
                {
                  "TABLE_NAME": "vStateProvinceCountryRegion",
                  "COLUMN_NAME": "CountryRegionCode",
                  "DATA_TYPE": "nvarchar",
                  "NumberOfColumnsPerTable": "7"
                },
                {
                  "TABLE_NAME": "vStateProvinceCountryRegion",
                  "COLUMN_NAME": "CountryRegionName",
                  "DATA_TYPE": "nvarchar",
                  "NumberOfColumnsPerTable": "7"
                },
                {
                  "TABLE_NAME": "vStateProvinceCountryRegion",
                  "COLUMN_NAME": "IsOnlyStateProvinceFlag",
                  "DATA_TYPE": "bit",
                  "NumberOfColumnsPerTable": "7"
                },
                {
                  "TABLE_NAME": "vStateProvinceCountryRegion",
                  "COLUMN_NAME": "StateProvinceCode",
                  "DATA_TYPE": "nchar",
                  "NumberOfColumnsPerTable": "7"
                },
                {
                  "TABLE_NAME": "vStateProvinceCountryRegion",
                  "COLUMN_NAME": "StateProvinceID",
                  "DATA_TYPE": "int",
                  "NumberOfColumnsPerTable": "7"
                },
                {
                  "TABLE_NAME": "vStateProvinceCountryRegion",
                  "COLUMN_NAME": "StateProvinceName",
                  "DATA_TYPE": "nvarchar",
                  "NumberOfColumnsPerTable": "7"
                },
                {
                  "TABLE_NAME": "vStateProvinceCountryRegion",
                  "COLUMN_NAME": "TerritoryID",
                  "DATA_TYPE": "int",
                  "NumberOfColumnsPerTable": "7"
                },
                {
                  "TABLE_NAME": "BillOfMaterials",
                  "COLUMN_NAME": "BillOfMaterialsID",
                  "DATA_TYPE": "int",
                  "NumberOfColumnsPerTable": "9"
                },
                {
                  "TABLE_NAME": "BillOfMaterials",
                  "COLUMN_NAME": "BOMLevel",
                  "DATA_TYPE": "smallint",
                  "NumberOfColumnsPerTable": "9"
                },
                {
                  "TABLE_NAME": "BillOfMaterials",
                  "COLUMN_NAME": "ComponentID",
                  "DATA_TYPE": "int",
                  "NumberOfColumnsPerTable": "9"
                },
                {
                  "TABLE_NAME": "BillOfMaterials",
                  "COLUMN_NAME": "EndDate",
                  "DATA_TYPE": "datetime",
                  "NumberOfColumnsPerTable": "9"
                },
                {
                  "TABLE_NAME": "BillOfMaterials",
                  "COLUMN_NAME": "ModifiedDate",
                  "DATA_TYPE": "datetime",
                  "NumberOfColumnsPerTable": "9"
                },
                {
                  "TABLE_NAME": "BillOfMaterials",
                  "COLUMN_NAME": "PerAssemblyQty",
                  "DATA_TYPE": "decimal",
                  "NumberOfColumnsPerTable": "9"
                },
                {
                  "TABLE_NAME": "BillOfMaterials",
                  "COLUMN_NAME": "ProductAssemblyID",
                  "DATA_TYPE": "int",
                  "NumberOfColumnsPerTable": "9"
                },
                {
                  "TABLE_NAME": "BillOfMaterials",
                  "COLUMN_NAME": "StartDate",
                  "DATA_TYPE": "datetime",
                  "NumberOfColumnsPerTable": "9"
                },
                {
                  "TABLE_NAME": "BillOfMaterials",
                  "COLUMN_NAME": "UnitMeasureCode",
                  "DATA_TYPE": "nchar",
                  "NumberOfColumnsPerTable": "9"
                },
                {
                  "TABLE_NAME": "Culture",
                  "COLUMN_NAME": "CultureID",
                  "DATA_TYPE": "nchar",
                  "NumberOfColumnsPerTable": "3"
                },
                {
                  "TABLE_NAME": "Culture",
                  "COLUMN_NAME": "ModifiedDate",
                  "DATA_TYPE": "datetime",
                  "NumberOfColumnsPerTable": "3"
                },
                {
                  "TABLE_NAME": "Culture",
                  "COLUMN_NAME": "Name",
                  "DATA_TYPE": "nvarchar",
                  "NumberOfColumnsPerTable": "3"
                },
                {
                  "TABLE_NAME": "Document",
                  "COLUMN_NAME": "ChangeNumber",
                  "DATA_TYPE": "int",
                  "NumberOfColumnsPerTable": "14"
                },
                {
                  "TABLE_NAME": "Document",
                  "COLUMN_NAME": "Document",
                  "DATA_TYPE": "varbinary",
                  "NumberOfColumnsPerTable": "14"
                },
                {
                  "TABLE_NAME": "Document",
                  "COLUMN_NAME": "DocumentLevel",
                  "DATA_TYPE": "smallint",
                  "NumberOfColumnsPerTable": "14"
                },
                {
                  "TABLE_NAME": "Document",
                  "COLUMN_NAME": "DocumentNode",
                  "DATA_TYPE": "hierarchyid",
                  "NumberOfColumnsPerTable": "14"
                },
                {
                  "TABLE_NAME": "Document",
                  "COLUMN_NAME": "DocumentSummary",
                  "DATA_TYPE": "nvarchar",
                  "NumberOfColumnsPerTable": "14"
                },
                {
                  "TABLE_NAME": "Document",
                  "COLUMN_NAME": "FileExtension",
                  "DATA_TYPE": "nvarchar",
                  "NumberOfColumnsPerTable": "14"
                },
                {
                  "TABLE_NAME": "Document",
                  "COLUMN_NAME": "FileName",
                  "DATA_TYPE": "nvarchar",
                  "NumberOfColumnsPerTable": "14"
                },
                {
                  "TABLE_NAME": "Document",
                  "COLUMN_NAME": "FolderFlag",
                  "DATA_TYPE": "bit",
                  "NumberOfColumnsPerTable": "14"
                },
                {
                  "TABLE_NAME": "Document",
                  "COLUMN_NAME": "ModifiedDate",
                  "DATA_TYPE": "datetime",
                  "NumberOfColumnsPerTable": "14"
                },
                {
                  "TABLE_NAME": "Document",
                  "COLUMN_NAME": "Owner",
                  "DATA_TYPE": "int",
                  "NumberOfColumnsPerTable": "14"
                },
                {
                  "TABLE_NAME": "Document",
                  "COLUMN_NAME": "Revision",
                  "DATA_TYPE": "nchar",
                  "NumberOfColumnsPerTable": "14"
                },
                {
                  "TABLE_NAME": "Document",
                  "COLUMN_NAME": "rowguid",
                  "DATA_TYPE": "uniqueidentifier",
                  "NumberOfColumnsPerTable": "14"
                },
                {
                  "TABLE_NAME": "Document",
                  "COLUMN_NAME": "Status",
                  "DATA_TYPE": "tinyint",
                  "NumberOfColumnsPerTable": "14"
                },
                {
                  "TABLE_NAME": "Document",
                  "COLUMN_NAME": "Title",
                  "DATA_TYPE": "nvarchar",
                  "NumberOfColumnsPerTable": "14"
                },
                {
                  "TABLE_NAME": "Illustration",
                  "COLUMN_NAME": "Diagram",
                  "DATA_TYPE": "xml",
                  "NumberOfColumnsPerTable": "3"
                },
                {
                  "TABLE_NAME": "Illustration",
                  "COLUMN_NAME": "IllustrationID",
                  "DATA_TYPE": "int",
                  "NumberOfColumnsPerTable": "3"
                },
                {
                  "TABLE_NAME": "Illustration",
                  "COLUMN_NAME": "ModifiedDate",
                  "DATA_TYPE": "datetime",
                  "NumberOfColumnsPerTable": "3"
                },
                {
                  "TABLE_NAME": "Location",
                  "COLUMN_NAME": "Availability",
                  "DATA_TYPE": "decimal",
                  "NumberOfColumnsPerTable": "5"
                },
                {
                  "TABLE_NAME": "Location",
                  "COLUMN_NAME": "CostRate",
                  "DATA_TYPE": "smallmoney",
                  "NumberOfColumnsPerTable": "5"
                },
                {
                  "TABLE_NAME": "Location",
                  "COLUMN_NAME": "LocationID",
                  "DATA_TYPE": "smallint",
                  "NumberOfColumnsPerTable": "5"
                },
                {
                  "TABLE_NAME": "Location",
                  "COLUMN_NAME": "ModifiedDate",
                  "DATA_TYPE": "datetime",
                  "NumberOfColumnsPerTable": "5"
                },
                {
                  "TABLE_NAME": "Location",
                  "COLUMN_NAME": "Name",
                  "DATA_TYPE": "nvarchar",
                  "NumberOfColumnsPerTable": "5"
                },
                {
                  "TABLE_NAME": "Product",
                  "COLUMN_NAME": "Class",
                  "DATA_TYPE": "nchar",
                  "NumberOfColumnsPerTable": "25"
                },
                {
                  "TABLE_NAME": "Product",
                  "COLUMN_NAME": "Color",
                  "DATA_TYPE": "nvarchar",
                  "NumberOfColumnsPerTable": "25"
                },
                {
                  "TABLE_NAME": "Product",
                  "COLUMN_NAME": "DaysToManufacture",
                  "DATA_TYPE": "int",
                  "NumberOfColumnsPerTable": "25"
                },
                {
                  "TABLE_NAME": "Product",
                  "COLUMN_NAME": "DiscontinuedDate",
                  "DATA_TYPE": "datetime",
                  "NumberOfColumnsPerTable": "25"
                },
                {
                  "TABLE_NAME": "Product",
                  "COLUMN_NAME": "FinishedGoodsFlag",
                  "DATA_TYPE": "bit",
                  "NumberOfColumnsPerTable": "25"
                },
                {
                  "TABLE_NAME": "Product",
                  "COLUMN_NAME": "ListPrice",
                  "DATA_TYPE": "money",
                  "NumberOfColumnsPerTable": "25"
                },
                {
                  "TABLE_NAME": "Product",
                  "COLUMN_NAME": "MakeFlag",
                  "DATA_TYPE": "bit",
                  "NumberOfColumnsPerTable": "25"
                },
                {
                  "TABLE_NAME": "Product",
                  "COLUMN_NAME": "ModifiedDate",
                  "DATA_TYPE": "datetime",
                  "NumberOfColumnsPerTable": "25"
                },
                {
                  "TABLE_NAME": "Product",
                  "COLUMN_NAME": "Name",
                  "DATA_TYPE": "nvarchar",
                  "NumberOfColumnsPerTable": "25"
                },
                {
                  "TABLE_NAME": "Product",
                  "COLUMN_NAME": "ProductID",
                  "DATA_TYPE": "int",
                  "NumberOfColumnsPerTable": "25"
                },
                {
                  "TABLE_NAME": "Product",
                  "COLUMN_NAME": "ProductLine",
                  "DATA_TYPE": "nchar",
                  "NumberOfColumnsPerTable": "25"
                },
                {
                  "TABLE_NAME": "Product",
                  "COLUMN_NAME": "ProductModelID",
                  "DATA_TYPE": "int",
                  "NumberOfColumnsPerTable": "25"
                },
                {
                  "TABLE_NAME": "Product",
                  "COLUMN_NAME": "ProductNumber",
                  "DATA_TYPE": "nvarchar",
                  "NumberOfColumnsPerTable": "25"
                },
                {
                  "TABLE_NAME": "Product",
                  "COLUMN_NAME": "ProductSubcategoryID",
                  "DATA_TYPE": "int",
                  "NumberOfColumnsPerTable": "25"
                },
                {
                  "TABLE_NAME": "Product",
                  "COLUMN_NAME": "ReorderPoint",
                  "DATA_TYPE": "smallint",
                  "NumberOfColumnsPerTable": "25"
                },
                {
                  "TABLE_NAME": "Product",
                  "COLUMN_NAME": "rowguid",
                  "DATA_TYPE": "uniqueidentifier",
                  "NumberOfColumnsPerTable": "25"
                },
                {
                  "TABLE_NAME": "Product",
                  "COLUMN_NAME": "SafetyStockLevel",
                  "DATA_TYPE": "smallint",
                  "NumberOfColumnsPerTable": "25"
                },
                {
                  "TABLE_NAME": "Product",
                  "COLUMN_NAME": "SellEndDate",
                  "DATA_TYPE": "datetime",
                  "NumberOfColumnsPerTable": "25"
                },
                {
                  "TABLE_NAME": "Product",
                  "COLUMN_NAME": "SellStartDate",
                  "DATA_TYPE": "datetime",
                  "NumberOfColumnsPerTable": "25"
                },
                {
                  "TABLE_NAME": "Product",
                  "COLUMN_NAME": "Size",
                  "DATA_TYPE": "nvarchar",
                  "NumberOfColumnsPerTable": "25"
                },
                {
                  "TABLE_NAME": "Product",
                  "COLUMN_NAME": "SizeUnitMeasureCode",
                  "DATA_TYPE": "nchar",
                  "NumberOfColumnsPerTable": "25"
                },
                {
                  "TABLE_NAME": "Product",
                  "COLUMN_NAME": "StandardCost",
                  "DATA_TYPE": "money",
                  "NumberOfColumnsPerTable": "25"
                },
                {
                  "TABLE_NAME": "Product",
                  "COLUMN_NAME": "Style",
                  "DATA_TYPE": "nchar",
                  "NumberOfColumnsPerTable": "25"
                },
                {
                  "TABLE_NAME": "Product",
                  "COLUMN_NAME": "Weight",
                  "DATA_TYPE": "decimal",
                  "NumberOfColumnsPerTable": "25"
                },
                {
                  "TABLE_NAME": "Product",
                  "COLUMN_NAME": "WeightUnitMeasureCode",
                  "DATA_TYPE": "nchar",
                  "NumberOfColumnsPerTable": "25"
                },
                {
                  "TABLE_NAME": "ProductCategory",
                  "COLUMN_NAME": "ModifiedDate",
                  "DATA_TYPE": "datetime",
                  "NumberOfColumnsPerTable": "4"
                },
                {
                  "TABLE_NAME": "ProductCategory",
                  "COLUMN_NAME": "Name",
                  "DATA_TYPE": "nvarchar",
                  "NumberOfColumnsPerTable": "4"
                },
                {
                  "TABLE_NAME": "ProductCategory",
                  "COLUMN_NAME": "ProductCategoryID",
                  "DATA_TYPE": "int",
                  "NumberOfColumnsPerTable": "4"
                },
                {
                  "TABLE_NAME": "ProductCategory",
                  "COLUMN_NAME": "rowguid",
                  "DATA_TYPE": "uniqueidentifier",
                  "NumberOfColumnsPerTable": "4"
                },
                {
                  "TABLE_NAME": "ProductCostHistory",
                  "COLUMN_NAME": "EndDate",
                  "DATA_TYPE": "datetime",
                  "NumberOfColumnsPerTable": "5"
                },
                {
                  "TABLE_NAME": "ProductCostHistory",
                  "COLUMN_NAME": "ModifiedDate",
                  "DATA_TYPE": "datetime",
                  "NumberOfColumnsPerTable": "5"
                },
                {
                  "TABLE_NAME": "ProductCostHistory",
                  "COLUMN_NAME": "ProductID",
                  "DATA_TYPE": "int",
                  "NumberOfColumnsPerTable": "5"
                },
                {
                  "TABLE_NAME": "ProductCostHistory",
                  "COLUMN_NAME": "StandardCost",
                  "DATA_TYPE": "money",
                  "NumberOfColumnsPerTable": "5"
                },
                {
                  "TABLE_NAME": "ProductCostHistory",
                  "COLUMN_NAME": "StartDate",
                  "DATA_TYPE": "datetime",
                  "NumberOfColumnsPerTable": "5"
                },
                {
                  "TABLE_NAME": "ProductDescription",
                  "COLUMN_NAME": "Description",
                  "DATA_TYPE": "nvarchar",
                  "NumberOfColumnsPerTable": "4"
                },
                {
                  "TABLE_NAME": "ProductDescription",
                  "COLUMN_NAME": "ModifiedDate",
                  "DATA_TYPE": "datetime",
                  "NumberOfColumnsPerTable": "4"
                },
                {
                  "TABLE_NAME": "ProductDescription",
                  "COLUMN_NAME": "ProductDescriptionID",
                  "DATA_TYPE": "int",
                  "NumberOfColumnsPerTable": "4"
                },
                {
                  "TABLE_NAME": "ProductDescription",
                  "COLUMN_NAME": "rowguid",
                  "DATA_TYPE": "uniqueidentifier",
                  "NumberOfColumnsPerTable": "4"
                },
                {
                  "TABLE_NAME": "ProductDocument",
                  "COLUMN_NAME": "DocumentNode",
                  "DATA_TYPE": "hierarchyid",
                  "NumberOfColumnsPerTable": "3"
                },
                {
                  "TABLE_NAME": "ProductDocument",
                  "COLUMN_NAME": "ModifiedDate",
                  "DATA_TYPE": "datetime",
                  "NumberOfColumnsPerTable": "3"
                },
                {
                  "TABLE_NAME": "ProductDocument",
                  "COLUMN_NAME": "ProductID",
                  "DATA_TYPE": "int",
                  "NumberOfColumnsPerTable": "3"
                },
                {
                  "TABLE_NAME": "ProductInventory",
                  "COLUMN_NAME": "Bin",
                  "DATA_TYPE": "tinyint",
                  "NumberOfColumnsPerTable": "7"
                },
                {
                  "TABLE_NAME": "ProductInventory",
                  "COLUMN_NAME": "LocationID",
                  "DATA_TYPE": "smallint",
                  "NumberOfColumnsPerTable": "7"
                },
                {
                  "TABLE_NAME": "ProductInventory",
                  "COLUMN_NAME": "ModifiedDate",
                  "DATA_TYPE": "datetime",
                  "NumberOfColumnsPerTable": "7"
                },
                {
                  "TABLE_NAME": "ProductInventory",
                  "COLUMN_NAME": "ProductID",
                  "DATA_TYPE": "int",
                  "NumberOfColumnsPerTable": "7"
                },
                {
                  "TABLE_NAME": "ProductInventory",
                  "COLUMN_NAME": "Quantity",
                  "DATA_TYPE": "smallint",
                  "NumberOfColumnsPerTable": "7"
                },
                {
                  "TABLE_NAME": "ProductInventory",
                  "COLUMN_NAME": "rowguid",
                  "DATA_TYPE": "uniqueidentifier",
                  "NumberOfColumnsPerTable": "7"
                },
                {
                  "TABLE_NAME": "ProductInventory",
                  "COLUMN_NAME": "Shelf",
                  "DATA_TYPE": "nvarchar",
                  "NumberOfColumnsPerTable": "7"
                },
                {
                  "TABLE_NAME": "ProductListPriceHistory",
                  "COLUMN_NAME": "EndDate",
                  "DATA_TYPE": "datetime",
                  "NumberOfColumnsPerTable": "5"
                },
                {
                  "TABLE_NAME": "ProductListPriceHistory",
                  "COLUMN_NAME": "ListPrice",
                  "DATA_TYPE": "money",
                  "NumberOfColumnsPerTable": "5"
                },
                {
                  "TABLE_NAME": "ProductListPriceHistory",
                  "COLUMN_NAME": "ModifiedDate",
                  "DATA_TYPE": "datetime",
                  "NumberOfColumnsPerTable": "5"
                },
                {
                  "TABLE_NAME": "ProductListPriceHistory",
                  "COLUMN_NAME": "ProductID",
                  "DATA_TYPE": "int",
                  "NumberOfColumnsPerTable": "5"
                },
                {
                  "TABLE_NAME": "ProductListPriceHistory",
                  "COLUMN_NAME": "StartDate",
                  "DATA_TYPE": "datetime",
                  "NumberOfColumnsPerTable": "5"
                },
                {
                  "TABLE_NAME": "ProductModel",
                  "COLUMN_NAME": "CatalogDescription",
                  "DATA_TYPE": "xml",
                  "NumberOfColumnsPerTable": "6"
                },
                {
                  "TABLE_NAME": "ProductModel",
                  "COLUMN_NAME": "Instructions",
                  "DATA_TYPE": "xml",
                  "NumberOfColumnsPerTable": "6"
                },
                {
                  "TABLE_NAME": "ProductModel",
                  "COLUMN_NAME": "ModifiedDate",
                  "DATA_TYPE": "datetime",
                  "NumberOfColumnsPerTable": "6"
                },
                {
                  "TABLE_NAME": "ProductModel",
                  "COLUMN_NAME": "Name",
                  "DATA_TYPE": "nvarchar",
                  "NumberOfColumnsPerTable": "6"
                },
                {
                  "TABLE_NAME": "ProductModel",
                  "COLUMN_NAME": "ProductModelID",
                  "DATA_TYPE": "int",
                  "NumberOfColumnsPerTable": "6"
                },
                {
                  "TABLE_NAME": "ProductModel",
                  "COLUMN_NAME": "rowguid",
                  "DATA_TYPE": "uniqueidentifier",
                  "NumberOfColumnsPerTable": "6"
                },
                {
                  "TABLE_NAME": "ProductModelIllustration",
                  "COLUMN_NAME": "IllustrationID",
                  "DATA_TYPE": "int",
                  "NumberOfColumnsPerTable": "3"
                },
                {
                  "TABLE_NAME": "ProductModelIllustration",
                  "COLUMN_NAME": "ModifiedDate",
                  "DATA_TYPE": "datetime",
                  "NumberOfColumnsPerTable": "3"
                },
                {
                  "TABLE_NAME": "ProductModelIllustration",
                  "COLUMN_NAME": "ProductModelID",
                  "DATA_TYPE": "int",
                  "NumberOfColumnsPerTable": "3"
                },
                {
                  "TABLE_NAME": "ProductModelProductDescriptionCulture",
                  "COLUMN_NAME": "CultureID",
                  "DATA_TYPE": "nchar",
                  "NumberOfColumnsPerTable": "4"
                },
                {
                  "TABLE_NAME": "ProductModelProductDescriptionCulture",
                  "COLUMN_NAME": "ModifiedDate",
                  "DATA_TYPE": "datetime",
                  "NumberOfColumnsPerTable": "4"
                },
                {
                  "TABLE_NAME": "ProductModelProductDescriptionCulture",
                  "COLUMN_NAME": "ProductDescriptionID",
                  "DATA_TYPE": "int",
                  "NumberOfColumnsPerTable": "4"
                },
                {
                  "TABLE_NAME": "ProductModelProductDescriptionCulture",
                  "COLUMN_NAME": "ProductModelID",
                  "DATA_TYPE": "int",
                  "NumberOfColumnsPerTable": "4"
                },
                {
                  "TABLE_NAME": "ProductPhoto",
                  "COLUMN_NAME": "LargePhoto",
                  "DATA_TYPE": "varbinary",
                  "NumberOfColumnsPerTable": "6"
                },
                {
                  "TABLE_NAME": "ProductPhoto",
                  "COLUMN_NAME": "LargePhotoFileName",
                  "DATA_TYPE": "nvarchar",
                  "NumberOfColumnsPerTable": "6"
                },
                {
                  "TABLE_NAME": "ProductPhoto",
                  "COLUMN_NAME": "ModifiedDate",
                  "DATA_TYPE": "datetime",
                  "NumberOfColumnsPerTable": "6"
                },
                {
                  "TABLE_NAME": "ProductPhoto",
                  "COLUMN_NAME": "ProductPhotoID",
                  "DATA_TYPE": "int",
                  "NumberOfColumnsPerTable": "6"
                },
                {
                  "TABLE_NAME": "ProductPhoto",
                  "COLUMN_NAME": "ThumbNailPhoto",
                  "DATA_TYPE": "varbinary",
                  "NumberOfColumnsPerTable": "6"
                },
                {
                  "TABLE_NAME": "ProductPhoto",
                  "COLUMN_NAME": "ThumbnailPhotoFileName",
                  "DATA_TYPE": "nvarchar",
                  "NumberOfColumnsPerTable": "6"
                },
                {
                  "TABLE_NAME": "ProductProductPhoto",
                  "COLUMN_NAME": "ModifiedDate",
                  "DATA_TYPE": "datetime",
                  "NumberOfColumnsPerTable": "4"
                },
                {
                  "TABLE_NAME": "ProductProductPhoto",
                  "COLUMN_NAME": "Primary",
                  "DATA_TYPE": "bit",
                  "NumberOfColumnsPerTable": "4"
                },
                {
                  "TABLE_NAME": "ProductProductPhoto",
                  "COLUMN_NAME": "ProductID",
                  "DATA_TYPE": "int",
                  "NumberOfColumnsPerTable": "4"
                },
                {
                  "TABLE_NAME": "ProductProductPhoto",
                  "COLUMN_NAME": "ProductPhotoID",
                  "DATA_TYPE": "int",
                  "NumberOfColumnsPerTable": "4"
                },
                {
                  "TABLE_NAME": "ProductReview",
                  "COLUMN_NAME": "Comments",
                  "DATA_TYPE": "nvarchar",
                  "NumberOfColumnsPerTable": "8"
                },
                {
                  "TABLE_NAME": "ProductReview",
                  "COLUMN_NAME": "EmailAddress",
                  "DATA_TYPE": "nvarchar",
                  "NumberOfColumnsPerTable": "8"
                },
                {
                  "TABLE_NAME": "ProductReview",
                  "COLUMN_NAME": "ModifiedDate",
                  "DATA_TYPE": "datetime",
                  "NumberOfColumnsPerTable": "8"
                },
                {
                  "TABLE_NAME": "ProductReview",
                  "COLUMN_NAME": "ProductID",
                  "DATA_TYPE": "int",
                  "NumberOfColumnsPerTable": "8"
                },
                {
                  "TABLE_NAME": "ProductReview",
                  "COLUMN_NAME": "ProductReviewID",
                  "DATA_TYPE": "int",
                  "NumberOfColumnsPerTable": "8"
                },
                {
                  "TABLE_NAME": "ProductReview",
                  "COLUMN_NAME": "Rating",
                  "DATA_TYPE": "int",
                  "NumberOfColumnsPerTable": "8"
                },
                {
                  "TABLE_NAME": "ProductReview",
                  "COLUMN_NAME": "ReviewDate",
                  "DATA_TYPE": "datetime",
                  "NumberOfColumnsPerTable": "8"
                },
                {
                  "TABLE_NAME": "ProductReview",
                  "COLUMN_NAME": "ReviewerName",
                  "DATA_TYPE": "nvarchar",
                  "NumberOfColumnsPerTable": "8"
                },
                {
                  "TABLE_NAME": "ProductSubcategory",
                  "COLUMN_NAME": "ModifiedDate",
                  "DATA_TYPE": "datetime",
                  "NumberOfColumnsPerTable": "5"
                },
                {
                  "TABLE_NAME": "ProductSubcategory",
                  "COLUMN_NAME": "Name",
                  "DATA_TYPE": "nvarchar",
                  "NumberOfColumnsPerTable": "5"
                },
                {
                  "TABLE_NAME": "ProductSubcategory",
                  "COLUMN_NAME": "ProductCategoryID",
                  "DATA_TYPE": "int",
                  "NumberOfColumnsPerTable": "5"
                },
                {
                  "TABLE_NAME": "ProductSubcategory",
                  "COLUMN_NAME": "ProductSubcategoryID",
                  "DATA_TYPE": "int",
                  "NumberOfColumnsPerTable": "5"
                },
                {
                  "TABLE_NAME": "ProductSubcategory",
                  "COLUMN_NAME": "rowguid",
                  "DATA_TYPE": "uniqueidentifier",
                  "NumberOfColumnsPerTable": "5"
                },
                {
                  "TABLE_NAME": "ScrapReason",
                  "COLUMN_NAME": "ModifiedDate",
                  "DATA_TYPE": "datetime",
                  "NumberOfColumnsPerTable": "3"
                },
                {
                  "TABLE_NAME": "ScrapReason",
                  "COLUMN_NAME": "Name",
                  "DATA_TYPE": "nvarchar",
                  "NumberOfColumnsPerTable": "3"
                },
                {
                  "TABLE_NAME": "ScrapReason",
                  "COLUMN_NAME": "ScrapReasonID",
                  "DATA_TYPE": "smallint",
                  "NumberOfColumnsPerTable": "3"
                },
                {
                  "TABLE_NAME": "TransactionHistory",
                  "COLUMN_NAME": "ActualCost",
                  "DATA_TYPE": "money",
                  "NumberOfColumnsPerTable": "9"
                },
                {
                  "TABLE_NAME": "TransactionHistory",
                  "COLUMN_NAME": "ModifiedDate",
                  "DATA_TYPE": "datetime",
                  "NumberOfColumnsPerTable": "9"
                },
                {
                  "TABLE_NAME": "TransactionHistory",
                  "COLUMN_NAME": "ProductID",
                  "DATA_TYPE": "int",
                  "NumberOfColumnsPerTable": "9"
                },
                {
                  "TABLE_NAME": "TransactionHistory",
                  "COLUMN_NAME": "Quantity",
                  "DATA_TYPE": "int",
                  "NumberOfColumnsPerTable": "9"
                },
                {
                  "TABLE_NAME": "TransactionHistory",
                  "COLUMN_NAME": "ReferenceOrderID",
                  "DATA_TYPE": "int",
                  "NumberOfColumnsPerTable": "9"
                },
                {
                  "TABLE_NAME": "TransactionHistory",
                  "COLUMN_NAME": "ReferenceOrderLineID",
                  "DATA_TYPE": "int",
                  "NumberOfColumnsPerTable": "9"
                },
                {
                  "TABLE_NAME": "TransactionHistory",
                  "COLUMN_NAME": "TransactionDate",
                  "DATA_TYPE": "datetime",
                  "NumberOfColumnsPerTable": "9"
                },
                {
                  "TABLE_NAME": "TransactionHistory",
                  "COLUMN_NAME": "TransactionID",
                  "DATA_TYPE": "int",
                  "NumberOfColumnsPerTable": "9"
                },
                {
                  "TABLE_NAME": "TransactionHistory",
                  "COLUMN_NAME": "TransactionType",
                  "DATA_TYPE": "nchar",
                  "NumberOfColumnsPerTable": "9"
                },
                {
                  "TABLE_NAME": "TransactionHistoryArchive",
                  "COLUMN_NAME": "ActualCost",
                  "DATA_TYPE": "money",
                  "NumberOfColumnsPerTable": "9"
                },
                {
                  "TABLE_NAME": "TransactionHistoryArchive",
                  "COLUMN_NAME": "ModifiedDate",
                  "DATA_TYPE": "datetime",
                  "NumberOfColumnsPerTable": "9"
                },
                {
                  "TABLE_NAME": "TransactionHistoryArchive",
                  "COLUMN_NAME": "ProductID",
                  "DATA_TYPE": "int",
                  "NumberOfColumnsPerTable": "9"
                },
                {
                  "TABLE_NAME": "TransactionHistoryArchive",
                  "COLUMN_NAME": "Quantity",
                  "DATA_TYPE": "int",
                  "NumberOfColumnsPerTable": "9"
                },
                {
                  "TABLE_NAME": "TransactionHistoryArchive",
                  "COLUMN_NAME": "ReferenceOrderID",
                  "DATA_TYPE": "int",
                  "NumberOfColumnsPerTable": "9"
                },
                {
                  "TABLE_NAME": "TransactionHistoryArchive",
                  "COLUMN_NAME": "ReferenceOrderLineID",
                  "DATA_TYPE": "int",
                  "NumberOfColumnsPerTable": "9"
                },
                {
                  "TABLE_NAME": "TransactionHistoryArchive",
                  "COLUMN_NAME": "TransactionDate",
                  "DATA_TYPE": "datetime",
                  "NumberOfColumnsPerTable": "9"
                },
                {
                  "TABLE_NAME": "TransactionHistoryArchive",
                  "COLUMN_NAME": "TransactionID",
                  "DATA_TYPE": "int",
                  "NumberOfColumnsPerTable": "9"
                },
                {
                  "TABLE_NAME": "TransactionHistoryArchive",
                  "COLUMN_NAME": "TransactionType",
                  "DATA_TYPE": "nchar",
                  "NumberOfColumnsPerTable": "9"
                },
                {
                  "TABLE_NAME": "UnitMeasure",
                  "COLUMN_NAME": "ModifiedDate",
                  "DATA_TYPE": "datetime",
                  "NumberOfColumnsPerTable": "3"
                },
                {
                  "TABLE_NAME": "UnitMeasure",
                  "COLUMN_NAME": "Name",
                  "DATA_TYPE": "nvarchar",
                  "NumberOfColumnsPerTable": "3"
                },
                {
                  "TABLE_NAME": "UnitMeasure",
                  "COLUMN_NAME": "UnitMeasureCode",
                  "DATA_TYPE": "nchar",
                  "NumberOfColumnsPerTable": "3"
                },
                {
                  "TABLE_NAME": "vProductAndDescription",
                  "COLUMN_NAME": "CultureID",
                  "DATA_TYPE": "nchar",
                  "NumberOfColumnsPerTable": "5"
                },
                {
                  "TABLE_NAME": "vProductAndDescription",
                  "COLUMN_NAME": "Description",
                  "DATA_TYPE": "nvarchar",
                  "NumberOfColumnsPerTable": "5"
                },
                {
                  "TABLE_NAME": "vProductAndDescription",
                  "COLUMN_NAME": "Name",
                  "DATA_TYPE": "nvarchar",
                  "NumberOfColumnsPerTable": "5"
                },
                {
                  "TABLE_NAME": "vProductAndDescription",
                  "COLUMN_NAME": "ProductID",
                  "DATA_TYPE": "int",
                  "NumberOfColumnsPerTable": "5"
                },
                {
                  "TABLE_NAME": "vProductAndDescription",
                  "COLUMN_NAME": "ProductModel",
                  "DATA_TYPE": "nvarchar",
                  "NumberOfColumnsPerTable": "5"
                },
                {
                  "TABLE_NAME": "vProductModelCatalogDescription",
                  "COLUMN_NAME": "BikeFrame",
                  "DATA_TYPE": "nvarchar",
                  "NumberOfColumnsPerTable": "25"
                },
                {
                  "TABLE_NAME": "vProductModelCatalogDescription",
                  "COLUMN_NAME": "Color",
                  "DATA_TYPE": "nvarchar",
                  "NumberOfColumnsPerTable": "25"
                },
                {
                  "TABLE_NAME": "vProductModelCatalogDescription",
                  "COLUMN_NAME": "Copyright",
                  "DATA_TYPE": "nvarchar",
                  "NumberOfColumnsPerTable": "25"
                },
                {
                  "TABLE_NAME": "vProductModelCatalogDescription",
                  "COLUMN_NAME": "Crankset",
                  "DATA_TYPE": "nvarchar",
                  "NumberOfColumnsPerTable": "25"
                },
                {
                  "TABLE_NAME": "vProductModelCatalogDescription",
                  "COLUMN_NAME": "MaintenanceDescription",
                  "DATA_TYPE": "nvarchar",
                  "NumberOfColumnsPerTable": "25"
                },
                {
                  "TABLE_NAME": "vProductModelCatalogDescription",
                  "COLUMN_NAME": "Manufacturer",
                  "DATA_TYPE": "nvarchar",
                  "NumberOfColumnsPerTable": "25"
                },
                {
                  "TABLE_NAME": "vProductModelCatalogDescription",
                  "COLUMN_NAME": "Material",
                  "DATA_TYPE": "nvarchar",
                  "NumberOfColumnsPerTable": "25"
                },
                {
                  "TABLE_NAME": "vProductModelCatalogDescription",
                  "COLUMN_NAME": "ModifiedDate",
                  "DATA_TYPE": "datetime",
                  "NumberOfColumnsPerTable": "25"
                },
                {
                  "TABLE_NAME": "vProductModelCatalogDescription",
                  "COLUMN_NAME": "Name",
                  "DATA_TYPE": "nvarchar",
                  "NumberOfColumnsPerTable": "25"
                },
                {
                  "TABLE_NAME": "vProductModelCatalogDescription",
                  "COLUMN_NAME": "NoOfYears",
                  "DATA_TYPE": "nvarchar",
                  "NumberOfColumnsPerTable": "25"
                },
                {
                  "TABLE_NAME": "vProductModelCatalogDescription",
                  "COLUMN_NAME": "Pedal",
                  "DATA_TYPE": "nvarchar",
                  "NumberOfColumnsPerTable": "25"
                },
                {
                  "TABLE_NAME": "vProductModelCatalogDescription",
                  "COLUMN_NAME": "PictureAngle",
                  "DATA_TYPE": "nvarchar",
                  "NumberOfColumnsPerTable": "25"
                },
                {
                  "TABLE_NAME": "vProductModelCatalogDescription",
                  "COLUMN_NAME": "PictureSize",
                  "DATA_TYPE": "nvarchar",
                  "NumberOfColumnsPerTable": "25"
                },
                {
                  "TABLE_NAME": "vProductModelCatalogDescription",
                  "COLUMN_NAME": "ProductLine",
                  "DATA_TYPE": "nvarchar",
                  "NumberOfColumnsPerTable": "25"
                },
                {
                  "TABLE_NAME": "vProductModelCatalogDescription",
                  "COLUMN_NAME": "ProductModelID",
                  "DATA_TYPE": "int",
                  "NumberOfColumnsPerTable": "25"
                },
                {
                  "TABLE_NAME": "vProductModelCatalogDescription",
                  "COLUMN_NAME": "ProductPhotoID",
                  "DATA_TYPE": "nvarchar",
                  "NumberOfColumnsPerTable": "25"
                },
                {
                  "TABLE_NAME": "vProductModelCatalogDescription",
                  "COLUMN_NAME": "ProductURL",
                  "DATA_TYPE": "nvarchar",
                  "NumberOfColumnsPerTable": "25"
                },
                {
                  "TABLE_NAME": "vProductModelCatalogDescription",
                  "COLUMN_NAME": "RiderExperience",
                  "DATA_TYPE": "nvarchar",
                  "NumberOfColumnsPerTable": "25"
                },
                {
                  "TABLE_NAME": "vProductModelCatalogDescription",
                  "COLUMN_NAME": "rowguid",
                  "DATA_TYPE": "uniqueidentifier",
                  "NumberOfColumnsPerTable": "25"
                },
                {
                  "TABLE_NAME": "vProductModelCatalogDescription",
                  "COLUMN_NAME": "Saddle",
                  "DATA_TYPE": "nvarchar",
                  "NumberOfColumnsPerTable": "25"
                },
                {
                  "TABLE_NAME": "vProductModelCatalogDescription",
                  "COLUMN_NAME": "Style",
                  "DATA_TYPE": "nvarchar",
                  "NumberOfColumnsPerTable": "25"
                },
                {
                  "TABLE_NAME": "vProductModelCatalogDescription",
                  "COLUMN_NAME": "Summary",
                  "DATA_TYPE": "nvarchar",
                  "NumberOfColumnsPerTable": "25"
                },
                {
                  "TABLE_NAME": "vProductModelCatalogDescription",
                  "COLUMN_NAME": "WarrantyDescription",
                  "DATA_TYPE": "nvarchar",
                  "NumberOfColumnsPerTable": "25"
                },
                {
                  "TABLE_NAME": "vProductModelCatalogDescription",
                  "COLUMN_NAME": "WarrantyPeriod",
                  "DATA_TYPE": "nvarchar",
                  "NumberOfColumnsPerTable": "25"
                },
                {
                  "TABLE_NAME": "vProductModelCatalogDescription",
                  "COLUMN_NAME": "Wheel",
                  "DATA_TYPE": "nvarchar",
                  "NumberOfColumnsPerTable": "25"
                },
                {
                  "TABLE_NAME": "vProductModelInstructions",
                  "COLUMN_NAME": "Instructions",
                  "DATA_TYPE": "nvarchar",
                  "NumberOfColumnsPerTable": "11"
                },
                {
                  "TABLE_NAME": "vProductModelInstructions",
                  "COLUMN_NAME": "LaborHours",
                  "DATA_TYPE": "decimal",
                  "NumberOfColumnsPerTable": "11"
                },
                {
                  "TABLE_NAME": "vProductModelInstructions",
                  "COLUMN_NAME": "LocationID",
                  "DATA_TYPE": "int",
                  "NumberOfColumnsPerTable": "11"
                },
                {
                  "TABLE_NAME": "vProductModelInstructions",
                  "COLUMN_NAME": "LotSize",
                  "DATA_TYPE": "int",
                  "NumberOfColumnsPerTable": "11"
                },
                {
                  "TABLE_NAME": "vProductModelInstructions",
                  "COLUMN_NAME": "MachineHours",
                  "DATA_TYPE": "decimal",
                  "NumberOfColumnsPerTable": "11"
                },
                {
                  "TABLE_NAME": "vProductModelInstructions",
                  "COLUMN_NAME": "ModifiedDate",
                  "DATA_TYPE": "datetime",
                  "NumberOfColumnsPerTable": "11"
                },
                {
                  "TABLE_NAME": "vProductModelInstructions",
                  "COLUMN_NAME": "Name",
                  "DATA_TYPE": "nvarchar",
                  "NumberOfColumnsPerTable": "11"
                },
                {
                  "TABLE_NAME": "vProductModelInstructions",
                  "COLUMN_NAME": "ProductModelID",
                  "DATA_TYPE": "int",
                  "NumberOfColumnsPerTable": "11"
                },
                {
                  "TABLE_NAME": "vProductModelInstructions",
                  "COLUMN_NAME": "rowguid",
                  "DATA_TYPE": "uniqueidentifier",
                  "NumberOfColumnsPerTable": "11"
                },
                {
                  "TABLE_NAME": "vProductModelInstructions",
                  "COLUMN_NAME": "SetupHours",
                  "DATA_TYPE": "decimal",
                  "NumberOfColumnsPerTable": "11"
                },
                {
                  "TABLE_NAME": "vProductModelInstructions",
                  "COLUMN_NAME": "Step",
                  "DATA_TYPE": "nvarchar",
                  "NumberOfColumnsPerTable": "11"
                },
                {
                  "TABLE_NAME": "WorkOrder",
                  "COLUMN_NAME": "DueDate",
                  "DATA_TYPE": "datetime",
                  "NumberOfColumnsPerTable": "10"
                },
                {
                  "TABLE_NAME": "WorkOrder",
                  "COLUMN_NAME": "EndDate",
                  "DATA_TYPE": "datetime",
                  "NumberOfColumnsPerTable": "10"
                },
                {
                  "TABLE_NAME": "WorkOrder",
                  "COLUMN_NAME": "ModifiedDate",
                  "DATA_TYPE": "datetime",
                  "NumberOfColumnsPerTable": "10"
                },
                {
                  "TABLE_NAME": "WorkOrder",
                  "COLUMN_NAME": "OrderQty",
                  "DATA_TYPE": "int",
                  "NumberOfColumnsPerTable": "10"
                },
                {
                  "TABLE_NAME": "WorkOrder",
                  "COLUMN_NAME": "ProductID",
                  "DATA_TYPE": "int",
                  "NumberOfColumnsPerTable": "10"
                },
                {
                  "TABLE_NAME": "WorkOrder",
                  "COLUMN_NAME": "ScrappedQty",
                  "DATA_TYPE": "smallint",
                  "NumberOfColumnsPerTable": "10"
                },
                {
                  "TABLE_NAME": "WorkOrder",
                  "COLUMN_NAME": "ScrapReasonID",
                  "DATA_TYPE": "smallint",
                  "NumberOfColumnsPerTable": "10"
                },
                {
                  "TABLE_NAME": "WorkOrder",
                  "COLUMN_NAME": "StartDate",
                  "DATA_TYPE": "datetime",
                  "NumberOfColumnsPerTable": "10"
                },
                {
                  "TABLE_NAME": "WorkOrder",
                  "COLUMN_NAME": "StockedQty",
                  "DATA_TYPE": "int",
                  "NumberOfColumnsPerTable": "10"
                },
                {
                  "TABLE_NAME": "WorkOrder",
                  "COLUMN_NAME": "WorkOrderID",
                  "DATA_TYPE": "int",
                  "NumberOfColumnsPerTable": "10"
                },
                {
                  "TABLE_NAME": "WorkOrderRouting",
                  "COLUMN_NAME": "ActualCost",
                  "DATA_TYPE": "money",
                  "NumberOfColumnsPerTable": "12"
                },
                {
                  "TABLE_NAME": "WorkOrderRouting",
                  "COLUMN_NAME": "ActualEndDate",
                  "DATA_TYPE": "datetime",
                  "NumberOfColumnsPerTable": "12"
                },
                {
                  "TABLE_NAME": "WorkOrderRouting",
                  "COLUMN_NAME": "ActualResourceHrs",
                  "DATA_TYPE": "decimal",
                  "NumberOfColumnsPerTable": "12"
                },
                {
                  "TABLE_NAME": "WorkOrderRouting",
                  "COLUMN_NAME": "ActualStartDate",
                  "DATA_TYPE": "datetime",
                  "NumberOfColumnsPerTable": "12"
                },
                {
                  "TABLE_NAME": "WorkOrderRouting",
                  "COLUMN_NAME": "LocationID",
                  "DATA_TYPE": "smallint",
                  "NumberOfColumnsPerTable": "12"
                },
                {
                  "TABLE_NAME": "WorkOrderRouting",
                  "COLUMN_NAME": "ModifiedDate",
                  "DATA_TYPE": "datetime",
                  "NumberOfColumnsPerTable": "12"
                },
                {
                  "TABLE_NAME": "WorkOrderRouting",
                  "COLUMN_NAME": "OperationSequence",
                  "DATA_TYPE": "smallint",
                  "NumberOfColumnsPerTable": "12"
                },
                {
                  "TABLE_NAME": "WorkOrderRouting",
                  "COLUMN_NAME": "PlannedCost",
                  "DATA_TYPE": "money",
                  "NumberOfColumnsPerTable": "12"
                },
                {
                  "TABLE_NAME": "WorkOrderRouting",
                  "COLUMN_NAME": "ProductID",
                  "DATA_TYPE": "int",
                  "NumberOfColumnsPerTable": "12"
                },
                {
                  "TABLE_NAME": "WorkOrderRouting",
                  "COLUMN_NAME": "ScheduledEndDate",
                  "DATA_TYPE": "datetime",
                  "NumberOfColumnsPerTable": "12"
                },
                {
                  "TABLE_NAME": "WorkOrderRouting",
                  "COLUMN_NAME": "ScheduledStartDate",
                  "DATA_TYPE": "datetime",
                  "NumberOfColumnsPerTable": "12"
                },
                {
                  "TABLE_NAME": "WorkOrderRouting",
                  "COLUMN_NAME": "WorkOrderID",
                  "DATA_TYPE": "int",
                  "NumberOfColumnsPerTable": "12"
                },
                {
                  "TABLE_NAME": "ProductVendor",
                  "COLUMN_NAME": "AverageLeadTime",
                  "DATA_TYPE": "int",
                  "NumberOfColumnsPerTable": "11"
                },
                {
                  "TABLE_NAME": "ProductVendor",
                  "COLUMN_NAME": "BusinessEntityID",
                  "DATA_TYPE": "int",
                  "NumberOfColumnsPerTable": "11"
                },
                {
                  "TABLE_NAME": "ProductVendor",
                  "COLUMN_NAME": "LastReceiptCost",
                  "DATA_TYPE": "money",
                  "NumberOfColumnsPerTable": "11"
                },
                {
                  "TABLE_NAME": "ProductVendor",
                  "COLUMN_NAME": "LastReceiptDate",
                  "DATA_TYPE": "datetime",
                  "NumberOfColumnsPerTable": "11"
                },
                {
                  "TABLE_NAME": "ProductVendor",
                  "COLUMN_NAME": "MaxOrderQty",
                  "DATA_TYPE": "int",
                  "NumberOfColumnsPerTable": "11"
                },
                {
                  "TABLE_NAME": "ProductVendor",
                  "COLUMN_NAME": "MinOrderQty",
                  "DATA_TYPE": "int",
                  "NumberOfColumnsPerTable": "11"
                },
                {
                  "TABLE_NAME": "ProductVendor",
                  "COLUMN_NAME": "ModifiedDate",
                  "DATA_TYPE": "datetime",
                  "NumberOfColumnsPerTable": "11"
                },
                {
                  "TABLE_NAME": "ProductVendor",
                  "COLUMN_NAME": "OnOrderQty",
                  "DATA_TYPE": "int",
                  "NumberOfColumnsPerTable": "11"
                },
                {
                  "TABLE_NAME": "ProductVendor",
                  "COLUMN_NAME": "ProductID",
                  "DATA_TYPE": "int",
                  "NumberOfColumnsPerTable": "11"
                },
                {
                  "TABLE_NAME": "ProductVendor",
                  "COLUMN_NAME": "StandardPrice",
                  "DATA_TYPE": "money",
                  "NumberOfColumnsPerTable": "11"
                },
                {
                  "TABLE_NAME": "ProductVendor",
                  "COLUMN_NAME": "UnitMeasureCode",
                  "DATA_TYPE": "nchar",
                  "NumberOfColumnsPerTable": "11"
                },
                {
                  "TABLE_NAME": "PurchaseOrderDetail",
                  "COLUMN_NAME": "DueDate",
                  "DATA_TYPE": "datetime",
                  "NumberOfColumnsPerTable": "11"
                },
                {
                  "TABLE_NAME": "PurchaseOrderDetail",
                  "COLUMN_NAME": "LineTotal",
                  "DATA_TYPE": "money",
                  "NumberOfColumnsPerTable": "11"
                },
                {
                  "TABLE_NAME": "PurchaseOrderDetail",
                  "COLUMN_NAME": "ModifiedDate",
                  "DATA_TYPE": "datetime",
                  "NumberOfColumnsPerTable": "11"
                },
                {
                  "TABLE_NAME": "PurchaseOrderDetail",
                  "COLUMN_NAME": "OrderQty",
                  "DATA_TYPE": "smallint",
                  "NumberOfColumnsPerTable": "11"
                },
                {
                  "TABLE_NAME": "PurchaseOrderDetail",
                  "COLUMN_NAME": "ProductID",
                  "DATA_TYPE": "int",
                  "NumberOfColumnsPerTable": "11"
                },
                {
                  "TABLE_NAME": "PurchaseOrderDetail",
                  "COLUMN_NAME": "PurchaseOrderDetailID",
                  "DATA_TYPE": "int",
                  "NumberOfColumnsPerTable": "11"
                },
                {
                  "TABLE_NAME": "PurchaseOrderDetail",
                  "COLUMN_NAME": "PurchaseOrderID",
                  "DATA_TYPE": "int",
                  "NumberOfColumnsPerTable": "11"
                },
                {
                  "TABLE_NAME": "PurchaseOrderDetail",
                  "COLUMN_NAME": "ReceivedQty",
                  "DATA_TYPE": "decimal",
                  "NumberOfColumnsPerTable": "11"
                },
                {
                  "TABLE_NAME": "PurchaseOrderDetail",
                  "COLUMN_NAME": "RejectedQty",
                  "DATA_TYPE": "decimal",
                  "NumberOfColumnsPerTable": "11"
                },
                {
                  "TABLE_NAME": "PurchaseOrderDetail",
                  "COLUMN_NAME": "StockedQty",
                  "DATA_TYPE": "decimal",
                  "NumberOfColumnsPerTable": "11"
                },
                {
                  "TABLE_NAME": "PurchaseOrderDetail",
                  "COLUMN_NAME": "UnitPrice",
                  "DATA_TYPE": "money",
                  "NumberOfColumnsPerTable": "11"
                },
                {
                  "TABLE_NAME": "PurchaseOrderHeader",
                  "COLUMN_NAME": "EmployeeID",
                  "DATA_TYPE": "int",
                  "NumberOfColumnsPerTable": "13"
                },
                {
                  "TABLE_NAME": "PurchaseOrderHeader",
                  "COLUMN_NAME": "Freight",
                  "DATA_TYPE": "money",
                  "NumberOfColumnsPerTable": "13"
                },
                {
                  "TABLE_NAME": "PurchaseOrderHeader",
                  "COLUMN_NAME": "ModifiedDate",
                  "DATA_TYPE": "datetime",
                  "NumberOfColumnsPerTable": "13"
                },
                {
                  "TABLE_NAME": "PurchaseOrderHeader",
                  "COLUMN_NAME": "OrderDate",
                  "DATA_TYPE": "datetime",
                  "NumberOfColumnsPerTable": "13"
                },
                {
                  "TABLE_NAME": "PurchaseOrderHeader",
                  "COLUMN_NAME": "PurchaseOrderID",
                  "DATA_TYPE": "int",
                  "NumberOfColumnsPerTable": "13"
                },
                {
                  "TABLE_NAME": "PurchaseOrderHeader",
                  "COLUMN_NAME": "RevisionNumber",
                  "DATA_TYPE": "tinyint",
                  "NumberOfColumnsPerTable": "13"
                },
                {
                  "TABLE_NAME": "PurchaseOrderHeader",
                  "COLUMN_NAME": "ShipDate",
                  "DATA_TYPE": "datetime",
                  "NumberOfColumnsPerTable": "13"
                },
                {
                  "TABLE_NAME": "PurchaseOrderHeader",
                  "COLUMN_NAME": "ShipMethodID",
                  "DATA_TYPE": "int",
                  "NumberOfColumnsPerTable": "13"
                },
                {
                  "TABLE_NAME": "PurchaseOrderHeader",
                  "COLUMN_NAME": "Status",
                  "DATA_TYPE": "tinyint",
                  "NumberOfColumnsPerTable": "13"
                },
                {
                  "TABLE_NAME": "PurchaseOrderHeader",
                  "COLUMN_NAME": "SubTotal",
                  "DATA_TYPE": "money",
                  "NumberOfColumnsPerTable": "13"
                },
                {
                  "TABLE_NAME": "PurchaseOrderHeader",
                  "COLUMN_NAME": "TaxAmt",
                  "DATA_TYPE": "money",
                  "NumberOfColumnsPerTable": "13"
                },
                {
                  "TABLE_NAME": "PurchaseOrderHeader",
                  "COLUMN_NAME": "TotalDue",
                  "DATA_TYPE": "money",
                  "NumberOfColumnsPerTable": "13"
                },
                {
                  "TABLE_NAME": "PurchaseOrderHeader",
                  "COLUMN_NAME": "VendorID",
                  "DATA_TYPE": "int",
                  "NumberOfColumnsPerTable": "13"
                },
                {
                  "TABLE_NAME": "ShipMethod",
                  "COLUMN_NAME": "ModifiedDate",
                  "DATA_TYPE": "datetime",
                  "NumberOfColumnsPerTable": "6"
                },
                {
                  "TABLE_NAME": "ShipMethod",
                  "COLUMN_NAME": "Name",
                  "DATA_TYPE": "nvarchar",
                  "NumberOfColumnsPerTable": "6"
                },
                {
                  "TABLE_NAME": "ShipMethod",
                  "COLUMN_NAME": "rowguid",
                  "DATA_TYPE": "uniqueidentifier",
                  "NumberOfColumnsPerTable": "6"
                },
                {
                  "TABLE_NAME": "ShipMethod",
                  "COLUMN_NAME": "ShipBase",
                  "DATA_TYPE": "money",
                  "NumberOfColumnsPerTable": "6"
                },
                {
                  "TABLE_NAME": "ShipMethod",
                  "COLUMN_NAME": "ShipMethodID",
                  "DATA_TYPE": "int",
                  "NumberOfColumnsPerTable": "6"
                },
                {
                  "TABLE_NAME": "ShipMethod",
                  "COLUMN_NAME": "ShipRate",
                  "DATA_TYPE": "money",
                  "NumberOfColumnsPerTable": "6"
                },
                {
                  "TABLE_NAME": "Vendor",
                  "COLUMN_NAME": "AccountNumber",
                  "DATA_TYPE": "nvarchar",
                  "NumberOfColumnsPerTable": "8"
                },
                {
                  "TABLE_NAME": "Vendor",
                  "COLUMN_NAME": "ActiveFlag",
                  "DATA_TYPE": "bit",
                  "NumberOfColumnsPerTable": "8"
                },
                {
                  "TABLE_NAME": "Vendor",
                  "COLUMN_NAME": "BusinessEntityID",
                  "DATA_TYPE": "int",
                  "NumberOfColumnsPerTable": "8"
                },
                {
                  "TABLE_NAME": "Vendor",
                  "COLUMN_NAME": "CreditRating",
                  "DATA_TYPE": "tinyint",
                  "NumberOfColumnsPerTable": "8"
                },
                {
                  "TABLE_NAME": "Vendor",
                  "COLUMN_NAME": "ModifiedDate",
                  "DATA_TYPE": "datetime",
                  "NumberOfColumnsPerTable": "8"
                },
                {
                  "TABLE_NAME": "Vendor",
                  "COLUMN_NAME": "Name",
                  "DATA_TYPE": "nvarchar",
                  "NumberOfColumnsPerTable": "8"
                },
                {
                  "TABLE_NAME": "Vendor",
                  "COLUMN_NAME": "PreferredVendorStatus",
                  "DATA_TYPE": "bit",
                  "NumberOfColumnsPerTable": "8"
                },
                {
                  "TABLE_NAME": "Vendor",
                  "COLUMN_NAME": "PurchasingWebServiceURL",
                  "DATA_TYPE": "nvarchar",
                  "NumberOfColumnsPerTable": "8"
                },
                {
                  "TABLE_NAME": "vVendorWithAddresses",
                  "COLUMN_NAME": "AddressLine1",
                  "DATA_TYPE": "nvarchar",
                  "NumberOfColumnsPerTable": "9"
                },
                {
                  "TABLE_NAME": "vVendorWithAddresses",
                  "COLUMN_NAME": "AddressLine2",
                  "DATA_TYPE": "nvarchar",
                  "NumberOfColumnsPerTable": "9"
                },
                {
                  "TABLE_NAME": "vVendorWithAddresses",
                  "COLUMN_NAME": "AddressType",
                  "DATA_TYPE": "nvarchar",
                  "NumberOfColumnsPerTable": "9"
                },
                {
                  "TABLE_NAME": "vVendorWithAddresses",
                  "COLUMN_NAME": "BusinessEntityID",
                  "DATA_TYPE": "int",
                  "NumberOfColumnsPerTable": "9"
                },
                {
                  "TABLE_NAME": "vVendorWithAddresses",
                  "COLUMN_NAME": "City",
                  "DATA_TYPE": "nvarchar",
                  "NumberOfColumnsPerTable": "9"
                },
                {
                  "TABLE_NAME": "vVendorWithAddresses",
                  "COLUMN_NAME": "CountryRegionName",
                  "DATA_TYPE": "nvarchar",
                  "NumberOfColumnsPerTable": "9"
                },
                {
                  "TABLE_NAME": "vVendorWithAddresses",
                  "COLUMN_NAME": "Name",
                  "DATA_TYPE": "nvarchar",
                  "NumberOfColumnsPerTable": "9"
                },
                {
                  "TABLE_NAME": "vVendorWithAddresses",
                  "COLUMN_NAME": "PostalCode",
                  "DATA_TYPE": "nvarchar",
                  "NumberOfColumnsPerTable": "9"
                },
                {
                  "TABLE_NAME": "vVendorWithAddresses",
                  "COLUMN_NAME": "StateProvinceName",
                  "DATA_TYPE": "nvarchar",
                  "NumberOfColumnsPerTable": "9"
                },
                {
                  "TABLE_NAME": "vVendorWithContacts",
                  "COLUMN_NAME": "BusinessEntityID",
                  "DATA_TYPE": "int",
                  "NumberOfColumnsPerTable": "12"
                },
                {
                  "TABLE_NAME": "vVendorWithContacts",
                  "COLUMN_NAME": "ContactType",
                  "DATA_TYPE": "nvarchar",
                  "NumberOfColumnsPerTable": "12"
                },
                {
                  "TABLE_NAME": "vVendorWithContacts",
                  "COLUMN_NAME": "EmailAddress",
                  "DATA_TYPE": "nvarchar",
                  "NumberOfColumnsPerTable": "12"
                },
                {
                  "TABLE_NAME": "vVendorWithContacts",
                  "COLUMN_NAME": "EmailPromotion",
                  "DATA_TYPE": "int",
                  "NumberOfColumnsPerTable": "12"
                },
                {
                  "TABLE_NAME": "vVendorWithContacts",
                  "COLUMN_NAME": "FirstName",
                  "DATA_TYPE": "nvarchar",
                  "NumberOfColumnsPerTable": "12"
                },
                {
                  "TABLE_NAME": "vVendorWithContacts",
                  "COLUMN_NAME": "LastName",
                  "DATA_TYPE": "nvarchar",
                  "NumberOfColumnsPerTable": "12"
                },
                {
                  "TABLE_NAME": "vVendorWithContacts",
                  "COLUMN_NAME": "MiddleName",
                  "DATA_TYPE": "nvarchar",
                  "NumberOfColumnsPerTable": "12"
                },
                {
                  "TABLE_NAME": "vVendorWithContacts",
                  "COLUMN_NAME": "Name",
                  "DATA_TYPE": "nvarchar",
                  "NumberOfColumnsPerTable": "12"
                },
                {
                  "TABLE_NAME": "vVendorWithContacts",
                  "COLUMN_NAME": "PhoneNumber",
                  "DATA_TYPE": "nvarchar",
                  "NumberOfColumnsPerTable": "12"
                },
                {
                  "TABLE_NAME": "vVendorWithContacts",
                  "COLUMN_NAME": "PhoneNumberType",
                  "DATA_TYPE": "nvarchar",
                  "NumberOfColumnsPerTable": "12"
                },
                {
                  "TABLE_NAME": "vVendorWithContacts",
                  "COLUMN_NAME": "Suffix",
                  "DATA_TYPE": "nvarchar",
                  "NumberOfColumnsPerTable": "12"
                },
                {
                  "TABLE_NAME": "vVendorWithContacts",
                  "COLUMN_NAME": "Title",
                  "DATA_TYPE": "nvarchar",
                  "NumberOfColumnsPerTable": "12"
                },
                {
                  "TABLE_NAME": "CountryRegionCurrency",
                  "COLUMN_NAME": "CountryRegionCode",
                  "DATA_TYPE": "nvarchar",
                  "NumberOfColumnsPerTable": "3"
                },
                {
                  "TABLE_NAME": "CountryRegionCurrency",
                  "COLUMN_NAME": "CurrencyCode",
                  "DATA_TYPE": "nchar",
                  "NumberOfColumnsPerTable": "3"
                },
                {
                  "TABLE_NAME": "CountryRegionCurrency",
                  "COLUMN_NAME": "ModifiedDate",
                  "DATA_TYPE": "datetime",
                  "NumberOfColumnsPerTable": "3"
                },
                {
                  "TABLE_NAME": "CreditCard",
                  "COLUMN_NAME": "CardNumber",
                  "DATA_TYPE": "nvarchar",
                  "NumberOfColumnsPerTable": "6"
                },
                {
                  "TABLE_NAME": "CreditCard",
                  "COLUMN_NAME": "CardType",
                  "DATA_TYPE": "nvarchar",
                  "NumberOfColumnsPerTable": "6"
                },
                {
                  "TABLE_NAME": "CreditCard",
                  "COLUMN_NAME": "CreditCardID",
                  "DATA_TYPE": "int",
                  "NumberOfColumnsPerTable": "6"
                },
                {
                  "TABLE_NAME": "CreditCard",
                  "COLUMN_NAME": "ExpMonth",
                  "DATA_TYPE": "tinyint",
                  "NumberOfColumnsPerTable": "6"
                },
                {
                  "TABLE_NAME": "CreditCard",
                  "COLUMN_NAME": "ExpYear",
                  "DATA_TYPE": "smallint",
                  "NumberOfColumnsPerTable": "6"
                },
                {
                  "TABLE_NAME": "CreditCard",
                  "COLUMN_NAME": "ModifiedDate",
                  "DATA_TYPE": "datetime",
                  "NumberOfColumnsPerTable": "6"
                },
                {
                  "TABLE_NAME": "Currency",
                  "COLUMN_NAME": "CurrencyCode",
                  "DATA_TYPE": "nchar",
                  "NumberOfColumnsPerTable": "3"
                },
                {
                  "TABLE_NAME": "Currency",
                  "COLUMN_NAME": "ModifiedDate",
                  "DATA_TYPE": "datetime",
                  "NumberOfColumnsPerTable": "3"
                },
                {
                  "TABLE_NAME": "Currency",
                  "COLUMN_NAME": "Name",
                  "DATA_TYPE": "nvarchar",
                  "NumberOfColumnsPerTable": "3"
                },
                {
                  "TABLE_NAME": "CurrencyRate",
                  "COLUMN_NAME": "AverageRate",
                  "DATA_TYPE": "money",
                  "NumberOfColumnsPerTable": "7"
                },
                {
                  "TABLE_NAME": "CurrencyRate",
                  "COLUMN_NAME": "CurrencyRateDate",
                  "DATA_TYPE": "datetime",
                  "NumberOfColumnsPerTable": "7"
                },
                {
                  "TABLE_NAME": "CurrencyRate",
                  "COLUMN_NAME": "CurrencyRateID",
                  "DATA_TYPE": "int",
                  "NumberOfColumnsPerTable": "7"
                },
                {
                  "TABLE_NAME": "CurrencyRate",
                  "COLUMN_NAME": "EndOfDayRate",
                  "DATA_TYPE": "money",
                  "NumberOfColumnsPerTable": "7"
                },
                {
                  "TABLE_NAME": "CurrencyRate",
                  "COLUMN_NAME": "FromCurrencyCode",
                  "DATA_TYPE": "nchar",
                  "NumberOfColumnsPerTable": "7"
                },
                {
                  "TABLE_NAME": "CurrencyRate",
                  "COLUMN_NAME": "ModifiedDate",
                  "DATA_TYPE": "datetime",
                  "NumberOfColumnsPerTable": "7"
                },
                {
                  "TABLE_NAME": "CurrencyRate",
                  "COLUMN_NAME": "ToCurrencyCode",
                  "DATA_TYPE": "nchar",
                  "NumberOfColumnsPerTable": "7"
                },
                {
                  "TABLE_NAME": "Customer",
                  "COLUMN_NAME": "AccountNumber",
                  "DATA_TYPE": "varchar",
                  "NumberOfColumnsPerTable": "7"
                },
                {
                  "TABLE_NAME": "Customer",
                  "COLUMN_NAME": "CustomerID",
                  "DATA_TYPE": "int",
                  "NumberOfColumnsPerTable": "7"
                },
                {
                  "TABLE_NAME": "Customer",
                  "COLUMN_NAME": "ModifiedDate",
                  "DATA_TYPE": "datetime",
                  "NumberOfColumnsPerTable": "7"
                },
                {
                  "TABLE_NAME": "Customer",
                  "COLUMN_NAME": "PersonID",
                  "DATA_TYPE": "int",
                  "NumberOfColumnsPerTable": "7"
                },
                {
                  "TABLE_NAME": "Customer",
                  "COLUMN_NAME": "rowguid",
                  "DATA_TYPE": "uniqueidentifier",
                  "NumberOfColumnsPerTable": "7"
                },
                {
                  "TABLE_NAME": "Customer",
                  "COLUMN_NAME": "StoreID",
                  "DATA_TYPE": "int",
                  "NumberOfColumnsPerTable": "7"
                },
                {
                  "TABLE_NAME": "Customer",
                  "COLUMN_NAME": "TerritoryID",
                  "DATA_TYPE": "int",
                  "NumberOfColumnsPerTable": "7"
                },
                {
                  "TABLE_NAME": "PersonCreditCard",
                  "COLUMN_NAME": "BusinessEntityID",
                  "DATA_TYPE": "int",
                  "NumberOfColumnsPerTable": "3"
                },
                {
                  "TABLE_NAME": "PersonCreditCard",
                  "COLUMN_NAME": "CreditCardID",
                  "DATA_TYPE": "int",
                  "NumberOfColumnsPerTable": "3"
                },
                {
                  "TABLE_NAME": "PersonCreditCard",
                  "COLUMN_NAME": "ModifiedDate",
                  "DATA_TYPE": "datetime",
                  "NumberOfColumnsPerTable": "3"
                },
                {
                  "TABLE_NAME": "SalesOrderDetail",
                  "COLUMN_NAME": "CarrierTrackingNumber",
                  "DATA_TYPE": "nvarchar",
                  "NumberOfColumnsPerTable": "11"
                },
                {
                  "TABLE_NAME": "SalesOrderDetail",
                  "COLUMN_NAME": "LineTotal",
                  "DATA_TYPE": "numeric",
                  "NumberOfColumnsPerTable": "11"
                },
                {
                  "TABLE_NAME": "SalesOrderDetail",
                  "COLUMN_NAME": "ModifiedDate",
                  "DATA_TYPE": "datetime",
                  "NumberOfColumnsPerTable": "11"
                },
                {
                  "TABLE_NAME": "SalesOrderDetail",
                  "COLUMN_NAME": "OrderQty",
                  "DATA_TYPE": "smallint",
                  "NumberOfColumnsPerTable": "11"
                },
                {
                  "TABLE_NAME": "SalesOrderDetail",
                  "COLUMN_NAME": "ProductID",
                  "DATA_TYPE": "int",
                  "NumberOfColumnsPerTable": "11"
                },
                {
                  "TABLE_NAME": "SalesOrderDetail",
                  "COLUMN_NAME": "rowguid",
                  "DATA_TYPE": "uniqueidentifier",
                  "NumberOfColumnsPerTable": "11"
                },
                {
                  "TABLE_NAME": "SalesOrderDetail",
                  "COLUMN_NAME": "SalesOrderDetailID",
                  "DATA_TYPE": "int",
                  "NumberOfColumnsPerTable": "11"
                },
                {
                  "TABLE_NAME": "SalesOrderDetail",
                  "COLUMN_NAME": "SalesOrderID",
                  "DATA_TYPE": "int",
                  "NumberOfColumnsPerTable": "11"
                },
                {
                  "TABLE_NAME": "SalesOrderDetail",
                  "COLUMN_NAME": "SpecialOfferID",
                  "DATA_TYPE": "int",
                  "NumberOfColumnsPerTable": "11"
                },
                {
                  "TABLE_NAME": "SalesOrderDetail",
                  "COLUMN_NAME": "UnitPrice",
                  "DATA_TYPE": "money",
                  "NumberOfColumnsPerTable": "11"
                },
                {
                  "TABLE_NAME": "SalesOrderDetail",
                  "COLUMN_NAME": "UnitPriceDiscount",
                  "DATA_TYPE": "money",
                  "NumberOfColumnsPerTable": "11"
                },
                {
                  "TABLE_NAME": "SalesOrderHeader",
                  "COLUMN_NAME": "AccountNumber",
                  "DATA_TYPE": "nvarchar",
                  "NumberOfColumnsPerTable": "26"
                },
                {
                  "TABLE_NAME": "SalesOrderHeader",
                  "COLUMN_NAME": "BillToAddressID",
                  "DATA_TYPE": "int",
                  "NumberOfColumnsPerTable": "26"
                },
                {
                  "TABLE_NAME": "SalesOrderHeader",
                  "COLUMN_NAME": "Comment",
                  "DATA_TYPE": "nvarchar",
                  "NumberOfColumnsPerTable": "26"
                },
                {
                  "TABLE_NAME": "SalesOrderHeader",
                  "COLUMN_NAME": "CreditCardApprovalCode",
                  "DATA_TYPE": "varchar",
                  "NumberOfColumnsPerTable": "26"
                },
                {
                  "TABLE_NAME": "SalesOrderHeader",
                  "COLUMN_NAME": "CreditCardID",
                  "DATA_TYPE": "int",
                  "NumberOfColumnsPerTable": "26"
                },
                {
                  "TABLE_NAME": "SalesOrderHeader",
                  "COLUMN_NAME": "CurrencyRateID",
                  "DATA_TYPE": "int",
                  "NumberOfColumnsPerTable": "26"
                },
                {
                  "TABLE_NAME": "SalesOrderHeader",
                  "COLUMN_NAME": "CustomerID",
                  "DATA_TYPE": "int",
                  "NumberOfColumnsPerTable": "26"
                },
                {
                  "TABLE_NAME": "SalesOrderHeader",
                  "COLUMN_NAME": "DueDate",
                  "DATA_TYPE": "datetime",
                  "NumberOfColumnsPerTable": "26"
                },
                {
                  "TABLE_NAME": "SalesOrderHeader",
                  "COLUMN_NAME": "Freight",
                  "DATA_TYPE": "money",
                  "NumberOfColumnsPerTable": "26"
                },
                {
                  "TABLE_NAME": "SalesOrderHeader",
                  "COLUMN_NAME": "ModifiedDate",
                  "DATA_TYPE": "datetime",
                  "NumberOfColumnsPerTable": "26"
                },
                {
                  "TABLE_NAME": "SalesOrderHeader",
                  "COLUMN_NAME": "OnlineOrderFlag",
                  "DATA_TYPE": "bit",
                  "NumberOfColumnsPerTable": "26"
                },
                {
                  "TABLE_NAME": "SalesOrderHeader",
                  "COLUMN_NAME": "OrderDate",
                  "DATA_TYPE": "datetime",
                  "NumberOfColumnsPerTable": "26"
                },
                {
                  "TABLE_NAME": "SalesOrderHeader",
                  "COLUMN_NAME": "PurchaseOrderNumber",
                  "DATA_TYPE": "nvarchar",
                  "NumberOfColumnsPerTable": "26"
                },
                {
                  "TABLE_NAME": "SalesOrderHeader",
                  "COLUMN_NAME": "RevisionNumber",
                  "DATA_TYPE": "tinyint",
                  "NumberOfColumnsPerTable": "26"
                },
                {
                  "TABLE_NAME": "SalesOrderHeader",
                  "COLUMN_NAME": "rowguid",
                  "DATA_TYPE": "uniqueidentifier",
                  "NumberOfColumnsPerTable": "26"
                },
                {
                  "TABLE_NAME": "SalesOrderHeader",
                  "COLUMN_NAME": "SalesOrderID",
                  "DATA_TYPE": "int",
                  "NumberOfColumnsPerTable": "26"
                },
                {
                  "TABLE_NAME": "SalesOrderHeader",
                  "COLUMN_NAME": "SalesOrderNumber",
                  "DATA_TYPE": "nvarchar",
                  "NumberOfColumnsPerTable": "26"
                },
                {
                  "TABLE_NAME": "SalesOrderHeader",
                  "COLUMN_NAME": "SalesPersonID",
                  "DATA_TYPE": "int",
                  "NumberOfColumnsPerTable": "26"
                },
                {
                  "TABLE_NAME": "SalesOrderHeader",
                  "COLUMN_NAME": "ShipDate",
                  "DATA_TYPE": "datetime",
                  "NumberOfColumnsPerTable": "26"
                },
                {
                  "TABLE_NAME": "SalesOrderHeader",
                  "COLUMN_NAME": "ShipMethodID",
                  "DATA_TYPE": "int",
                  "NumberOfColumnsPerTable": "26"
                },
                {
                  "TABLE_NAME": "SalesOrderHeader",
                  "COLUMN_NAME": "ShipToAddressID",
                  "DATA_TYPE": "int",
                  "NumberOfColumnsPerTable": "26"
                },
                {
                  "TABLE_NAME": "SalesOrderHeader",
                  "COLUMN_NAME": "Status",
                  "DATA_TYPE": "tinyint",
                  "NumberOfColumnsPerTable": "26"
                },
                {
                  "TABLE_NAME": "SalesOrderHeader",
                  "COLUMN_NAME": "SubTotal",
                  "DATA_TYPE": "money",
                  "NumberOfColumnsPerTable": "26"
                },
                {
                  "TABLE_NAME": "SalesOrderHeader",
                  "COLUMN_NAME": "TaxAmt",
                  "DATA_TYPE": "money",
                  "NumberOfColumnsPerTable": "26"
                },
                {
                  "TABLE_NAME": "SalesOrderHeader",
                  "COLUMN_NAME": "TerritoryID",
                  "DATA_TYPE": "int",
                  "NumberOfColumnsPerTable": "26"
                },
                {
                  "TABLE_NAME": "SalesOrderHeader",
                  "COLUMN_NAME": "TotalDue",
                  "DATA_TYPE": "money",
                  "NumberOfColumnsPerTable": "26"
                },
                {
                  "TABLE_NAME": "SalesOrderHeaderSalesReason",
                  "COLUMN_NAME": "ModifiedDate",
                  "DATA_TYPE": "datetime",
                  "NumberOfColumnsPerTable": "3"
                },
                {
                  "TABLE_NAME": "SalesOrderHeaderSalesReason",
                  "COLUMN_NAME": "SalesOrderID",
                  "DATA_TYPE": "int",
                  "NumberOfColumnsPerTable": "3"
                },
                {
                  "TABLE_NAME": "SalesOrderHeaderSalesReason",
                  "COLUMN_NAME": "SalesReasonID",
                  "DATA_TYPE": "int",
                  "NumberOfColumnsPerTable": "3"
                },
                {
                  "TABLE_NAME": "SalesPerson",
                  "COLUMN_NAME": "Bonus",
                  "DATA_TYPE": "money",
                  "NumberOfColumnsPerTable": "9"
                },
                {
                  "TABLE_NAME": "SalesPerson",
                  "COLUMN_NAME": "BusinessEntityID",
                  "DATA_TYPE": "int",
                  "NumberOfColumnsPerTable": "9"
                },
                {
                  "TABLE_NAME": "SalesPerson",
                  "COLUMN_NAME": "CommissionPct",
                  "DATA_TYPE": "smallmoney",
                  "NumberOfColumnsPerTable": "9"
                },
                {
                  "TABLE_NAME": "SalesPerson",
                  "COLUMN_NAME": "ModifiedDate",
                  "DATA_TYPE": "datetime",
                  "NumberOfColumnsPerTable": "9"
                },
                {
                  "TABLE_NAME": "SalesPerson",
                  "COLUMN_NAME": "rowguid",
                  "DATA_TYPE": "uniqueidentifier",
                  "NumberOfColumnsPerTable": "9"
                },
                {
                  "TABLE_NAME": "SalesPerson",
                  "COLUMN_NAME": "SalesLastYear",
                  "DATA_TYPE": "money",
                  "NumberOfColumnsPerTable": "9"
                },
                {
                  "TABLE_NAME": "SalesPerson",
                  "COLUMN_NAME": "SalesQuota",
                  "DATA_TYPE": "money",
                  "NumberOfColumnsPerTable": "9"
                },
                {
                  "TABLE_NAME": "SalesPerson",
                  "COLUMN_NAME": "SalesYTD",
                  "DATA_TYPE": "money",
                  "NumberOfColumnsPerTable": "9"
                },
                {
                  "TABLE_NAME": "SalesPerson",
                  "COLUMN_NAME": "TerritoryID",
                  "DATA_TYPE": "int",
                  "NumberOfColumnsPerTable": "9"
                },
                {
                  "TABLE_NAME": "SalesPersonQuotaHistory",
                  "COLUMN_NAME": "BusinessEntityID",
                  "DATA_TYPE": "int",
                  "NumberOfColumnsPerTable": "5"
                },
                {
                  "TABLE_NAME": "SalesPersonQuotaHistory",
                  "COLUMN_NAME": "ModifiedDate",
                  "DATA_TYPE": "datetime",
                  "NumberOfColumnsPerTable": "5"
                },
                {
                  "TABLE_NAME": "SalesPersonQuotaHistory",
                  "COLUMN_NAME": "QuotaDate",
                  "DATA_TYPE": "datetime",
                  "NumberOfColumnsPerTable": "5"
                },
                {
                  "TABLE_NAME": "SalesPersonQuotaHistory",
                  "COLUMN_NAME": "rowguid",
                  "DATA_TYPE": "uniqueidentifier",
                  "NumberOfColumnsPerTable": "5"
                },
                {
                  "TABLE_NAME": "SalesPersonQuotaHistory",
                  "COLUMN_NAME": "SalesQuota",
                  "DATA_TYPE": "money",
                  "NumberOfColumnsPerTable": "5"
                },
                {
                  "TABLE_NAME": "SalesReason",
                  "COLUMN_NAME": "ModifiedDate",
                  "DATA_TYPE": "datetime",
                  "NumberOfColumnsPerTable": "4"
                },
                {
                  "TABLE_NAME": "SalesReason",
                  "COLUMN_NAME": "Name",
                  "DATA_TYPE": "nvarchar",
                  "NumberOfColumnsPerTable": "4"
                },
                {
                  "TABLE_NAME": "SalesReason",
                  "COLUMN_NAME": "ReasonType",
                  "DATA_TYPE": "nvarchar",
                  "NumberOfColumnsPerTable": "4"
                },
                {
                  "TABLE_NAME": "SalesReason",
                  "COLUMN_NAME": "SalesReasonID",
                  "DATA_TYPE": "int",
                  "NumberOfColumnsPerTable": "4"
                },
                {
                  "TABLE_NAME": "SalesTaxRate",
                  "COLUMN_NAME": "ModifiedDate",
                  "DATA_TYPE": "datetime",
                  "NumberOfColumnsPerTable": "7"
                },
                {
                  "TABLE_NAME": "SalesTaxRate",
                  "COLUMN_NAME": "Name",
                  "DATA_TYPE": "nvarchar",
                  "NumberOfColumnsPerTable": "7"
                },
                {
                  "TABLE_NAME": "SalesTaxRate",
                  "COLUMN_NAME": "rowguid",
                  "DATA_TYPE": "uniqueidentifier",
                  "NumberOfColumnsPerTable": "7"
                },
                {
                  "TABLE_NAME": "SalesTaxRate",
                  "COLUMN_NAME": "SalesTaxRateID",
                  "DATA_TYPE": "int",
                  "NumberOfColumnsPerTable": "7"
                },
                {
                  "TABLE_NAME": "SalesTaxRate",
                  "COLUMN_NAME": "StateProvinceID",
                  "DATA_TYPE": "int",
                  "NumberOfColumnsPerTable": "7"
                },
                {
                  "TABLE_NAME": "SalesTaxRate",
                  "COLUMN_NAME": "TaxRate",
                  "DATA_TYPE": "smallmoney",
                  "NumberOfColumnsPerTable": "7"
                },
                {
                  "TABLE_NAME": "SalesTaxRate",
                  "COLUMN_NAME": "TaxType",
                  "DATA_TYPE": "tinyint",
                  "NumberOfColumnsPerTable": "7"
                },
                {
                  "TABLE_NAME": "SalesTerritory",
                  "COLUMN_NAME": "CostLastYear",
                  "DATA_TYPE": "money",
                  "NumberOfColumnsPerTable": "10"
                },
                {
                  "TABLE_NAME": "SalesTerritory",
                  "COLUMN_NAME": "CostYTD",
                  "DATA_TYPE": "money",
                  "NumberOfColumnsPerTable": "10"
                },
                {
                  "TABLE_NAME": "SalesTerritory",
                  "COLUMN_NAME": "CountryRegionCode",
                  "DATA_TYPE": "nvarchar",
                  "NumberOfColumnsPerTable": "10"
                },
                {
                  "TABLE_NAME": "SalesTerritory",
                  "COLUMN_NAME": "Group",
                  "DATA_TYPE": "nvarchar",
                  "NumberOfColumnsPerTable": "10"
                },
                {
                  "TABLE_NAME": "SalesTerritory",
                  "COLUMN_NAME": "ModifiedDate",
                  "DATA_TYPE": "datetime",
                  "NumberOfColumnsPerTable": "10"
                },
                {
                  "TABLE_NAME": "SalesTerritory",
                  "COLUMN_NAME": "Name",
                  "DATA_TYPE": "nvarchar",
                  "NumberOfColumnsPerTable": "10"
                },
                {
                  "TABLE_NAME": "SalesTerritory",
                  "COLUMN_NAME": "rowguid",
                  "DATA_TYPE": "uniqueidentifier",
                  "NumberOfColumnsPerTable": "10"
                },
                {
                  "TABLE_NAME": "SalesTerritory",
                  "COLUMN_NAME": "SalesLastYear",
                  "DATA_TYPE": "money",
                  "NumberOfColumnsPerTable": "10"
                },
                {
                  "TABLE_NAME": "SalesTerritory",
                  "COLUMN_NAME": "SalesYTD",
                  "DATA_TYPE": "money",
                  "NumberOfColumnsPerTable": "10"
                },
                {
                  "TABLE_NAME": "SalesTerritory",
                  "COLUMN_NAME": "TerritoryID",
                  "DATA_TYPE": "int",
                  "NumberOfColumnsPerTable": "10"
                },
                {
                  "TABLE_NAME": "SalesTerritoryHistory",
                  "COLUMN_NAME": "BusinessEntityID",
                  "DATA_TYPE": "int",
                  "NumberOfColumnsPerTable": "6"
                },
                {
                  "TABLE_NAME": "SalesTerritoryHistory",
                  "COLUMN_NAME": "EndDate",
                  "DATA_TYPE": "datetime",
                  "NumberOfColumnsPerTable": "6"
                },
                {
                  "TABLE_NAME": "SalesTerritoryHistory",
                  "COLUMN_NAME": "ModifiedDate",
                  "DATA_TYPE": "datetime",
                  "NumberOfColumnsPerTable": "6"
                },
                {
                  "TABLE_NAME": "SalesTerritoryHistory",
                  "COLUMN_NAME": "rowguid",
                  "DATA_TYPE": "uniqueidentifier",
                  "NumberOfColumnsPerTable": "6"
                },
                {
                  "TABLE_NAME": "SalesTerritoryHistory",
                  "COLUMN_NAME": "StartDate",
                  "DATA_TYPE": "datetime",
                  "NumberOfColumnsPerTable": "6"
                },
                {
                  "TABLE_NAME": "SalesTerritoryHistory",
                  "COLUMN_NAME": "TerritoryID",
                  "DATA_TYPE": "int",
                  "NumberOfColumnsPerTable": "6"
                },
                {
                  "TABLE_NAME": "ShoppingCartItem",
                  "COLUMN_NAME": "DateCreated",
                  "DATA_TYPE": "datetime",
                  "NumberOfColumnsPerTable": "6"
                },
                {
                  "TABLE_NAME": "ShoppingCartItem",
                  "COLUMN_NAME": "ModifiedDate",
                  "DATA_TYPE": "datetime",
                  "NumberOfColumnsPerTable": "6"
                },
                {
                  "TABLE_NAME": "ShoppingCartItem",
                  "COLUMN_NAME": "ProductID",
                  "DATA_TYPE": "int",
                  "NumberOfColumnsPerTable": "6"
                },
                {
                  "TABLE_NAME": "ShoppingCartItem",
                  "COLUMN_NAME": "Quantity",
                  "DATA_TYPE": "int",
                  "NumberOfColumnsPerTable": "6"
                },
                {
                  "TABLE_NAME": "ShoppingCartItem",
                  "COLUMN_NAME": "ShoppingCartID",
                  "DATA_TYPE": "nvarchar",
                  "NumberOfColumnsPerTable": "6"
                },
                {
                  "TABLE_NAME": "ShoppingCartItem",
                  "COLUMN_NAME": "ShoppingCartItemID",
                  "DATA_TYPE": "int",
                  "NumberOfColumnsPerTable": "6"
                },
                {
                  "TABLE_NAME": "SpecialOffer",
                  "COLUMN_NAME": "Category",
                  "DATA_TYPE": "nvarchar",
                  "NumberOfColumnsPerTable": "11"
                },
                {
                  "TABLE_NAME": "SpecialOffer",
                  "COLUMN_NAME": "Description",
                  "DATA_TYPE": "nvarchar",
                  "NumberOfColumnsPerTable": "11"
                },
                {
                  "TABLE_NAME": "SpecialOffer",
                  "COLUMN_NAME": "DiscountPct",
                  "DATA_TYPE": "smallmoney",
                  "NumberOfColumnsPerTable": "11"
                },
                {
                  "TABLE_NAME": "SpecialOffer",
                  "COLUMN_NAME": "EndDate",
                  "DATA_TYPE": "datetime",
                  "NumberOfColumnsPerTable": "11"
                },
                {
                  "TABLE_NAME": "SpecialOffer",
                  "COLUMN_NAME": "MaxQty",
                  "DATA_TYPE": "int",
                  "NumberOfColumnsPerTable": "11"
                },
                {
                  "TABLE_NAME": "SpecialOffer",
                  "COLUMN_NAME": "MinQty",
                  "DATA_TYPE": "int",
                  "NumberOfColumnsPerTable": "11"
                },
                {
                  "TABLE_NAME": "SpecialOffer",
                  "COLUMN_NAME": "ModifiedDate",
                  "DATA_TYPE": "datetime",
                  "NumberOfColumnsPerTable": "11"
                },
                {
                  "TABLE_NAME": "SpecialOffer",
                  "COLUMN_NAME": "rowguid",
                  "DATA_TYPE": "uniqueidentifier",
                  "NumberOfColumnsPerTable": "11"
                },
                {
                  "TABLE_NAME": "SpecialOffer",
                  "COLUMN_NAME": "SpecialOfferID",
                  "DATA_TYPE": "int",
                  "NumberOfColumnsPerTable": "11"
                },
                {
                  "TABLE_NAME": "SpecialOffer",
                  "COLUMN_NAME": "StartDate",
                  "DATA_TYPE": "datetime",
                  "NumberOfColumnsPerTable": "11"
                },
                {
                  "TABLE_NAME": "SpecialOffer",
                  "COLUMN_NAME": "Type",
                  "DATA_TYPE": "nvarchar",
                  "NumberOfColumnsPerTable": "11"
                },
                {
                  "TABLE_NAME": "SpecialOfferProduct",
                  "COLUMN_NAME": "ModifiedDate",
                  "DATA_TYPE": "datetime",
                  "NumberOfColumnsPerTable": "4"
                },
                {
                  "TABLE_NAME": "SpecialOfferProduct",
                  "COLUMN_NAME": "ProductID",
                  "DATA_TYPE": "int",
                  "NumberOfColumnsPerTable": "4"
                },
                {
                  "TABLE_NAME": "SpecialOfferProduct",
                  "COLUMN_NAME": "rowguid",
                  "DATA_TYPE": "uniqueidentifier",
                  "NumberOfColumnsPerTable": "4"
                },
                {
                  "TABLE_NAME": "SpecialOfferProduct",
                  "COLUMN_NAME": "SpecialOfferID",
                  "DATA_TYPE": "int",
                  "NumberOfColumnsPerTable": "4"
                },
                {
                  "TABLE_NAME": "Store",
                  "COLUMN_NAME": "BusinessEntityID",
                  "DATA_TYPE": "int",
                  "NumberOfColumnsPerTable": "6"
                },
                {
                  "TABLE_NAME": "Store",
                  "COLUMN_NAME": "Demographics",
                  "DATA_TYPE": "xml",
                  "NumberOfColumnsPerTable": "6"
                },
                {
                  "TABLE_NAME": "Store",
                  "COLUMN_NAME": "ModifiedDate",
                  "DATA_TYPE": "datetime",
                  "NumberOfColumnsPerTable": "6"
                },
                {
                  "TABLE_NAME": "Store",
                  "COLUMN_NAME": "Name",
                  "DATA_TYPE": "nvarchar",
                  "NumberOfColumnsPerTable": "6"
                },
                {
                  "TABLE_NAME": "Store",
                  "COLUMN_NAME": "rowguid",
                  "DATA_TYPE": "uniqueidentifier",
                  "NumberOfColumnsPerTable": "6"
                },
                {
                  "TABLE_NAME": "Store",
                  "COLUMN_NAME": "SalesPersonID",
                  "DATA_TYPE": "int",
                  "NumberOfColumnsPerTable": "6"
                },
                {
                  "TABLE_NAME": "vIndividualCustomer",
                  "COLUMN_NAME": "AddressLine1",
                  "DATA_TYPE": "nvarchar",
                  "NumberOfColumnsPerTable": "18"
                },
                {
                  "TABLE_NAME": "vIndividualCustomer",
                  "COLUMN_NAME": "AddressLine2",
                  "DATA_TYPE": "nvarchar",
                  "NumberOfColumnsPerTable": "18"
                },
                {
                  "TABLE_NAME": "vIndividualCustomer",
                  "COLUMN_NAME": "AddressType",
                  "DATA_TYPE": "nvarchar",
                  "NumberOfColumnsPerTable": "18"
                },
                {
                  "TABLE_NAME": "vIndividualCustomer",
                  "COLUMN_NAME": "BusinessEntityID",
                  "DATA_TYPE": "int",
                  "NumberOfColumnsPerTable": "18"
                },
                {
                  "TABLE_NAME": "vIndividualCustomer",
                  "COLUMN_NAME": "City",
                  "DATA_TYPE": "nvarchar",
                  "NumberOfColumnsPerTable": "18"
                },
                {
                  "TABLE_NAME": "vIndividualCustomer",
                  "COLUMN_NAME": "CountryRegionName",
                  "DATA_TYPE": "nvarchar",
                  "NumberOfColumnsPerTable": "18"
                },
                {
                  "TABLE_NAME": "vIndividualCustomer",
                  "COLUMN_NAME": "Demographics",
                  "DATA_TYPE": "xml",
                  "NumberOfColumnsPerTable": "18"
                },
                {
                  "TABLE_NAME": "vIndividualCustomer",
                  "COLUMN_NAME": "EmailAddress",
                  "DATA_TYPE": "nvarchar",
                  "NumberOfColumnsPerTable": "18"
                },
                {
                  "TABLE_NAME": "vIndividualCustomer",
                  "COLUMN_NAME": "EmailPromotion",
                  "DATA_TYPE": "int",
                  "NumberOfColumnsPerTable": "18"
                },
                {
                  "TABLE_NAME": "vIndividualCustomer",
                  "COLUMN_NAME": "FirstName",
                  "DATA_TYPE": "nvarchar",
                  "NumberOfColumnsPerTable": "18"
                },
                {
                  "TABLE_NAME": "vIndividualCustomer",
                  "COLUMN_NAME": "LastName",
                  "DATA_TYPE": "nvarchar",
                  "NumberOfColumnsPerTable": "18"
                },
                {
                  "TABLE_NAME": "vIndividualCustomer",
                  "COLUMN_NAME": "MiddleName",
                  "DATA_TYPE": "nvarchar",
                  "NumberOfColumnsPerTable": "18"
                },
                {
                  "TABLE_NAME": "vIndividualCustomer",
                  "COLUMN_NAME": "PhoneNumber",
                  "DATA_TYPE": "nvarchar",
                  "NumberOfColumnsPerTable": "18"
                },
                {
                  "TABLE_NAME": "vIndividualCustomer",
                  "COLUMN_NAME": "PhoneNumberType",
                  "DATA_TYPE": "nvarchar",
                  "NumberOfColumnsPerTable": "18"
                },
                {
                  "TABLE_NAME": "vIndividualCustomer",
                  "COLUMN_NAME": "PostalCode",
                  "DATA_TYPE": "nvarchar",
                  "NumberOfColumnsPerTable": "18"
                },
                {
                  "TABLE_NAME": "vIndividualCustomer",
                  "COLUMN_NAME": "StateProvinceName",
                  "DATA_TYPE": "nvarchar",
                  "NumberOfColumnsPerTable": "18"
                },
                {
                  "TABLE_NAME": "vIndividualCustomer",
                  "COLUMN_NAME": "Suffix",
                  "DATA_TYPE": "nvarchar",
                  "NumberOfColumnsPerTable": "18"
                },
                {
                  "TABLE_NAME": "vIndividualCustomer",
                  "COLUMN_NAME": "Title",
                  "DATA_TYPE": "nvarchar",
                  "NumberOfColumnsPerTable": "18"
                },
                {
                  "TABLE_NAME": "vPersonDemographics",
                  "COLUMN_NAME": "BirthDate",
                  "DATA_TYPE": "datetime",
                  "NumberOfColumnsPerTable": "13"
                },
                {
                  "TABLE_NAME": "vPersonDemographics",
                  "COLUMN_NAME": "BusinessEntityID",
                  "DATA_TYPE": "int",
                  "NumberOfColumnsPerTable": "13"
                },
                {
                  "TABLE_NAME": "vPersonDemographics",
                  "COLUMN_NAME": "DateFirstPurchase",
                  "DATA_TYPE": "datetime",
                  "NumberOfColumnsPerTable": "13"
                },
                {
                  "TABLE_NAME": "vPersonDemographics",
                  "COLUMN_NAME": "Education",
                  "DATA_TYPE": "nvarchar",
                  "NumberOfColumnsPerTable": "13"
                },
                {
                  "TABLE_NAME": "vPersonDemographics",
                  "COLUMN_NAME": "Gender",
                  "DATA_TYPE": "nvarchar",
                  "NumberOfColumnsPerTable": "13"
                },
                {
                  "TABLE_NAME": "vPersonDemographics",
                  "COLUMN_NAME": "HomeOwnerFlag",
                  "DATA_TYPE": "bit",
                  "NumberOfColumnsPerTable": "13"
                },
                {
                  "TABLE_NAME": "vPersonDemographics",
                  "COLUMN_NAME": "MaritalStatus",
                  "DATA_TYPE": "nvarchar",
                  "NumberOfColumnsPerTable": "13"
                },
                {
                  "TABLE_NAME": "vPersonDemographics",
                  "COLUMN_NAME": "NumberCarsOwned",
                  "DATA_TYPE": "int",
                  "NumberOfColumnsPerTable": "13"
                },
                {
                  "TABLE_NAME": "vPersonDemographics",
                  "COLUMN_NAME": "NumberChildrenAtHome",
                  "DATA_TYPE": "int",
                  "NumberOfColumnsPerTable": "13"
                },
                {
                  "TABLE_NAME": "vPersonDemographics",
                  "COLUMN_NAME": "Occupation",
                  "DATA_TYPE": "nvarchar",
                  "NumberOfColumnsPerTable": "13"
                },
                {
                  "TABLE_NAME": "vPersonDemographics",
                  "COLUMN_NAME": "TotalChildren",
                  "DATA_TYPE": "int",
                  "NumberOfColumnsPerTable": "13"
                },
                {
                  "TABLE_NAME": "vPersonDemographics",
                  "COLUMN_NAME": "TotalPurchaseYTD",
                  "DATA_TYPE": "money",
                  "NumberOfColumnsPerTable": "13"
                },
                {
                  "TABLE_NAME": "vPersonDemographics",
                  "COLUMN_NAME": "YearlyIncome",
                  "DATA_TYPE": "nvarchar",
                  "NumberOfColumnsPerTable": "13"
                },
                {
                  "TABLE_NAME": "vSalesPerson",
                  "COLUMN_NAME": "AddressLine1",
                  "DATA_TYPE": "nvarchar",
                  "NumberOfColumnsPerTable": "22"
                },
                {
                  "TABLE_NAME": "vSalesPerson",
                  "COLUMN_NAME": "AddressLine2",
                  "DATA_TYPE": "nvarchar",
                  "NumberOfColumnsPerTable": "22"
                },
                {
                  "TABLE_NAME": "vSalesPerson",
                  "COLUMN_NAME": "BusinessEntityID",
                  "DATA_TYPE": "int",
                  "NumberOfColumnsPerTable": "22"
                },
                {
                  "TABLE_NAME": "vSalesPerson",
                  "COLUMN_NAME": "City",
                  "DATA_TYPE": "nvarchar",
                  "NumberOfColumnsPerTable": "22"
                },
                {
                  "TABLE_NAME": "vSalesPerson",
                  "COLUMN_NAME": "CountryRegionName",
                  "DATA_TYPE": "nvarchar",
                  "NumberOfColumnsPerTable": "22"
                },
                {
                  "TABLE_NAME": "vSalesPerson",
                  "COLUMN_NAME": "EmailAddress",
                  "DATA_TYPE": "nvarchar",
                  "NumberOfColumnsPerTable": "22"
                },
                {
                  "TABLE_NAME": "vSalesPerson",
                  "COLUMN_NAME": "EmailPromotion",
                  "DATA_TYPE": "int",
                  "NumberOfColumnsPerTable": "22"
                },
                {
                  "TABLE_NAME": "vSalesPerson",
                  "COLUMN_NAME": "FirstName",
                  "DATA_TYPE": "nvarchar",
                  "NumberOfColumnsPerTable": "22"
                },
                {
                  "TABLE_NAME": "vSalesPerson",
                  "COLUMN_NAME": "JobTitle",
                  "DATA_TYPE": "nvarchar",
                  "NumberOfColumnsPerTable": "22"
                },
                {
                  "TABLE_NAME": "vSalesPerson",
                  "COLUMN_NAME": "LastName",
                  "DATA_TYPE": "nvarchar",
                  "NumberOfColumnsPerTable": "22"
                },
                {
                  "TABLE_NAME": "vSalesPerson",
                  "COLUMN_NAME": "MiddleName",
                  "DATA_TYPE": "nvarchar",
                  "NumberOfColumnsPerTable": "22"
                },
                {
                  "TABLE_NAME": "vSalesPerson",
                  "COLUMN_NAME": "PhoneNumber",
                  "DATA_TYPE": "nvarchar",
                  "NumberOfColumnsPerTable": "22"
                },
                {
                  "TABLE_NAME": "vSalesPerson",
                  "COLUMN_NAME": "PhoneNumberType",
                  "DATA_TYPE": "nvarchar",
                  "NumberOfColumnsPerTable": "22"
                },
                {
                  "TABLE_NAME": "vSalesPerson",
                  "COLUMN_NAME": "PostalCode",
                  "DATA_TYPE": "nvarchar",
                  "NumberOfColumnsPerTable": "22"
                },
                {
                  "TABLE_NAME": "vSalesPerson",
                  "COLUMN_NAME": "SalesLastYear",
                  "DATA_TYPE": "money",
                  "NumberOfColumnsPerTable": "22"
                },
                {
                  "TABLE_NAME": "vSalesPerson",
                  "COLUMN_NAME": "SalesQuota",
                  "DATA_TYPE": "money",
                  "NumberOfColumnsPerTable": "22"
                },
                {
                  "TABLE_NAME": "vSalesPerson",
                  "COLUMN_NAME": "SalesYTD",
                  "DATA_TYPE": "money",
                  "NumberOfColumnsPerTable": "22"
                },
                {
                  "TABLE_NAME": "vSalesPerson",
                  "COLUMN_NAME": "StateProvinceName",
                  "DATA_TYPE": "nvarchar",
                  "NumberOfColumnsPerTable": "22"
                },
                {
                  "TABLE_NAME": "vSalesPerson",
                  "COLUMN_NAME": "Suffix",
                  "DATA_TYPE": "nvarchar",
                  "NumberOfColumnsPerTable": "22"
                },
                {
                  "TABLE_NAME": "vSalesPerson",
                  "COLUMN_NAME": "TerritoryGroup",
                  "DATA_TYPE": "nvarchar",
                  "NumberOfColumnsPerTable": "22"
                },
                {
                  "TABLE_NAME": "vSalesPerson",
                  "COLUMN_NAME": "TerritoryName",
                  "DATA_TYPE": "nvarchar",
                  "NumberOfColumnsPerTable": "22"
                },
                {
                  "TABLE_NAME": "vSalesPerson",
                  "COLUMN_NAME": "Title",
                  "DATA_TYPE": "nvarchar",
                  "NumberOfColumnsPerTable": "22"
                },
                {
                  "TABLE_NAME": "vSalesPersonSalesByFiscalYears",
                  "COLUMN_NAME": "2002",
                  "DATA_TYPE": "money",
                  "NumberOfColumnsPerTable": "7"
                },
                {
                  "TABLE_NAME": "vSalesPersonSalesByFiscalYears",
                  "COLUMN_NAME": "2003",
                  "DATA_TYPE": "money",
                  "NumberOfColumnsPerTable": "7"
                },
                {
                  "TABLE_NAME": "vSalesPersonSalesByFiscalYears",
                  "COLUMN_NAME": "2004",
                  "DATA_TYPE": "money",
                  "NumberOfColumnsPerTable": "7"
                },
                {
                  "TABLE_NAME": "vSalesPersonSalesByFiscalYears",
                  "COLUMN_NAME": "FullName",
                  "DATA_TYPE": "nvarchar",
                  "NumberOfColumnsPerTable": "7"
                },
                {
                  "TABLE_NAME": "vSalesPersonSalesByFiscalYears",
                  "COLUMN_NAME": "JobTitle",
                  "DATA_TYPE": "nvarchar",
                  "NumberOfColumnsPerTable": "7"
                },
                {
                  "TABLE_NAME": "vSalesPersonSalesByFiscalYears",
                  "COLUMN_NAME": "SalesPersonID",
                  "DATA_TYPE": "int",
                  "NumberOfColumnsPerTable": "7"
                },
                {
                  "TABLE_NAME": "vSalesPersonSalesByFiscalYears",
                  "COLUMN_NAME": "SalesTerritory",
                  "DATA_TYPE": "nvarchar",
                  "NumberOfColumnsPerTable": "7"
                },
                {
                  "TABLE_NAME": "vStoreWithAddresses",
                  "COLUMN_NAME": "AddressLine1",
                  "DATA_TYPE": "nvarchar",
                  "NumberOfColumnsPerTable": "9"
                },
                {
                  "TABLE_NAME": "vStoreWithAddresses",
                  "COLUMN_NAME": "AddressLine2",
                  "DATA_TYPE": "nvarchar",
                  "NumberOfColumnsPerTable": "9"
                },
                {
                  "TABLE_NAME": "vStoreWithAddresses",
                  "COLUMN_NAME": "AddressType",
                  "DATA_TYPE": "nvarchar",
                  "NumberOfColumnsPerTable": "9"
                },
                {
                  "TABLE_NAME": "vStoreWithAddresses",
                  "COLUMN_NAME": "BusinessEntityID",
                  "DATA_TYPE": "int",
                  "NumberOfColumnsPerTable": "9"
                },
                {
                  "TABLE_NAME": "vStoreWithAddresses",
                  "COLUMN_NAME": "City",
                  "DATA_TYPE": "nvarchar",
                  "NumberOfColumnsPerTable": "9"
                },
                {
                  "TABLE_NAME": "vStoreWithAddresses",
                  "COLUMN_NAME": "CountryRegionName",
                  "DATA_TYPE": "nvarchar",
                  "NumberOfColumnsPerTable": "9"
                },
                {
                  "TABLE_NAME": "vStoreWithAddresses",
                  "COLUMN_NAME": "Name",
                  "DATA_TYPE": "nvarchar",
                  "NumberOfColumnsPerTable": "9"
                },
                {
                  "TABLE_NAME": "vStoreWithAddresses",
                  "COLUMN_NAME": "PostalCode",
                  "DATA_TYPE": "nvarchar",
                  "NumberOfColumnsPerTable": "9"
                },
                {
                  "TABLE_NAME": "vStoreWithAddresses",
                  "COLUMN_NAME": "StateProvinceName",
                  "DATA_TYPE": "nvarchar",
                  "NumberOfColumnsPerTable": "9"
                },
                {
                  "TABLE_NAME": "vStoreWithContacts",
                  "COLUMN_NAME": "BusinessEntityID",
                  "DATA_TYPE": "int",
                  "NumberOfColumnsPerTable": "12"
                },
                {
                  "TABLE_NAME": "vStoreWithContacts",
                  "COLUMN_NAME": "ContactType",
                  "DATA_TYPE": "nvarchar",
                  "NumberOfColumnsPerTable": "12"
                },
                {
                  "TABLE_NAME": "vStoreWithContacts",
                  "COLUMN_NAME": "EmailAddress",
                  "DATA_TYPE": "nvarchar",
                  "NumberOfColumnsPerTable": "12"
                },
                {
                  "TABLE_NAME": "vStoreWithContacts",
                  "COLUMN_NAME": "EmailPromotion",
                  "DATA_TYPE": "int",
                  "NumberOfColumnsPerTable": "12"
                },
                {
                  "TABLE_NAME": "vStoreWithContacts",
                  "COLUMN_NAME": "FirstName",
                  "DATA_TYPE": "nvarchar",
                  "NumberOfColumnsPerTable": "12"
                },
                {
                  "TABLE_NAME": "vStoreWithContacts",
                  "COLUMN_NAME": "LastName",
                  "DATA_TYPE": "nvarchar",
                  "NumberOfColumnsPerTable": "12"
                },
                {
                  "TABLE_NAME": "vStoreWithContacts",
                  "COLUMN_NAME": "MiddleName",
                  "DATA_TYPE": "nvarchar",
                  "NumberOfColumnsPerTable": "12"
                },
                {
                  "TABLE_NAME": "vStoreWithContacts",
                  "COLUMN_NAME": "Name",
                  "DATA_TYPE": "nvarchar",
                  "NumberOfColumnsPerTable": "12"
                },
                {
                  "TABLE_NAME": "vStoreWithContacts",
                  "COLUMN_NAME": "PhoneNumber",
                  "DATA_TYPE": "nvarchar",
                  "NumberOfColumnsPerTable": "12"
                },
                {
                  "TABLE_NAME": "vStoreWithContacts",
                  "COLUMN_NAME": "PhoneNumberType",
                  "DATA_TYPE": "nvarchar",
                  "NumberOfColumnsPerTable": "12"
                },
                {
                  "TABLE_NAME": "vStoreWithContacts",
                  "COLUMN_NAME": "Suffix",
                  "DATA_TYPE": "nvarchar",
                  "NumberOfColumnsPerTable": "12"
                },
                {
                  "TABLE_NAME": "vStoreWithContacts",
                  "COLUMN_NAME": "Title",
                  "DATA_TYPE": "nvarchar",
                  "NumberOfColumnsPerTable": "12"
                },
                {
                  "TABLE_NAME": "vStoreWithDemographics",
                  "COLUMN_NAME": "AnnualRevenue",
                  "DATA_TYPE": "money",
                  "NumberOfColumnsPerTable": "12"
                },
                {
                  "TABLE_NAME": "vStoreWithDemographics",
                  "COLUMN_NAME": "AnnualSales",
                  "DATA_TYPE": "money",
                  "NumberOfColumnsPerTable": "12"
                },
                {
                  "TABLE_NAME": "vStoreWithDemographics",
                  "COLUMN_NAME": "BankName",
                  "DATA_TYPE": "nvarchar",
                  "NumberOfColumnsPerTable": "12"
                },
                {
                  "TABLE_NAME": "vStoreWithDemographics",
                  "COLUMN_NAME": "Brands",
                  "DATA_TYPE": "nvarchar",
                  "NumberOfColumnsPerTable": "12"
                },
                {
                  "TABLE_NAME": "vStoreWithDemographics",
                  "COLUMN_NAME": "BusinessEntityID",
                  "DATA_TYPE": "int",
                  "NumberOfColumnsPerTable": "12"
                },
                {
                  "TABLE_NAME": "vStoreWithDemographics",
                  "COLUMN_NAME": "BusinessType",
                  "DATA_TYPE": "nvarchar",
                  "NumberOfColumnsPerTable": "12"
                },
                {
                  "TABLE_NAME": "vStoreWithDemographics",
                  "COLUMN_NAME": "Internet",
                  "DATA_TYPE": "nvarchar",
                  "NumberOfColumnsPerTable": "12"
                },
                {
                  "TABLE_NAME": "vStoreWithDemographics",
                  "COLUMN_NAME": "Name",
                  "DATA_TYPE": "nvarchar",
                  "NumberOfColumnsPerTable": "12"
                },
                {
                  "TABLE_NAME": "vStoreWithDemographics",
                  "COLUMN_NAME": "NumberEmployees",
                  "DATA_TYPE": "int",
                  "NumberOfColumnsPerTable": "12"
                },
                {
                  "TABLE_NAME": "vStoreWithDemographics",
                  "COLUMN_NAME": "Specialty",
                  "DATA_TYPE": "nvarchar",
                  "NumberOfColumnsPerTable": "12"
                },
                {
                  "TABLE_NAME": "vStoreWithDemographics",
                  "COLUMN_NAME": "SquareFeet",
                  "DATA_TYPE": "int",
                  "NumberOfColumnsPerTable": "12"
                },
                {
                  "TABLE_NAME": "vStoreWithDemographics",
                  "COLUMN_NAME": "YearOpened",
                  "DATA_TYPE": "int",
                  "NumberOfColumnsPerTable": "12"
                }
              ]
            },
            "text/html": [
              "<table>",
              "<tr><th>TABLE_NAME</th><th>COLUMN_NAME</th><th>DATA_TYPE</th><th>NumberOfColumnsPerTable</th></tr>",
              "<tr><td>AWBuildVersion</td><td>Database Version</td><td>nvarchar</td><td>4</td></tr>",
              "<tr><td>AWBuildVersion</td><td>ModifiedDate</td><td>datetime</td><td>4</td></tr>",
              "<tr><td>AWBuildVersion</td><td>SystemInformationID</td><td>tinyint</td><td>4</td></tr>",
              "<tr><td>AWBuildVersion</td><td>VersionDate</td><td>datetime</td><td>4</td></tr>",
              "<tr><td>DatabaseLog</td><td>DatabaseLogID</td><td>int</td><td>8</td></tr>",
              "<tr><td>DatabaseLog</td><td>DatabaseUser</td><td>nvarchar</td><td>8</td></tr>",
              "<tr><td>DatabaseLog</td><td>Event</td><td>nvarchar</td><td>8</td></tr>",
              "<tr><td>DatabaseLog</td><td>Object</td><td>nvarchar</td><td>8</td></tr>",
              "<tr><td>DatabaseLog</td><td>PostTime</td><td>datetime</td><td>8</td></tr>",
              "<tr><td>DatabaseLog</td><td>Schema</td><td>nvarchar</td><td>8</td></tr>",
              "<tr><td>DatabaseLog</td><td>TSQL</td><td>nvarchar</td><td>8</td></tr>",
              "<tr><td>DatabaseLog</td><td>XmlEvent</td><td>xml</td><td>8</td></tr>",
              "<tr><td>ErrorLog</td><td>ErrorLine</td><td>int</td><td>9</td></tr>",
              "<tr><td>ErrorLog</td><td>ErrorLogID</td><td>int</td><td>9</td></tr>",
              "<tr><td>ErrorLog</td><td>ErrorMessage</td><td>nvarchar</td><td>9</td></tr>",
              "<tr><td>ErrorLog</td><td>ErrorNumber</td><td>int</td><td>9</td></tr>",
              "<tr><td>ErrorLog</td><td>ErrorProcedure</td><td>nvarchar</td><td>9</td></tr>",
              "<tr><td>ErrorLog</td><td>ErrorSeverity</td><td>int</td><td>9</td></tr>",
              "<tr><td>ErrorLog</td><td>ErrorState</td><td>int</td><td>9</td></tr>",
              "<tr><td>ErrorLog</td><td>ErrorTime</td><td>datetime</td><td>9</td></tr>",
              "<tr><td>ErrorLog</td><td>UserName</td><td>nvarchar</td><td>9</td></tr>",
              "<tr><td>Department</td><td>DepartmentID</td><td>smallint</td><td>4</td></tr>",
              "<tr><td>Department</td><td>GroupName</td><td>nvarchar</td><td>4</td></tr>",
              "<tr><td>Department</td><td>ModifiedDate</td><td>datetime</td><td>4</td></tr>",
              "<tr><td>Department</td><td>Name</td><td>nvarchar</td><td>4</td></tr>",
              "<tr><td>Employee</td><td>BirthDate</td><td>date</td><td>16</td></tr>",
              "<tr><td>Employee</td><td>BusinessEntityID</td><td>int</td><td>16</td></tr>",
              "<tr><td>Employee</td><td>CurrentFlag</td><td>bit</td><td>16</td></tr>",
              "<tr><td>Employee</td><td>Gender</td><td>nchar</td><td>16</td></tr>",
              "<tr><td>Employee</td><td>HireDate</td><td>date</td><td>16</td></tr>",
              "<tr><td>Employee</td><td>JobTitle</td><td>nvarchar</td><td>16</td></tr>",
              "<tr><td>Employee</td><td>LoginID</td><td>nvarchar</td><td>16</td></tr>",
              "<tr><td>Employee</td><td>MaritalStatus</td><td>nchar</td><td>16</td></tr>",
              "<tr><td>Employee</td><td>ModifiedDate</td><td>datetime</td><td>16</td></tr>",
              "<tr><td>Employee</td><td>NationalIDNumber</td><td>nvarchar</td><td>16</td></tr>",
              "<tr><td>Employee</td><td>OrganizationLevel</td><td>smallint</td><td>16</td></tr>",
              "<tr><td>Employee</td><td>OrganizationNode</td><td>hierarchyid</td><td>16</td></tr>",
              "<tr><td>Employee</td><td>rowguid</td><td>uniqueidentifier</td><td>16</td></tr>",
              "<tr><td>Employee</td><td>SalariedFlag</td><td>bit</td><td>16</td></tr>",
              "<tr><td>Employee</td><td>SickLeaveHours</td><td>smallint</td><td>16</td></tr>",
              "<tr><td>Employee</td><td>VacationHours</td><td>smallint</td><td>16</td></tr>",
              "<tr><td>EmployeeDepartmentHistory</td><td>BusinessEntityID</td><td>int</td><td>6</td></tr>",
              "<tr><td>EmployeeDepartmentHistory</td><td>DepartmentID</td><td>smallint</td><td>6</td></tr>",
              "<tr><td>EmployeeDepartmentHistory</td><td>EndDate</td><td>date</td><td>6</td></tr>",
              "<tr><td>EmployeeDepartmentHistory</td><td>ModifiedDate</td><td>datetime</td><td>6</td></tr>",
              "<tr><td>EmployeeDepartmentHistory</td><td>ShiftID</td><td>tinyint</td><td>6</td></tr>",
              "<tr><td>EmployeeDepartmentHistory</td><td>StartDate</td><td>date</td><td>6</td></tr>",
              "<tr><td>EmployeePayHistory</td><td>BusinessEntityID</td><td>int</td><td>5</td></tr>",
              "<tr><td>EmployeePayHistory</td><td>ModifiedDate</td><td>datetime</td><td>5</td></tr>",
              "<tr><td>EmployeePayHistory</td><td>PayFrequency</td><td>tinyint</td><td>5</td></tr>",
              "<tr><td>EmployeePayHistory</td><td>Rate</td><td>money</td><td>5</td></tr>",
              "<tr><td>EmployeePayHistory</td><td>RateChangeDate</td><td>datetime</td><td>5</td></tr>",
              "<tr><td>JobCandidate</td><td>BusinessEntityID</td><td>int</td><td>4</td></tr>",
              "<tr><td>JobCandidate</td><td>JobCandidateID</td><td>int</td><td>4</td></tr>",
              "<tr><td>JobCandidate</td><td>ModifiedDate</td><td>datetime</td><td>4</td></tr>",
              "<tr><td>JobCandidate</td><td>Resume</td><td>xml</td><td>4</td></tr>",
              "<tr><td>Shift</td><td>EndTime</td><td>time</td><td>5</td></tr>",
              "<tr><td>Shift</td><td>ModifiedDate</td><td>datetime</td><td>5</td></tr>",
              "<tr><td>Shift</td><td>Name</td><td>nvarchar</td><td>5</td></tr>",
              "<tr><td>Shift</td><td>ShiftID</td><td>tinyint</td><td>5</td></tr>",
              "<tr><td>Shift</td><td>StartTime</td><td>time</td><td>5</td></tr>",
              "<tr><td>vEmployee</td><td>AdditionalContactInfo</td><td>xml</td><td>18</td></tr>",
              "<tr><td>vEmployee</td><td>AddressLine1</td><td>nvarchar</td><td>18</td></tr>",
              "<tr><td>vEmployee</td><td>AddressLine2</td><td>nvarchar</td><td>18</td></tr>",
              "<tr><td>vEmployee</td><td>BusinessEntityID</td><td>int</td><td>18</td></tr>",
              "<tr><td>vEmployee</td><td>City</td><td>nvarchar</td><td>18</td></tr>",
              "<tr><td>vEmployee</td><td>CountryRegionName</td><td>nvarchar</td><td>18</td></tr>",
              "<tr><td>vEmployee</td><td>EmailAddress</td><td>nvarchar</td><td>18</td></tr>",
              "<tr><td>vEmployee</td><td>EmailPromotion</td><td>int</td><td>18</td></tr>",
              "<tr><td>vEmployee</td><td>FirstName</td><td>nvarchar</td><td>18</td></tr>",
              "<tr><td>vEmployee</td><td>JobTitle</td><td>nvarchar</td><td>18</td></tr>",
              "<tr><td>vEmployee</td><td>LastName</td><td>nvarchar</td><td>18</td></tr>",
              "<tr><td>vEmployee</td><td>MiddleName</td><td>nvarchar</td><td>18</td></tr>",
              "<tr><td>vEmployee</td><td>PhoneNumber</td><td>nvarchar</td><td>18</td></tr>",
              "<tr><td>vEmployee</td><td>PhoneNumberType</td><td>nvarchar</td><td>18</td></tr>",
              "<tr><td>vEmployee</td><td>PostalCode</td><td>nvarchar</td><td>18</td></tr>",
              "<tr><td>vEmployee</td><td>StateProvinceName</td><td>nvarchar</td><td>18</td></tr>",
              "<tr><td>vEmployee</td><td>Suffix</td><td>nvarchar</td><td>18</td></tr>",
              "<tr><td>vEmployee</td><td>Title</td><td>nvarchar</td><td>18</td></tr>",
              "<tr><td>vEmployeeDepartment</td><td>BusinessEntityID</td><td>int</td><td>10</td></tr>",
              "<tr><td>vEmployeeDepartment</td><td>Department</td><td>nvarchar</td><td>10</td></tr>",
              "<tr><td>vEmployeeDepartment</td><td>FirstName</td><td>nvarchar</td><td>10</td></tr>",
              "<tr><td>vEmployeeDepartment</td><td>GroupName</td><td>nvarchar</td><td>10</td></tr>",
              "<tr><td>vEmployeeDepartment</td><td>JobTitle</td><td>nvarchar</td><td>10</td></tr>",
              "<tr><td>vEmployeeDepartment</td><td>LastName</td><td>nvarchar</td><td>10</td></tr>",
              "<tr><td>vEmployeeDepartment</td><td>MiddleName</td><td>nvarchar</td><td>10</td></tr>",
              "<tr><td>vEmployeeDepartment</td><td>StartDate</td><td>date</td><td>10</td></tr>",
              "<tr><td>vEmployeeDepartment</td><td>Suffix</td><td>nvarchar</td><td>10</td></tr>",
              "<tr><td>vEmployeeDepartment</td><td>Title</td><td>nvarchar</td><td>10</td></tr>",
              "<tr><td>vEmployeeDepartmentHistory</td><td>BusinessEntityID</td><td>int</td><td>11</td></tr>",
              "<tr><td>vEmployeeDepartmentHistory</td><td>Department</td><td>nvarchar</td><td>11</td></tr>",
              "<tr><td>vEmployeeDepartmentHistory</td><td>EndDate</td><td>date</td><td>11</td></tr>",
              "<tr><td>vEmployeeDepartmentHistory</td><td>FirstName</td><td>nvarchar</td><td>11</td></tr>",
              "<tr><td>vEmployeeDepartmentHistory</td><td>GroupName</td><td>nvarchar</td><td>11</td></tr>",
              "<tr><td>vEmployeeDepartmentHistory</td><td>LastName</td><td>nvarchar</td><td>11</td></tr>",
              "<tr><td>vEmployeeDepartmentHistory</td><td>MiddleName</td><td>nvarchar</td><td>11</td></tr>",
              "<tr><td>vEmployeeDepartmentHistory</td><td>Shift</td><td>nvarchar</td><td>11</td></tr>",
              "<tr><td>vEmployeeDepartmentHistory</td><td>StartDate</td><td>date</td><td>11</td></tr>",
              "<tr><td>vEmployeeDepartmentHistory</td><td>Suffix</td><td>nvarchar</td><td>11</td></tr>",
              "<tr><td>vEmployeeDepartmentHistory</td><td>Title</td><td>nvarchar</td><td>11</td></tr>",
              "<tr><td>vJobCandidate</td><td>Addr.Loc.City</td><td>nvarchar</td><td>16</td></tr>",
              "<tr><td>vJobCandidate</td><td>Addr.Loc.CountryRegion</td><td>nvarchar</td><td>16</td></tr>",
              "<tr><td>vJobCandidate</td><td>Addr.Loc.State</td><td>nvarchar</td><td>16</td></tr>",
              "<tr><td>vJobCandidate</td><td>Addr.PostalCode</td><td>nvarchar</td><td>16</td></tr>",
              "<tr><td>vJobCandidate</td><td>Addr.Type</td><td>nvarchar</td><td>16</td></tr>",
              "<tr><td>vJobCandidate</td><td>BusinessEntityID</td><td>int</td><td>16</td></tr>",
              "<tr><td>vJobCandidate</td><td>EMail</td><td>nvarchar</td><td>16</td></tr>",
              "<tr><td>vJobCandidate</td><td>JobCandidateID</td><td>int</td><td>16</td></tr>",
              "<tr><td>vJobCandidate</td><td>ModifiedDate</td><td>datetime</td><td>16</td></tr>",
              "<tr><td>vJobCandidate</td><td>Name.First</td><td>nvarchar</td><td>16</td></tr>",
              "<tr><td>vJobCandidate</td><td>Name.Last</td><td>nvarchar</td><td>16</td></tr>",
              "<tr><td>vJobCandidate</td><td>Name.Middle</td><td>nvarchar</td><td>16</td></tr>",
              "<tr><td>vJobCandidate</td><td>Name.Prefix</td><td>nvarchar</td><td>16</td></tr>",
              "<tr><td>vJobCandidate</td><td>Name.Suffix</td><td>nvarchar</td><td>16</td></tr>",
              "<tr><td>vJobCandidate</td><td>Skills</td><td>nvarchar</td><td>16</td></tr>",
              "<tr><td>vJobCandidate</td><td>WebSite</td><td>nvarchar</td><td>16</td></tr>",
              "<tr><td>vJobCandidateEducation</td><td>Edu.Degree</td><td>nvarchar</td><td>13</td></tr>",
              "<tr><td>vJobCandidateEducation</td><td>Edu.EndDate</td><td>datetime</td><td>13</td></tr>",
              "<tr><td>vJobCandidateEducation</td><td>Edu.GPA</td><td>nvarchar</td><td>13</td></tr>",
              "<tr><td>vJobCandidateEducation</td><td>Edu.GPAScale</td><td>nvarchar</td><td>13</td></tr>",
              "<tr><td>vJobCandidateEducation</td><td>Edu.Level</td><td>nvarchar</td><td>13</td></tr>",
              "<tr><td>vJobCandidateEducation</td><td>Edu.Loc.City</td><td>nvarchar</td><td>13</td></tr>",
              "<tr><td>vJobCandidateEducation</td><td>Edu.Loc.CountryRegion</td><td>nvarchar</td><td>13</td></tr>",
              "<tr><td>vJobCandidateEducation</td><td>Edu.Loc.State</td><td>nvarchar</td><td>13</td></tr>",
              "<tr><td>vJobCandidateEducation</td><td>Edu.Major</td><td>nvarchar</td><td>13</td></tr>",
              "<tr><td>vJobCandidateEducation</td><td>Edu.Minor</td><td>nvarchar</td><td>13</td></tr>",
              "<tr><td>vJobCandidateEducation</td><td>Edu.School</td><td>nvarchar</td><td>13</td></tr>",
              "<tr><td>vJobCandidateEducation</td><td>Edu.StartDate</td><td>datetime</td><td>13</td></tr>",
              "<tr><td>vJobCandidateEducation</td><td>JobCandidateID</td><td>int</td><td>13</td></tr>",
              "<tr><td>vJobCandidateEmployment</td><td>Emp.EndDate</td><td>datetime</td><td>11</td></tr>",
              "<tr><td>vJobCandidateEmployment</td><td>Emp.FunctionCategory</td><td>nvarchar</td><td>11</td></tr>",
              "<tr><td>vJobCandidateEmployment</td><td>Emp.IndustryCategory</td><td>nvarchar</td><td>11</td></tr>",
              "<tr><td>vJobCandidateEmployment</td><td>Emp.JobTitle</td><td>nvarchar</td><td>11</td></tr>",
              "<tr><td>vJobCandidateEmployment</td><td>Emp.Loc.City</td><td>nvarchar</td><td>11</td></tr>",
              "<tr><td>vJobCandidateEmployment</td><td>Emp.Loc.CountryRegion</td><td>nvarchar</td><td>11</td></tr>",
              "<tr><td>vJobCandidateEmployment</td><td>Emp.Loc.State</td><td>nvarchar</td><td>11</td></tr>",
              "<tr><td>vJobCandidateEmployment</td><td>Emp.OrgName</td><td>nvarchar</td><td>11</td></tr>",
              "<tr><td>vJobCandidateEmployment</td><td>Emp.Responsibility</td><td>nvarchar</td><td>11</td></tr>",
              "<tr><td>vJobCandidateEmployment</td><td>Emp.StartDate</td><td>datetime</td><td>11</td></tr>",
              "<tr><td>vJobCandidateEmployment</td><td>JobCandidateID</td><td>int</td><td>11</td></tr>",
              "<tr><td>Address</td><td>AddressID</td><td>int</td><td>9</td></tr>",
              "<tr><td>Address</td><td>AddressLine1</td><td>nvarchar</td><td>9</td></tr>",
              "<tr><td>Address</td><td>AddressLine2</td><td>nvarchar</td><td>9</td></tr>",
              "<tr><td>Address</td><td>City</td><td>nvarchar</td><td>9</td></tr>",
              "<tr><td>Address</td><td>ModifiedDate</td><td>datetime</td><td>9</td></tr>",
              "<tr><td>Address</td><td>PostalCode</td><td>nvarchar</td><td>9</td></tr>",
              "<tr><td>Address</td><td>rowguid</td><td>uniqueidentifier</td><td>9</td></tr>",
              "<tr><td>Address</td><td>SpatialLocation</td><td>geography</td><td>9</td></tr>",
              "<tr><td>Address</td><td>StateProvinceID</td><td>int</td><td>9</td></tr>",
              "<tr><td>AddressType</td><td>AddressTypeID</td><td>int</td><td>4</td></tr>",
              "<tr><td>AddressType</td><td>ModifiedDate</td><td>datetime</td><td>4</td></tr>",
              "<tr><td>AddressType</td><td>Name</td><td>nvarchar</td><td>4</td></tr>",
              "<tr><td>AddressType</td><td>rowguid</td><td>uniqueidentifier</td><td>4</td></tr>",
              "<tr><td>BusinessEntity</td><td>BusinessEntityID</td><td>int</td><td>3</td></tr>",
              "<tr><td>BusinessEntity</td><td>ModifiedDate</td><td>datetime</td><td>3</td></tr>",
              "<tr><td>BusinessEntity</td><td>rowguid</td><td>uniqueidentifier</td><td>3</td></tr>",
              "<tr><td>BusinessEntityAddress</td><td>AddressID</td><td>int</td><td>5</td></tr>",
              "<tr><td>BusinessEntityAddress</td><td>AddressTypeID</td><td>int</td><td>5</td></tr>",
              "<tr><td>BusinessEntityAddress</td><td>BusinessEntityID</td><td>int</td><td>5</td></tr>",
              "<tr><td>BusinessEntityAddress</td><td>ModifiedDate</td><td>datetime</td><td>5</td></tr>",
              "<tr><td>BusinessEntityAddress</td><td>rowguid</td><td>uniqueidentifier</td><td>5</td></tr>",
              "<tr><td>BusinessEntityContact</td><td>BusinessEntityID</td><td>int</td><td>5</td></tr>",
              "<tr><td>BusinessEntityContact</td><td>ContactTypeID</td><td>int</td><td>5</td></tr>",
              "<tr><td>BusinessEntityContact</td><td>ModifiedDate</td><td>datetime</td><td>5</td></tr>",
              "<tr><td>BusinessEntityContact</td><td>PersonID</td><td>int</td><td>5</td></tr>",
              "<tr><td>BusinessEntityContact</td><td>rowguid</td><td>uniqueidentifier</td><td>5</td></tr>",
              "<tr><td>ContactType</td><td>ContactTypeID</td><td>int</td><td>3</td></tr>",
              "<tr><td>ContactType</td><td>ModifiedDate</td><td>datetime</td><td>3</td></tr>",
              "<tr><td>ContactType</td><td>Name</td><td>nvarchar</td><td>3</td></tr>",
              "<tr><td>CountryRegion</td><td>CountryRegionCode</td><td>nvarchar</td><td>3</td></tr>",
              "<tr><td>CountryRegion</td><td>ModifiedDate</td><td>datetime</td><td>3</td></tr>",
              "<tr><td>CountryRegion</td><td>Name</td><td>nvarchar</td><td>3</td></tr>",
              "<tr><td>EmailAddress</td><td>BusinessEntityID</td><td>int</td><td>5</td></tr>",
              "<tr><td>EmailAddress</td><td>EmailAddress</td><td>nvarchar</td><td>5</td></tr>",
              "<tr><td>EmailAddress</td><td>EmailAddressID</td><td>int</td><td>5</td></tr>",
              "<tr><td>EmailAddress</td><td>ModifiedDate</td><td>datetime</td><td>5</td></tr>",
              "<tr><td>EmailAddress</td><td>rowguid</td><td>uniqueidentifier</td><td>5</td></tr>",
              "<tr><td>Password</td><td>BusinessEntityID</td><td>int</td><td>5</td></tr>",
              "<tr><td>Password</td><td>ModifiedDate</td><td>datetime</td><td>5</td></tr>",
              "<tr><td>Password</td><td>PasswordHash</td><td>varchar</td><td>5</td></tr>",
              "<tr><td>Password</td><td>PasswordSalt</td><td>varchar</td><td>5</td></tr>",
              "<tr><td>Password</td><td>rowguid</td><td>uniqueidentifier</td><td>5</td></tr>",
              "<tr><td>Person</td><td>AdditionalContactInfo</td><td>xml</td><td>13</td></tr>",
              "<tr><td>Person</td><td>BusinessEntityID</td><td>int</td><td>13</td></tr>",
              "<tr><td>Person</td><td>Demographics</td><td>xml</td><td>13</td></tr>",
              "<tr><td>Person</td><td>EmailPromotion</td><td>int</td><td>13</td></tr>",
              "<tr><td>Person</td><td>FirstName</td><td>nvarchar</td><td>13</td></tr>",
              "<tr><td>Person</td><td>LastName</td><td>nvarchar</td><td>13</td></tr>",
              "<tr><td>Person</td><td>MiddleName</td><td>nvarchar</td><td>13</td></tr>",
              "<tr><td>Person</td><td>ModifiedDate</td><td>datetime</td><td>13</td></tr>",
              "<tr><td>Person</td><td>NameStyle</td><td>bit</td><td>13</td></tr>",
              "<tr><td>Person</td><td>PersonType</td><td>nchar</td><td>13</td></tr>",
              "<tr><td>Person</td><td>rowguid</td><td>uniqueidentifier</td><td>13</td></tr>",
              "<tr><td>Person</td><td>Suffix</td><td>nvarchar</td><td>13</td></tr>",
              "<tr><td>Person</td><td>Title</td><td>nvarchar</td><td>13</td></tr>",
              "<tr><td>PersonPhone</td><td>BusinessEntityID</td><td>int</td><td>4</td></tr>",
              "<tr><td>PersonPhone</td><td>ModifiedDate</td><td>datetime</td><td>4</td></tr>",
              "<tr><td>PersonPhone</td><td>PhoneNumber</td><td>nvarchar</td><td>4</td></tr>",
              "<tr><td>PersonPhone</td><td>PhoneNumberTypeID</td><td>int</td><td>4</td></tr>",
              "<tr><td>PhoneNumberType</td><td>ModifiedDate</td><td>datetime</td><td>3</td></tr>",
              "<tr><td>PhoneNumberType</td><td>Name</td><td>nvarchar</td><td>3</td></tr>",
              "<tr><td>PhoneNumberType</td><td>PhoneNumberTypeID</td><td>int</td><td>3</td></tr>",
              "<tr><td>StateProvince</td><td>CountryRegionCode</td><td>nvarchar</td><td>8</td></tr>",
              "<tr><td>StateProvince</td><td>IsOnlyStateProvinceFlag</td><td>bit</td><td>8</td></tr>",
              "<tr><td>StateProvince</td><td>ModifiedDate</td><td>datetime</td><td>8</td></tr>",
              "<tr><td>StateProvince</td><td>Name</td><td>nvarchar</td><td>8</td></tr>",
              "<tr><td>StateProvince</td><td>rowguid</td><td>uniqueidentifier</td><td>8</td></tr>",
              "<tr><td>StateProvince</td><td>StateProvinceCode</td><td>nchar</td><td>8</td></tr>",
              "<tr><td>StateProvince</td><td>StateProvinceID</td><td>int</td><td>8</td></tr>",
              "<tr><td>StateProvince</td><td>TerritoryID</td><td>int</td><td>8</td></tr>",
              "<tr><td>vAdditionalContactInfo</td><td>BusinessEntityID</td><td>int</td><td>17</td></tr>",
              "<tr><td>vAdditionalContactInfo</td><td>City</td><td>nvarchar</td><td>17</td></tr>",
              "<tr><td>vAdditionalContactInfo</td><td>CountryRegion</td><td>nvarchar</td><td>17</td></tr>",
              "<tr><td>vAdditionalContactInfo</td><td>EMailAddress</td><td>nvarchar</td><td>17</td></tr>",
              "<tr><td>vAdditionalContactInfo</td><td>EMailSpecialInstructions</td><td>nvarchar</td><td>17</td></tr>",
              "<tr><td>vAdditionalContactInfo</td><td>EMailTelephoneNumber</td><td>nvarchar</td><td>17</td></tr>",
              "<tr><td>vAdditionalContactInfo</td><td>FirstName</td><td>nvarchar</td><td>17</td></tr>",
              "<tr><td>vAdditionalContactInfo</td><td>HomeAddressSpecialInstructions</td><td>nvarchar</td><td>17</td></tr>",
              "<tr><td>vAdditionalContactInfo</td><td>LastName</td><td>nvarchar</td><td>17</td></tr>",
              "<tr><td>vAdditionalContactInfo</td><td>MiddleName</td><td>nvarchar</td><td>17</td></tr>",
              "<tr><td>vAdditionalContactInfo</td><td>ModifiedDate</td><td>datetime</td><td>17</td></tr>",
              "<tr><td>vAdditionalContactInfo</td><td>PostalCode</td><td>nvarchar</td><td>17</td></tr>",
              "<tr><td>vAdditionalContactInfo</td><td>rowguid</td><td>uniqueidentifier</td><td>17</td></tr>",
              "<tr><td>vAdditionalContactInfo</td><td>StateProvince</td><td>nvarchar</td><td>17</td></tr>",
              "<tr><td>vAdditionalContactInfo</td><td>Street</td><td>nvarchar</td><td>17</td></tr>",
              "<tr><td>vAdditionalContactInfo</td><td>TelephoneNumber</td><td>nvarchar</td><td>17</td></tr>",
              "<tr><td>vAdditionalContactInfo</td><td>TelephoneSpecialInstructions</td><td>nvarchar</td><td>17</td></tr>",
              "<tr><td>vStateProvinceCountryRegion</td><td>CountryRegionCode</td><td>nvarchar</td><td>7</td></tr>",
              "<tr><td>vStateProvinceCountryRegion</td><td>CountryRegionName</td><td>nvarchar</td><td>7</td></tr>",
              "<tr><td>vStateProvinceCountryRegion</td><td>IsOnlyStateProvinceFlag</td><td>bit</td><td>7</td></tr>",
              "<tr><td>vStateProvinceCountryRegion</td><td>StateProvinceCode</td><td>nchar</td><td>7</td></tr>",
              "<tr><td>vStateProvinceCountryRegion</td><td>StateProvinceID</td><td>int</td><td>7</td></tr>",
              "<tr><td>vStateProvinceCountryRegion</td><td>StateProvinceName</td><td>nvarchar</td><td>7</td></tr>",
              "<tr><td>vStateProvinceCountryRegion</td><td>TerritoryID</td><td>int</td><td>7</td></tr>",
              "<tr><td>BillOfMaterials</td><td>BillOfMaterialsID</td><td>int</td><td>9</td></tr>",
              "<tr><td>BillOfMaterials</td><td>BOMLevel</td><td>smallint</td><td>9</td></tr>",
              "<tr><td>BillOfMaterials</td><td>ComponentID</td><td>int</td><td>9</td></tr>",
              "<tr><td>BillOfMaterials</td><td>EndDate</td><td>datetime</td><td>9</td></tr>",
              "<tr><td>BillOfMaterials</td><td>ModifiedDate</td><td>datetime</td><td>9</td></tr>",
              "<tr><td>BillOfMaterials</td><td>PerAssemblyQty</td><td>decimal</td><td>9</td></tr>",
              "<tr><td>BillOfMaterials</td><td>ProductAssemblyID</td><td>int</td><td>9</td></tr>",
              "<tr><td>BillOfMaterials</td><td>StartDate</td><td>datetime</td><td>9</td></tr>",
              "<tr><td>BillOfMaterials</td><td>UnitMeasureCode</td><td>nchar</td><td>9</td></tr>",
              "<tr><td>Culture</td><td>CultureID</td><td>nchar</td><td>3</td></tr>",
              "<tr><td>Culture</td><td>ModifiedDate</td><td>datetime</td><td>3</td></tr>",
              "<tr><td>Culture</td><td>Name</td><td>nvarchar</td><td>3</td></tr>",
              "<tr><td>Document</td><td>ChangeNumber</td><td>int</td><td>14</td></tr>",
              "<tr><td>Document</td><td>Document</td><td>varbinary</td><td>14</td></tr>",
              "<tr><td>Document</td><td>DocumentLevel</td><td>smallint</td><td>14</td></tr>",
              "<tr><td>Document</td><td>DocumentNode</td><td>hierarchyid</td><td>14</td></tr>",
              "<tr><td>Document</td><td>DocumentSummary</td><td>nvarchar</td><td>14</td></tr>",
              "<tr><td>Document</td><td>FileExtension</td><td>nvarchar</td><td>14</td></tr>",
              "<tr><td>Document</td><td>FileName</td><td>nvarchar</td><td>14</td></tr>",
              "<tr><td>Document</td><td>FolderFlag</td><td>bit</td><td>14</td></tr>",
              "<tr><td>Document</td><td>ModifiedDate</td><td>datetime</td><td>14</td></tr>",
              "<tr><td>Document</td><td>Owner</td><td>int</td><td>14</td></tr>",
              "<tr><td>Document</td><td>Revision</td><td>nchar</td><td>14</td></tr>",
              "<tr><td>Document</td><td>rowguid</td><td>uniqueidentifier</td><td>14</td></tr>",
              "<tr><td>Document</td><td>Status</td><td>tinyint</td><td>14</td></tr>",
              "<tr><td>Document</td><td>Title</td><td>nvarchar</td><td>14</td></tr>",
              "<tr><td>Illustration</td><td>Diagram</td><td>xml</td><td>3</td></tr>",
              "<tr><td>Illustration</td><td>IllustrationID</td><td>int</td><td>3</td></tr>",
              "<tr><td>Illustration</td><td>ModifiedDate</td><td>datetime</td><td>3</td></tr>",
              "<tr><td>Location</td><td>Availability</td><td>decimal</td><td>5</td></tr>",
              "<tr><td>Location</td><td>CostRate</td><td>smallmoney</td><td>5</td></tr>",
              "<tr><td>Location</td><td>LocationID</td><td>smallint</td><td>5</td></tr>",
              "<tr><td>Location</td><td>ModifiedDate</td><td>datetime</td><td>5</td></tr>",
              "<tr><td>Location</td><td>Name</td><td>nvarchar</td><td>5</td></tr>",
              "<tr><td>Product</td><td>Class</td><td>nchar</td><td>25</td></tr>",
              "<tr><td>Product</td><td>Color</td><td>nvarchar</td><td>25</td></tr>",
              "<tr><td>Product</td><td>DaysToManufacture</td><td>int</td><td>25</td></tr>",
              "<tr><td>Product</td><td>DiscontinuedDate</td><td>datetime</td><td>25</td></tr>",
              "<tr><td>Product</td><td>FinishedGoodsFlag</td><td>bit</td><td>25</td></tr>",
              "<tr><td>Product</td><td>ListPrice</td><td>money</td><td>25</td></tr>",
              "<tr><td>Product</td><td>MakeFlag</td><td>bit</td><td>25</td></tr>",
              "<tr><td>Product</td><td>ModifiedDate</td><td>datetime</td><td>25</td></tr>",
              "<tr><td>Product</td><td>Name</td><td>nvarchar</td><td>25</td></tr>",
              "<tr><td>Product</td><td>ProductID</td><td>int</td><td>25</td></tr>",
              "<tr><td>Product</td><td>ProductLine</td><td>nchar</td><td>25</td></tr>",
              "<tr><td>Product</td><td>ProductModelID</td><td>int</td><td>25</td></tr>",
              "<tr><td>Product</td><td>ProductNumber</td><td>nvarchar</td><td>25</td></tr>",
              "<tr><td>Product</td><td>ProductSubcategoryID</td><td>int</td><td>25</td></tr>",
              "<tr><td>Product</td><td>ReorderPoint</td><td>smallint</td><td>25</td></tr>",
              "<tr><td>Product</td><td>rowguid</td><td>uniqueidentifier</td><td>25</td></tr>",
              "<tr><td>Product</td><td>SafetyStockLevel</td><td>smallint</td><td>25</td></tr>",
              "<tr><td>Product</td><td>SellEndDate</td><td>datetime</td><td>25</td></tr>",
              "<tr><td>Product</td><td>SellStartDate</td><td>datetime</td><td>25</td></tr>",
              "<tr><td>Product</td><td>Size</td><td>nvarchar</td><td>25</td></tr>",
              "<tr><td>Product</td><td>SizeUnitMeasureCode</td><td>nchar</td><td>25</td></tr>",
              "<tr><td>Product</td><td>StandardCost</td><td>money</td><td>25</td></tr>",
              "<tr><td>Product</td><td>Style</td><td>nchar</td><td>25</td></tr>",
              "<tr><td>Product</td><td>Weight</td><td>decimal</td><td>25</td></tr>",
              "<tr><td>Product</td><td>WeightUnitMeasureCode</td><td>nchar</td><td>25</td></tr>",
              "<tr><td>ProductCategory</td><td>ModifiedDate</td><td>datetime</td><td>4</td></tr>",
              "<tr><td>ProductCategory</td><td>Name</td><td>nvarchar</td><td>4</td></tr>",
              "<tr><td>ProductCategory</td><td>ProductCategoryID</td><td>int</td><td>4</td></tr>",
              "<tr><td>ProductCategory</td><td>rowguid</td><td>uniqueidentifier</td><td>4</td></tr>",
              "<tr><td>ProductCostHistory</td><td>EndDate</td><td>datetime</td><td>5</td></tr>",
              "<tr><td>ProductCostHistory</td><td>ModifiedDate</td><td>datetime</td><td>5</td></tr>",
              "<tr><td>ProductCostHistory</td><td>ProductID</td><td>int</td><td>5</td></tr>",
              "<tr><td>ProductCostHistory</td><td>StandardCost</td><td>money</td><td>5</td></tr>",
              "<tr><td>ProductCostHistory</td><td>StartDate</td><td>datetime</td><td>5</td></tr>",
              "<tr><td>ProductDescription</td><td>Description</td><td>nvarchar</td><td>4</td></tr>",
              "<tr><td>ProductDescription</td><td>ModifiedDate</td><td>datetime</td><td>4</td></tr>",
              "<tr><td>ProductDescription</td><td>ProductDescriptionID</td><td>int</td><td>4</td></tr>",
              "<tr><td>ProductDescription</td><td>rowguid</td><td>uniqueidentifier</td><td>4</td></tr>",
              "<tr><td>ProductDocument</td><td>DocumentNode</td><td>hierarchyid</td><td>3</td></tr>",
              "<tr><td>ProductDocument</td><td>ModifiedDate</td><td>datetime</td><td>3</td></tr>",
              "<tr><td>ProductDocument</td><td>ProductID</td><td>int</td><td>3</td></tr>",
              "<tr><td>ProductInventory</td><td>Bin</td><td>tinyint</td><td>7</td></tr>",
              "<tr><td>ProductInventory</td><td>LocationID</td><td>smallint</td><td>7</td></tr>",
              "<tr><td>ProductInventory</td><td>ModifiedDate</td><td>datetime</td><td>7</td></tr>",
              "<tr><td>ProductInventory</td><td>ProductID</td><td>int</td><td>7</td></tr>",
              "<tr><td>ProductInventory</td><td>Quantity</td><td>smallint</td><td>7</td></tr>",
              "<tr><td>ProductInventory</td><td>rowguid</td><td>uniqueidentifier</td><td>7</td></tr>",
              "<tr><td>ProductInventory</td><td>Shelf</td><td>nvarchar</td><td>7</td></tr>",
              "<tr><td>ProductListPriceHistory</td><td>EndDate</td><td>datetime</td><td>5</td></tr>",
              "<tr><td>ProductListPriceHistory</td><td>ListPrice</td><td>money</td><td>5</td></tr>",
              "<tr><td>ProductListPriceHistory</td><td>ModifiedDate</td><td>datetime</td><td>5</td></tr>",
              "<tr><td>ProductListPriceHistory</td><td>ProductID</td><td>int</td><td>5</td></tr>",
              "<tr><td>ProductListPriceHistory</td><td>StartDate</td><td>datetime</td><td>5</td></tr>",
              "<tr><td>ProductModel</td><td>CatalogDescription</td><td>xml</td><td>6</td></tr>",
              "<tr><td>ProductModel</td><td>Instructions</td><td>xml</td><td>6</td></tr>",
              "<tr><td>ProductModel</td><td>ModifiedDate</td><td>datetime</td><td>6</td></tr>",
              "<tr><td>ProductModel</td><td>Name</td><td>nvarchar</td><td>6</td></tr>",
              "<tr><td>ProductModel</td><td>ProductModelID</td><td>int</td><td>6</td></tr>",
              "<tr><td>ProductModel</td><td>rowguid</td><td>uniqueidentifier</td><td>6</td></tr>",
              "<tr><td>ProductModelIllustration</td><td>IllustrationID</td><td>int</td><td>3</td></tr>",
              "<tr><td>ProductModelIllustration</td><td>ModifiedDate</td><td>datetime</td><td>3</td></tr>",
              "<tr><td>ProductModelIllustration</td><td>ProductModelID</td><td>int</td><td>3</td></tr>",
              "<tr><td>ProductModelProductDescriptionCulture</td><td>CultureID</td><td>nchar</td><td>4</td></tr>",
              "<tr><td>ProductModelProductDescriptionCulture</td><td>ModifiedDate</td><td>datetime</td><td>4</td></tr>",
              "<tr><td>ProductModelProductDescriptionCulture</td><td>ProductDescriptionID</td><td>int</td><td>4</td></tr>",
              "<tr><td>ProductModelProductDescriptionCulture</td><td>ProductModelID</td><td>int</td><td>4</td></tr>",
              "<tr><td>ProductPhoto</td><td>LargePhoto</td><td>varbinary</td><td>6</td></tr>",
              "<tr><td>ProductPhoto</td><td>LargePhotoFileName</td><td>nvarchar</td><td>6</td></tr>",
              "<tr><td>ProductPhoto</td><td>ModifiedDate</td><td>datetime</td><td>6</td></tr>",
              "<tr><td>ProductPhoto</td><td>ProductPhotoID</td><td>int</td><td>6</td></tr>",
              "<tr><td>ProductPhoto</td><td>ThumbNailPhoto</td><td>varbinary</td><td>6</td></tr>",
              "<tr><td>ProductPhoto</td><td>ThumbnailPhotoFileName</td><td>nvarchar</td><td>6</td></tr>",
              "<tr><td>ProductProductPhoto</td><td>ModifiedDate</td><td>datetime</td><td>4</td></tr>",
              "<tr><td>ProductProductPhoto</td><td>Primary</td><td>bit</td><td>4</td></tr>",
              "<tr><td>ProductProductPhoto</td><td>ProductID</td><td>int</td><td>4</td></tr>",
              "<tr><td>ProductProductPhoto</td><td>ProductPhotoID</td><td>int</td><td>4</td></tr>",
              "<tr><td>ProductReview</td><td>Comments</td><td>nvarchar</td><td>8</td></tr>",
              "<tr><td>ProductReview</td><td>EmailAddress</td><td>nvarchar</td><td>8</td></tr>",
              "<tr><td>ProductReview</td><td>ModifiedDate</td><td>datetime</td><td>8</td></tr>",
              "<tr><td>ProductReview</td><td>ProductID</td><td>int</td><td>8</td></tr>",
              "<tr><td>ProductReview</td><td>ProductReviewID</td><td>int</td><td>8</td></tr>",
              "<tr><td>ProductReview</td><td>Rating</td><td>int</td><td>8</td></tr>",
              "<tr><td>ProductReview</td><td>ReviewDate</td><td>datetime</td><td>8</td></tr>",
              "<tr><td>ProductReview</td><td>ReviewerName</td><td>nvarchar</td><td>8</td></tr>",
              "<tr><td>ProductSubcategory</td><td>ModifiedDate</td><td>datetime</td><td>5</td></tr>",
              "<tr><td>ProductSubcategory</td><td>Name</td><td>nvarchar</td><td>5</td></tr>",
              "<tr><td>ProductSubcategory</td><td>ProductCategoryID</td><td>int</td><td>5</td></tr>",
              "<tr><td>ProductSubcategory</td><td>ProductSubcategoryID</td><td>int</td><td>5</td></tr>",
              "<tr><td>ProductSubcategory</td><td>rowguid</td><td>uniqueidentifier</td><td>5</td></tr>",
              "<tr><td>ScrapReason</td><td>ModifiedDate</td><td>datetime</td><td>3</td></tr>",
              "<tr><td>ScrapReason</td><td>Name</td><td>nvarchar</td><td>3</td></tr>",
              "<tr><td>ScrapReason</td><td>ScrapReasonID</td><td>smallint</td><td>3</td></tr>",
              "<tr><td>TransactionHistory</td><td>ActualCost</td><td>money</td><td>9</td></tr>",
              "<tr><td>TransactionHistory</td><td>ModifiedDate</td><td>datetime</td><td>9</td></tr>",
              "<tr><td>TransactionHistory</td><td>ProductID</td><td>int</td><td>9</td></tr>",
              "<tr><td>TransactionHistory</td><td>Quantity</td><td>int</td><td>9</td></tr>",
              "<tr><td>TransactionHistory</td><td>ReferenceOrderID</td><td>int</td><td>9</td></tr>",
              "<tr><td>TransactionHistory</td><td>ReferenceOrderLineID</td><td>int</td><td>9</td></tr>",
              "<tr><td>TransactionHistory</td><td>TransactionDate</td><td>datetime</td><td>9</td></tr>",
              "<tr><td>TransactionHistory</td><td>TransactionID</td><td>int</td><td>9</td></tr>",
              "<tr><td>TransactionHistory</td><td>TransactionType</td><td>nchar</td><td>9</td></tr>",
              "<tr><td>TransactionHistoryArchive</td><td>ActualCost</td><td>money</td><td>9</td></tr>",
              "<tr><td>TransactionHistoryArchive</td><td>ModifiedDate</td><td>datetime</td><td>9</td></tr>",
              "<tr><td>TransactionHistoryArchive</td><td>ProductID</td><td>int</td><td>9</td></tr>",
              "<tr><td>TransactionHistoryArchive</td><td>Quantity</td><td>int</td><td>9</td></tr>",
              "<tr><td>TransactionHistoryArchive</td><td>ReferenceOrderID</td><td>int</td><td>9</td></tr>",
              "<tr><td>TransactionHistoryArchive</td><td>ReferenceOrderLineID</td><td>int</td><td>9</td></tr>",
              "<tr><td>TransactionHistoryArchive</td><td>TransactionDate</td><td>datetime</td><td>9</td></tr>",
              "<tr><td>TransactionHistoryArchive</td><td>TransactionID</td><td>int</td><td>9</td></tr>",
              "<tr><td>TransactionHistoryArchive</td><td>TransactionType</td><td>nchar</td><td>9</td></tr>",
              "<tr><td>UnitMeasure</td><td>ModifiedDate</td><td>datetime</td><td>3</td></tr>",
              "<tr><td>UnitMeasure</td><td>Name</td><td>nvarchar</td><td>3</td></tr>",
              "<tr><td>UnitMeasure</td><td>UnitMeasureCode</td><td>nchar</td><td>3</td></tr>",
              "<tr><td>vProductAndDescription</td><td>CultureID</td><td>nchar</td><td>5</td></tr>",
              "<tr><td>vProductAndDescription</td><td>Description</td><td>nvarchar</td><td>5</td></tr>",
              "<tr><td>vProductAndDescription</td><td>Name</td><td>nvarchar</td><td>5</td></tr>",
              "<tr><td>vProductAndDescription</td><td>ProductID</td><td>int</td><td>5</td></tr>",
              "<tr><td>vProductAndDescription</td><td>ProductModel</td><td>nvarchar</td><td>5</td></tr>",
              "<tr><td>vProductModelCatalogDescription</td><td>BikeFrame</td><td>nvarchar</td><td>25</td></tr>",
              "<tr><td>vProductModelCatalogDescription</td><td>Color</td><td>nvarchar</td><td>25</td></tr>",
              "<tr><td>vProductModelCatalogDescription</td><td>Copyright</td><td>nvarchar</td><td>25</td></tr>",
              "<tr><td>vProductModelCatalogDescription</td><td>Crankset</td><td>nvarchar</td><td>25</td></tr>",
              "<tr><td>vProductModelCatalogDescription</td><td>MaintenanceDescription</td><td>nvarchar</td><td>25</td></tr>",
              "<tr><td>vProductModelCatalogDescription</td><td>Manufacturer</td><td>nvarchar</td><td>25</td></tr>",
              "<tr><td>vProductModelCatalogDescription</td><td>Material</td><td>nvarchar</td><td>25</td></tr>",
              "<tr><td>vProductModelCatalogDescription</td><td>ModifiedDate</td><td>datetime</td><td>25</td></tr>",
              "<tr><td>vProductModelCatalogDescription</td><td>Name</td><td>nvarchar</td><td>25</td></tr>",
              "<tr><td>vProductModelCatalogDescription</td><td>NoOfYears</td><td>nvarchar</td><td>25</td></tr>",
              "<tr><td>vProductModelCatalogDescription</td><td>Pedal</td><td>nvarchar</td><td>25</td></tr>",
              "<tr><td>vProductModelCatalogDescription</td><td>PictureAngle</td><td>nvarchar</td><td>25</td></tr>",
              "<tr><td>vProductModelCatalogDescription</td><td>PictureSize</td><td>nvarchar</td><td>25</td></tr>",
              "<tr><td>vProductModelCatalogDescription</td><td>ProductLine</td><td>nvarchar</td><td>25</td></tr>",
              "<tr><td>vProductModelCatalogDescription</td><td>ProductModelID</td><td>int</td><td>25</td></tr>",
              "<tr><td>vProductModelCatalogDescription</td><td>ProductPhotoID</td><td>nvarchar</td><td>25</td></tr>",
              "<tr><td>vProductModelCatalogDescription</td><td>ProductURL</td><td>nvarchar</td><td>25</td></tr>",
              "<tr><td>vProductModelCatalogDescription</td><td>RiderExperience</td><td>nvarchar</td><td>25</td></tr>",
              "<tr><td>vProductModelCatalogDescription</td><td>rowguid</td><td>uniqueidentifier</td><td>25</td></tr>",
              "<tr><td>vProductModelCatalogDescription</td><td>Saddle</td><td>nvarchar</td><td>25</td></tr>",
              "<tr><td>vProductModelCatalogDescription</td><td>Style</td><td>nvarchar</td><td>25</td></tr>",
              "<tr><td>vProductModelCatalogDescription</td><td>Summary</td><td>nvarchar</td><td>25</td></tr>",
              "<tr><td>vProductModelCatalogDescription</td><td>WarrantyDescription</td><td>nvarchar</td><td>25</td></tr>",
              "<tr><td>vProductModelCatalogDescription</td><td>WarrantyPeriod</td><td>nvarchar</td><td>25</td></tr>",
              "<tr><td>vProductModelCatalogDescription</td><td>Wheel</td><td>nvarchar</td><td>25</td></tr>",
              "<tr><td>vProductModelInstructions</td><td>Instructions</td><td>nvarchar</td><td>11</td></tr>",
              "<tr><td>vProductModelInstructions</td><td>LaborHours</td><td>decimal</td><td>11</td></tr>",
              "<tr><td>vProductModelInstructions</td><td>LocationID</td><td>int</td><td>11</td></tr>",
              "<tr><td>vProductModelInstructions</td><td>LotSize</td><td>int</td><td>11</td></tr>",
              "<tr><td>vProductModelInstructions</td><td>MachineHours</td><td>decimal</td><td>11</td></tr>",
              "<tr><td>vProductModelInstructions</td><td>ModifiedDate</td><td>datetime</td><td>11</td></tr>",
              "<tr><td>vProductModelInstructions</td><td>Name</td><td>nvarchar</td><td>11</td></tr>",
              "<tr><td>vProductModelInstructions</td><td>ProductModelID</td><td>int</td><td>11</td></tr>",
              "<tr><td>vProductModelInstructions</td><td>rowguid</td><td>uniqueidentifier</td><td>11</td></tr>",
              "<tr><td>vProductModelInstructions</td><td>SetupHours</td><td>decimal</td><td>11</td></tr>",
              "<tr><td>vProductModelInstructions</td><td>Step</td><td>nvarchar</td><td>11</td></tr>",
              "<tr><td>WorkOrder</td><td>DueDate</td><td>datetime</td><td>10</td></tr>",
              "<tr><td>WorkOrder</td><td>EndDate</td><td>datetime</td><td>10</td></tr>",
              "<tr><td>WorkOrder</td><td>ModifiedDate</td><td>datetime</td><td>10</td></tr>",
              "<tr><td>WorkOrder</td><td>OrderQty</td><td>int</td><td>10</td></tr>",
              "<tr><td>WorkOrder</td><td>ProductID</td><td>int</td><td>10</td></tr>",
              "<tr><td>WorkOrder</td><td>ScrappedQty</td><td>smallint</td><td>10</td></tr>",
              "<tr><td>WorkOrder</td><td>ScrapReasonID</td><td>smallint</td><td>10</td></tr>",
              "<tr><td>WorkOrder</td><td>StartDate</td><td>datetime</td><td>10</td></tr>",
              "<tr><td>WorkOrder</td><td>StockedQty</td><td>int</td><td>10</td></tr>",
              "<tr><td>WorkOrder</td><td>WorkOrderID</td><td>int</td><td>10</td></tr>",
              "<tr><td>WorkOrderRouting</td><td>ActualCost</td><td>money</td><td>12</td></tr>",
              "<tr><td>WorkOrderRouting</td><td>ActualEndDate</td><td>datetime</td><td>12</td></tr>",
              "<tr><td>WorkOrderRouting</td><td>ActualResourceHrs</td><td>decimal</td><td>12</td></tr>",
              "<tr><td>WorkOrderRouting</td><td>ActualStartDate</td><td>datetime</td><td>12</td></tr>",
              "<tr><td>WorkOrderRouting</td><td>LocationID</td><td>smallint</td><td>12</td></tr>",
              "<tr><td>WorkOrderRouting</td><td>ModifiedDate</td><td>datetime</td><td>12</td></tr>",
              "<tr><td>WorkOrderRouting</td><td>OperationSequence</td><td>smallint</td><td>12</td></tr>",
              "<tr><td>WorkOrderRouting</td><td>PlannedCost</td><td>money</td><td>12</td></tr>",
              "<tr><td>WorkOrderRouting</td><td>ProductID</td><td>int</td><td>12</td></tr>",
              "<tr><td>WorkOrderRouting</td><td>ScheduledEndDate</td><td>datetime</td><td>12</td></tr>",
              "<tr><td>WorkOrderRouting</td><td>ScheduledStartDate</td><td>datetime</td><td>12</td></tr>",
              "<tr><td>WorkOrderRouting</td><td>WorkOrderID</td><td>int</td><td>12</td></tr>",
              "<tr><td>ProductVendor</td><td>AverageLeadTime</td><td>int</td><td>11</td></tr>",
              "<tr><td>ProductVendor</td><td>BusinessEntityID</td><td>int</td><td>11</td></tr>",
              "<tr><td>ProductVendor</td><td>LastReceiptCost</td><td>money</td><td>11</td></tr>",
              "<tr><td>ProductVendor</td><td>LastReceiptDate</td><td>datetime</td><td>11</td></tr>",
              "<tr><td>ProductVendor</td><td>MaxOrderQty</td><td>int</td><td>11</td></tr>",
              "<tr><td>ProductVendor</td><td>MinOrderQty</td><td>int</td><td>11</td></tr>",
              "<tr><td>ProductVendor</td><td>ModifiedDate</td><td>datetime</td><td>11</td></tr>",
              "<tr><td>ProductVendor</td><td>OnOrderQty</td><td>int</td><td>11</td></tr>",
              "<tr><td>ProductVendor</td><td>ProductID</td><td>int</td><td>11</td></tr>",
              "<tr><td>ProductVendor</td><td>StandardPrice</td><td>money</td><td>11</td></tr>",
              "<tr><td>ProductVendor</td><td>UnitMeasureCode</td><td>nchar</td><td>11</td></tr>",
              "<tr><td>PurchaseOrderDetail</td><td>DueDate</td><td>datetime</td><td>11</td></tr>",
              "<tr><td>PurchaseOrderDetail</td><td>LineTotal</td><td>money</td><td>11</td></tr>",
              "<tr><td>PurchaseOrderDetail</td><td>ModifiedDate</td><td>datetime</td><td>11</td></tr>",
              "<tr><td>PurchaseOrderDetail</td><td>OrderQty</td><td>smallint</td><td>11</td></tr>",
              "<tr><td>PurchaseOrderDetail</td><td>ProductID</td><td>int</td><td>11</td></tr>",
              "<tr><td>PurchaseOrderDetail</td><td>PurchaseOrderDetailID</td><td>int</td><td>11</td></tr>",
              "<tr><td>PurchaseOrderDetail</td><td>PurchaseOrderID</td><td>int</td><td>11</td></tr>",
              "<tr><td>PurchaseOrderDetail</td><td>ReceivedQty</td><td>decimal</td><td>11</td></tr>",
              "<tr><td>PurchaseOrderDetail</td><td>RejectedQty</td><td>decimal</td><td>11</td></tr>",
              "<tr><td>PurchaseOrderDetail</td><td>StockedQty</td><td>decimal</td><td>11</td></tr>",
              "<tr><td>PurchaseOrderDetail</td><td>UnitPrice</td><td>money</td><td>11</td></tr>",
              "<tr><td>PurchaseOrderHeader</td><td>EmployeeID</td><td>int</td><td>13</td></tr>",
              "<tr><td>PurchaseOrderHeader</td><td>Freight</td><td>money</td><td>13</td></tr>",
              "<tr><td>PurchaseOrderHeader</td><td>ModifiedDate</td><td>datetime</td><td>13</td></tr>",
              "<tr><td>PurchaseOrderHeader</td><td>OrderDate</td><td>datetime</td><td>13</td></tr>",
              "<tr><td>PurchaseOrderHeader</td><td>PurchaseOrderID</td><td>int</td><td>13</td></tr>",
              "<tr><td>PurchaseOrderHeader</td><td>RevisionNumber</td><td>tinyint</td><td>13</td></tr>",
              "<tr><td>PurchaseOrderHeader</td><td>ShipDate</td><td>datetime</td><td>13</td></tr>",
              "<tr><td>PurchaseOrderHeader</td><td>ShipMethodID</td><td>int</td><td>13</td></tr>",
              "<tr><td>PurchaseOrderHeader</td><td>Status</td><td>tinyint</td><td>13</td></tr>",
              "<tr><td>PurchaseOrderHeader</td><td>SubTotal</td><td>money</td><td>13</td></tr>",
              "<tr><td>PurchaseOrderHeader</td><td>TaxAmt</td><td>money</td><td>13</td></tr>",
              "<tr><td>PurchaseOrderHeader</td><td>TotalDue</td><td>money</td><td>13</td></tr>",
              "<tr><td>PurchaseOrderHeader</td><td>VendorID</td><td>int</td><td>13</td></tr>",
              "<tr><td>ShipMethod</td><td>ModifiedDate</td><td>datetime</td><td>6</td></tr>",
              "<tr><td>ShipMethod</td><td>Name</td><td>nvarchar</td><td>6</td></tr>",
              "<tr><td>ShipMethod</td><td>rowguid</td><td>uniqueidentifier</td><td>6</td></tr>",
              "<tr><td>ShipMethod</td><td>ShipBase</td><td>money</td><td>6</td></tr>",
              "<tr><td>ShipMethod</td><td>ShipMethodID</td><td>int</td><td>6</td></tr>",
              "<tr><td>ShipMethod</td><td>ShipRate</td><td>money</td><td>6</td></tr>",
              "<tr><td>Vendor</td><td>AccountNumber</td><td>nvarchar</td><td>8</td></tr>",
              "<tr><td>Vendor</td><td>ActiveFlag</td><td>bit</td><td>8</td></tr>",
              "<tr><td>Vendor</td><td>BusinessEntityID</td><td>int</td><td>8</td></tr>",
              "<tr><td>Vendor</td><td>CreditRating</td><td>tinyint</td><td>8</td></tr>",
              "<tr><td>Vendor</td><td>ModifiedDate</td><td>datetime</td><td>8</td></tr>",
              "<tr><td>Vendor</td><td>Name</td><td>nvarchar</td><td>8</td></tr>",
              "<tr><td>Vendor</td><td>PreferredVendorStatus</td><td>bit</td><td>8</td></tr>",
              "<tr><td>Vendor</td><td>PurchasingWebServiceURL</td><td>nvarchar</td><td>8</td></tr>",
              "<tr><td>vVendorWithAddresses</td><td>AddressLine1</td><td>nvarchar</td><td>9</td></tr>",
              "<tr><td>vVendorWithAddresses</td><td>AddressLine2</td><td>nvarchar</td><td>9</td></tr>",
              "<tr><td>vVendorWithAddresses</td><td>AddressType</td><td>nvarchar</td><td>9</td></tr>",
              "<tr><td>vVendorWithAddresses</td><td>BusinessEntityID</td><td>int</td><td>9</td></tr>",
              "<tr><td>vVendorWithAddresses</td><td>City</td><td>nvarchar</td><td>9</td></tr>",
              "<tr><td>vVendorWithAddresses</td><td>CountryRegionName</td><td>nvarchar</td><td>9</td></tr>",
              "<tr><td>vVendorWithAddresses</td><td>Name</td><td>nvarchar</td><td>9</td></tr>",
              "<tr><td>vVendorWithAddresses</td><td>PostalCode</td><td>nvarchar</td><td>9</td></tr>",
              "<tr><td>vVendorWithAddresses</td><td>StateProvinceName</td><td>nvarchar</td><td>9</td></tr>",
              "<tr><td>vVendorWithContacts</td><td>BusinessEntityID</td><td>int</td><td>12</td></tr>",
              "<tr><td>vVendorWithContacts</td><td>ContactType</td><td>nvarchar</td><td>12</td></tr>",
              "<tr><td>vVendorWithContacts</td><td>EmailAddress</td><td>nvarchar</td><td>12</td></tr>",
              "<tr><td>vVendorWithContacts</td><td>EmailPromotion</td><td>int</td><td>12</td></tr>",
              "<tr><td>vVendorWithContacts</td><td>FirstName</td><td>nvarchar</td><td>12</td></tr>",
              "<tr><td>vVendorWithContacts</td><td>LastName</td><td>nvarchar</td><td>12</td></tr>",
              "<tr><td>vVendorWithContacts</td><td>MiddleName</td><td>nvarchar</td><td>12</td></tr>",
              "<tr><td>vVendorWithContacts</td><td>Name</td><td>nvarchar</td><td>12</td></tr>",
              "<tr><td>vVendorWithContacts</td><td>PhoneNumber</td><td>nvarchar</td><td>12</td></tr>",
              "<tr><td>vVendorWithContacts</td><td>PhoneNumberType</td><td>nvarchar</td><td>12</td></tr>",
              "<tr><td>vVendorWithContacts</td><td>Suffix</td><td>nvarchar</td><td>12</td></tr>",
              "<tr><td>vVendorWithContacts</td><td>Title</td><td>nvarchar</td><td>12</td></tr>",
              "<tr><td>CountryRegionCurrency</td><td>CountryRegionCode</td><td>nvarchar</td><td>3</td></tr>",
              "<tr><td>CountryRegionCurrency</td><td>CurrencyCode</td><td>nchar</td><td>3</td></tr>",
              "<tr><td>CountryRegionCurrency</td><td>ModifiedDate</td><td>datetime</td><td>3</td></tr>",
              "<tr><td>CreditCard</td><td>CardNumber</td><td>nvarchar</td><td>6</td></tr>",
              "<tr><td>CreditCard</td><td>CardType</td><td>nvarchar</td><td>6</td></tr>",
              "<tr><td>CreditCard</td><td>CreditCardID</td><td>int</td><td>6</td></tr>",
              "<tr><td>CreditCard</td><td>ExpMonth</td><td>tinyint</td><td>6</td></tr>",
              "<tr><td>CreditCard</td><td>ExpYear</td><td>smallint</td><td>6</td></tr>",
              "<tr><td>CreditCard</td><td>ModifiedDate</td><td>datetime</td><td>6</td></tr>",
              "<tr><td>Currency</td><td>CurrencyCode</td><td>nchar</td><td>3</td></tr>",
              "<tr><td>Currency</td><td>ModifiedDate</td><td>datetime</td><td>3</td></tr>",
              "<tr><td>Currency</td><td>Name</td><td>nvarchar</td><td>3</td></tr>",
              "<tr><td>CurrencyRate</td><td>AverageRate</td><td>money</td><td>7</td></tr>",
              "<tr><td>CurrencyRate</td><td>CurrencyRateDate</td><td>datetime</td><td>7</td></tr>",
              "<tr><td>CurrencyRate</td><td>CurrencyRateID</td><td>int</td><td>7</td></tr>",
              "<tr><td>CurrencyRate</td><td>EndOfDayRate</td><td>money</td><td>7</td></tr>",
              "<tr><td>CurrencyRate</td><td>FromCurrencyCode</td><td>nchar</td><td>7</td></tr>",
              "<tr><td>CurrencyRate</td><td>ModifiedDate</td><td>datetime</td><td>7</td></tr>",
              "<tr><td>CurrencyRate</td><td>ToCurrencyCode</td><td>nchar</td><td>7</td></tr>",
              "<tr><td>Customer</td><td>AccountNumber</td><td>varchar</td><td>7</td></tr>",
              "<tr><td>Customer</td><td>CustomerID</td><td>int</td><td>7</td></tr>",
              "<tr><td>Customer</td><td>ModifiedDate</td><td>datetime</td><td>7</td></tr>",
              "<tr><td>Customer</td><td>PersonID</td><td>int</td><td>7</td></tr>",
              "<tr><td>Customer</td><td>rowguid</td><td>uniqueidentifier</td><td>7</td></tr>",
              "<tr><td>Customer</td><td>StoreID</td><td>int</td><td>7</td></tr>",
              "<tr><td>Customer</td><td>TerritoryID</td><td>int</td><td>7</td></tr>",
              "<tr><td>PersonCreditCard</td><td>BusinessEntityID</td><td>int</td><td>3</td></tr>",
              "<tr><td>PersonCreditCard</td><td>CreditCardID</td><td>int</td><td>3</td></tr>",
              "<tr><td>PersonCreditCard</td><td>ModifiedDate</td><td>datetime</td><td>3</td></tr>",
              "<tr><td>SalesOrderDetail</td><td>CarrierTrackingNumber</td><td>nvarchar</td><td>11</td></tr>",
              "<tr><td>SalesOrderDetail</td><td>LineTotal</td><td>numeric</td><td>11</td></tr>",
              "<tr><td>SalesOrderDetail</td><td>ModifiedDate</td><td>datetime</td><td>11</td></tr>",
              "<tr><td>SalesOrderDetail</td><td>OrderQty</td><td>smallint</td><td>11</td></tr>",
              "<tr><td>SalesOrderDetail</td><td>ProductID</td><td>int</td><td>11</td></tr>",
              "<tr><td>SalesOrderDetail</td><td>rowguid</td><td>uniqueidentifier</td><td>11</td></tr>",
              "<tr><td>SalesOrderDetail</td><td>SalesOrderDetailID</td><td>int</td><td>11</td></tr>",
              "<tr><td>SalesOrderDetail</td><td>SalesOrderID</td><td>int</td><td>11</td></tr>",
              "<tr><td>SalesOrderDetail</td><td>SpecialOfferID</td><td>int</td><td>11</td></tr>",
              "<tr><td>SalesOrderDetail</td><td>UnitPrice</td><td>money</td><td>11</td></tr>",
              "<tr><td>SalesOrderDetail</td><td>UnitPriceDiscount</td><td>money</td><td>11</td></tr>",
              "<tr><td>SalesOrderHeader</td><td>AccountNumber</td><td>nvarchar</td><td>26</td></tr>",
              "<tr><td>SalesOrderHeader</td><td>BillToAddressID</td><td>int</td><td>26</td></tr>",
              "<tr><td>SalesOrderHeader</td><td>Comment</td><td>nvarchar</td><td>26</td></tr>",
              "<tr><td>SalesOrderHeader</td><td>CreditCardApprovalCode</td><td>varchar</td><td>26</td></tr>",
              "<tr><td>SalesOrderHeader</td><td>CreditCardID</td><td>int</td><td>26</td></tr>",
              "<tr><td>SalesOrderHeader</td><td>CurrencyRateID</td><td>int</td><td>26</td></tr>",
              "<tr><td>SalesOrderHeader</td><td>CustomerID</td><td>int</td><td>26</td></tr>",
              "<tr><td>SalesOrderHeader</td><td>DueDate</td><td>datetime</td><td>26</td></tr>",
              "<tr><td>SalesOrderHeader</td><td>Freight</td><td>money</td><td>26</td></tr>",
              "<tr><td>SalesOrderHeader</td><td>ModifiedDate</td><td>datetime</td><td>26</td></tr>",
              "<tr><td>SalesOrderHeader</td><td>OnlineOrderFlag</td><td>bit</td><td>26</td></tr>",
              "<tr><td>SalesOrderHeader</td><td>OrderDate</td><td>datetime</td><td>26</td></tr>",
              "<tr><td>SalesOrderHeader</td><td>PurchaseOrderNumber</td><td>nvarchar</td><td>26</td></tr>",
              "<tr><td>SalesOrderHeader</td><td>RevisionNumber</td><td>tinyint</td><td>26</td></tr>",
              "<tr><td>SalesOrderHeader</td><td>rowguid</td><td>uniqueidentifier</td><td>26</td></tr>",
              "<tr><td>SalesOrderHeader</td><td>SalesOrderID</td><td>int</td><td>26</td></tr>",
              "<tr><td>SalesOrderHeader</td><td>SalesOrderNumber</td><td>nvarchar</td><td>26</td></tr>",
              "<tr><td>SalesOrderHeader</td><td>SalesPersonID</td><td>int</td><td>26</td></tr>",
              "<tr><td>SalesOrderHeader</td><td>ShipDate</td><td>datetime</td><td>26</td></tr>",
              "<tr><td>SalesOrderHeader</td><td>ShipMethodID</td><td>int</td><td>26</td></tr>",
              "<tr><td>SalesOrderHeader</td><td>ShipToAddressID</td><td>int</td><td>26</td></tr>",
              "<tr><td>SalesOrderHeader</td><td>Status</td><td>tinyint</td><td>26</td></tr>",
              "<tr><td>SalesOrderHeader</td><td>SubTotal</td><td>money</td><td>26</td></tr>",
              "<tr><td>SalesOrderHeader</td><td>TaxAmt</td><td>money</td><td>26</td></tr>",
              "<tr><td>SalesOrderHeader</td><td>TerritoryID</td><td>int</td><td>26</td></tr>",
              "<tr><td>SalesOrderHeader</td><td>TotalDue</td><td>money</td><td>26</td></tr>",
              "<tr><td>SalesOrderHeaderSalesReason</td><td>ModifiedDate</td><td>datetime</td><td>3</td></tr>",
              "<tr><td>SalesOrderHeaderSalesReason</td><td>SalesOrderID</td><td>int</td><td>3</td></tr>",
              "<tr><td>SalesOrderHeaderSalesReason</td><td>SalesReasonID</td><td>int</td><td>3</td></tr>",
              "<tr><td>SalesPerson</td><td>Bonus</td><td>money</td><td>9</td></tr>",
              "<tr><td>SalesPerson</td><td>BusinessEntityID</td><td>int</td><td>9</td></tr>",
              "<tr><td>SalesPerson</td><td>CommissionPct</td><td>smallmoney</td><td>9</td></tr>",
              "<tr><td>SalesPerson</td><td>ModifiedDate</td><td>datetime</td><td>9</td></tr>",
              "<tr><td>SalesPerson</td><td>rowguid</td><td>uniqueidentifier</td><td>9</td></tr>",
              "<tr><td>SalesPerson</td><td>SalesLastYear</td><td>money</td><td>9</td></tr>",
              "<tr><td>SalesPerson</td><td>SalesQuota</td><td>money</td><td>9</td></tr>",
              "<tr><td>SalesPerson</td><td>SalesYTD</td><td>money</td><td>9</td></tr>",
              "<tr><td>SalesPerson</td><td>TerritoryID</td><td>int</td><td>9</td></tr>",
              "<tr><td>SalesPersonQuotaHistory</td><td>BusinessEntityID</td><td>int</td><td>5</td></tr>",
              "<tr><td>SalesPersonQuotaHistory</td><td>ModifiedDate</td><td>datetime</td><td>5</td></tr>",
              "<tr><td>SalesPersonQuotaHistory</td><td>QuotaDate</td><td>datetime</td><td>5</td></tr>",
              "<tr><td>SalesPersonQuotaHistory</td><td>rowguid</td><td>uniqueidentifier</td><td>5</td></tr>",
              "<tr><td>SalesPersonQuotaHistory</td><td>SalesQuota</td><td>money</td><td>5</td></tr>",
              "<tr><td>SalesReason</td><td>ModifiedDate</td><td>datetime</td><td>4</td></tr>",
              "<tr><td>SalesReason</td><td>Name</td><td>nvarchar</td><td>4</td></tr>",
              "<tr><td>SalesReason</td><td>ReasonType</td><td>nvarchar</td><td>4</td></tr>",
              "<tr><td>SalesReason</td><td>SalesReasonID</td><td>int</td><td>4</td></tr>",
              "<tr><td>SalesTaxRate</td><td>ModifiedDate</td><td>datetime</td><td>7</td></tr>",
              "<tr><td>SalesTaxRate</td><td>Name</td><td>nvarchar</td><td>7</td></tr>",
              "<tr><td>SalesTaxRate</td><td>rowguid</td><td>uniqueidentifier</td><td>7</td></tr>",
              "<tr><td>SalesTaxRate</td><td>SalesTaxRateID</td><td>int</td><td>7</td></tr>",
              "<tr><td>SalesTaxRate</td><td>StateProvinceID</td><td>int</td><td>7</td></tr>",
              "<tr><td>SalesTaxRate</td><td>TaxRate</td><td>smallmoney</td><td>7</td></tr>",
              "<tr><td>SalesTaxRate</td><td>TaxType</td><td>tinyint</td><td>7</td></tr>",
              "<tr><td>SalesTerritory</td><td>CostLastYear</td><td>money</td><td>10</td></tr>",
              "<tr><td>SalesTerritory</td><td>CostYTD</td><td>money</td><td>10</td></tr>",
              "<tr><td>SalesTerritory</td><td>CountryRegionCode</td><td>nvarchar</td><td>10</td></tr>",
              "<tr><td>SalesTerritory</td><td>Group</td><td>nvarchar</td><td>10</td></tr>",
              "<tr><td>SalesTerritory</td><td>ModifiedDate</td><td>datetime</td><td>10</td></tr>",
              "<tr><td>SalesTerritory</td><td>Name</td><td>nvarchar</td><td>10</td></tr>",
              "<tr><td>SalesTerritory</td><td>rowguid</td><td>uniqueidentifier</td><td>10</td></tr>",
              "<tr><td>SalesTerritory</td><td>SalesLastYear</td><td>money</td><td>10</td></tr>",
              "<tr><td>SalesTerritory</td><td>SalesYTD</td><td>money</td><td>10</td></tr>",
              "<tr><td>SalesTerritory</td><td>TerritoryID</td><td>int</td><td>10</td></tr>",
              "<tr><td>SalesTerritoryHistory</td><td>BusinessEntityID</td><td>int</td><td>6</td></tr>",
              "<tr><td>SalesTerritoryHistory</td><td>EndDate</td><td>datetime</td><td>6</td></tr>",
              "<tr><td>SalesTerritoryHistory</td><td>ModifiedDate</td><td>datetime</td><td>6</td></tr>",
              "<tr><td>SalesTerritoryHistory</td><td>rowguid</td><td>uniqueidentifier</td><td>6</td></tr>",
              "<tr><td>SalesTerritoryHistory</td><td>StartDate</td><td>datetime</td><td>6</td></tr>",
              "<tr><td>SalesTerritoryHistory</td><td>TerritoryID</td><td>int</td><td>6</td></tr>",
              "<tr><td>ShoppingCartItem</td><td>DateCreated</td><td>datetime</td><td>6</td></tr>",
              "<tr><td>ShoppingCartItem</td><td>ModifiedDate</td><td>datetime</td><td>6</td></tr>",
              "<tr><td>ShoppingCartItem</td><td>ProductID</td><td>int</td><td>6</td></tr>",
              "<tr><td>ShoppingCartItem</td><td>Quantity</td><td>int</td><td>6</td></tr>",
              "<tr><td>ShoppingCartItem</td><td>ShoppingCartID</td><td>nvarchar</td><td>6</td></tr>",
              "<tr><td>ShoppingCartItem</td><td>ShoppingCartItemID</td><td>int</td><td>6</td></tr>",
              "<tr><td>SpecialOffer</td><td>Category</td><td>nvarchar</td><td>11</td></tr>",
              "<tr><td>SpecialOffer</td><td>Description</td><td>nvarchar</td><td>11</td></tr>",
              "<tr><td>SpecialOffer</td><td>DiscountPct</td><td>smallmoney</td><td>11</td></tr>",
              "<tr><td>SpecialOffer</td><td>EndDate</td><td>datetime</td><td>11</td></tr>",
              "<tr><td>SpecialOffer</td><td>MaxQty</td><td>int</td><td>11</td></tr>",
              "<tr><td>SpecialOffer</td><td>MinQty</td><td>int</td><td>11</td></tr>",
              "<tr><td>SpecialOffer</td><td>ModifiedDate</td><td>datetime</td><td>11</td></tr>",
              "<tr><td>SpecialOffer</td><td>rowguid</td><td>uniqueidentifier</td><td>11</td></tr>",
              "<tr><td>SpecialOffer</td><td>SpecialOfferID</td><td>int</td><td>11</td></tr>",
              "<tr><td>SpecialOffer</td><td>StartDate</td><td>datetime</td><td>11</td></tr>",
              "<tr><td>SpecialOffer</td><td>Type</td><td>nvarchar</td><td>11</td></tr>",
              "<tr><td>SpecialOfferProduct</td><td>ModifiedDate</td><td>datetime</td><td>4</td></tr>",
              "<tr><td>SpecialOfferProduct</td><td>ProductID</td><td>int</td><td>4</td></tr>",
              "<tr><td>SpecialOfferProduct</td><td>rowguid</td><td>uniqueidentifier</td><td>4</td></tr>",
              "<tr><td>SpecialOfferProduct</td><td>SpecialOfferID</td><td>int</td><td>4</td></tr>",
              "<tr><td>Store</td><td>BusinessEntityID</td><td>int</td><td>6</td></tr>",
              "<tr><td>Store</td><td>Demographics</td><td>xml</td><td>6</td></tr>",
              "<tr><td>Store</td><td>ModifiedDate</td><td>datetime</td><td>6</td></tr>",
              "<tr><td>Store</td><td>Name</td><td>nvarchar</td><td>6</td></tr>",
              "<tr><td>Store</td><td>rowguid</td><td>uniqueidentifier</td><td>6</td></tr>",
              "<tr><td>Store</td><td>SalesPersonID</td><td>int</td><td>6</td></tr>",
              "<tr><td>vIndividualCustomer</td><td>AddressLine1</td><td>nvarchar</td><td>18</td></tr>",
              "<tr><td>vIndividualCustomer</td><td>AddressLine2</td><td>nvarchar</td><td>18</td></tr>",
              "<tr><td>vIndividualCustomer</td><td>AddressType</td><td>nvarchar</td><td>18</td></tr>",
              "<tr><td>vIndividualCustomer</td><td>BusinessEntityID</td><td>int</td><td>18</td></tr>",
              "<tr><td>vIndividualCustomer</td><td>City</td><td>nvarchar</td><td>18</td></tr>",
              "<tr><td>vIndividualCustomer</td><td>CountryRegionName</td><td>nvarchar</td><td>18</td></tr>",
              "<tr><td>vIndividualCustomer</td><td>Demographics</td><td>xml</td><td>18</td></tr>",
              "<tr><td>vIndividualCustomer</td><td>EmailAddress</td><td>nvarchar</td><td>18</td></tr>",
              "<tr><td>vIndividualCustomer</td><td>EmailPromotion</td><td>int</td><td>18</td></tr>",
              "<tr><td>vIndividualCustomer</td><td>FirstName</td><td>nvarchar</td><td>18</td></tr>",
              "<tr><td>vIndividualCustomer</td><td>LastName</td><td>nvarchar</td><td>18</td></tr>",
              "<tr><td>vIndividualCustomer</td><td>MiddleName</td><td>nvarchar</td><td>18</td></tr>",
              "<tr><td>vIndividualCustomer</td><td>PhoneNumber</td><td>nvarchar</td><td>18</td></tr>",
              "<tr><td>vIndividualCustomer</td><td>PhoneNumberType</td><td>nvarchar</td><td>18</td></tr>",
              "<tr><td>vIndividualCustomer</td><td>PostalCode</td><td>nvarchar</td><td>18</td></tr>",
              "<tr><td>vIndividualCustomer</td><td>StateProvinceName</td><td>nvarchar</td><td>18</td></tr>",
              "<tr><td>vIndividualCustomer</td><td>Suffix</td><td>nvarchar</td><td>18</td></tr>",
              "<tr><td>vIndividualCustomer</td><td>Title</td><td>nvarchar</td><td>18</td></tr>",
              "<tr><td>vPersonDemographics</td><td>BirthDate</td><td>datetime</td><td>13</td></tr>",
              "<tr><td>vPersonDemographics</td><td>BusinessEntityID</td><td>int</td><td>13</td></tr>",
              "<tr><td>vPersonDemographics</td><td>DateFirstPurchase</td><td>datetime</td><td>13</td></tr>",
              "<tr><td>vPersonDemographics</td><td>Education</td><td>nvarchar</td><td>13</td></tr>",
              "<tr><td>vPersonDemographics</td><td>Gender</td><td>nvarchar</td><td>13</td></tr>",
              "<tr><td>vPersonDemographics</td><td>HomeOwnerFlag</td><td>bit</td><td>13</td></tr>",
              "<tr><td>vPersonDemographics</td><td>MaritalStatus</td><td>nvarchar</td><td>13</td></tr>",
              "<tr><td>vPersonDemographics</td><td>NumberCarsOwned</td><td>int</td><td>13</td></tr>",
              "<tr><td>vPersonDemographics</td><td>NumberChildrenAtHome</td><td>int</td><td>13</td></tr>",
              "<tr><td>vPersonDemographics</td><td>Occupation</td><td>nvarchar</td><td>13</td></tr>",
              "<tr><td>vPersonDemographics</td><td>TotalChildren</td><td>int</td><td>13</td></tr>",
              "<tr><td>vPersonDemographics</td><td>TotalPurchaseYTD</td><td>money</td><td>13</td></tr>",
              "<tr><td>vPersonDemographics</td><td>YearlyIncome</td><td>nvarchar</td><td>13</td></tr>",
              "<tr><td>vSalesPerson</td><td>AddressLine1</td><td>nvarchar</td><td>22</td></tr>",
              "<tr><td>vSalesPerson</td><td>AddressLine2</td><td>nvarchar</td><td>22</td></tr>",
              "<tr><td>vSalesPerson</td><td>BusinessEntityID</td><td>int</td><td>22</td></tr>",
              "<tr><td>vSalesPerson</td><td>City</td><td>nvarchar</td><td>22</td></tr>",
              "<tr><td>vSalesPerson</td><td>CountryRegionName</td><td>nvarchar</td><td>22</td></tr>",
              "<tr><td>vSalesPerson</td><td>EmailAddress</td><td>nvarchar</td><td>22</td></tr>",
              "<tr><td>vSalesPerson</td><td>EmailPromotion</td><td>int</td><td>22</td></tr>",
              "<tr><td>vSalesPerson</td><td>FirstName</td><td>nvarchar</td><td>22</td></tr>",
              "<tr><td>vSalesPerson</td><td>JobTitle</td><td>nvarchar</td><td>22</td></tr>",
              "<tr><td>vSalesPerson</td><td>LastName</td><td>nvarchar</td><td>22</td></tr>",
              "<tr><td>vSalesPerson</td><td>MiddleName</td><td>nvarchar</td><td>22</td></tr>",
              "<tr><td>vSalesPerson</td><td>PhoneNumber</td><td>nvarchar</td><td>22</td></tr>",
              "<tr><td>vSalesPerson</td><td>PhoneNumberType</td><td>nvarchar</td><td>22</td></tr>",
              "<tr><td>vSalesPerson</td><td>PostalCode</td><td>nvarchar</td><td>22</td></tr>",
              "<tr><td>vSalesPerson</td><td>SalesLastYear</td><td>money</td><td>22</td></tr>",
              "<tr><td>vSalesPerson</td><td>SalesQuota</td><td>money</td><td>22</td></tr>",
              "<tr><td>vSalesPerson</td><td>SalesYTD</td><td>money</td><td>22</td></tr>",
              "<tr><td>vSalesPerson</td><td>StateProvinceName</td><td>nvarchar</td><td>22</td></tr>",
              "<tr><td>vSalesPerson</td><td>Suffix</td><td>nvarchar</td><td>22</td></tr>",
              "<tr><td>vSalesPerson</td><td>TerritoryGroup</td><td>nvarchar</td><td>22</td></tr>",
              "<tr><td>vSalesPerson</td><td>TerritoryName</td><td>nvarchar</td><td>22</td></tr>",
              "<tr><td>vSalesPerson</td><td>Title</td><td>nvarchar</td><td>22</td></tr>",
              "<tr><td>vSalesPersonSalesByFiscalYears</td><td>2002</td><td>money</td><td>7</td></tr>",
              "<tr><td>vSalesPersonSalesByFiscalYears</td><td>2003</td><td>money</td><td>7</td></tr>",
              "<tr><td>vSalesPersonSalesByFiscalYears</td><td>2004</td><td>money</td><td>7</td></tr>",
              "<tr><td>vSalesPersonSalesByFiscalYears</td><td>FullName</td><td>nvarchar</td><td>7</td></tr>",
              "<tr><td>vSalesPersonSalesByFiscalYears</td><td>JobTitle</td><td>nvarchar</td><td>7</td></tr>",
              "<tr><td>vSalesPersonSalesByFiscalYears</td><td>SalesPersonID</td><td>int</td><td>7</td></tr>",
              "<tr><td>vSalesPersonSalesByFiscalYears</td><td>SalesTerritory</td><td>nvarchar</td><td>7</td></tr>",
              "<tr><td>vStoreWithAddresses</td><td>AddressLine1</td><td>nvarchar</td><td>9</td></tr>",
              "<tr><td>vStoreWithAddresses</td><td>AddressLine2</td><td>nvarchar</td><td>9</td></tr>",
              "<tr><td>vStoreWithAddresses</td><td>AddressType</td><td>nvarchar</td><td>9</td></tr>",
              "<tr><td>vStoreWithAddresses</td><td>BusinessEntityID</td><td>int</td><td>9</td></tr>",
              "<tr><td>vStoreWithAddresses</td><td>City</td><td>nvarchar</td><td>9</td></tr>",
              "<tr><td>vStoreWithAddresses</td><td>CountryRegionName</td><td>nvarchar</td><td>9</td></tr>",
              "<tr><td>vStoreWithAddresses</td><td>Name</td><td>nvarchar</td><td>9</td></tr>",
              "<tr><td>vStoreWithAddresses</td><td>PostalCode</td><td>nvarchar</td><td>9</td></tr>",
              "<tr><td>vStoreWithAddresses</td><td>StateProvinceName</td><td>nvarchar</td><td>9</td></tr>",
              "<tr><td>vStoreWithContacts</td><td>BusinessEntityID</td><td>int</td><td>12</td></tr>",
              "<tr><td>vStoreWithContacts</td><td>ContactType</td><td>nvarchar</td><td>12</td></tr>",
              "<tr><td>vStoreWithContacts</td><td>EmailAddress</td><td>nvarchar</td><td>12</td></tr>",
              "<tr><td>vStoreWithContacts</td><td>EmailPromotion</td><td>int</td><td>12</td></tr>",
              "<tr><td>vStoreWithContacts</td><td>FirstName</td><td>nvarchar</td><td>12</td></tr>",
              "<tr><td>vStoreWithContacts</td><td>LastName</td><td>nvarchar</td><td>12</td></tr>",
              "<tr><td>vStoreWithContacts</td><td>MiddleName</td><td>nvarchar</td><td>12</td></tr>",
              "<tr><td>vStoreWithContacts</td><td>Name</td><td>nvarchar</td><td>12</td></tr>",
              "<tr><td>vStoreWithContacts</td><td>PhoneNumber</td><td>nvarchar</td><td>12</td></tr>",
              "<tr><td>vStoreWithContacts</td><td>PhoneNumberType</td><td>nvarchar</td><td>12</td></tr>",
              "<tr><td>vStoreWithContacts</td><td>Suffix</td><td>nvarchar</td><td>12</td></tr>",
              "<tr><td>vStoreWithContacts</td><td>Title</td><td>nvarchar</td><td>12</td></tr>",
              "<tr><td>vStoreWithDemographics</td><td>AnnualRevenue</td><td>money</td><td>12</td></tr>",
              "<tr><td>vStoreWithDemographics</td><td>AnnualSales</td><td>money</td><td>12</td></tr>",
              "<tr><td>vStoreWithDemographics</td><td>BankName</td><td>nvarchar</td><td>12</td></tr>",
              "<tr><td>vStoreWithDemographics</td><td>Brands</td><td>nvarchar</td><td>12</td></tr>",
              "<tr><td>vStoreWithDemographics</td><td>BusinessEntityID</td><td>int</td><td>12</td></tr>",
              "<tr><td>vStoreWithDemographics</td><td>BusinessType</td><td>nvarchar</td><td>12</td></tr>",
              "<tr><td>vStoreWithDemographics</td><td>Internet</td><td>nvarchar</td><td>12</td></tr>",
              "<tr><td>vStoreWithDemographics</td><td>Name</td><td>nvarchar</td><td>12</td></tr>",
              "<tr><td>vStoreWithDemographics</td><td>NumberEmployees</td><td>int</td><td>12</td></tr>",
              "<tr><td>vStoreWithDemographics</td><td>Specialty</td><td>nvarchar</td><td>12</td></tr>",
              "<tr><td>vStoreWithDemographics</td><td>SquareFeet</td><td>int</td><td>12</td></tr>",
              "<tr><td>vStoreWithDemographics</td><td>YearOpened</td><td>int</td><td>12</td></tr>",
              "</table>"
            ]
          }
        }
      ],
      "execution_count": null
    },
    {
      "cell_type": "code",
      "source": [
        "/*Both queries return the same result, all the foreign key constraints and their reference tables and columns as well*/\n",
        "SELECT\n",
        "    obj.name AS FK_NAME,\n",
        "    sch.name AS [schema_name],\n",
        "    tab1.name AS [table],\n",
        "    col1.name AS [column],\n",
        "    tab2.name AS [referenced_table],\n",
        "    col2.name AS [referenced_column]\n",
        "FROM sys.foreign_key_columns fkc\n",
        "    INNER JOIN sys.objects obj\n",
        "        ON obj.object_id = fkc.constraint_object_id\n",
        "    INNER JOIN sys.tables tab1\n",
        "        ON tab1.object_id = fkc.parent_object_id\n",
        "    INNER JOIN sys.schemas sch\n",
        "        ON tab1.schema_id = sch.schema_id\n",
        "    INNER JOIN sys.columns col1\n",
        "        ON col1.column_id = parent_column_id AND col1.object_id = tab1.object_id\n",
        "    INNER JOIN sys.tables tab2\n",
        "        ON tab2.object_id = fkc.referenced_object_id\n",
        "    INNER JOIN sys.columns col2\n",
        "        ON col2.column_id = referenced_column_id AND col2.object_id = tab2.object_id\n",
        "ORDER BY FK_NAME\n",
        "\n",
        "SELECT f.name AS foreign_key_name,\n",
        "    OBJECT_NAME(f.parent_object_id) AS table_name,\n",
        "    COL_NAME(fc.parent_object_id, fc.parent_column_id) AS constraint_column_name,\n",
        "    OBJECT_NAME(f.referenced_object_id) AS referenced_object,\n",
        "    COL_NAME(fc.referenced_object_id, fc.referenced_column_id) AS referenced_column_name\n",
        "FROM sys.foreign_keys AS f\n",
        "INNER JOIN sys.foreign_key_columns AS fc\n",
        "    ON f.object_id = fc.constraint_object_id\n",
        "ORDER BY foreign_key_name"
      ],
      "metadata": {
        "language": "sql",
        "azdata_cell_guid": "b21722b0-3e72-4052-b4b9-5dced22e6e7d",
        "id": "vF-eqXT6Y4w8",
        "outputId": "3f2a29f1-4eb4-4c1b-f530-feb15565728f"
      },
      "outputs": [
        {
          "output_type": "display_data",
          "data": {
            "text/html": "(91 rows affected)"
          },
          "metadata": {}
        },
        {
          "output_type": "display_data",
          "data": {
            "text/html": "(91 rows affected)"
          },
          "metadata": {}
        },
        {
          "output_type": "display_data",
          "data": {
            "text/html": "Total execution time: 00:00:00.109"
          },
          "metadata": {}
        },
        {
          "output_type": "execute_result",
          "metadata": {},
          "execution_count": 4,
          "data": {
            "application/vnd.dataresource+json": {
              "schema": {
                "fields": [
                  {
                    "name": "FK_NAME"
                  },
                  {
                    "name": "schema_name"
                  },
                  {
                    "name": "table"
                  },
                  {
                    "name": "column"
                  },
                  {
                    "name": "referenced_table"
                  },
                  {
                    "name": "referenced_column"
                  }
                ]
              },
              "data": [
                {
                  "FK_NAME": "FK_Address_StateProvince_StateProvinceID",
                  "schema_name": "Person",
                  "table": "Address",
                  "column": "StateProvinceID",
                  "referenced_table": "StateProvince",
                  "referenced_column": "StateProvinceID"
                },
                {
                  "FK_NAME": "FK_BillOfMaterials_Product_ComponentID",
                  "schema_name": "Production",
                  "table": "BillOfMaterials",
                  "column": "ComponentID",
                  "referenced_table": "Product",
                  "referenced_column": "ProductID"
                },
                {
                  "FK_NAME": "FK_BillOfMaterials_Product_ProductAssemblyID",
                  "schema_name": "Production",
                  "table": "BillOfMaterials",
                  "column": "ProductAssemblyID",
                  "referenced_table": "Product",
                  "referenced_column": "ProductID"
                },
                {
                  "FK_NAME": "FK_BillOfMaterials_UnitMeasure_UnitMeasureCode",
                  "schema_name": "Production",
                  "table": "BillOfMaterials",
                  "column": "UnitMeasureCode",
                  "referenced_table": "UnitMeasure",
                  "referenced_column": "UnitMeasureCode"
                },
                {
                  "FK_NAME": "FK_BusinessEntityAddress_Address_AddressID",
                  "schema_name": "Person",
                  "table": "BusinessEntityAddress",
                  "column": "AddressID",
                  "referenced_table": "Address",
                  "referenced_column": "AddressID"
                },
                {
                  "FK_NAME": "FK_BusinessEntityAddress_AddressType_AddressTypeID",
                  "schema_name": "Person",
                  "table": "BusinessEntityAddress",
                  "column": "AddressTypeID",
                  "referenced_table": "AddressType",
                  "referenced_column": "AddressTypeID"
                },
                {
                  "FK_NAME": "FK_BusinessEntityAddress_BusinessEntity_BusinessEntityID",
                  "schema_name": "Person",
                  "table": "BusinessEntityAddress",
                  "column": "BusinessEntityID",
                  "referenced_table": "BusinessEntity",
                  "referenced_column": "BusinessEntityID"
                },
                {
                  "FK_NAME": "FK_BusinessEntityContact_BusinessEntity_BusinessEntityID",
                  "schema_name": "Person",
                  "table": "BusinessEntityContact",
                  "column": "BusinessEntityID",
                  "referenced_table": "BusinessEntity",
                  "referenced_column": "BusinessEntityID"
                },
                {
                  "FK_NAME": "FK_BusinessEntityContact_ContactType_ContactTypeID",
                  "schema_name": "Person",
                  "table": "BusinessEntityContact",
                  "column": "ContactTypeID",
                  "referenced_table": "ContactType",
                  "referenced_column": "ContactTypeID"
                },
                {
                  "FK_NAME": "FK_BusinessEntityContact_Person_PersonID",
                  "schema_name": "Person",
                  "table": "BusinessEntityContact",
                  "column": "PersonID",
                  "referenced_table": "Person",
                  "referenced_column": "BusinessEntityID"
                },
                {
                  "FK_NAME": "FK_CountryRegionCurrency_CountryRegion_CountryRegionCode",
                  "schema_name": "Sales",
                  "table": "CountryRegionCurrency",
                  "column": "CountryRegionCode",
                  "referenced_table": "CountryRegion",
                  "referenced_column": "CountryRegionCode"
                },
                {
                  "FK_NAME": "FK_CountryRegionCurrency_Currency_CurrencyCode",
                  "schema_name": "Sales",
                  "table": "CountryRegionCurrency",
                  "column": "CurrencyCode",
                  "referenced_table": "Currency",
                  "referenced_column": "CurrencyCode"
                },
                {
                  "FK_NAME": "FK_CurrencyRate_Currency_FromCurrencyCode",
                  "schema_name": "Sales",
                  "table": "CurrencyRate",
                  "column": "FromCurrencyCode",
                  "referenced_table": "Currency",
                  "referenced_column": "CurrencyCode"
                },
                {
                  "FK_NAME": "FK_CurrencyRate_Currency_ToCurrencyCode",
                  "schema_name": "Sales",
                  "table": "CurrencyRate",
                  "column": "ToCurrencyCode",
                  "referenced_table": "Currency",
                  "referenced_column": "CurrencyCode"
                },
                {
                  "FK_NAME": "FK_Customer_Person_PersonID",
                  "schema_name": "Sales",
                  "table": "Customer",
                  "column": "PersonID",
                  "referenced_table": "Person",
                  "referenced_column": "BusinessEntityID"
                },
                {
                  "FK_NAME": "FK_Customer_SalesTerritory_TerritoryID",
                  "schema_name": "Sales",
                  "table": "Customer",
                  "column": "TerritoryID",
                  "referenced_table": "SalesTerritory",
                  "referenced_column": "TerritoryID"
                },
                {
                  "FK_NAME": "FK_Customer_Store_StoreID",
                  "schema_name": "Sales",
                  "table": "Customer",
                  "column": "StoreID",
                  "referenced_table": "Store",
                  "referenced_column": "BusinessEntityID"
                },
                {
                  "FK_NAME": "FK_Document_Employee_Owner",
                  "schema_name": "Production",
                  "table": "Document",
                  "column": "Owner",
                  "referenced_table": "Employee",
                  "referenced_column": "BusinessEntityID"
                },
                {
                  "FK_NAME": "FK_EmailAddress_Person_BusinessEntityID",
                  "schema_name": "Person",
                  "table": "EmailAddress",
                  "column": "BusinessEntityID",
                  "referenced_table": "Person",
                  "referenced_column": "BusinessEntityID"
                },
                {
                  "FK_NAME": "FK_Employee_Person_BusinessEntityID",
                  "schema_name": "HumanResources",
                  "table": "Employee",
                  "column": "BusinessEntityID",
                  "referenced_table": "Person",
                  "referenced_column": "BusinessEntityID"
                },
                {
                  "FK_NAME": "FK_EmployeeDepartmentHistory_Department_DepartmentID",
                  "schema_name": "HumanResources",
                  "table": "EmployeeDepartmentHistory",
                  "column": "DepartmentID",
                  "referenced_table": "Department",
                  "referenced_column": "DepartmentID"
                },
                {
                  "FK_NAME": "FK_EmployeeDepartmentHistory_Employee_BusinessEntityID",
                  "schema_name": "HumanResources",
                  "table": "EmployeeDepartmentHistory",
                  "column": "BusinessEntityID",
                  "referenced_table": "Employee",
                  "referenced_column": "BusinessEntityID"
                },
                {
                  "FK_NAME": "FK_EmployeeDepartmentHistory_Shift_ShiftID",
                  "schema_name": "HumanResources",
                  "table": "EmployeeDepartmentHistory",
                  "column": "ShiftID",
                  "referenced_table": "Shift",
                  "referenced_column": "ShiftID"
                },
                {
                  "FK_NAME": "FK_EmployeePayHistory_Employee_BusinessEntityID",
                  "schema_name": "HumanResources",
                  "table": "EmployeePayHistory",
                  "column": "BusinessEntityID",
                  "referenced_table": "Employee",
                  "referenced_column": "BusinessEntityID"
                },
                {
                  "FK_NAME": "FK_JobCandidate_Employee_BusinessEntityID",
                  "schema_name": "HumanResources",
                  "table": "JobCandidate",
                  "column": "BusinessEntityID",
                  "referenced_table": "Employee",
                  "referenced_column": "BusinessEntityID"
                },
                {
                  "FK_NAME": "FK_Password_Person_BusinessEntityID",
                  "schema_name": "Person",
                  "table": "Password",
                  "column": "BusinessEntityID",
                  "referenced_table": "Person",
                  "referenced_column": "BusinessEntityID"
                },
                {
                  "FK_NAME": "FK_Person_BusinessEntity_BusinessEntityID",
                  "schema_name": "Person",
                  "table": "Person",
                  "column": "BusinessEntityID",
                  "referenced_table": "BusinessEntity",
                  "referenced_column": "BusinessEntityID"
                },
                {
                  "FK_NAME": "FK_PersonCreditCard_CreditCard_CreditCardID",
                  "schema_name": "Sales",
                  "table": "PersonCreditCard",
                  "column": "CreditCardID",
                  "referenced_table": "CreditCard",
                  "referenced_column": "CreditCardID"
                },
                {
                  "FK_NAME": "FK_PersonCreditCard_Person_BusinessEntityID",
                  "schema_name": "Sales",
                  "table": "PersonCreditCard",
                  "column": "BusinessEntityID",
                  "referenced_table": "Person",
                  "referenced_column": "BusinessEntityID"
                },
                {
                  "FK_NAME": "FK_PersonPhone_Person_BusinessEntityID",
                  "schema_name": "Person",
                  "table": "PersonPhone",
                  "column": "BusinessEntityID",
                  "referenced_table": "Person",
                  "referenced_column": "BusinessEntityID"
                },
                {
                  "FK_NAME": "FK_PersonPhone_PhoneNumberType_PhoneNumberTypeID",
                  "schema_name": "Person",
                  "table": "PersonPhone",
                  "column": "PhoneNumberTypeID",
                  "referenced_table": "PhoneNumberType",
                  "referenced_column": "PhoneNumberTypeID"
                },
                {
                  "FK_NAME": "FK_Product_ProductModel_ProductModelID",
                  "schema_name": "Production",
                  "table": "Product",
                  "column": "ProductModelID",
                  "referenced_table": "ProductModel",
                  "referenced_column": "ProductModelID"
                },
                {
                  "FK_NAME": "FK_Product_ProductSubcategory_ProductSubcategoryID",
                  "schema_name": "Production",
                  "table": "Product",
                  "column": "ProductSubcategoryID",
                  "referenced_table": "ProductSubcategory",
                  "referenced_column": "ProductSubcategoryID"
                },
                {
                  "FK_NAME": "FK_Product_UnitMeasure_SizeUnitMeasureCode",
                  "schema_name": "Production",
                  "table": "Product",
                  "column": "SizeUnitMeasureCode",
                  "referenced_table": "UnitMeasure",
                  "referenced_column": "UnitMeasureCode"
                },
                {
                  "FK_NAME": "FK_Product_UnitMeasure_WeightUnitMeasureCode",
                  "schema_name": "Production",
                  "table": "Product",
                  "column": "WeightUnitMeasureCode",
                  "referenced_table": "UnitMeasure",
                  "referenced_column": "UnitMeasureCode"
                },
                {
                  "FK_NAME": "FK_ProductCostHistory_Product_ProductID",
                  "schema_name": "Production",
                  "table": "ProductCostHistory",
                  "column": "ProductID",
                  "referenced_table": "Product",
                  "referenced_column": "ProductID"
                },
                {
                  "FK_NAME": "FK_ProductDocument_Document_DocumentNode",
                  "schema_name": "Production",
                  "table": "ProductDocument",
                  "column": "DocumentNode",
                  "referenced_table": "Document",
                  "referenced_column": "DocumentNode"
                },
                {
                  "FK_NAME": "FK_ProductDocument_Product_ProductID",
                  "schema_name": "Production",
                  "table": "ProductDocument",
                  "column": "ProductID",
                  "referenced_table": "Product",
                  "referenced_column": "ProductID"
                },
                {
                  "FK_NAME": "FK_ProductInventory_Location_LocationID",
                  "schema_name": "Production",
                  "table": "ProductInventory",
                  "column": "LocationID",
                  "referenced_table": "Location",
                  "referenced_column": "LocationID"
                },
                {
                  "FK_NAME": "FK_ProductInventory_Product_ProductID",
                  "schema_name": "Production",
                  "table": "ProductInventory",
                  "column": "ProductID",
                  "referenced_table": "Product",
                  "referenced_column": "ProductID"
                },
                {
                  "FK_NAME": "FK_ProductListPriceHistory_Product_ProductID",
                  "schema_name": "Production",
                  "table": "ProductListPriceHistory",
                  "column": "ProductID",
                  "referenced_table": "Product",
                  "referenced_column": "ProductID"
                },
                {
                  "FK_NAME": "FK_ProductModelIllustration_Illustration_IllustrationID",
                  "schema_name": "Production",
                  "table": "ProductModelIllustration",
                  "column": "IllustrationID",
                  "referenced_table": "Illustration",
                  "referenced_column": "IllustrationID"
                },
                {
                  "FK_NAME": "FK_ProductModelIllustration_ProductModel_ProductModelID",
                  "schema_name": "Production",
                  "table": "ProductModelIllustration",
                  "column": "ProductModelID",
                  "referenced_table": "ProductModel",
                  "referenced_column": "ProductModelID"
                },
                {
                  "FK_NAME": "FK_ProductModelProductDescriptionCulture_Culture_CultureID",
                  "schema_name": "Production",
                  "table": "ProductModelProductDescriptionCulture",
                  "column": "CultureID",
                  "referenced_table": "Culture",
                  "referenced_column": "CultureID"
                },
                {
                  "FK_NAME": "FK_ProductModelProductDescriptionCulture_ProductDescription_ProductDescriptionID",
                  "schema_name": "Production",
                  "table": "ProductModelProductDescriptionCulture",
                  "column": "ProductDescriptionID",
                  "referenced_table": "ProductDescription",
                  "referenced_column": "ProductDescriptionID"
                },
                {
                  "FK_NAME": "FK_ProductModelProductDescriptionCulture_ProductModel_ProductModelID",
                  "schema_name": "Production",
                  "table": "ProductModelProductDescriptionCulture",
                  "column": "ProductModelID",
                  "referenced_table": "ProductModel",
                  "referenced_column": "ProductModelID"
                },
                {
                  "FK_NAME": "FK_ProductProductPhoto_Product_ProductID",
                  "schema_name": "Production",
                  "table": "ProductProductPhoto",
                  "column": "ProductID",
                  "referenced_table": "Product",
                  "referenced_column": "ProductID"
                },
                {
                  "FK_NAME": "FK_ProductProductPhoto_ProductPhoto_ProductPhotoID",
                  "schema_name": "Production",
                  "table": "ProductProductPhoto",
                  "column": "ProductPhotoID",
                  "referenced_table": "ProductPhoto",
                  "referenced_column": "ProductPhotoID"
                },
                {
                  "FK_NAME": "FK_ProductReview_Product_ProductID",
                  "schema_name": "Production",
                  "table": "ProductReview",
                  "column": "ProductID",
                  "referenced_table": "Product",
                  "referenced_column": "ProductID"
                },
                {
                  "FK_NAME": "FK_ProductSubcategory_ProductCategory_ProductCategoryID",
                  "schema_name": "Production",
                  "table": "ProductSubcategory",
                  "column": "ProductCategoryID",
                  "referenced_table": "ProductCategory",
                  "referenced_column": "ProductCategoryID"
                },
                {
                  "FK_NAME": "FK_ProductVendor_Product_ProductID",
                  "schema_name": "Purchasing",
                  "table": "ProductVendor",
                  "column": "ProductID",
                  "referenced_table": "Product",
                  "referenced_column": "ProductID"
                },
                {
                  "FK_NAME": "FK_ProductVendor_UnitMeasure_UnitMeasureCode",
                  "schema_name": "Purchasing",
                  "table": "ProductVendor",
                  "column": "UnitMeasureCode",
                  "referenced_table": "UnitMeasure",
                  "referenced_column": "UnitMeasureCode"
                },
                {
                  "FK_NAME": "FK_ProductVendor_Vendor_BusinessEntityID",
                  "schema_name": "Purchasing",
                  "table": "ProductVendor",
                  "column": "BusinessEntityID",
                  "referenced_table": "Vendor",
                  "referenced_column": "BusinessEntityID"
                },
                {
                  "FK_NAME": "FK_PurchaseOrderDetail_Product_ProductID",
                  "schema_name": "Purchasing",
                  "table": "PurchaseOrderDetail",
                  "column": "ProductID",
                  "referenced_table": "Product",
                  "referenced_column": "ProductID"
                },
                {
                  "FK_NAME": "FK_PurchaseOrderDetail_PurchaseOrderHeader_PurchaseOrderID",
                  "schema_name": "Purchasing",
                  "table": "PurchaseOrderDetail",
                  "column": "PurchaseOrderID",
                  "referenced_table": "PurchaseOrderHeader",
                  "referenced_column": "PurchaseOrderID"
                },
                {
                  "FK_NAME": "FK_PurchaseOrderHeader_Employee_EmployeeID",
                  "schema_name": "Purchasing",
                  "table": "PurchaseOrderHeader",
                  "column": "EmployeeID",
                  "referenced_table": "Employee",
                  "referenced_column": "BusinessEntityID"
                },
                {
                  "FK_NAME": "FK_PurchaseOrderHeader_ShipMethod_ShipMethodID",
                  "schema_name": "Purchasing",
                  "table": "PurchaseOrderHeader",
                  "column": "ShipMethodID",
                  "referenced_table": "ShipMethod",
                  "referenced_column": "ShipMethodID"
                },
                {
                  "FK_NAME": "FK_PurchaseOrderHeader_Vendor_VendorID",
                  "schema_name": "Purchasing",
                  "table": "PurchaseOrderHeader",
                  "column": "VendorID",
                  "referenced_table": "Vendor",
                  "referenced_column": "BusinessEntityID"
                },
                {
                  "FK_NAME": "FK_SalesOrderDetail_SalesOrderHeader_SalesOrderID",
                  "schema_name": "Sales",
                  "table": "SalesOrderDetail",
                  "column": "SalesOrderID",
                  "referenced_table": "SalesOrderHeader",
                  "referenced_column": "SalesOrderID"
                },
                {
                  "FK_NAME": "FK_SalesOrderDetail_SpecialOfferProduct_SpecialOfferIDProductID",
                  "schema_name": "Sales",
                  "table": "SalesOrderDetail",
                  "column": "SpecialOfferID",
                  "referenced_table": "SpecialOfferProduct",
                  "referenced_column": "SpecialOfferID"
                },
                {
                  "FK_NAME": "FK_SalesOrderDetail_SpecialOfferProduct_SpecialOfferIDProductID",
                  "schema_name": "Sales",
                  "table": "SalesOrderDetail",
                  "column": "ProductID",
                  "referenced_table": "SpecialOfferProduct",
                  "referenced_column": "ProductID"
                },
                {
                  "FK_NAME": "FK_SalesOrderHeader_Address_BillToAddressID",
                  "schema_name": "Sales",
                  "table": "SalesOrderHeader",
                  "column": "BillToAddressID",
                  "referenced_table": "Address",
                  "referenced_column": "AddressID"
                },
                {
                  "FK_NAME": "FK_SalesOrderHeader_Address_ShipToAddressID",
                  "schema_name": "Sales",
                  "table": "SalesOrderHeader",
                  "column": "ShipToAddressID",
                  "referenced_table": "Address",
                  "referenced_column": "AddressID"
                },
                {
                  "FK_NAME": "FK_SalesOrderHeader_CreditCard_CreditCardID",
                  "schema_name": "Sales",
                  "table": "SalesOrderHeader",
                  "column": "CreditCardID",
                  "referenced_table": "CreditCard",
                  "referenced_column": "CreditCardID"
                },
                {
                  "FK_NAME": "FK_SalesOrderHeader_CurrencyRate_CurrencyRateID",
                  "schema_name": "Sales",
                  "table": "SalesOrderHeader",
                  "column": "CurrencyRateID",
                  "referenced_table": "CurrencyRate",
                  "referenced_column": "CurrencyRateID"
                },
                {
                  "FK_NAME": "FK_SalesOrderHeader_Customer_CustomerID",
                  "schema_name": "Sales",
                  "table": "SalesOrderHeader",
                  "column": "CustomerID",
                  "referenced_table": "Customer",
                  "referenced_column": "CustomerID"
                },
                {
                  "FK_NAME": "FK_SalesOrderHeader_SalesPerson_SalesPersonID",
                  "schema_name": "Sales",
                  "table": "SalesOrderHeader",
                  "column": "SalesPersonID",
                  "referenced_table": "SalesPerson",
                  "referenced_column": "BusinessEntityID"
                },
                {
                  "FK_NAME": "FK_SalesOrderHeader_SalesTerritory_TerritoryID",
                  "schema_name": "Sales",
                  "table": "SalesOrderHeader",
                  "column": "TerritoryID",
                  "referenced_table": "SalesTerritory",
                  "referenced_column": "TerritoryID"
                },
                {
                  "FK_NAME": "FK_SalesOrderHeader_ShipMethod_ShipMethodID",
                  "schema_name": "Sales",
                  "table": "SalesOrderHeader",
                  "column": "ShipMethodID",
                  "referenced_table": "ShipMethod",
                  "referenced_column": "ShipMethodID"
                },
                {
                  "FK_NAME": "FK_SalesOrderHeaderSalesReason_SalesOrderHeader_SalesOrderID",
                  "schema_name": "Sales",
                  "table": "SalesOrderHeaderSalesReason",
                  "column": "SalesOrderID",
                  "referenced_table": "SalesOrderHeader",
                  "referenced_column": "SalesOrderID"
                },
                {
                  "FK_NAME": "FK_SalesOrderHeaderSalesReason_SalesReason_SalesReasonID",
                  "schema_name": "Sales",
                  "table": "SalesOrderHeaderSalesReason",
                  "column": "SalesReasonID",
                  "referenced_table": "SalesReason",
                  "referenced_column": "SalesReasonID"
                },
                {
                  "FK_NAME": "FK_SalesPerson_Employee_BusinessEntityID",
                  "schema_name": "Sales",
                  "table": "SalesPerson",
                  "column": "BusinessEntityID",
                  "referenced_table": "Employee",
                  "referenced_column": "BusinessEntityID"
                },
                {
                  "FK_NAME": "FK_SalesPerson_SalesTerritory_TerritoryID",
                  "schema_name": "Sales",
                  "table": "SalesPerson",
                  "column": "TerritoryID",
                  "referenced_table": "SalesTerritory",
                  "referenced_column": "TerritoryID"
                },
                {
                  "FK_NAME": "FK_SalesPersonQuotaHistory_SalesPerson_BusinessEntityID",
                  "schema_name": "Sales",
                  "table": "SalesPersonQuotaHistory",
                  "column": "BusinessEntityID",
                  "referenced_table": "SalesPerson",
                  "referenced_column": "BusinessEntityID"
                },
                {
                  "FK_NAME": "FK_SalesTaxRate_StateProvince_StateProvinceID",
                  "schema_name": "Sales",
                  "table": "SalesTaxRate",
                  "column": "StateProvinceID",
                  "referenced_table": "StateProvince",
                  "referenced_column": "StateProvinceID"
                },
                {
                  "FK_NAME": "FK_SalesTerritory_CountryRegion_CountryRegionCode",
                  "schema_name": "Sales",
                  "table": "SalesTerritory",
                  "column": "CountryRegionCode",
                  "referenced_table": "CountryRegion",
                  "referenced_column": "CountryRegionCode"
                },
                {
                  "FK_NAME": "FK_SalesTerritoryHistory_SalesPerson_BusinessEntityID",
                  "schema_name": "Sales",
                  "table": "SalesTerritoryHistory",
                  "column": "BusinessEntityID",
                  "referenced_table": "SalesPerson",
                  "referenced_column": "BusinessEntityID"
                },
                {
                  "FK_NAME": "FK_SalesTerritoryHistory_SalesTerritory_TerritoryID",
                  "schema_name": "Sales",
                  "table": "SalesTerritoryHistory",
                  "column": "TerritoryID",
                  "referenced_table": "SalesTerritory",
                  "referenced_column": "TerritoryID"
                },
                {
                  "FK_NAME": "FK_ShoppingCartItem_Product_ProductID",
                  "schema_name": "Sales",
                  "table": "ShoppingCartItem",
                  "column": "ProductID",
                  "referenced_table": "Product",
                  "referenced_column": "ProductID"
                },
                {
                  "FK_NAME": "FK_SpecialOfferProduct_Product_ProductID",
                  "schema_name": "Sales",
                  "table": "SpecialOfferProduct",
                  "column": "ProductID",
                  "referenced_table": "Product",
                  "referenced_column": "ProductID"
                },
                {
                  "FK_NAME": "FK_SpecialOfferProduct_SpecialOffer_SpecialOfferID",
                  "schema_name": "Sales",
                  "table": "SpecialOfferProduct",
                  "column": "SpecialOfferID",
                  "referenced_table": "SpecialOffer",
                  "referenced_column": "SpecialOfferID"
                },
                {
                  "FK_NAME": "FK_StateProvince_CountryRegion_CountryRegionCode",
                  "schema_name": "Person",
                  "table": "StateProvince",
                  "column": "CountryRegionCode",
                  "referenced_table": "CountryRegion",
                  "referenced_column": "CountryRegionCode"
                },
                {
                  "FK_NAME": "FK_StateProvince_SalesTerritory_TerritoryID",
                  "schema_name": "Person",
                  "table": "StateProvince",
                  "column": "TerritoryID",
                  "referenced_table": "SalesTerritory",
                  "referenced_column": "TerritoryID"
                },
                {
                  "FK_NAME": "FK_Store_BusinessEntity_BusinessEntityID",
                  "schema_name": "Sales",
                  "table": "Store",
                  "column": "BusinessEntityID",
                  "referenced_table": "BusinessEntity",
                  "referenced_column": "BusinessEntityID"
                },
                {
                  "FK_NAME": "FK_Store_SalesPerson_SalesPersonID",
                  "schema_name": "Sales",
                  "table": "Store",
                  "column": "SalesPersonID",
                  "referenced_table": "SalesPerson",
                  "referenced_column": "BusinessEntityID"
                },
                {
                  "FK_NAME": "FK_TransactionHistory_Product_ProductID",
                  "schema_name": "Production",
                  "table": "TransactionHistory",
                  "column": "ProductID",
                  "referenced_table": "Product",
                  "referenced_column": "ProductID"
                },
                {
                  "FK_NAME": "FK_Vendor_BusinessEntity_BusinessEntityID",
                  "schema_name": "Purchasing",
                  "table": "Vendor",
                  "column": "BusinessEntityID",
                  "referenced_table": "BusinessEntity",
                  "referenced_column": "BusinessEntityID"
                },
                {
                  "FK_NAME": "FK_WorkOrder_Product_ProductID",
                  "schema_name": "Production",
                  "table": "WorkOrder",
                  "column": "ProductID",
                  "referenced_table": "Product",
                  "referenced_column": "ProductID"
                },
                {
                  "FK_NAME": "FK_WorkOrder_ScrapReason_ScrapReasonID",
                  "schema_name": "Production",
                  "table": "WorkOrder",
                  "column": "ScrapReasonID",
                  "referenced_table": "ScrapReason",
                  "referenced_column": "ScrapReasonID"
                },
                {
                  "FK_NAME": "FK_WorkOrderRouting_Location_LocationID",
                  "schema_name": "Production",
                  "table": "WorkOrderRouting",
                  "column": "LocationID",
                  "referenced_table": "Location",
                  "referenced_column": "LocationID"
                },
                {
                  "FK_NAME": "FK_WorkOrderRouting_WorkOrder_WorkOrderID",
                  "schema_name": "Production",
                  "table": "WorkOrderRouting",
                  "column": "WorkOrderID",
                  "referenced_table": "WorkOrder",
                  "referenced_column": "WorkOrderID"
                }
              ]
            },
            "text/html": [
              "<table>",
              "<tr><th>FK_NAME</th><th>schema_name</th><th>table</th><th>column</th><th>referenced_table</th><th>referenced_column</th></tr>",
              "<tr><td>FK_Address_StateProvince_StateProvinceID</td><td>Person</td><td>Address</td><td>StateProvinceID</td><td>StateProvince</td><td>StateProvinceID</td></tr>",
              "<tr><td>FK_BillOfMaterials_Product_ComponentID</td><td>Production</td><td>BillOfMaterials</td><td>ComponentID</td><td>Product</td><td>ProductID</td></tr>",
              "<tr><td>FK_BillOfMaterials_Product_ProductAssemblyID</td><td>Production</td><td>BillOfMaterials</td><td>ProductAssemblyID</td><td>Product</td><td>ProductID</td></tr>",
              "<tr><td>FK_BillOfMaterials_UnitMeasure_UnitMeasureCode</td><td>Production</td><td>BillOfMaterials</td><td>UnitMeasureCode</td><td>UnitMeasure</td><td>UnitMeasureCode</td></tr>",
              "<tr><td>FK_BusinessEntityAddress_Address_AddressID</td><td>Person</td><td>BusinessEntityAddress</td><td>AddressID</td><td>Address</td><td>AddressID</td></tr>",
              "<tr><td>FK_BusinessEntityAddress_AddressType_AddressTypeID</td><td>Person</td><td>BusinessEntityAddress</td><td>AddressTypeID</td><td>AddressType</td><td>AddressTypeID</td></tr>",
              "<tr><td>FK_BusinessEntityAddress_BusinessEntity_BusinessEntityID</td><td>Person</td><td>BusinessEntityAddress</td><td>BusinessEntityID</td><td>BusinessEntity</td><td>BusinessEntityID</td></tr>",
              "<tr><td>FK_BusinessEntityContact_BusinessEntity_BusinessEntityID</td><td>Person</td><td>BusinessEntityContact</td><td>BusinessEntityID</td><td>BusinessEntity</td><td>BusinessEntityID</td></tr>",
              "<tr><td>FK_BusinessEntityContact_ContactType_ContactTypeID</td><td>Person</td><td>BusinessEntityContact</td><td>ContactTypeID</td><td>ContactType</td><td>ContactTypeID</td></tr>",
              "<tr><td>FK_BusinessEntityContact_Person_PersonID</td><td>Person</td><td>BusinessEntityContact</td><td>PersonID</td><td>Person</td><td>BusinessEntityID</td></tr>",
              "<tr><td>FK_CountryRegionCurrency_CountryRegion_CountryRegionCode</td><td>Sales</td><td>CountryRegionCurrency</td><td>CountryRegionCode</td><td>CountryRegion</td><td>CountryRegionCode</td></tr>",
              "<tr><td>FK_CountryRegionCurrency_Currency_CurrencyCode</td><td>Sales</td><td>CountryRegionCurrency</td><td>CurrencyCode</td><td>Currency</td><td>CurrencyCode</td></tr>",
              "<tr><td>FK_CurrencyRate_Currency_FromCurrencyCode</td><td>Sales</td><td>CurrencyRate</td><td>FromCurrencyCode</td><td>Currency</td><td>CurrencyCode</td></tr>",
              "<tr><td>FK_CurrencyRate_Currency_ToCurrencyCode</td><td>Sales</td><td>CurrencyRate</td><td>ToCurrencyCode</td><td>Currency</td><td>CurrencyCode</td></tr>",
              "<tr><td>FK_Customer_Person_PersonID</td><td>Sales</td><td>Customer</td><td>PersonID</td><td>Person</td><td>BusinessEntityID</td></tr>",
              "<tr><td>FK_Customer_SalesTerritory_TerritoryID</td><td>Sales</td><td>Customer</td><td>TerritoryID</td><td>SalesTerritory</td><td>TerritoryID</td></tr>",
              "<tr><td>FK_Customer_Store_StoreID</td><td>Sales</td><td>Customer</td><td>StoreID</td><td>Store</td><td>BusinessEntityID</td></tr>",
              "<tr><td>FK_Document_Employee_Owner</td><td>Production</td><td>Document</td><td>Owner</td><td>Employee</td><td>BusinessEntityID</td></tr>",
              "<tr><td>FK_EmailAddress_Person_BusinessEntityID</td><td>Person</td><td>EmailAddress</td><td>BusinessEntityID</td><td>Person</td><td>BusinessEntityID</td></tr>",
              "<tr><td>FK_Employee_Person_BusinessEntityID</td><td>HumanResources</td><td>Employee</td><td>BusinessEntityID</td><td>Person</td><td>BusinessEntityID</td></tr>",
              "<tr><td>FK_EmployeeDepartmentHistory_Department_DepartmentID</td><td>HumanResources</td><td>EmployeeDepartmentHistory</td><td>DepartmentID</td><td>Department</td><td>DepartmentID</td></tr>",
              "<tr><td>FK_EmployeeDepartmentHistory_Employee_BusinessEntityID</td><td>HumanResources</td><td>EmployeeDepartmentHistory</td><td>BusinessEntityID</td><td>Employee</td><td>BusinessEntityID</td></tr>",
              "<tr><td>FK_EmployeeDepartmentHistory_Shift_ShiftID</td><td>HumanResources</td><td>EmployeeDepartmentHistory</td><td>ShiftID</td><td>Shift</td><td>ShiftID</td></tr>",
              "<tr><td>FK_EmployeePayHistory_Employee_BusinessEntityID</td><td>HumanResources</td><td>EmployeePayHistory</td><td>BusinessEntityID</td><td>Employee</td><td>BusinessEntityID</td></tr>",
              "<tr><td>FK_JobCandidate_Employee_BusinessEntityID</td><td>HumanResources</td><td>JobCandidate</td><td>BusinessEntityID</td><td>Employee</td><td>BusinessEntityID</td></tr>",
              "<tr><td>FK_Password_Person_BusinessEntityID</td><td>Person</td><td>Password</td><td>BusinessEntityID</td><td>Person</td><td>BusinessEntityID</td></tr>",
              "<tr><td>FK_Person_BusinessEntity_BusinessEntityID</td><td>Person</td><td>Person</td><td>BusinessEntityID</td><td>BusinessEntity</td><td>BusinessEntityID</td></tr>",
              "<tr><td>FK_PersonCreditCard_CreditCard_CreditCardID</td><td>Sales</td><td>PersonCreditCard</td><td>CreditCardID</td><td>CreditCard</td><td>CreditCardID</td></tr>",
              "<tr><td>FK_PersonCreditCard_Person_BusinessEntityID</td><td>Sales</td><td>PersonCreditCard</td><td>BusinessEntityID</td><td>Person</td><td>BusinessEntityID</td></tr>",
              "<tr><td>FK_PersonPhone_Person_BusinessEntityID</td><td>Person</td><td>PersonPhone</td><td>BusinessEntityID</td><td>Person</td><td>BusinessEntityID</td></tr>",
              "<tr><td>FK_PersonPhone_PhoneNumberType_PhoneNumberTypeID</td><td>Person</td><td>PersonPhone</td><td>PhoneNumberTypeID</td><td>PhoneNumberType</td><td>PhoneNumberTypeID</td></tr>",
              "<tr><td>FK_Product_ProductModel_ProductModelID</td><td>Production</td><td>Product</td><td>ProductModelID</td><td>ProductModel</td><td>ProductModelID</td></tr>",
              "<tr><td>FK_Product_ProductSubcategory_ProductSubcategoryID</td><td>Production</td><td>Product</td><td>ProductSubcategoryID</td><td>ProductSubcategory</td><td>ProductSubcategoryID</td></tr>",
              "<tr><td>FK_Product_UnitMeasure_SizeUnitMeasureCode</td><td>Production</td><td>Product</td><td>SizeUnitMeasureCode</td><td>UnitMeasure</td><td>UnitMeasureCode</td></tr>",
              "<tr><td>FK_Product_UnitMeasure_WeightUnitMeasureCode</td><td>Production</td><td>Product</td><td>WeightUnitMeasureCode</td><td>UnitMeasure</td><td>UnitMeasureCode</td></tr>",
              "<tr><td>FK_ProductCostHistory_Product_ProductID</td><td>Production</td><td>ProductCostHistory</td><td>ProductID</td><td>Product</td><td>ProductID</td></tr>",
              "<tr><td>FK_ProductDocument_Document_DocumentNode</td><td>Production</td><td>ProductDocument</td><td>DocumentNode</td><td>Document</td><td>DocumentNode</td></tr>",
              "<tr><td>FK_ProductDocument_Product_ProductID</td><td>Production</td><td>ProductDocument</td><td>ProductID</td><td>Product</td><td>ProductID</td></tr>",
              "<tr><td>FK_ProductInventory_Location_LocationID</td><td>Production</td><td>ProductInventory</td><td>LocationID</td><td>Location</td><td>LocationID</td></tr>",
              "<tr><td>FK_ProductInventory_Product_ProductID</td><td>Production</td><td>ProductInventory</td><td>ProductID</td><td>Product</td><td>ProductID</td></tr>",
              "<tr><td>FK_ProductListPriceHistory_Product_ProductID</td><td>Production</td><td>ProductListPriceHistory</td><td>ProductID</td><td>Product</td><td>ProductID</td></tr>",
              "<tr><td>FK_ProductModelIllustration_Illustration_IllustrationID</td><td>Production</td><td>ProductModelIllustration</td><td>IllustrationID</td><td>Illustration</td><td>IllustrationID</td></tr>",
              "<tr><td>FK_ProductModelIllustration_ProductModel_ProductModelID</td><td>Production</td><td>ProductModelIllustration</td><td>ProductModelID</td><td>ProductModel</td><td>ProductModelID</td></tr>",
              "<tr><td>FK_ProductModelProductDescriptionCulture_Culture_CultureID</td><td>Production</td><td>ProductModelProductDescriptionCulture</td><td>CultureID</td><td>Culture</td><td>CultureID</td></tr>",
              "<tr><td>FK_ProductModelProductDescriptionCulture_ProductDescription_ProductDescriptionID</td><td>Production</td><td>ProductModelProductDescriptionCulture</td><td>ProductDescriptionID</td><td>ProductDescription</td><td>ProductDescriptionID</td></tr>",
              "<tr><td>FK_ProductModelProductDescriptionCulture_ProductModel_ProductModelID</td><td>Production</td><td>ProductModelProductDescriptionCulture</td><td>ProductModelID</td><td>ProductModel</td><td>ProductModelID</td></tr>",
              "<tr><td>FK_ProductProductPhoto_Product_ProductID</td><td>Production</td><td>ProductProductPhoto</td><td>ProductID</td><td>Product</td><td>ProductID</td></tr>",
              "<tr><td>FK_ProductProductPhoto_ProductPhoto_ProductPhotoID</td><td>Production</td><td>ProductProductPhoto</td><td>ProductPhotoID</td><td>ProductPhoto</td><td>ProductPhotoID</td></tr>",
              "<tr><td>FK_ProductReview_Product_ProductID</td><td>Production</td><td>ProductReview</td><td>ProductID</td><td>Product</td><td>ProductID</td></tr>",
              "<tr><td>FK_ProductSubcategory_ProductCategory_ProductCategoryID</td><td>Production</td><td>ProductSubcategory</td><td>ProductCategoryID</td><td>ProductCategory</td><td>ProductCategoryID</td></tr>",
              "<tr><td>FK_ProductVendor_Product_ProductID</td><td>Purchasing</td><td>ProductVendor</td><td>ProductID</td><td>Product</td><td>ProductID</td></tr>",
              "<tr><td>FK_ProductVendor_UnitMeasure_UnitMeasureCode</td><td>Purchasing</td><td>ProductVendor</td><td>UnitMeasureCode</td><td>UnitMeasure</td><td>UnitMeasureCode</td></tr>",
              "<tr><td>FK_ProductVendor_Vendor_BusinessEntityID</td><td>Purchasing</td><td>ProductVendor</td><td>BusinessEntityID</td><td>Vendor</td><td>BusinessEntityID</td></tr>",
              "<tr><td>FK_PurchaseOrderDetail_Product_ProductID</td><td>Purchasing</td><td>PurchaseOrderDetail</td><td>ProductID</td><td>Product</td><td>ProductID</td></tr>",
              "<tr><td>FK_PurchaseOrderDetail_PurchaseOrderHeader_PurchaseOrderID</td><td>Purchasing</td><td>PurchaseOrderDetail</td><td>PurchaseOrderID</td><td>PurchaseOrderHeader</td><td>PurchaseOrderID</td></tr>",
              "<tr><td>FK_PurchaseOrderHeader_Employee_EmployeeID</td><td>Purchasing</td><td>PurchaseOrderHeader</td><td>EmployeeID</td><td>Employee</td><td>BusinessEntityID</td></tr>",
              "<tr><td>FK_PurchaseOrderHeader_ShipMethod_ShipMethodID</td><td>Purchasing</td><td>PurchaseOrderHeader</td><td>ShipMethodID</td><td>ShipMethod</td><td>ShipMethodID</td></tr>",
              "<tr><td>FK_PurchaseOrderHeader_Vendor_VendorID</td><td>Purchasing</td><td>PurchaseOrderHeader</td><td>VendorID</td><td>Vendor</td><td>BusinessEntityID</td></tr>",
              "<tr><td>FK_SalesOrderDetail_SalesOrderHeader_SalesOrderID</td><td>Sales</td><td>SalesOrderDetail</td><td>SalesOrderID</td><td>SalesOrderHeader</td><td>SalesOrderID</td></tr>",
              "<tr><td>FK_SalesOrderDetail_SpecialOfferProduct_SpecialOfferIDProductID</td><td>Sales</td><td>SalesOrderDetail</td><td>SpecialOfferID</td><td>SpecialOfferProduct</td><td>SpecialOfferID</td></tr>",
              "<tr><td>FK_SalesOrderDetail_SpecialOfferProduct_SpecialOfferIDProductID</td><td>Sales</td><td>SalesOrderDetail</td><td>ProductID</td><td>SpecialOfferProduct</td><td>ProductID</td></tr>",
              "<tr><td>FK_SalesOrderHeader_Address_BillToAddressID</td><td>Sales</td><td>SalesOrderHeader</td><td>BillToAddressID</td><td>Address</td><td>AddressID</td></tr>",
              "<tr><td>FK_SalesOrderHeader_Address_ShipToAddressID</td><td>Sales</td><td>SalesOrderHeader</td><td>ShipToAddressID</td><td>Address</td><td>AddressID</td></tr>",
              "<tr><td>FK_SalesOrderHeader_CreditCard_CreditCardID</td><td>Sales</td><td>SalesOrderHeader</td><td>CreditCardID</td><td>CreditCard</td><td>CreditCardID</td></tr>",
              "<tr><td>FK_SalesOrderHeader_CurrencyRate_CurrencyRateID</td><td>Sales</td><td>SalesOrderHeader</td><td>CurrencyRateID</td><td>CurrencyRate</td><td>CurrencyRateID</td></tr>",
              "<tr><td>FK_SalesOrderHeader_Customer_CustomerID</td><td>Sales</td><td>SalesOrderHeader</td><td>CustomerID</td><td>Customer</td><td>CustomerID</td></tr>",
              "<tr><td>FK_SalesOrderHeader_SalesPerson_SalesPersonID</td><td>Sales</td><td>SalesOrderHeader</td><td>SalesPersonID</td><td>SalesPerson</td><td>BusinessEntityID</td></tr>",
              "<tr><td>FK_SalesOrderHeader_SalesTerritory_TerritoryID</td><td>Sales</td><td>SalesOrderHeader</td><td>TerritoryID</td><td>SalesTerritory</td><td>TerritoryID</td></tr>",
              "<tr><td>FK_SalesOrderHeader_ShipMethod_ShipMethodID</td><td>Sales</td><td>SalesOrderHeader</td><td>ShipMethodID</td><td>ShipMethod</td><td>ShipMethodID</td></tr>",
              "<tr><td>FK_SalesOrderHeaderSalesReason_SalesOrderHeader_SalesOrderID</td><td>Sales</td><td>SalesOrderHeaderSalesReason</td><td>SalesOrderID</td><td>SalesOrderHeader</td><td>SalesOrderID</td></tr>",
              "<tr><td>FK_SalesOrderHeaderSalesReason_SalesReason_SalesReasonID</td><td>Sales</td><td>SalesOrderHeaderSalesReason</td><td>SalesReasonID</td><td>SalesReason</td><td>SalesReasonID</td></tr>",
              "<tr><td>FK_SalesPerson_Employee_BusinessEntityID</td><td>Sales</td><td>SalesPerson</td><td>BusinessEntityID</td><td>Employee</td><td>BusinessEntityID</td></tr>",
              "<tr><td>FK_SalesPerson_SalesTerritory_TerritoryID</td><td>Sales</td><td>SalesPerson</td><td>TerritoryID</td><td>SalesTerritory</td><td>TerritoryID</td></tr>",
              "<tr><td>FK_SalesPersonQuotaHistory_SalesPerson_BusinessEntityID</td><td>Sales</td><td>SalesPersonQuotaHistory</td><td>BusinessEntityID</td><td>SalesPerson</td><td>BusinessEntityID</td></tr>",
              "<tr><td>FK_SalesTaxRate_StateProvince_StateProvinceID</td><td>Sales</td><td>SalesTaxRate</td><td>StateProvinceID</td><td>StateProvince</td><td>StateProvinceID</td></tr>",
              "<tr><td>FK_SalesTerritory_CountryRegion_CountryRegionCode</td><td>Sales</td><td>SalesTerritory</td><td>CountryRegionCode</td><td>CountryRegion</td><td>CountryRegionCode</td></tr>",
              "<tr><td>FK_SalesTerritoryHistory_SalesPerson_BusinessEntityID</td><td>Sales</td><td>SalesTerritoryHistory</td><td>BusinessEntityID</td><td>SalesPerson</td><td>BusinessEntityID</td></tr>",
              "<tr><td>FK_SalesTerritoryHistory_SalesTerritory_TerritoryID</td><td>Sales</td><td>SalesTerritoryHistory</td><td>TerritoryID</td><td>SalesTerritory</td><td>TerritoryID</td></tr>",
              "<tr><td>FK_ShoppingCartItem_Product_ProductID</td><td>Sales</td><td>ShoppingCartItem</td><td>ProductID</td><td>Product</td><td>ProductID</td></tr>",
              "<tr><td>FK_SpecialOfferProduct_Product_ProductID</td><td>Sales</td><td>SpecialOfferProduct</td><td>ProductID</td><td>Product</td><td>ProductID</td></tr>",
              "<tr><td>FK_SpecialOfferProduct_SpecialOffer_SpecialOfferID</td><td>Sales</td><td>SpecialOfferProduct</td><td>SpecialOfferID</td><td>SpecialOffer</td><td>SpecialOfferID</td></tr>",
              "<tr><td>FK_StateProvince_CountryRegion_CountryRegionCode</td><td>Person</td><td>StateProvince</td><td>CountryRegionCode</td><td>CountryRegion</td><td>CountryRegionCode</td></tr>",
              "<tr><td>FK_StateProvince_SalesTerritory_TerritoryID</td><td>Person</td><td>StateProvince</td><td>TerritoryID</td><td>SalesTerritory</td><td>TerritoryID</td></tr>",
              "<tr><td>FK_Store_BusinessEntity_BusinessEntityID</td><td>Sales</td><td>Store</td><td>BusinessEntityID</td><td>BusinessEntity</td><td>BusinessEntityID</td></tr>",
              "<tr><td>FK_Store_SalesPerson_SalesPersonID</td><td>Sales</td><td>Store</td><td>SalesPersonID</td><td>SalesPerson</td><td>BusinessEntityID</td></tr>",
              "<tr><td>FK_TransactionHistory_Product_ProductID</td><td>Production</td><td>TransactionHistory</td><td>ProductID</td><td>Product</td><td>ProductID</td></tr>",
              "<tr><td>FK_Vendor_BusinessEntity_BusinessEntityID</td><td>Purchasing</td><td>Vendor</td><td>BusinessEntityID</td><td>BusinessEntity</td><td>BusinessEntityID</td></tr>",
              "<tr><td>FK_WorkOrder_Product_ProductID</td><td>Production</td><td>WorkOrder</td><td>ProductID</td><td>Product</td><td>ProductID</td></tr>",
              "<tr><td>FK_WorkOrder_ScrapReason_ScrapReasonID</td><td>Production</td><td>WorkOrder</td><td>ScrapReasonID</td><td>ScrapReason</td><td>ScrapReasonID</td></tr>",
              "<tr><td>FK_WorkOrderRouting_Location_LocationID</td><td>Production</td><td>WorkOrderRouting</td><td>LocationID</td><td>Location</td><td>LocationID</td></tr>",
              "<tr><td>FK_WorkOrderRouting_WorkOrder_WorkOrderID</td><td>Production</td><td>WorkOrderRouting</td><td>WorkOrderID</td><td>WorkOrder</td><td>WorkOrderID</td></tr>",
              "</table>"
            ]
          }
        },
        {
          "output_type": "execute_result",
          "metadata": {},
          "execution_count": 4,
          "data": {
            "application/vnd.dataresource+json": {
              "schema": {
                "fields": [
                  {
                    "name": "foreign_key_name"
                  },
                  {
                    "name": "table_name"
                  },
                  {
                    "name": "constraint_column_name"
                  },
                  {
                    "name": "referenced_object"
                  },
                  {
                    "name": "referenced_column_name"
                  }
                ]
              },
              "data": [
                {
                  "foreign_key_name": "FK_Address_StateProvince_StateProvinceID",
                  "table_name": "Address",
                  "constraint_column_name": "StateProvinceID",
                  "referenced_object": "StateProvince",
                  "referenced_column_name": "StateProvinceID"
                },
                {
                  "foreign_key_name": "FK_BillOfMaterials_Product_ComponentID",
                  "table_name": "BillOfMaterials",
                  "constraint_column_name": "ComponentID",
                  "referenced_object": "Product",
                  "referenced_column_name": "ProductID"
                },
                {
                  "foreign_key_name": "FK_BillOfMaterials_Product_ProductAssemblyID",
                  "table_name": "BillOfMaterials",
                  "constraint_column_name": "ProductAssemblyID",
                  "referenced_object": "Product",
                  "referenced_column_name": "ProductID"
                },
                {
                  "foreign_key_name": "FK_BillOfMaterials_UnitMeasure_UnitMeasureCode",
                  "table_name": "BillOfMaterials",
                  "constraint_column_name": "UnitMeasureCode",
                  "referenced_object": "UnitMeasure",
                  "referenced_column_name": "UnitMeasureCode"
                },
                {
                  "foreign_key_name": "FK_BusinessEntityAddress_Address_AddressID",
                  "table_name": "BusinessEntityAddress",
                  "constraint_column_name": "AddressID",
                  "referenced_object": "Address",
                  "referenced_column_name": "AddressID"
                },
                {
                  "foreign_key_name": "FK_BusinessEntityAddress_AddressType_AddressTypeID",
                  "table_name": "BusinessEntityAddress",
                  "constraint_column_name": "AddressTypeID",
                  "referenced_object": "AddressType",
                  "referenced_column_name": "AddressTypeID"
                },
                {
                  "foreign_key_name": "FK_BusinessEntityAddress_BusinessEntity_BusinessEntityID",
                  "table_name": "BusinessEntityAddress",
                  "constraint_column_name": "BusinessEntityID",
                  "referenced_object": "BusinessEntity",
                  "referenced_column_name": "BusinessEntityID"
                },
                {
                  "foreign_key_name": "FK_BusinessEntityContact_BusinessEntity_BusinessEntityID",
                  "table_name": "BusinessEntityContact",
                  "constraint_column_name": "BusinessEntityID",
                  "referenced_object": "BusinessEntity",
                  "referenced_column_name": "BusinessEntityID"
                },
                {
                  "foreign_key_name": "FK_BusinessEntityContact_ContactType_ContactTypeID",
                  "table_name": "BusinessEntityContact",
                  "constraint_column_name": "ContactTypeID",
                  "referenced_object": "ContactType",
                  "referenced_column_name": "ContactTypeID"
                },
                {
                  "foreign_key_name": "FK_BusinessEntityContact_Person_PersonID",
                  "table_name": "BusinessEntityContact",
                  "constraint_column_name": "PersonID",
                  "referenced_object": "Person",
                  "referenced_column_name": "BusinessEntityID"
                },
                {
                  "foreign_key_name": "FK_CountryRegionCurrency_CountryRegion_CountryRegionCode",
                  "table_name": "CountryRegionCurrency",
                  "constraint_column_name": "CountryRegionCode",
                  "referenced_object": "CountryRegion",
                  "referenced_column_name": "CountryRegionCode"
                },
                {
                  "foreign_key_name": "FK_CountryRegionCurrency_Currency_CurrencyCode",
                  "table_name": "CountryRegionCurrency",
                  "constraint_column_name": "CurrencyCode",
                  "referenced_object": "Currency",
                  "referenced_column_name": "CurrencyCode"
                },
                {
                  "foreign_key_name": "FK_CurrencyRate_Currency_FromCurrencyCode",
                  "table_name": "CurrencyRate",
                  "constraint_column_name": "FromCurrencyCode",
                  "referenced_object": "Currency",
                  "referenced_column_name": "CurrencyCode"
                },
                {
                  "foreign_key_name": "FK_CurrencyRate_Currency_ToCurrencyCode",
                  "table_name": "CurrencyRate",
                  "constraint_column_name": "ToCurrencyCode",
                  "referenced_object": "Currency",
                  "referenced_column_name": "CurrencyCode"
                },
                {
                  "foreign_key_name": "FK_Customer_Person_PersonID",
                  "table_name": "Customer",
                  "constraint_column_name": "PersonID",
                  "referenced_object": "Person",
                  "referenced_column_name": "BusinessEntityID"
                },
                {
                  "foreign_key_name": "FK_Customer_SalesTerritory_TerritoryID",
                  "table_name": "Customer",
                  "constraint_column_name": "TerritoryID",
                  "referenced_object": "SalesTerritory",
                  "referenced_column_name": "TerritoryID"
                },
                {
                  "foreign_key_name": "FK_Customer_Store_StoreID",
                  "table_name": "Customer",
                  "constraint_column_name": "StoreID",
                  "referenced_object": "Store",
                  "referenced_column_name": "BusinessEntityID"
                },
                {
                  "foreign_key_name": "FK_Document_Employee_Owner",
                  "table_name": "Document",
                  "constraint_column_name": "Owner",
                  "referenced_object": "Employee",
                  "referenced_column_name": "BusinessEntityID"
                },
                {
                  "foreign_key_name": "FK_EmailAddress_Person_BusinessEntityID",
                  "table_name": "EmailAddress",
                  "constraint_column_name": "BusinessEntityID",
                  "referenced_object": "Person",
                  "referenced_column_name": "BusinessEntityID"
                },
                {
                  "foreign_key_name": "FK_Employee_Person_BusinessEntityID",
                  "table_name": "Employee",
                  "constraint_column_name": "BusinessEntityID",
                  "referenced_object": "Person",
                  "referenced_column_name": "BusinessEntityID"
                },
                {
                  "foreign_key_name": "FK_EmployeeDepartmentHistory_Department_DepartmentID",
                  "table_name": "EmployeeDepartmentHistory",
                  "constraint_column_name": "DepartmentID",
                  "referenced_object": "Department",
                  "referenced_column_name": "DepartmentID"
                },
                {
                  "foreign_key_name": "FK_EmployeeDepartmentHistory_Employee_BusinessEntityID",
                  "table_name": "EmployeeDepartmentHistory",
                  "constraint_column_name": "BusinessEntityID",
                  "referenced_object": "Employee",
                  "referenced_column_name": "BusinessEntityID"
                },
                {
                  "foreign_key_name": "FK_EmployeeDepartmentHistory_Shift_ShiftID",
                  "table_name": "EmployeeDepartmentHistory",
                  "constraint_column_name": "ShiftID",
                  "referenced_object": "Shift",
                  "referenced_column_name": "ShiftID"
                },
                {
                  "foreign_key_name": "FK_EmployeePayHistory_Employee_BusinessEntityID",
                  "table_name": "EmployeePayHistory",
                  "constraint_column_name": "BusinessEntityID",
                  "referenced_object": "Employee",
                  "referenced_column_name": "BusinessEntityID"
                },
                {
                  "foreign_key_name": "FK_JobCandidate_Employee_BusinessEntityID",
                  "table_name": "JobCandidate",
                  "constraint_column_name": "BusinessEntityID",
                  "referenced_object": "Employee",
                  "referenced_column_name": "BusinessEntityID"
                },
                {
                  "foreign_key_name": "FK_Password_Person_BusinessEntityID",
                  "table_name": "Password",
                  "constraint_column_name": "BusinessEntityID",
                  "referenced_object": "Person",
                  "referenced_column_name": "BusinessEntityID"
                },
                {
                  "foreign_key_name": "FK_Person_BusinessEntity_BusinessEntityID",
                  "table_name": "Person",
                  "constraint_column_name": "BusinessEntityID",
                  "referenced_object": "BusinessEntity",
                  "referenced_column_name": "BusinessEntityID"
                },
                {
                  "foreign_key_name": "FK_PersonCreditCard_CreditCard_CreditCardID",
                  "table_name": "PersonCreditCard",
                  "constraint_column_name": "CreditCardID",
                  "referenced_object": "CreditCard",
                  "referenced_column_name": "CreditCardID"
                },
                {
                  "foreign_key_name": "FK_PersonCreditCard_Person_BusinessEntityID",
                  "table_name": "PersonCreditCard",
                  "constraint_column_name": "BusinessEntityID",
                  "referenced_object": "Person",
                  "referenced_column_name": "BusinessEntityID"
                },
                {
                  "foreign_key_name": "FK_PersonPhone_Person_BusinessEntityID",
                  "table_name": "PersonPhone",
                  "constraint_column_name": "BusinessEntityID",
                  "referenced_object": "Person",
                  "referenced_column_name": "BusinessEntityID"
                },
                {
                  "foreign_key_name": "FK_PersonPhone_PhoneNumberType_PhoneNumberTypeID",
                  "table_name": "PersonPhone",
                  "constraint_column_name": "PhoneNumberTypeID",
                  "referenced_object": "PhoneNumberType",
                  "referenced_column_name": "PhoneNumberTypeID"
                },
                {
                  "foreign_key_name": "FK_Product_ProductModel_ProductModelID",
                  "table_name": "Product",
                  "constraint_column_name": "ProductModelID",
                  "referenced_object": "ProductModel",
                  "referenced_column_name": "ProductModelID"
                },
                {
                  "foreign_key_name": "FK_Product_ProductSubcategory_ProductSubcategoryID",
                  "table_name": "Product",
                  "constraint_column_name": "ProductSubcategoryID",
                  "referenced_object": "ProductSubcategory",
                  "referenced_column_name": "ProductSubcategoryID"
                },
                {
                  "foreign_key_name": "FK_Product_UnitMeasure_SizeUnitMeasureCode",
                  "table_name": "Product",
                  "constraint_column_name": "SizeUnitMeasureCode",
                  "referenced_object": "UnitMeasure",
                  "referenced_column_name": "UnitMeasureCode"
                },
                {
                  "foreign_key_name": "FK_Product_UnitMeasure_WeightUnitMeasureCode",
                  "table_name": "Product",
                  "constraint_column_name": "WeightUnitMeasureCode",
                  "referenced_object": "UnitMeasure",
                  "referenced_column_name": "UnitMeasureCode"
                },
                {
                  "foreign_key_name": "FK_ProductCostHistory_Product_ProductID",
                  "table_name": "ProductCostHistory",
                  "constraint_column_name": "ProductID",
                  "referenced_object": "Product",
                  "referenced_column_name": "ProductID"
                },
                {
                  "foreign_key_name": "FK_ProductDocument_Document_DocumentNode",
                  "table_name": "ProductDocument",
                  "constraint_column_name": "DocumentNode",
                  "referenced_object": "Document",
                  "referenced_column_name": "DocumentNode"
                },
                {
                  "foreign_key_name": "FK_ProductDocument_Product_ProductID",
                  "table_name": "ProductDocument",
                  "constraint_column_name": "ProductID",
                  "referenced_object": "Product",
                  "referenced_column_name": "ProductID"
                },
                {
                  "foreign_key_name": "FK_ProductInventory_Location_LocationID",
                  "table_name": "ProductInventory",
                  "constraint_column_name": "LocationID",
                  "referenced_object": "Location",
                  "referenced_column_name": "LocationID"
                },
                {
                  "foreign_key_name": "FK_ProductInventory_Product_ProductID",
                  "table_name": "ProductInventory",
                  "constraint_column_name": "ProductID",
                  "referenced_object": "Product",
                  "referenced_column_name": "ProductID"
                },
                {
                  "foreign_key_name": "FK_ProductListPriceHistory_Product_ProductID",
                  "table_name": "ProductListPriceHistory",
                  "constraint_column_name": "ProductID",
                  "referenced_object": "Product",
                  "referenced_column_name": "ProductID"
                },
                {
                  "foreign_key_name": "FK_ProductModelIllustration_Illustration_IllustrationID",
                  "table_name": "ProductModelIllustration",
                  "constraint_column_name": "IllustrationID",
                  "referenced_object": "Illustration",
                  "referenced_column_name": "IllustrationID"
                },
                {
                  "foreign_key_name": "FK_ProductModelIllustration_ProductModel_ProductModelID",
                  "table_name": "ProductModelIllustration",
                  "constraint_column_name": "ProductModelID",
                  "referenced_object": "ProductModel",
                  "referenced_column_name": "ProductModelID"
                },
                {
                  "foreign_key_name": "FK_ProductModelProductDescriptionCulture_Culture_CultureID",
                  "table_name": "ProductModelProductDescriptionCulture",
                  "constraint_column_name": "CultureID",
                  "referenced_object": "Culture",
                  "referenced_column_name": "CultureID"
                },
                {
                  "foreign_key_name": "FK_ProductModelProductDescriptionCulture_ProductDescription_ProductDescriptionID",
                  "table_name": "ProductModelProductDescriptionCulture",
                  "constraint_column_name": "ProductDescriptionID",
                  "referenced_object": "ProductDescription",
                  "referenced_column_name": "ProductDescriptionID"
                },
                {
                  "foreign_key_name": "FK_ProductModelProductDescriptionCulture_ProductModel_ProductModelID",
                  "table_name": "ProductModelProductDescriptionCulture",
                  "constraint_column_name": "ProductModelID",
                  "referenced_object": "ProductModel",
                  "referenced_column_name": "ProductModelID"
                },
                {
                  "foreign_key_name": "FK_ProductProductPhoto_Product_ProductID",
                  "table_name": "ProductProductPhoto",
                  "constraint_column_name": "ProductID",
                  "referenced_object": "Product",
                  "referenced_column_name": "ProductID"
                },
                {
                  "foreign_key_name": "FK_ProductProductPhoto_ProductPhoto_ProductPhotoID",
                  "table_name": "ProductProductPhoto",
                  "constraint_column_name": "ProductPhotoID",
                  "referenced_object": "ProductPhoto",
                  "referenced_column_name": "ProductPhotoID"
                },
                {
                  "foreign_key_name": "FK_ProductReview_Product_ProductID",
                  "table_name": "ProductReview",
                  "constraint_column_name": "ProductID",
                  "referenced_object": "Product",
                  "referenced_column_name": "ProductID"
                },
                {
                  "foreign_key_name": "FK_ProductSubcategory_ProductCategory_ProductCategoryID",
                  "table_name": "ProductSubcategory",
                  "constraint_column_name": "ProductCategoryID",
                  "referenced_object": "ProductCategory",
                  "referenced_column_name": "ProductCategoryID"
                },
                {
                  "foreign_key_name": "FK_ProductVendor_Product_ProductID",
                  "table_name": "ProductVendor",
                  "constraint_column_name": "ProductID",
                  "referenced_object": "Product",
                  "referenced_column_name": "ProductID"
                },
                {
                  "foreign_key_name": "FK_ProductVendor_UnitMeasure_UnitMeasureCode",
                  "table_name": "ProductVendor",
                  "constraint_column_name": "UnitMeasureCode",
                  "referenced_object": "UnitMeasure",
                  "referenced_column_name": "UnitMeasureCode"
                },
                {
                  "foreign_key_name": "FK_ProductVendor_Vendor_BusinessEntityID",
                  "table_name": "ProductVendor",
                  "constraint_column_name": "BusinessEntityID",
                  "referenced_object": "Vendor",
                  "referenced_column_name": "BusinessEntityID"
                },
                {
                  "foreign_key_name": "FK_PurchaseOrderDetail_Product_ProductID",
                  "table_name": "PurchaseOrderDetail",
                  "constraint_column_name": "ProductID",
                  "referenced_object": "Product",
                  "referenced_column_name": "ProductID"
                },
                {
                  "foreign_key_name": "FK_PurchaseOrderDetail_PurchaseOrderHeader_PurchaseOrderID",
                  "table_name": "PurchaseOrderDetail",
                  "constraint_column_name": "PurchaseOrderID",
                  "referenced_object": "PurchaseOrderHeader",
                  "referenced_column_name": "PurchaseOrderID"
                },
                {
                  "foreign_key_name": "FK_PurchaseOrderHeader_Employee_EmployeeID",
                  "table_name": "PurchaseOrderHeader",
                  "constraint_column_name": "EmployeeID",
                  "referenced_object": "Employee",
                  "referenced_column_name": "BusinessEntityID"
                },
                {
                  "foreign_key_name": "FK_PurchaseOrderHeader_ShipMethod_ShipMethodID",
                  "table_name": "PurchaseOrderHeader",
                  "constraint_column_name": "ShipMethodID",
                  "referenced_object": "ShipMethod",
                  "referenced_column_name": "ShipMethodID"
                },
                {
                  "foreign_key_name": "FK_PurchaseOrderHeader_Vendor_VendorID",
                  "table_name": "PurchaseOrderHeader",
                  "constraint_column_name": "VendorID",
                  "referenced_object": "Vendor",
                  "referenced_column_name": "BusinessEntityID"
                },
                {
                  "foreign_key_name": "FK_SalesOrderDetail_SalesOrderHeader_SalesOrderID",
                  "table_name": "SalesOrderDetail",
                  "constraint_column_name": "SalesOrderID",
                  "referenced_object": "SalesOrderHeader",
                  "referenced_column_name": "SalesOrderID"
                },
                {
                  "foreign_key_name": "FK_SalesOrderDetail_SpecialOfferProduct_SpecialOfferIDProductID",
                  "table_name": "SalesOrderDetail",
                  "constraint_column_name": "ProductID",
                  "referenced_object": "SpecialOfferProduct",
                  "referenced_column_name": "ProductID"
                },
                {
                  "foreign_key_name": "FK_SalesOrderDetail_SpecialOfferProduct_SpecialOfferIDProductID",
                  "table_name": "SalesOrderDetail",
                  "constraint_column_name": "SpecialOfferID",
                  "referenced_object": "SpecialOfferProduct",
                  "referenced_column_name": "SpecialOfferID"
                },
                {
                  "foreign_key_name": "FK_SalesOrderHeader_Address_BillToAddressID",
                  "table_name": "SalesOrderHeader",
                  "constraint_column_name": "BillToAddressID",
                  "referenced_object": "Address",
                  "referenced_column_name": "AddressID"
                },
                {
                  "foreign_key_name": "FK_SalesOrderHeader_Address_ShipToAddressID",
                  "table_name": "SalesOrderHeader",
                  "constraint_column_name": "ShipToAddressID",
                  "referenced_object": "Address",
                  "referenced_column_name": "AddressID"
                },
                {
                  "foreign_key_name": "FK_SalesOrderHeader_CreditCard_CreditCardID",
                  "table_name": "SalesOrderHeader",
                  "constraint_column_name": "CreditCardID",
                  "referenced_object": "CreditCard",
                  "referenced_column_name": "CreditCardID"
                },
                {
                  "foreign_key_name": "FK_SalesOrderHeader_CurrencyRate_CurrencyRateID",
                  "table_name": "SalesOrderHeader",
                  "constraint_column_name": "CurrencyRateID",
                  "referenced_object": "CurrencyRate",
                  "referenced_column_name": "CurrencyRateID"
                },
                {
                  "foreign_key_name": "FK_SalesOrderHeader_Customer_CustomerID",
                  "table_name": "SalesOrderHeader",
                  "constraint_column_name": "CustomerID",
                  "referenced_object": "Customer",
                  "referenced_column_name": "CustomerID"
                },
                {
                  "foreign_key_name": "FK_SalesOrderHeader_SalesPerson_SalesPersonID",
                  "table_name": "SalesOrderHeader",
                  "constraint_column_name": "SalesPersonID",
                  "referenced_object": "SalesPerson",
                  "referenced_column_name": "BusinessEntityID"
                },
                {
                  "foreign_key_name": "FK_SalesOrderHeader_SalesTerritory_TerritoryID",
                  "table_name": "SalesOrderHeader",
                  "constraint_column_name": "TerritoryID",
                  "referenced_object": "SalesTerritory",
                  "referenced_column_name": "TerritoryID"
                },
                {
                  "foreign_key_name": "FK_SalesOrderHeader_ShipMethod_ShipMethodID",
                  "table_name": "SalesOrderHeader",
                  "constraint_column_name": "ShipMethodID",
                  "referenced_object": "ShipMethod",
                  "referenced_column_name": "ShipMethodID"
                },
                {
                  "foreign_key_name": "FK_SalesOrderHeaderSalesReason_SalesOrderHeader_SalesOrderID",
                  "table_name": "SalesOrderHeaderSalesReason",
                  "constraint_column_name": "SalesOrderID",
                  "referenced_object": "SalesOrderHeader",
                  "referenced_column_name": "SalesOrderID"
                },
                {
                  "foreign_key_name": "FK_SalesOrderHeaderSalesReason_SalesReason_SalesReasonID",
                  "table_name": "SalesOrderHeaderSalesReason",
                  "constraint_column_name": "SalesReasonID",
                  "referenced_object": "SalesReason",
                  "referenced_column_name": "SalesReasonID"
                },
                {
                  "foreign_key_name": "FK_SalesPerson_Employee_BusinessEntityID",
                  "table_name": "SalesPerson",
                  "constraint_column_name": "BusinessEntityID",
                  "referenced_object": "Employee",
                  "referenced_column_name": "BusinessEntityID"
                },
                {
                  "foreign_key_name": "FK_SalesPerson_SalesTerritory_TerritoryID",
                  "table_name": "SalesPerson",
                  "constraint_column_name": "TerritoryID",
                  "referenced_object": "SalesTerritory",
                  "referenced_column_name": "TerritoryID"
                },
                {
                  "foreign_key_name": "FK_SalesPersonQuotaHistory_SalesPerson_BusinessEntityID",
                  "table_name": "SalesPersonQuotaHistory",
                  "constraint_column_name": "BusinessEntityID",
                  "referenced_object": "SalesPerson",
                  "referenced_column_name": "BusinessEntityID"
                },
                {
                  "foreign_key_name": "FK_SalesTaxRate_StateProvince_StateProvinceID",
                  "table_name": "SalesTaxRate",
                  "constraint_column_name": "StateProvinceID",
                  "referenced_object": "StateProvince",
                  "referenced_column_name": "StateProvinceID"
                },
                {
                  "foreign_key_name": "FK_SalesTerritory_CountryRegion_CountryRegionCode",
                  "table_name": "SalesTerritory",
                  "constraint_column_name": "CountryRegionCode",
                  "referenced_object": "CountryRegion",
                  "referenced_column_name": "CountryRegionCode"
                },
                {
                  "foreign_key_name": "FK_SalesTerritoryHistory_SalesPerson_BusinessEntityID",
                  "table_name": "SalesTerritoryHistory",
                  "constraint_column_name": "BusinessEntityID",
                  "referenced_object": "SalesPerson",
                  "referenced_column_name": "BusinessEntityID"
                },
                {
                  "foreign_key_name": "FK_SalesTerritoryHistory_SalesTerritory_TerritoryID",
                  "table_name": "SalesTerritoryHistory",
                  "constraint_column_name": "TerritoryID",
                  "referenced_object": "SalesTerritory",
                  "referenced_column_name": "TerritoryID"
                },
                {
                  "foreign_key_name": "FK_ShoppingCartItem_Product_ProductID",
                  "table_name": "ShoppingCartItem",
                  "constraint_column_name": "ProductID",
                  "referenced_object": "Product",
                  "referenced_column_name": "ProductID"
                },
                {
                  "foreign_key_name": "FK_SpecialOfferProduct_Product_ProductID",
                  "table_name": "SpecialOfferProduct",
                  "constraint_column_name": "ProductID",
                  "referenced_object": "Product",
                  "referenced_column_name": "ProductID"
                },
                {
                  "foreign_key_name": "FK_SpecialOfferProduct_SpecialOffer_SpecialOfferID",
                  "table_name": "SpecialOfferProduct",
                  "constraint_column_name": "SpecialOfferID",
                  "referenced_object": "SpecialOffer",
                  "referenced_column_name": "SpecialOfferID"
                },
                {
                  "foreign_key_name": "FK_StateProvince_CountryRegion_CountryRegionCode",
                  "table_name": "StateProvince",
                  "constraint_column_name": "CountryRegionCode",
                  "referenced_object": "CountryRegion",
                  "referenced_column_name": "CountryRegionCode"
                },
                {
                  "foreign_key_name": "FK_StateProvince_SalesTerritory_TerritoryID",
                  "table_name": "StateProvince",
                  "constraint_column_name": "TerritoryID",
                  "referenced_object": "SalesTerritory",
                  "referenced_column_name": "TerritoryID"
                },
                {
                  "foreign_key_name": "FK_Store_BusinessEntity_BusinessEntityID",
                  "table_name": "Store",
                  "constraint_column_name": "BusinessEntityID",
                  "referenced_object": "BusinessEntity",
                  "referenced_column_name": "BusinessEntityID"
                },
                {
                  "foreign_key_name": "FK_Store_SalesPerson_SalesPersonID",
                  "table_name": "Store",
                  "constraint_column_name": "SalesPersonID",
                  "referenced_object": "SalesPerson",
                  "referenced_column_name": "BusinessEntityID"
                },
                {
                  "foreign_key_name": "FK_TransactionHistory_Product_ProductID",
                  "table_name": "TransactionHistory",
                  "constraint_column_name": "ProductID",
                  "referenced_object": "Product",
                  "referenced_column_name": "ProductID"
                },
                {
                  "foreign_key_name": "FK_Vendor_BusinessEntity_BusinessEntityID",
                  "table_name": "Vendor",
                  "constraint_column_name": "BusinessEntityID",
                  "referenced_object": "BusinessEntity",
                  "referenced_column_name": "BusinessEntityID"
                },
                {
                  "foreign_key_name": "FK_WorkOrder_Product_ProductID",
                  "table_name": "WorkOrder",
                  "constraint_column_name": "ProductID",
                  "referenced_object": "Product",
                  "referenced_column_name": "ProductID"
                },
                {
                  "foreign_key_name": "FK_WorkOrder_ScrapReason_ScrapReasonID",
                  "table_name": "WorkOrder",
                  "constraint_column_name": "ScrapReasonID",
                  "referenced_object": "ScrapReason",
                  "referenced_column_name": "ScrapReasonID"
                },
                {
                  "foreign_key_name": "FK_WorkOrderRouting_Location_LocationID",
                  "table_name": "WorkOrderRouting",
                  "constraint_column_name": "LocationID",
                  "referenced_object": "Location",
                  "referenced_column_name": "LocationID"
                },
                {
                  "foreign_key_name": "FK_WorkOrderRouting_WorkOrder_WorkOrderID",
                  "table_name": "WorkOrderRouting",
                  "constraint_column_name": "WorkOrderID",
                  "referenced_object": "WorkOrder",
                  "referenced_column_name": "WorkOrderID"
                }
              ]
            },
            "text/html": [
              "<table>",
              "<tr><th>foreign_key_name</th><th>table_name</th><th>constraint_column_name</th><th>referenced_object</th><th>referenced_column_name</th></tr>",
              "<tr><td>FK_Address_StateProvince_StateProvinceID</td><td>Address</td><td>StateProvinceID</td><td>StateProvince</td><td>StateProvinceID</td></tr>",
              "<tr><td>FK_BillOfMaterials_Product_ComponentID</td><td>BillOfMaterials</td><td>ComponentID</td><td>Product</td><td>ProductID</td></tr>",
              "<tr><td>FK_BillOfMaterials_Product_ProductAssemblyID</td><td>BillOfMaterials</td><td>ProductAssemblyID</td><td>Product</td><td>ProductID</td></tr>",
              "<tr><td>FK_BillOfMaterials_UnitMeasure_UnitMeasureCode</td><td>BillOfMaterials</td><td>UnitMeasureCode</td><td>UnitMeasure</td><td>UnitMeasureCode</td></tr>",
              "<tr><td>FK_BusinessEntityAddress_Address_AddressID</td><td>BusinessEntityAddress</td><td>AddressID</td><td>Address</td><td>AddressID</td></tr>",
              "<tr><td>FK_BusinessEntityAddress_AddressType_AddressTypeID</td><td>BusinessEntityAddress</td><td>AddressTypeID</td><td>AddressType</td><td>AddressTypeID</td></tr>",
              "<tr><td>FK_BusinessEntityAddress_BusinessEntity_BusinessEntityID</td><td>BusinessEntityAddress</td><td>BusinessEntityID</td><td>BusinessEntity</td><td>BusinessEntityID</td></tr>",
              "<tr><td>FK_BusinessEntityContact_BusinessEntity_BusinessEntityID</td><td>BusinessEntityContact</td><td>BusinessEntityID</td><td>BusinessEntity</td><td>BusinessEntityID</td></tr>",
              "<tr><td>FK_BusinessEntityContact_ContactType_ContactTypeID</td><td>BusinessEntityContact</td><td>ContactTypeID</td><td>ContactType</td><td>ContactTypeID</td></tr>",
              "<tr><td>FK_BusinessEntityContact_Person_PersonID</td><td>BusinessEntityContact</td><td>PersonID</td><td>Person</td><td>BusinessEntityID</td></tr>",
              "<tr><td>FK_CountryRegionCurrency_CountryRegion_CountryRegionCode</td><td>CountryRegionCurrency</td><td>CountryRegionCode</td><td>CountryRegion</td><td>CountryRegionCode</td></tr>",
              "<tr><td>FK_CountryRegionCurrency_Currency_CurrencyCode</td><td>CountryRegionCurrency</td><td>CurrencyCode</td><td>Currency</td><td>CurrencyCode</td></tr>",
              "<tr><td>FK_CurrencyRate_Currency_FromCurrencyCode</td><td>CurrencyRate</td><td>FromCurrencyCode</td><td>Currency</td><td>CurrencyCode</td></tr>",
              "<tr><td>FK_CurrencyRate_Currency_ToCurrencyCode</td><td>CurrencyRate</td><td>ToCurrencyCode</td><td>Currency</td><td>CurrencyCode</td></tr>",
              "<tr><td>FK_Customer_Person_PersonID</td><td>Customer</td><td>PersonID</td><td>Person</td><td>BusinessEntityID</td></tr>",
              "<tr><td>FK_Customer_SalesTerritory_TerritoryID</td><td>Customer</td><td>TerritoryID</td><td>SalesTerritory</td><td>TerritoryID</td></tr>",
              "<tr><td>FK_Customer_Store_StoreID</td><td>Customer</td><td>StoreID</td><td>Store</td><td>BusinessEntityID</td></tr>",
              "<tr><td>FK_Document_Employee_Owner</td><td>Document</td><td>Owner</td><td>Employee</td><td>BusinessEntityID</td></tr>",
              "<tr><td>FK_EmailAddress_Person_BusinessEntityID</td><td>EmailAddress</td><td>BusinessEntityID</td><td>Person</td><td>BusinessEntityID</td></tr>",
              "<tr><td>FK_Employee_Person_BusinessEntityID</td><td>Employee</td><td>BusinessEntityID</td><td>Person</td><td>BusinessEntityID</td></tr>",
              "<tr><td>FK_EmployeeDepartmentHistory_Department_DepartmentID</td><td>EmployeeDepartmentHistory</td><td>DepartmentID</td><td>Department</td><td>DepartmentID</td></tr>",
              "<tr><td>FK_EmployeeDepartmentHistory_Employee_BusinessEntityID</td><td>EmployeeDepartmentHistory</td><td>BusinessEntityID</td><td>Employee</td><td>BusinessEntityID</td></tr>",
              "<tr><td>FK_EmployeeDepartmentHistory_Shift_ShiftID</td><td>EmployeeDepartmentHistory</td><td>ShiftID</td><td>Shift</td><td>ShiftID</td></tr>",
              "<tr><td>FK_EmployeePayHistory_Employee_BusinessEntityID</td><td>EmployeePayHistory</td><td>BusinessEntityID</td><td>Employee</td><td>BusinessEntityID</td></tr>",
              "<tr><td>FK_JobCandidate_Employee_BusinessEntityID</td><td>JobCandidate</td><td>BusinessEntityID</td><td>Employee</td><td>BusinessEntityID</td></tr>",
              "<tr><td>FK_Password_Person_BusinessEntityID</td><td>Password</td><td>BusinessEntityID</td><td>Person</td><td>BusinessEntityID</td></tr>",
              "<tr><td>FK_Person_BusinessEntity_BusinessEntityID</td><td>Person</td><td>BusinessEntityID</td><td>BusinessEntity</td><td>BusinessEntityID</td></tr>",
              "<tr><td>FK_PersonCreditCard_CreditCard_CreditCardID</td><td>PersonCreditCard</td><td>CreditCardID</td><td>CreditCard</td><td>CreditCardID</td></tr>",
              "<tr><td>FK_PersonCreditCard_Person_BusinessEntityID</td><td>PersonCreditCard</td><td>BusinessEntityID</td><td>Person</td><td>BusinessEntityID</td></tr>",
              "<tr><td>FK_PersonPhone_Person_BusinessEntityID</td><td>PersonPhone</td><td>BusinessEntityID</td><td>Person</td><td>BusinessEntityID</td></tr>",
              "<tr><td>FK_PersonPhone_PhoneNumberType_PhoneNumberTypeID</td><td>PersonPhone</td><td>PhoneNumberTypeID</td><td>PhoneNumberType</td><td>PhoneNumberTypeID</td></tr>",
              "<tr><td>FK_Product_ProductModel_ProductModelID</td><td>Product</td><td>ProductModelID</td><td>ProductModel</td><td>ProductModelID</td></tr>",
              "<tr><td>FK_Product_ProductSubcategory_ProductSubcategoryID</td><td>Product</td><td>ProductSubcategoryID</td><td>ProductSubcategory</td><td>ProductSubcategoryID</td></tr>",
              "<tr><td>FK_Product_UnitMeasure_SizeUnitMeasureCode</td><td>Product</td><td>SizeUnitMeasureCode</td><td>UnitMeasure</td><td>UnitMeasureCode</td></tr>",
              "<tr><td>FK_Product_UnitMeasure_WeightUnitMeasureCode</td><td>Product</td><td>WeightUnitMeasureCode</td><td>UnitMeasure</td><td>UnitMeasureCode</td></tr>",
              "<tr><td>FK_ProductCostHistory_Product_ProductID</td><td>ProductCostHistory</td><td>ProductID</td><td>Product</td><td>ProductID</td></tr>",
              "<tr><td>FK_ProductDocument_Document_DocumentNode</td><td>ProductDocument</td><td>DocumentNode</td><td>Document</td><td>DocumentNode</td></tr>",
              "<tr><td>FK_ProductDocument_Product_ProductID</td><td>ProductDocument</td><td>ProductID</td><td>Product</td><td>ProductID</td></tr>",
              "<tr><td>FK_ProductInventory_Location_LocationID</td><td>ProductInventory</td><td>LocationID</td><td>Location</td><td>LocationID</td></tr>",
              "<tr><td>FK_ProductInventory_Product_ProductID</td><td>ProductInventory</td><td>ProductID</td><td>Product</td><td>ProductID</td></tr>",
              "<tr><td>FK_ProductListPriceHistory_Product_ProductID</td><td>ProductListPriceHistory</td><td>ProductID</td><td>Product</td><td>ProductID</td></tr>",
              "<tr><td>FK_ProductModelIllustration_Illustration_IllustrationID</td><td>ProductModelIllustration</td><td>IllustrationID</td><td>Illustration</td><td>IllustrationID</td></tr>",
              "<tr><td>FK_ProductModelIllustration_ProductModel_ProductModelID</td><td>ProductModelIllustration</td><td>ProductModelID</td><td>ProductModel</td><td>ProductModelID</td></tr>",
              "<tr><td>FK_ProductModelProductDescriptionCulture_Culture_CultureID</td><td>ProductModelProductDescriptionCulture</td><td>CultureID</td><td>Culture</td><td>CultureID</td></tr>",
              "<tr><td>FK_ProductModelProductDescriptionCulture_ProductDescription_ProductDescriptionID</td><td>ProductModelProductDescriptionCulture</td><td>ProductDescriptionID</td><td>ProductDescription</td><td>ProductDescriptionID</td></tr>",
              "<tr><td>FK_ProductModelProductDescriptionCulture_ProductModel_ProductModelID</td><td>ProductModelProductDescriptionCulture</td><td>ProductModelID</td><td>ProductModel</td><td>ProductModelID</td></tr>",
              "<tr><td>FK_ProductProductPhoto_Product_ProductID</td><td>ProductProductPhoto</td><td>ProductID</td><td>Product</td><td>ProductID</td></tr>",
              "<tr><td>FK_ProductProductPhoto_ProductPhoto_ProductPhotoID</td><td>ProductProductPhoto</td><td>ProductPhotoID</td><td>ProductPhoto</td><td>ProductPhotoID</td></tr>",
              "<tr><td>FK_ProductReview_Product_ProductID</td><td>ProductReview</td><td>ProductID</td><td>Product</td><td>ProductID</td></tr>",
              "<tr><td>FK_ProductSubcategory_ProductCategory_ProductCategoryID</td><td>ProductSubcategory</td><td>ProductCategoryID</td><td>ProductCategory</td><td>ProductCategoryID</td></tr>",
              "<tr><td>FK_ProductVendor_Product_ProductID</td><td>ProductVendor</td><td>ProductID</td><td>Product</td><td>ProductID</td></tr>",
              "<tr><td>FK_ProductVendor_UnitMeasure_UnitMeasureCode</td><td>ProductVendor</td><td>UnitMeasureCode</td><td>UnitMeasure</td><td>UnitMeasureCode</td></tr>",
              "<tr><td>FK_ProductVendor_Vendor_BusinessEntityID</td><td>ProductVendor</td><td>BusinessEntityID</td><td>Vendor</td><td>BusinessEntityID</td></tr>",
              "<tr><td>FK_PurchaseOrderDetail_Product_ProductID</td><td>PurchaseOrderDetail</td><td>ProductID</td><td>Product</td><td>ProductID</td></tr>",
              "<tr><td>FK_PurchaseOrderDetail_PurchaseOrderHeader_PurchaseOrderID</td><td>PurchaseOrderDetail</td><td>PurchaseOrderID</td><td>PurchaseOrderHeader</td><td>PurchaseOrderID</td></tr>",
              "<tr><td>FK_PurchaseOrderHeader_Employee_EmployeeID</td><td>PurchaseOrderHeader</td><td>EmployeeID</td><td>Employee</td><td>BusinessEntityID</td></tr>",
              "<tr><td>FK_PurchaseOrderHeader_ShipMethod_ShipMethodID</td><td>PurchaseOrderHeader</td><td>ShipMethodID</td><td>ShipMethod</td><td>ShipMethodID</td></tr>",
              "<tr><td>FK_PurchaseOrderHeader_Vendor_VendorID</td><td>PurchaseOrderHeader</td><td>VendorID</td><td>Vendor</td><td>BusinessEntityID</td></tr>",
              "<tr><td>FK_SalesOrderDetail_SalesOrderHeader_SalesOrderID</td><td>SalesOrderDetail</td><td>SalesOrderID</td><td>SalesOrderHeader</td><td>SalesOrderID</td></tr>",
              "<tr><td>FK_SalesOrderDetail_SpecialOfferProduct_SpecialOfferIDProductID</td><td>SalesOrderDetail</td><td>ProductID</td><td>SpecialOfferProduct</td><td>ProductID</td></tr>",
              "<tr><td>FK_SalesOrderDetail_SpecialOfferProduct_SpecialOfferIDProductID</td><td>SalesOrderDetail</td><td>SpecialOfferID</td><td>SpecialOfferProduct</td><td>SpecialOfferID</td></tr>",
              "<tr><td>FK_SalesOrderHeader_Address_BillToAddressID</td><td>SalesOrderHeader</td><td>BillToAddressID</td><td>Address</td><td>AddressID</td></tr>",
              "<tr><td>FK_SalesOrderHeader_Address_ShipToAddressID</td><td>SalesOrderHeader</td><td>ShipToAddressID</td><td>Address</td><td>AddressID</td></tr>",
              "<tr><td>FK_SalesOrderHeader_CreditCard_CreditCardID</td><td>SalesOrderHeader</td><td>CreditCardID</td><td>CreditCard</td><td>CreditCardID</td></tr>",
              "<tr><td>FK_SalesOrderHeader_CurrencyRate_CurrencyRateID</td><td>SalesOrderHeader</td><td>CurrencyRateID</td><td>CurrencyRate</td><td>CurrencyRateID</td></tr>",
              "<tr><td>FK_SalesOrderHeader_Customer_CustomerID</td><td>SalesOrderHeader</td><td>CustomerID</td><td>Customer</td><td>CustomerID</td></tr>",
              "<tr><td>FK_SalesOrderHeader_SalesPerson_SalesPersonID</td><td>SalesOrderHeader</td><td>SalesPersonID</td><td>SalesPerson</td><td>BusinessEntityID</td></tr>",
              "<tr><td>FK_SalesOrderHeader_SalesTerritory_TerritoryID</td><td>SalesOrderHeader</td><td>TerritoryID</td><td>SalesTerritory</td><td>TerritoryID</td></tr>",
              "<tr><td>FK_SalesOrderHeader_ShipMethod_ShipMethodID</td><td>SalesOrderHeader</td><td>ShipMethodID</td><td>ShipMethod</td><td>ShipMethodID</td></tr>",
              "<tr><td>FK_SalesOrderHeaderSalesReason_SalesOrderHeader_SalesOrderID</td><td>SalesOrderHeaderSalesReason</td><td>SalesOrderID</td><td>SalesOrderHeader</td><td>SalesOrderID</td></tr>",
              "<tr><td>FK_SalesOrderHeaderSalesReason_SalesReason_SalesReasonID</td><td>SalesOrderHeaderSalesReason</td><td>SalesReasonID</td><td>SalesReason</td><td>SalesReasonID</td></tr>",
              "<tr><td>FK_SalesPerson_Employee_BusinessEntityID</td><td>SalesPerson</td><td>BusinessEntityID</td><td>Employee</td><td>BusinessEntityID</td></tr>",
              "<tr><td>FK_SalesPerson_SalesTerritory_TerritoryID</td><td>SalesPerson</td><td>TerritoryID</td><td>SalesTerritory</td><td>TerritoryID</td></tr>",
              "<tr><td>FK_SalesPersonQuotaHistory_SalesPerson_BusinessEntityID</td><td>SalesPersonQuotaHistory</td><td>BusinessEntityID</td><td>SalesPerson</td><td>BusinessEntityID</td></tr>",
              "<tr><td>FK_SalesTaxRate_StateProvince_StateProvinceID</td><td>SalesTaxRate</td><td>StateProvinceID</td><td>StateProvince</td><td>StateProvinceID</td></tr>",
              "<tr><td>FK_SalesTerritory_CountryRegion_CountryRegionCode</td><td>SalesTerritory</td><td>CountryRegionCode</td><td>CountryRegion</td><td>CountryRegionCode</td></tr>",
              "<tr><td>FK_SalesTerritoryHistory_SalesPerson_BusinessEntityID</td><td>SalesTerritoryHistory</td><td>BusinessEntityID</td><td>SalesPerson</td><td>BusinessEntityID</td></tr>",
              "<tr><td>FK_SalesTerritoryHistory_SalesTerritory_TerritoryID</td><td>SalesTerritoryHistory</td><td>TerritoryID</td><td>SalesTerritory</td><td>TerritoryID</td></tr>",
              "<tr><td>FK_ShoppingCartItem_Product_ProductID</td><td>ShoppingCartItem</td><td>ProductID</td><td>Product</td><td>ProductID</td></tr>",
              "<tr><td>FK_SpecialOfferProduct_Product_ProductID</td><td>SpecialOfferProduct</td><td>ProductID</td><td>Product</td><td>ProductID</td></tr>",
              "<tr><td>FK_SpecialOfferProduct_SpecialOffer_SpecialOfferID</td><td>SpecialOfferProduct</td><td>SpecialOfferID</td><td>SpecialOffer</td><td>SpecialOfferID</td></tr>",
              "<tr><td>FK_StateProvince_CountryRegion_CountryRegionCode</td><td>StateProvince</td><td>CountryRegionCode</td><td>CountryRegion</td><td>CountryRegionCode</td></tr>",
              "<tr><td>FK_StateProvince_SalesTerritory_TerritoryID</td><td>StateProvince</td><td>TerritoryID</td><td>SalesTerritory</td><td>TerritoryID</td></tr>",
              "<tr><td>FK_Store_BusinessEntity_BusinessEntityID</td><td>Store</td><td>BusinessEntityID</td><td>BusinessEntity</td><td>BusinessEntityID</td></tr>",
              "<tr><td>FK_Store_SalesPerson_SalesPersonID</td><td>Store</td><td>SalesPersonID</td><td>SalesPerson</td><td>BusinessEntityID</td></tr>",
              "<tr><td>FK_TransactionHistory_Product_ProductID</td><td>TransactionHistory</td><td>ProductID</td><td>Product</td><td>ProductID</td></tr>",
              "<tr><td>FK_Vendor_BusinessEntity_BusinessEntityID</td><td>Vendor</td><td>BusinessEntityID</td><td>BusinessEntity</td><td>BusinessEntityID</td></tr>",
              "<tr><td>FK_WorkOrder_Product_ProductID</td><td>WorkOrder</td><td>ProductID</td><td>Product</td><td>ProductID</td></tr>",
              "<tr><td>FK_WorkOrder_ScrapReason_ScrapReasonID</td><td>WorkOrder</td><td>ScrapReasonID</td><td>ScrapReason</td><td>ScrapReasonID</td></tr>",
              "<tr><td>FK_WorkOrderRouting_Location_LocationID</td><td>WorkOrderRouting</td><td>LocationID</td><td>Location</td><td>LocationID</td></tr>",
              "<tr><td>FK_WorkOrderRouting_WorkOrder_WorkOrderID</td><td>WorkOrderRouting</td><td>WorkOrderID</td><td>WorkOrder</td><td>WorkOrderID</td></tr>",
              "</table>"
            ]
          }
        }
      ],
      "execution_count": null
    },
    {
      "cell_type": "code",
      "source": [
        "/*Retrieves the primary key constraints and their respective columns*/\n",
        "\n",
        "SELECT\n",
        "    CONSTRAINT_NAME,\n",
        "    TABLE_SCHEMA,\n",
        "    TABLE_NAME,\n",
        "    COLUMN_NAME\n",
        "FROM INFORMATION_SCHEMA.KEY_COLUMN_USAGE\n",
        "WHERE CONSTRAINT_NAME LIKE 'PK%'"
      ],
      "metadata": {
        "azdata_cell_guid": "af464e9f-6bd2-49a3-90af-d1ec26fc7c44",
        "language": "sql",
        "id": "2eLNPk1zY4w8",
        "outputId": "1294ec52-6fea-4893-db90-528c809a3a9a"
      },
      "outputs": [
        {
          "output_type": "display_data",
          "data": {
            "text/html": "(102 rows affected)"
          },
          "metadata": {}
        },
        {
          "output_type": "display_data",
          "data": {
            "text/html": "Total execution time: 00:00:00.082"
          },
          "metadata": {}
        },
        {
          "output_type": "execute_result",
          "metadata": {},
          "execution_count": 5,
          "data": {
            "application/vnd.dataresource+json": {
              "schema": {
                "fields": [
                  {
                    "name": "CONSTRAINT_NAME"
                  },
                  {
                    "name": "TABLE_SCHEMA"
                  },
                  {
                    "name": "TABLE_NAME"
                  },
                  {
                    "name": "COLUMN_NAME"
                  }
                ]
              },
              "data": [
                {
                  "CONSTRAINT_NAME": "PK_AWBuildVersion_SystemInformationID",
                  "TABLE_SCHEMA": "dbo",
                  "TABLE_NAME": "AWBuildVersion",
                  "COLUMN_NAME": "SystemInformationID"
                },
                {
                  "CONSTRAINT_NAME": "PK_DatabaseLog_DatabaseLogID",
                  "TABLE_SCHEMA": "dbo",
                  "TABLE_NAME": "DatabaseLog",
                  "COLUMN_NAME": "DatabaseLogID"
                },
                {
                  "CONSTRAINT_NAME": "PK_ErrorLog_ErrorLogID",
                  "TABLE_SCHEMA": "dbo",
                  "TABLE_NAME": "ErrorLog",
                  "COLUMN_NAME": "ErrorLogID"
                },
                {
                  "CONSTRAINT_NAME": "PK_Department_DepartmentID",
                  "TABLE_SCHEMA": "HumanResources",
                  "TABLE_NAME": "Department",
                  "COLUMN_NAME": "DepartmentID"
                },
                {
                  "CONSTRAINT_NAME": "PK_Employee_BusinessEntityID",
                  "TABLE_SCHEMA": "HumanResources",
                  "TABLE_NAME": "Employee",
                  "COLUMN_NAME": "BusinessEntityID"
                },
                {
                  "CONSTRAINT_NAME": "PK_EmployeeDepartmentHistory_BusinessEntityID_StartDate_DepartmentID",
                  "TABLE_SCHEMA": "HumanResources",
                  "TABLE_NAME": "EmployeeDepartmentHistory",
                  "COLUMN_NAME": "BusinessEntityID"
                },
                {
                  "CONSTRAINT_NAME": "PK_EmployeeDepartmentHistory_BusinessEntityID_StartDate_DepartmentID",
                  "TABLE_SCHEMA": "HumanResources",
                  "TABLE_NAME": "EmployeeDepartmentHistory",
                  "COLUMN_NAME": "DepartmentID"
                },
                {
                  "CONSTRAINT_NAME": "PK_EmployeeDepartmentHistory_BusinessEntityID_StartDate_DepartmentID",
                  "TABLE_SCHEMA": "HumanResources",
                  "TABLE_NAME": "EmployeeDepartmentHistory",
                  "COLUMN_NAME": "ShiftID"
                },
                {
                  "CONSTRAINT_NAME": "PK_EmployeeDepartmentHistory_BusinessEntityID_StartDate_DepartmentID",
                  "TABLE_SCHEMA": "HumanResources",
                  "TABLE_NAME": "EmployeeDepartmentHistory",
                  "COLUMN_NAME": "StartDate"
                },
                {
                  "CONSTRAINT_NAME": "PK_EmployeePayHistory_BusinessEntityID_RateChangeDate",
                  "TABLE_SCHEMA": "HumanResources",
                  "TABLE_NAME": "EmployeePayHistory",
                  "COLUMN_NAME": "BusinessEntityID"
                },
                {
                  "CONSTRAINT_NAME": "PK_EmployeePayHistory_BusinessEntityID_RateChangeDate",
                  "TABLE_SCHEMA": "HumanResources",
                  "TABLE_NAME": "EmployeePayHistory",
                  "COLUMN_NAME": "RateChangeDate"
                },
                {
                  "CONSTRAINT_NAME": "PK_JobCandidate_JobCandidateID",
                  "TABLE_SCHEMA": "HumanResources",
                  "TABLE_NAME": "JobCandidate",
                  "COLUMN_NAME": "JobCandidateID"
                },
                {
                  "CONSTRAINT_NAME": "PK_Shift_ShiftID",
                  "TABLE_SCHEMA": "HumanResources",
                  "TABLE_NAME": "Shift",
                  "COLUMN_NAME": "ShiftID"
                },
                {
                  "CONSTRAINT_NAME": "PK_Address_AddressID",
                  "TABLE_SCHEMA": "Person",
                  "TABLE_NAME": "Address",
                  "COLUMN_NAME": "AddressID"
                },
                {
                  "CONSTRAINT_NAME": "PK_AddressType_AddressTypeID",
                  "TABLE_SCHEMA": "Person",
                  "TABLE_NAME": "AddressType",
                  "COLUMN_NAME": "AddressTypeID"
                },
                {
                  "CONSTRAINT_NAME": "PK_BusinessEntity_BusinessEntityID",
                  "TABLE_SCHEMA": "Person",
                  "TABLE_NAME": "BusinessEntity",
                  "COLUMN_NAME": "BusinessEntityID"
                },
                {
                  "CONSTRAINT_NAME": "PK_BusinessEntityAddress_BusinessEntityID_AddressID_AddressTypeID",
                  "TABLE_SCHEMA": "Person",
                  "TABLE_NAME": "BusinessEntityAddress",
                  "COLUMN_NAME": "AddressID"
                },
                {
                  "CONSTRAINT_NAME": "PK_BusinessEntityAddress_BusinessEntityID_AddressID_AddressTypeID",
                  "TABLE_SCHEMA": "Person",
                  "TABLE_NAME": "BusinessEntityAddress",
                  "COLUMN_NAME": "AddressTypeID"
                },
                {
                  "CONSTRAINT_NAME": "PK_BusinessEntityAddress_BusinessEntityID_AddressID_AddressTypeID",
                  "TABLE_SCHEMA": "Person",
                  "TABLE_NAME": "BusinessEntityAddress",
                  "COLUMN_NAME": "BusinessEntityID"
                },
                {
                  "CONSTRAINT_NAME": "PK_BusinessEntityContact_BusinessEntityID_PersonID_ContactTypeID",
                  "TABLE_SCHEMA": "Person",
                  "TABLE_NAME": "BusinessEntityContact",
                  "COLUMN_NAME": "BusinessEntityID"
                },
                {
                  "CONSTRAINT_NAME": "PK_BusinessEntityContact_BusinessEntityID_PersonID_ContactTypeID",
                  "TABLE_SCHEMA": "Person",
                  "TABLE_NAME": "BusinessEntityContact",
                  "COLUMN_NAME": "ContactTypeID"
                },
                {
                  "CONSTRAINT_NAME": "PK_BusinessEntityContact_BusinessEntityID_PersonID_ContactTypeID",
                  "TABLE_SCHEMA": "Person",
                  "TABLE_NAME": "BusinessEntityContact",
                  "COLUMN_NAME": "PersonID"
                },
                {
                  "CONSTRAINT_NAME": "PK_ContactType_ContactTypeID",
                  "TABLE_SCHEMA": "Person",
                  "TABLE_NAME": "ContactType",
                  "COLUMN_NAME": "ContactTypeID"
                },
                {
                  "CONSTRAINT_NAME": "PK_CountryRegion_CountryRegionCode",
                  "TABLE_SCHEMA": "Person",
                  "TABLE_NAME": "CountryRegion",
                  "COLUMN_NAME": "CountryRegionCode"
                },
                {
                  "CONSTRAINT_NAME": "PK_EmailAddress_BusinessEntityID_EmailAddressID",
                  "TABLE_SCHEMA": "Person",
                  "TABLE_NAME": "EmailAddress",
                  "COLUMN_NAME": "BusinessEntityID"
                },
                {
                  "CONSTRAINT_NAME": "PK_EmailAddress_BusinessEntityID_EmailAddressID",
                  "TABLE_SCHEMA": "Person",
                  "TABLE_NAME": "EmailAddress",
                  "COLUMN_NAME": "EmailAddressID"
                },
                {
                  "CONSTRAINT_NAME": "PK_Password_BusinessEntityID",
                  "TABLE_SCHEMA": "Person",
                  "TABLE_NAME": "Password",
                  "COLUMN_NAME": "BusinessEntityID"
                },
                {
                  "CONSTRAINT_NAME": "PK_Person_BusinessEntityID",
                  "TABLE_SCHEMA": "Person",
                  "TABLE_NAME": "Person",
                  "COLUMN_NAME": "BusinessEntityID"
                },
                {
                  "CONSTRAINT_NAME": "PK_PersonPhone_BusinessEntityID_PhoneNumber_PhoneNumberTypeID",
                  "TABLE_SCHEMA": "Person",
                  "TABLE_NAME": "PersonPhone",
                  "COLUMN_NAME": "BusinessEntityID"
                },
                {
                  "CONSTRAINT_NAME": "PK_PersonPhone_BusinessEntityID_PhoneNumber_PhoneNumberTypeID",
                  "TABLE_SCHEMA": "Person",
                  "TABLE_NAME": "PersonPhone",
                  "COLUMN_NAME": "PhoneNumber"
                },
                {
                  "CONSTRAINT_NAME": "PK_PersonPhone_BusinessEntityID_PhoneNumber_PhoneNumberTypeID",
                  "TABLE_SCHEMA": "Person",
                  "TABLE_NAME": "PersonPhone",
                  "COLUMN_NAME": "PhoneNumberTypeID"
                },
                {
                  "CONSTRAINT_NAME": "PK_PhoneNumberType_PhoneNumberTypeID",
                  "TABLE_SCHEMA": "Person",
                  "TABLE_NAME": "PhoneNumberType",
                  "COLUMN_NAME": "PhoneNumberTypeID"
                },
                {
                  "CONSTRAINT_NAME": "PK_StateProvince_StateProvinceID",
                  "TABLE_SCHEMA": "Person",
                  "TABLE_NAME": "StateProvince",
                  "COLUMN_NAME": "StateProvinceID"
                },
                {
                  "CONSTRAINT_NAME": "PK_BillOfMaterials_BillOfMaterialsID",
                  "TABLE_SCHEMA": "Production",
                  "TABLE_NAME": "BillOfMaterials",
                  "COLUMN_NAME": "BillOfMaterialsID"
                },
                {
                  "CONSTRAINT_NAME": "PK_Culture_CultureID",
                  "TABLE_SCHEMA": "Production",
                  "TABLE_NAME": "Culture",
                  "COLUMN_NAME": "CultureID"
                },
                {
                  "CONSTRAINT_NAME": "PK_Document_DocumentNode",
                  "TABLE_SCHEMA": "Production",
                  "TABLE_NAME": "Document",
                  "COLUMN_NAME": "DocumentNode"
                },
                {
                  "CONSTRAINT_NAME": "PK_Illustration_IllustrationID",
                  "TABLE_SCHEMA": "Production",
                  "TABLE_NAME": "Illustration",
                  "COLUMN_NAME": "IllustrationID"
                },
                {
                  "CONSTRAINT_NAME": "PK_Location_LocationID",
                  "TABLE_SCHEMA": "Production",
                  "TABLE_NAME": "Location",
                  "COLUMN_NAME": "LocationID"
                },
                {
                  "CONSTRAINT_NAME": "PK_Product_ProductID",
                  "TABLE_SCHEMA": "Production",
                  "TABLE_NAME": "Product",
                  "COLUMN_NAME": "ProductID"
                },
                {
                  "CONSTRAINT_NAME": "PK_ProductCategory_ProductCategoryID",
                  "TABLE_SCHEMA": "Production",
                  "TABLE_NAME": "ProductCategory",
                  "COLUMN_NAME": "ProductCategoryID"
                },
                {
                  "CONSTRAINT_NAME": "PK_ProductCostHistory_ProductID_StartDate",
                  "TABLE_SCHEMA": "Production",
                  "TABLE_NAME": "ProductCostHistory",
                  "COLUMN_NAME": "ProductID"
                },
                {
                  "CONSTRAINT_NAME": "PK_ProductCostHistory_ProductID_StartDate",
                  "TABLE_SCHEMA": "Production",
                  "TABLE_NAME": "ProductCostHistory",
                  "COLUMN_NAME": "StartDate"
                },
                {
                  "CONSTRAINT_NAME": "PK_ProductDescription_ProductDescriptionID",
                  "TABLE_SCHEMA": "Production",
                  "TABLE_NAME": "ProductDescription",
                  "COLUMN_NAME": "ProductDescriptionID"
                },
                {
                  "CONSTRAINT_NAME": "PK_ProductDocument_ProductID_DocumentNode",
                  "TABLE_SCHEMA": "Production",
                  "TABLE_NAME": "ProductDocument",
                  "COLUMN_NAME": "DocumentNode"
                },
                {
                  "CONSTRAINT_NAME": "PK_ProductDocument_ProductID_DocumentNode",
                  "TABLE_SCHEMA": "Production",
                  "TABLE_NAME": "ProductDocument",
                  "COLUMN_NAME": "ProductID"
                },
                {
                  "CONSTRAINT_NAME": "PK_ProductInventory_ProductID_LocationID",
                  "TABLE_SCHEMA": "Production",
                  "TABLE_NAME": "ProductInventory",
                  "COLUMN_NAME": "LocationID"
                },
                {
                  "CONSTRAINT_NAME": "PK_ProductInventory_ProductID_LocationID",
                  "TABLE_SCHEMA": "Production",
                  "TABLE_NAME": "ProductInventory",
                  "COLUMN_NAME": "ProductID"
                },
                {
                  "CONSTRAINT_NAME": "PK_ProductListPriceHistory_ProductID_StartDate",
                  "TABLE_SCHEMA": "Production",
                  "TABLE_NAME": "ProductListPriceHistory",
                  "COLUMN_NAME": "ProductID"
                },
                {
                  "CONSTRAINT_NAME": "PK_ProductListPriceHistory_ProductID_StartDate",
                  "TABLE_SCHEMA": "Production",
                  "TABLE_NAME": "ProductListPriceHistory",
                  "COLUMN_NAME": "StartDate"
                },
                {
                  "CONSTRAINT_NAME": "PK_ProductModel_ProductModelID",
                  "TABLE_SCHEMA": "Production",
                  "TABLE_NAME": "ProductModel",
                  "COLUMN_NAME": "ProductModelID"
                },
                {
                  "CONSTRAINT_NAME": "PK_ProductModelIllustration_ProductModelID_IllustrationID",
                  "TABLE_SCHEMA": "Production",
                  "TABLE_NAME": "ProductModelIllustration",
                  "COLUMN_NAME": "IllustrationID"
                },
                {
                  "CONSTRAINT_NAME": "PK_ProductModelIllustration_ProductModelID_IllustrationID",
                  "TABLE_SCHEMA": "Production",
                  "TABLE_NAME": "ProductModelIllustration",
                  "COLUMN_NAME": "ProductModelID"
                },
                {
                  "CONSTRAINT_NAME": "PK_ProductModelProductDescriptionCulture_ProductModelID_ProductDescriptionID_CultureID",
                  "TABLE_SCHEMA": "Production",
                  "TABLE_NAME": "ProductModelProductDescriptionCulture",
                  "COLUMN_NAME": "CultureID"
                },
                {
                  "CONSTRAINT_NAME": "PK_ProductModelProductDescriptionCulture_ProductModelID_ProductDescriptionID_CultureID",
                  "TABLE_SCHEMA": "Production",
                  "TABLE_NAME": "ProductModelProductDescriptionCulture",
                  "COLUMN_NAME": "ProductDescriptionID"
                },
                {
                  "CONSTRAINT_NAME": "PK_ProductModelProductDescriptionCulture_ProductModelID_ProductDescriptionID_CultureID",
                  "TABLE_SCHEMA": "Production",
                  "TABLE_NAME": "ProductModelProductDescriptionCulture",
                  "COLUMN_NAME": "ProductModelID"
                },
                {
                  "CONSTRAINT_NAME": "PK_ProductPhoto_ProductPhotoID",
                  "TABLE_SCHEMA": "Production",
                  "TABLE_NAME": "ProductPhoto",
                  "COLUMN_NAME": "ProductPhotoID"
                },
                {
                  "CONSTRAINT_NAME": "PK_ProductProductPhoto_ProductID_ProductPhotoID",
                  "TABLE_SCHEMA": "Production",
                  "TABLE_NAME": "ProductProductPhoto",
                  "COLUMN_NAME": "ProductID"
                },
                {
                  "CONSTRAINT_NAME": "PK_ProductProductPhoto_ProductID_ProductPhotoID",
                  "TABLE_SCHEMA": "Production",
                  "TABLE_NAME": "ProductProductPhoto",
                  "COLUMN_NAME": "ProductPhotoID"
                },
                {
                  "CONSTRAINT_NAME": "PK_ProductReview_ProductReviewID",
                  "TABLE_SCHEMA": "Production",
                  "TABLE_NAME": "ProductReview",
                  "COLUMN_NAME": "ProductReviewID"
                },
                {
                  "CONSTRAINT_NAME": "PK_ProductSubcategory_ProductSubcategoryID",
                  "TABLE_SCHEMA": "Production",
                  "TABLE_NAME": "ProductSubcategory",
                  "COLUMN_NAME": "ProductSubcategoryID"
                },
                {
                  "CONSTRAINT_NAME": "PK_ScrapReason_ScrapReasonID",
                  "TABLE_SCHEMA": "Production",
                  "TABLE_NAME": "ScrapReason",
                  "COLUMN_NAME": "ScrapReasonID"
                },
                {
                  "CONSTRAINT_NAME": "PK_TransactionHistory_TransactionID",
                  "TABLE_SCHEMA": "Production",
                  "TABLE_NAME": "TransactionHistory",
                  "COLUMN_NAME": "TransactionID"
                },
                {
                  "CONSTRAINT_NAME": "PK_TransactionHistoryArchive_TransactionID",
                  "TABLE_SCHEMA": "Production",
                  "TABLE_NAME": "TransactionHistoryArchive",
                  "COLUMN_NAME": "TransactionID"
                },
                {
                  "CONSTRAINT_NAME": "PK_UnitMeasure_UnitMeasureCode",
                  "TABLE_SCHEMA": "Production",
                  "TABLE_NAME": "UnitMeasure",
                  "COLUMN_NAME": "UnitMeasureCode"
                },
                {
                  "CONSTRAINT_NAME": "PK_WorkOrder_WorkOrderID",
                  "TABLE_SCHEMA": "Production",
                  "TABLE_NAME": "WorkOrder",
                  "COLUMN_NAME": "WorkOrderID"
                },
                {
                  "CONSTRAINT_NAME": "PK_WorkOrderRouting_WorkOrderID_ProductID_OperationSequence",
                  "TABLE_SCHEMA": "Production",
                  "TABLE_NAME": "WorkOrderRouting",
                  "COLUMN_NAME": "OperationSequence"
                },
                {
                  "CONSTRAINT_NAME": "PK_WorkOrderRouting_WorkOrderID_ProductID_OperationSequence",
                  "TABLE_SCHEMA": "Production",
                  "TABLE_NAME": "WorkOrderRouting",
                  "COLUMN_NAME": "ProductID"
                },
                {
                  "CONSTRAINT_NAME": "PK_WorkOrderRouting_WorkOrderID_ProductID_OperationSequence",
                  "TABLE_SCHEMA": "Production",
                  "TABLE_NAME": "WorkOrderRouting",
                  "COLUMN_NAME": "WorkOrderID"
                },
                {
                  "CONSTRAINT_NAME": "PK_ProductVendor_ProductID_BusinessEntityID",
                  "TABLE_SCHEMA": "Purchasing",
                  "TABLE_NAME": "ProductVendor",
                  "COLUMN_NAME": "BusinessEntityID"
                },
                {
                  "CONSTRAINT_NAME": "PK_ProductVendor_ProductID_BusinessEntityID",
                  "TABLE_SCHEMA": "Purchasing",
                  "TABLE_NAME": "ProductVendor",
                  "COLUMN_NAME": "ProductID"
                },
                {
                  "CONSTRAINT_NAME": "PK_PurchaseOrderDetail_PurchaseOrderID_PurchaseOrderDetailID",
                  "TABLE_SCHEMA": "Purchasing",
                  "TABLE_NAME": "PurchaseOrderDetail",
                  "COLUMN_NAME": "PurchaseOrderDetailID"
                },
                {
                  "CONSTRAINT_NAME": "PK_PurchaseOrderDetail_PurchaseOrderID_PurchaseOrderDetailID",
                  "TABLE_SCHEMA": "Purchasing",
                  "TABLE_NAME": "PurchaseOrderDetail",
                  "COLUMN_NAME": "PurchaseOrderID"
                },
                {
                  "CONSTRAINT_NAME": "PK_PurchaseOrderHeader_PurchaseOrderID",
                  "TABLE_SCHEMA": "Purchasing",
                  "TABLE_NAME": "PurchaseOrderHeader",
                  "COLUMN_NAME": "PurchaseOrderID"
                },
                {
                  "CONSTRAINT_NAME": "PK_ShipMethod_ShipMethodID",
                  "TABLE_SCHEMA": "Purchasing",
                  "TABLE_NAME": "ShipMethod",
                  "COLUMN_NAME": "ShipMethodID"
                },
                {
                  "CONSTRAINT_NAME": "PK_Vendor_BusinessEntityID",
                  "TABLE_SCHEMA": "Purchasing",
                  "TABLE_NAME": "Vendor",
                  "COLUMN_NAME": "BusinessEntityID"
                },
                {
                  "CONSTRAINT_NAME": "PK_CountryRegionCurrency_CountryRegionCode_CurrencyCode",
                  "TABLE_SCHEMA": "Sales",
                  "TABLE_NAME": "CountryRegionCurrency",
                  "COLUMN_NAME": "CountryRegionCode"
                },
                {
                  "CONSTRAINT_NAME": "PK_CountryRegionCurrency_CountryRegionCode_CurrencyCode",
                  "TABLE_SCHEMA": "Sales",
                  "TABLE_NAME": "CountryRegionCurrency",
                  "COLUMN_NAME": "CurrencyCode"
                },
                {
                  "CONSTRAINT_NAME": "PK_CreditCard_CreditCardID",
                  "TABLE_SCHEMA": "Sales",
                  "TABLE_NAME": "CreditCard",
                  "COLUMN_NAME": "CreditCardID"
                },
                {
                  "CONSTRAINT_NAME": "PK_Currency_CurrencyCode",
                  "TABLE_SCHEMA": "Sales",
                  "TABLE_NAME": "Currency",
                  "COLUMN_NAME": "CurrencyCode"
                },
                {
                  "CONSTRAINT_NAME": "PK_CurrencyRate_CurrencyRateID",
                  "TABLE_SCHEMA": "Sales",
                  "TABLE_NAME": "CurrencyRate",
                  "COLUMN_NAME": "CurrencyRateID"
                },
                {
                  "CONSTRAINT_NAME": "PK_Customer_CustomerID",
                  "TABLE_SCHEMA": "Sales",
                  "TABLE_NAME": "Customer",
                  "COLUMN_NAME": "CustomerID"
                },
                {
                  "CONSTRAINT_NAME": "PK_PersonCreditCard_BusinessEntityID_CreditCardID",
                  "TABLE_SCHEMA": "Sales",
                  "TABLE_NAME": "PersonCreditCard",
                  "COLUMN_NAME": "BusinessEntityID"
                },
                {
                  "CONSTRAINT_NAME": "PK_PersonCreditCard_BusinessEntityID_CreditCardID",
                  "TABLE_SCHEMA": "Sales",
                  "TABLE_NAME": "PersonCreditCard",
                  "COLUMN_NAME": "CreditCardID"
                },
                {
                  "CONSTRAINT_NAME": "PK_SalesOrderDetail_SalesOrderID_SalesOrderDetailID",
                  "TABLE_SCHEMA": "Sales",
                  "TABLE_NAME": "SalesOrderDetail",
                  "COLUMN_NAME": "SalesOrderDetailID"
                },
                {
                  "CONSTRAINT_NAME": "PK_SalesOrderDetail_SalesOrderID_SalesOrderDetailID",
                  "TABLE_SCHEMA": "Sales",
                  "TABLE_NAME": "SalesOrderDetail",
                  "COLUMN_NAME": "SalesOrderID"
                },
                {
                  "CONSTRAINT_NAME": "PK_SalesOrderHeader_SalesOrderID",
                  "TABLE_SCHEMA": "Sales",
                  "TABLE_NAME": "SalesOrderHeader",
                  "COLUMN_NAME": "SalesOrderID"
                },
                {
                  "CONSTRAINT_NAME": "PK_SalesOrderHeaderSalesReason_SalesOrderID_SalesReasonID",
                  "TABLE_SCHEMA": "Sales",
                  "TABLE_NAME": "SalesOrderHeaderSalesReason",
                  "COLUMN_NAME": "SalesOrderID"
                },
                {
                  "CONSTRAINT_NAME": "PK_SalesOrderHeaderSalesReason_SalesOrderID_SalesReasonID",
                  "TABLE_SCHEMA": "Sales",
                  "TABLE_NAME": "SalesOrderHeaderSalesReason",
                  "COLUMN_NAME": "SalesReasonID"
                },
                {
                  "CONSTRAINT_NAME": "PK_SalesPerson_BusinessEntityID",
                  "TABLE_SCHEMA": "Sales",
                  "TABLE_NAME": "SalesPerson",
                  "COLUMN_NAME": "BusinessEntityID"
                },
                {
                  "CONSTRAINT_NAME": "PK_SalesPersonQuotaHistory_BusinessEntityID_QuotaDate",
                  "TABLE_SCHEMA": "Sales",
                  "TABLE_NAME": "SalesPersonQuotaHistory",
                  "COLUMN_NAME": "BusinessEntityID"
                },
                {
                  "CONSTRAINT_NAME": "PK_SalesPersonQuotaHistory_BusinessEntityID_QuotaDate",
                  "TABLE_SCHEMA": "Sales",
                  "TABLE_NAME": "SalesPersonQuotaHistory",
                  "COLUMN_NAME": "QuotaDate"
                },
                {
                  "CONSTRAINT_NAME": "PK_SalesReason_SalesReasonID",
                  "TABLE_SCHEMA": "Sales",
                  "TABLE_NAME": "SalesReason",
                  "COLUMN_NAME": "SalesReasonID"
                },
                {
                  "CONSTRAINT_NAME": "PK_SalesTaxRate_SalesTaxRateID",
                  "TABLE_SCHEMA": "Sales",
                  "TABLE_NAME": "SalesTaxRate",
                  "COLUMN_NAME": "SalesTaxRateID"
                },
                {
                  "CONSTRAINT_NAME": "PK_SalesTerritory_TerritoryID",
                  "TABLE_SCHEMA": "Sales",
                  "TABLE_NAME": "SalesTerritory",
                  "COLUMN_NAME": "TerritoryID"
                },
                {
                  "CONSTRAINT_NAME": "PK_SalesTerritoryHistory_BusinessEntityID_StartDate_TerritoryID",
                  "TABLE_SCHEMA": "Sales",
                  "TABLE_NAME": "SalesTerritoryHistory",
                  "COLUMN_NAME": "BusinessEntityID"
                },
                {
                  "CONSTRAINT_NAME": "PK_SalesTerritoryHistory_BusinessEntityID_StartDate_TerritoryID",
                  "TABLE_SCHEMA": "Sales",
                  "TABLE_NAME": "SalesTerritoryHistory",
                  "COLUMN_NAME": "StartDate"
                },
                {
                  "CONSTRAINT_NAME": "PK_SalesTerritoryHistory_BusinessEntityID_StartDate_TerritoryID",
                  "TABLE_SCHEMA": "Sales",
                  "TABLE_NAME": "SalesTerritoryHistory",
                  "COLUMN_NAME": "TerritoryID"
                },
                {
                  "CONSTRAINT_NAME": "PK_ShoppingCartItem_ShoppingCartItemID",
                  "TABLE_SCHEMA": "Sales",
                  "TABLE_NAME": "ShoppingCartItem",
                  "COLUMN_NAME": "ShoppingCartItemID"
                },
                {
                  "CONSTRAINT_NAME": "PK_SpecialOffer_SpecialOfferID",
                  "TABLE_SCHEMA": "Sales",
                  "TABLE_NAME": "SpecialOffer",
                  "COLUMN_NAME": "SpecialOfferID"
                },
                {
                  "CONSTRAINT_NAME": "PK_SpecialOfferProduct_SpecialOfferID_ProductID",
                  "TABLE_SCHEMA": "Sales",
                  "TABLE_NAME": "SpecialOfferProduct",
                  "COLUMN_NAME": "ProductID"
                },
                {
                  "CONSTRAINT_NAME": "PK_SpecialOfferProduct_SpecialOfferID_ProductID",
                  "TABLE_SCHEMA": "Sales",
                  "TABLE_NAME": "SpecialOfferProduct",
                  "COLUMN_NAME": "SpecialOfferID"
                },
                {
                  "CONSTRAINT_NAME": "PK_Store_BusinessEntityID",
                  "TABLE_SCHEMA": "Sales",
                  "TABLE_NAME": "Store",
                  "COLUMN_NAME": "BusinessEntityID"
                }
              ]
            },
            "text/html": [
              "<table>",
              "<tr><th>CONSTRAINT_NAME</th><th>TABLE_SCHEMA</th><th>TABLE_NAME</th><th>COLUMN_NAME</th></tr>",
              "<tr><td>PK_AWBuildVersion_SystemInformationID</td><td>dbo</td><td>AWBuildVersion</td><td>SystemInformationID</td></tr>",
              "<tr><td>PK_DatabaseLog_DatabaseLogID</td><td>dbo</td><td>DatabaseLog</td><td>DatabaseLogID</td></tr>",
              "<tr><td>PK_ErrorLog_ErrorLogID</td><td>dbo</td><td>ErrorLog</td><td>ErrorLogID</td></tr>",
              "<tr><td>PK_Department_DepartmentID</td><td>HumanResources</td><td>Department</td><td>DepartmentID</td></tr>",
              "<tr><td>PK_Employee_BusinessEntityID</td><td>HumanResources</td><td>Employee</td><td>BusinessEntityID</td></tr>",
              "<tr><td>PK_EmployeeDepartmentHistory_BusinessEntityID_StartDate_DepartmentID</td><td>HumanResources</td><td>EmployeeDepartmentHistory</td><td>BusinessEntityID</td></tr>",
              "<tr><td>PK_EmployeeDepartmentHistory_BusinessEntityID_StartDate_DepartmentID</td><td>HumanResources</td><td>EmployeeDepartmentHistory</td><td>DepartmentID</td></tr>",
              "<tr><td>PK_EmployeeDepartmentHistory_BusinessEntityID_StartDate_DepartmentID</td><td>HumanResources</td><td>EmployeeDepartmentHistory</td><td>ShiftID</td></tr>",
              "<tr><td>PK_EmployeeDepartmentHistory_BusinessEntityID_StartDate_DepartmentID</td><td>HumanResources</td><td>EmployeeDepartmentHistory</td><td>StartDate</td></tr>",
              "<tr><td>PK_EmployeePayHistory_BusinessEntityID_RateChangeDate</td><td>HumanResources</td><td>EmployeePayHistory</td><td>BusinessEntityID</td></tr>",
              "<tr><td>PK_EmployeePayHistory_BusinessEntityID_RateChangeDate</td><td>HumanResources</td><td>EmployeePayHistory</td><td>RateChangeDate</td></tr>",
              "<tr><td>PK_JobCandidate_JobCandidateID</td><td>HumanResources</td><td>JobCandidate</td><td>JobCandidateID</td></tr>",
              "<tr><td>PK_Shift_ShiftID</td><td>HumanResources</td><td>Shift</td><td>ShiftID</td></tr>",
              "<tr><td>PK_Address_AddressID</td><td>Person</td><td>Address</td><td>AddressID</td></tr>",
              "<tr><td>PK_AddressType_AddressTypeID</td><td>Person</td><td>AddressType</td><td>AddressTypeID</td></tr>",
              "<tr><td>PK_BusinessEntity_BusinessEntityID</td><td>Person</td><td>BusinessEntity</td><td>BusinessEntityID</td></tr>",
              "<tr><td>PK_BusinessEntityAddress_BusinessEntityID_AddressID_AddressTypeID</td><td>Person</td><td>BusinessEntityAddress</td><td>AddressID</td></tr>",
              "<tr><td>PK_BusinessEntityAddress_BusinessEntityID_AddressID_AddressTypeID</td><td>Person</td><td>BusinessEntityAddress</td><td>AddressTypeID</td></tr>",
              "<tr><td>PK_BusinessEntityAddress_BusinessEntityID_AddressID_AddressTypeID</td><td>Person</td><td>BusinessEntityAddress</td><td>BusinessEntityID</td></tr>",
              "<tr><td>PK_BusinessEntityContact_BusinessEntityID_PersonID_ContactTypeID</td><td>Person</td><td>BusinessEntityContact</td><td>BusinessEntityID</td></tr>",
              "<tr><td>PK_BusinessEntityContact_BusinessEntityID_PersonID_ContactTypeID</td><td>Person</td><td>BusinessEntityContact</td><td>ContactTypeID</td></tr>",
              "<tr><td>PK_BusinessEntityContact_BusinessEntityID_PersonID_ContactTypeID</td><td>Person</td><td>BusinessEntityContact</td><td>PersonID</td></tr>",
              "<tr><td>PK_ContactType_ContactTypeID</td><td>Person</td><td>ContactType</td><td>ContactTypeID</td></tr>",
              "<tr><td>PK_CountryRegion_CountryRegionCode</td><td>Person</td><td>CountryRegion</td><td>CountryRegionCode</td></tr>",
              "<tr><td>PK_EmailAddress_BusinessEntityID_EmailAddressID</td><td>Person</td><td>EmailAddress</td><td>BusinessEntityID</td></tr>",
              "<tr><td>PK_EmailAddress_BusinessEntityID_EmailAddressID</td><td>Person</td><td>EmailAddress</td><td>EmailAddressID</td></tr>",
              "<tr><td>PK_Password_BusinessEntityID</td><td>Person</td><td>Password</td><td>BusinessEntityID</td></tr>",
              "<tr><td>PK_Person_BusinessEntityID</td><td>Person</td><td>Person</td><td>BusinessEntityID</td></tr>",
              "<tr><td>PK_PersonPhone_BusinessEntityID_PhoneNumber_PhoneNumberTypeID</td><td>Person</td><td>PersonPhone</td><td>BusinessEntityID</td></tr>",
              "<tr><td>PK_PersonPhone_BusinessEntityID_PhoneNumber_PhoneNumberTypeID</td><td>Person</td><td>PersonPhone</td><td>PhoneNumber</td></tr>",
              "<tr><td>PK_PersonPhone_BusinessEntityID_PhoneNumber_PhoneNumberTypeID</td><td>Person</td><td>PersonPhone</td><td>PhoneNumberTypeID</td></tr>",
              "<tr><td>PK_PhoneNumberType_PhoneNumberTypeID</td><td>Person</td><td>PhoneNumberType</td><td>PhoneNumberTypeID</td></tr>",
              "<tr><td>PK_StateProvince_StateProvinceID</td><td>Person</td><td>StateProvince</td><td>StateProvinceID</td></tr>",
              "<tr><td>PK_BillOfMaterials_BillOfMaterialsID</td><td>Production</td><td>BillOfMaterials</td><td>BillOfMaterialsID</td></tr>",
              "<tr><td>PK_Culture_CultureID</td><td>Production</td><td>Culture</td><td>CultureID</td></tr>",
              "<tr><td>PK_Document_DocumentNode</td><td>Production</td><td>Document</td><td>DocumentNode</td></tr>",
              "<tr><td>PK_Illustration_IllustrationID</td><td>Production</td><td>Illustration</td><td>IllustrationID</td></tr>",
              "<tr><td>PK_Location_LocationID</td><td>Production</td><td>Location</td><td>LocationID</td></tr>",
              "<tr><td>PK_Product_ProductID</td><td>Production</td><td>Product</td><td>ProductID</td></tr>",
              "<tr><td>PK_ProductCategory_ProductCategoryID</td><td>Production</td><td>ProductCategory</td><td>ProductCategoryID</td></tr>",
              "<tr><td>PK_ProductCostHistory_ProductID_StartDate</td><td>Production</td><td>ProductCostHistory</td><td>ProductID</td></tr>",
              "<tr><td>PK_ProductCostHistory_ProductID_StartDate</td><td>Production</td><td>ProductCostHistory</td><td>StartDate</td></tr>",
              "<tr><td>PK_ProductDescription_ProductDescriptionID</td><td>Production</td><td>ProductDescription</td><td>ProductDescriptionID</td></tr>",
              "<tr><td>PK_ProductDocument_ProductID_DocumentNode</td><td>Production</td><td>ProductDocument</td><td>DocumentNode</td></tr>",
              "<tr><td>PK_ProductDocument_ProductID_DocumentNode</td><td>Production</td><td>ProductDocument</td><td>ProductID</td></tr>",
              "<tr><td>PK_ProductInventory_ProductID_LocationID</td><td>Production</td><td>ProductInventory</td><td>LocationID</td></tr>",
              "<tr><td>PK_ProductInventory_ProductID_LocationID</td><td>Production</td><td>ProductInventory</td><td>ProductID</td></tr>",
              "<tr><td>PK_ProductListPriceHistory_ProductID_StartDate</td><td>Production</td><td>ProductListPriceHistory</td><td>ProductID</td></tr>",
              "<tr><td>PK_ProductListPriceHistory_ProductID_StartDate</td><td>Production</td><td>ProductListPriceHistory</td><td>StartDate</td></tr>",
              "<tr><td>PK_ProductModel_ProductModelID</td><td>Production</td><td>ProductModel</td><td>ProductModelID</td></tr>",
              "<tr><td>PK_ProductModelIllustration_ProductModelID_IllustrationID</td><td>Production</td><td>ProductModelIllustration</td><td>IllustrationID</td></tr>",
              "<tr><td>PK_ProductModelIllustration_ProductModelID_IllustrationID</td><td>Production</td><td>ProductModelIllustration</td><td>ProductModelID</td></tr>",
              "<tr><td>PK_ProductModelProductDescriptionCulture_ProductModelID_ProductDescriptionID_CultureID</td><td>Production</td><td>ProductModelProductDescriptionCulture</td><td>CultureID</td></tr>",
              "<tr><td>PK_ProductModelProductDescriptionCulture_ProductModelID_ProductDescriptionID_CultureID</td><td>Production</td><td>ProductModelProductDescriptionCulture</td><td>ProductDescriptionID</td></tr>",
              "<tr><td>PK_ProductModelProductDescriptionCulture_ProductModelID_ProductDescriptionID_CultureID</td><td>Production</td><td>ProductModelProductDescriptionCulture</td><td>ProductModelID</td></tr>",
              "<tr><td>PK_ProductPhoto_ProductPhotoID</td><td>Production</td><td>ProductPhoto</td><td>ProductPhotoID</td></tr>",
              "<tr><td>PK_ProductProductPhoto_ProductID_ProductPhotoID</td><td>Production</td><td>ProductProductPhoto</td><td>ProductID</td></tr>",
              "<tr><td>PK_ProductProductPhoto_ProductID_ProductPhotoID</td><td>Production</td><td>ProductProductPhoto</td><td>ProductPhotoID</td></tr>",
              "<tr><td>PK_ProductReview_ProductReviewID</td><td>Production</td><td>ProductReview</td><td>ProductReviewID</td></tr>",
              "<tr><td>PK_ProductSubcategory_ProductSubcategoryID</td><td>Production</td><td>ProductSubcategory</td><td>ProductSubcategoryID</td></tr>",
              "<tr><td>PK_ScrapReason_ScrapReasonID</td><td>Production</td><td>ScrapReason</td><td>ScrapReasonID</td></tr>",
              "<tr><td>PK_TransactionHistory_TransactionID</td><td>Production</td><td>TransactionHistory</td><td>TransactionID</td></tr>",
              "<tr><td>PK_TransactionHistoryArchive_TransactionID</td><td>Production</td><td>TransactionHistoryArchive</td><td>TransactionID</td></tr>",
              "<tr><td>PK_UnitMeasure_UnitMeasureCode</td><td>Production</td><td>UnitMeasure</td><td>UnitMeasureCode</td></tr>",
              "<tr><td>PK_WorkOrder_WorkOrderID</td><td>Production</td><td>WorkOrder</td><td>WorkOrderID</td></tr>",
              "<tr><td>PK_WorkOrderRouting_WorkOrderID_ProductID_OperationSequence</td><td>Production</td><td>WorkOrderRouting</td><td>OperationSequence</td></tr>",
              "<tr><td>PK_WorkOrderRouting_WorkOrderID_ProductID_OperationSequence</td><td>Production</td><td>WorkOrderRouting</td><td>ProductID</td></tr>",
              "<tr><td>PK_WorkOrderRouting_WorkOrderID_ProductID_OperationSequence</td><td>Production</td><td>WorkOrderRouting</td><td>WorkOrderID</td></tr>",
              "<tr><td>PK_ProductVendor_ProductID_BusinessEntityID</td><td>Purchasing</td><td>ProductVendor</td><td>BusinessEntityID</td></tr>",
              "<tr><td>PK_ProductVendor_ProductID_BusinessEntityID</td><td>Purchasing</td><td>ProductVendor</td><td>ProductID</td></tr>",
              "<tr><td>PK_PurchaseOrderDetail_PurchaseOrderID_PurchaseOrderDetailID</td><td>Purchasing</td><td>PurchaseOrderDetail</td><td>PurchaseOrderDetailID</td></tr>",
              "<tr><td>PK_PurchaseOrderDetail_PurchaseOrderID_PurchaseOrderDetailID</td><td>Purchasing</td><td>PurchaseOrderDetail</td><td>PurchaseOrderID</td></tr>",
              "<tr><td>PK_PurchaseOrderHeader_PurchaseOrderID</td><td>Purchasing</td><td>PurchaseOrderHeader</td><td>PurchaseOrderID</td></tr>",
              "<tr><td>PK_ShipMethod_ShipMethodID</td><td>Purchasing</td><td>ShipMethod</td><td>ShipMethodID</td></tr>",
              "<tr><td>PK_Vendor_BusinessEntityID</td><td>Purchasing</td><td>Vendor</td><td>BusinessEntityID</td></tr>",
              "<tr><td>PK_CountryRegionCurrency_CountryRegionCode_CurrencyCode</td><td>Sales</td><td>CountryRegionCurrency</td><td>CountryRegionCode</td></tr>",
              "<tr><td>PK_CountryRegionCurrency_CountryRegionCode_CurrencyCode</td><td>Sales</td><td>CountryRegionCurrency</td><td>CurrencyCode</td></tr>",
              "<tr><td>PK_CreditCard_CreditCardID</td><td>Sales</td><td>CreditCard</td><td>CreditCardID</td></tr>",
              "<tr><td>PK_Currency_CurrencyCode</td><td>Sales</td><td>Currency</td><td>CurrencyCode</td></tr>",
              "<tr><td>PK_CurrencyRate_CurrencyRateID</td><td>Sales</td><td>CurrencyRate</td><td>CurrencyRateID</td></tr>",
              "<tr><td>PK_Customer_CustomerID</td><td>Sales</td><td>Customer</td><td>CustomerID</td></tr>",
              "<tr><td>PK_PersonCreditCard_BusinessEntityID_CreditCardID</td><td>Sales</td><td>PersonCreditCard</td><td>BusinessEntityID</td></tr>",
              "<tr><td>PK_PersonCreditCard_BusinessEntityID_CreditCardID</td><td>Sales</td><td>PersonCreditCard</td><td>CreditCardID</td></tr>",
              "<tr><td>PK_SalesOrderDetail_SalesOrderID_SalesOrderDetailID</td><td>Sales</td><td>SalesOrderDetail</td><td>SalesOrderDetailID</td></tr>",
              "<tr><td>PK_SalesOrderDetail_SalesOrderID_SalesOrderDetailID</td><td>Sales</td><td>SalesOrderDetail</td><td>SalesOrderID</td></tr>",
              "<tr><td>PK_SalesOrderHeader_SalesOrderID</td><td>Sales</td><td>SalesOrderHeader</td><td>SalesOrderID</td></tr>",
              "<tr><td>PK_SalesOrderHeaderSalesReason_SalesOrderID_SalesReasonID</td><td>Sales</td><td>SalesOrderHeaderSalesReason</td><td>SalesOrderID</td></tr>",
              "<tr><td>PK_SalesOrderHeaderSalesReason_SalesOrderID_SalesReasonID</td><td>Sales</td><td>SalesOrderHeaderSalesReason</td><td>SalesReasonID</td></tr>",
              "<tr><td>PK_SalesPerson_BusinessEntityID</td><td>Sales</td><td>SalesPerson</td><td>BusinessEntityID</td></tr>",
              "<tr><td>PK_SalesPersonQuotaHistory_BusinessEntityID_QuotaDate</td><td>Sales</td><td>SalesPersonQuotaHistory</td><td>BusinessEntityID</td></tr>",
              "<tr><td>PK_SalesPersonQuotaHistory_BusinessEntityID_QuotaDate</td><td>Sales</td><td>SalesPersonQuotaHistory</td><td>QuotaDate</td></tr>",
              "<tr><td>PK_SalesReason_SalesReasonID</td><td>Sales</td><td>SalesReason</td><td>SalesReasonID</td></tr>",
              "<tr><td>PK_SalesTaxRate_SalesTaxRateID</td><td>Sales</td><td>SalesTaxRate</td><td>SalesTaxRateID</td></tr>",
              "<tr><td>PK_SalesTerritory_TerritoryID</td><td>Sales</td><td>SalesTerritory</td><td>TerritoryID</td></tr>",
              "<tr><td>PK_SalesTerritoryHistory_BusinessEntityID_StartDate_TerritoryID</td><td>Sales</td><td>SalesTerritoryHistory</td><td>BusinessEntityID</td></tr>",
              "<tr><td>PK_SalesTerritoryHistory_BusinessEntityID_StartDate_TerritoryID</td><td>Sales</td><td>SalesTerritoryHistory</td><td>StartDate</td></tr>",
              "<tr><td>PK_SalesTerritoryHistory_BusinessEntityID_StartDate_TerritoryID</td><td>Sales</td><td>SalesTerritoryHistory</td><td>TerritoryID</td></tr>",
              "<tr><td>PK_ShoppingCartItem_ShoppingCartItemID</td><td>Sales</td><td>ShoppingCartItem</td><td>ShoppingCartItemID</td></tr>",
              "<tr><td>PK_SpecialOffer_SpecialOfferID</td><td>Sales</td><td>SpecialOffer</td><td>SpecialOfferID</td></tr>",
              "<tr><td>PK_SpecialOfferProduct_SpecialOfferID_ProductID</td><td>Sales</td><td>SpecialOfferProduct</td><td>ProductID</td></tr>",
              "<tr><td>PK_SpecialOfferProduct_SpecialOfferID_ProductID</td><td>Sales</td><td>SpecialOfferProduct</td><td>SpecialOfferID</td></tr>",
              "<tr><td>PK_Store_BusinessEntityID</td><td>Sales</td><td>Store</td><td>BusinessEntityID</td></tr>",
              "</table>"
            ]
          }
        }
      ],
      "execution_count": null
    },
    {
      "cell_type": "markdown",
      "source": [
        "- Identifies user-defined tables (excluding internal system tables starting with \"dt%\").\n",
        "- Gathers information on tables (name), indexes (name), and partitions.\n",
        "- Calculates:\n",
        "    - Row count per table\n",
        "    - Total number of pages allocated for each table and its indexes\n",
        "    - Number of used and data pages\n",
        "    - Estimated disk space usage for total, used, and data portions (in Megabytes)\n",
        "- Groups the results by table name, object ID, index ID, and index name.\n",
        "- Orders the results by row count in descending order (tables with the most rows first).\n",
        "\n",
        "**Tables Used:**\n",
        "\n",
        "- `sys.tables`: Stores information about user-defined tables.\n",
        "- `sys.indexes`: Contains details on indexes created on tables.\n",
        "- `sys.partitions`: Holds data about table partitions (if applicable).\n",
        "- `sys.allocation_units`: Provides allocation unit details for database storage.\n",
        "\n",
        "**Explanation of Columns:**\n",
        "\n",
        "- `TableName`: Name of the user-defined table.\n",
        "- `IndexName`: Name of the associated index (if any). Null for tables without indexes.\n",
        "- `RowCounts`: Total number of rows in the table (summed across partitions).\n",
        "- `TotalPages`: Total number of pages allocated for the table and its indexes.\n",
        "- `UsedPages`: Number of pages containing actual data.\n",
        "- `DataPages`: Number of pages specifically used for storing table data (excluding indexes).\n",
        "- `TotalSpaceMB`: Estimated total disk space used by the table and its indexes (in Megabytes). Calculated as `(TotalPages * 8) / 1024`.\n",
        "- `UsedSpaceMB`: Estimated disk space used by actual data (in Megabytes). Calculated as `(UsedPages * 8) / 1024`.\n",
        "- `DataSpaceMB`: Estimated disk space used specifically for table data (in Megabytes). Calculated as `(DataPages * 8) / 1024`.\n",
        "\n",
        "**Assumptions and Limitations:**\n",
        "\n",
        "- This script is designed for Microsoft SQL Server. Adjustments might be needed for other database platforms.\n",
        "- The script retrieves estimates for disk space usage based on page allocation. Actual storage consumption might vary depending on storage mechanisms and data types.\n",
        "- The `WHERE` clause excludes internal system tables (starting with \"dt%\"). You can modify this clause to include or exclude specific tables based on your needs.\n",
        "\n",
        "**Use Cases:**\n",
        "\n",
        "- Identifying tables with high row counts that might benefit from optimization or partitioning.\n",
        "- Analyzing index effectiveness by comparing row counts with total allocated pages.\n",
        "- Estimating storage usage trends and potential areas for storage optimization.\n",
        "\n",
        "**Note:** This script queries system tables, which can impact database performance. It's recommended to run this script during off-peak hours or on a development/staging environment."
      ],
      "metadata": {
        "language": "sql",
        "azdata_cell_guid": "f501173a-9407-45c8-9117-ff28e762557a",
        "id": "jGzPDCLxY4w8"
      }
    },
    {
      "cell_type": "code",
      "source": [
        "SELECT\n",
        "    t.name AS TableName,\n",
        "    i.name as indexName,\n",
        "    sum(p.rows) as RowCounts,\n",
        "    sum(a.total_pages) as TotalPages,\n",
        "    sum(a.used_pages) as UsedPages,\n",
        "    sum(a.data_pages) as DataPages,\n",
        "    (sum(a.total_pages) * 8) / 1024 as TotalSpaceMB,\n",
        "    (sum(a.used_pages) * 8) / 1024 as UsedSpaceMB,\n",
        "    (sum(a.data_pages) * 8) / 1024 as DataSpaceMB\n",
        "FROM\n",
        "    sys.tables t\n",
        "INNER JOIN\n",
        "    sys.indexes i ON t.object_id = i.object_id\n",
        "INNER JOIN\n",
        "    sys.partitions p ON i.object_id = p.object_id AND i.index_id = p.index_id\n",
        "INNER JOIN\n",
        "    sys.allocation_units a ON p.partition_id = a.container_id\n",
        "WHERE\n",
        "    t.name NOT LIKE 'dt%' AND\n",
        "    i.object_id > 255 AND\n",
        "    i.index_id <= 1\n",
        "GROUP BY\n",
        "    t.name, i.object_id, i.index_id, i.name\n",
        "ORDER BY RowCounts DESC"
      ],
      "metadata": {
        "language": "sql",
        "azdata_cell_guid": "33421602-28b4-4b55-bd63-b2d71761c01f",
        "id": "9foeHykYY4w8",
        "outputId": "bf6fd165-3255-4b44-dd8c-61d6400fa569"
      },
      "outputs": [
        {
          "output_type": "display_data",
          "data": {
            "text/html": "(71 rows affected)"
          },
          "metadata": {}
        },
        {
          "output_type": "display_data",
          "data": {
            "text/html": "Total execution time: 00:00:00.123"
          },
          "metadata": {}
        },
        {
          "output_type": "execute_result",
          "metadata": {},
          "execution_count": 6,
          "data": {
            "application/vnd.dataresource+json": {
              "schema": {
                "fields": [
                  {
                    "name": "TableName"
                  },
                  {
                    "name": "indexName"
                  },
                  {
                    "name": "RowCounts"
                  },
                  {
                    "name": "TotalPages"
                  },
                  {
                    "name": "UsedPages"
                  },
                  {
                    "name": "DataPages"
                  },
                  {
                    "name": "TotalSpaceMB"
                  },
                  {
                    "name": "UsedSpaceMB"
                  },
                  {
                    "name": "DataSpaceMB"
                  }
                ]
              },
              "data": [
                {
                  "TableName": "SalesOrderDetail",
                  "indexName": "PK_SalesOrderDetail_SalesOrderID_SalesOrderDetailID",
                  "RowCounts": "121317",
                  "TotalPages": "1249",
                  "UsedPages": "1238",
                  "DataPages": "1233",
                  "TotalSpaceMB": "9",
                  "UsedSpaceMB": "9",
                  "DataSpaceMB": "9"
                },
                {
                  "TableName": "TransactionHistory",
                  "indexName": "PK_TransactionHistory_TransactionID",
                  "RowCounts": "113443",
                  "TotalPages": "801",
                  "UsedPages": "792",
                  "DataPages": "788",
                  "TotalSpaceMB": "6",
                  "UsedSpaceMB": "6",
                  "DataSpaceMB": "6"
                },
                {
                  "TableName": "TransactionHistoryArchive",
                  "indexName": "PK_TransactionHistoryArchive_TransactionID",
                  "RowCounts": "89253",
                  "TotalPages": "633",
                  "UsedPages": "622",
                  "DataPages": "620",
                  "TotalSpaceMB": "4",
                  "UsedSpaceMB": "4",
                  "DataSpaceMB": "4"
                },
                {
                  "TableName": "WorkOrder",
                  "indexName": "PK_WorkOrder_WorkOrderID",
                  "RowCounts": "72591",
                  "TotalPages": "537",
                  "UsedPages": "525",
                  "DataPages": "523",
                  "TotalSpaceMB": "4",
                  "UsedSpaceMB": "4",
                  "DataSpaceMB": "4"
                },
                {
                  "TableName": "WorkOrderRouting",
                  "indexName": "PK_WorkOrderRouting_WorkOrderID_ProductID_OperationSequence",
                  "RowCounts": "67131",
                  "TotalPages": "705",
                  "UsedPages": "697",
                  "DataPages": "693",
                  "TotalSpaceMB": "5",
                  "UsedSpaceMB": "5",
                  "DataSpaceMB": "5"
                },
                {
                  "TableName": "Person",
                  "indexName": "PK_Person_BusinessEntityID",
                  "RowCounts": "59916",
                  "TotalPages": "3911",
                  "UsedPages": "3826",
                  "DataPages": "3808",
                  "TotalSpaceMB": "30",
                  "UsedSpaceMB": "29",
                  "DataSpaceMB": "29"
                },
                {
                  "TableName": "Address",
                  "indexName": "PK_Address_AddressID",
                  "RowCounts": "58842",
                  "TotalPages": "383",
                  "UsedPages": "352",
                  "DataPages": "342",
                  "TotalSpaceMB": "2",
                  "UsedSpaceMB": "2",
                  "DataSpaceMB": "2"
                },
                {
                  "TableName": "SalesOrderHeader",
                  "indexName": "PK_SalesOrderHeader_SalesOrderID",
                  "RowCounts": "31465",
                  "TotalPages": "697",
                  "UsedPages": "686",
                  "DataPages": "682",
                  "TotalSpaceMB": "5",
                  "UsedSpaceMB": "5",
                  "DataSpaceMB": "5"
                },
                {
                  "TableName": "SalesOrderHeaderSalesReason",
                  "indexName": "PK_SalesOrderHeaderSalesReason_SalesOrderID_SalesReasonID",
                  "RowCounts": "27647",
                  "TotalPages": "97",
                  "UsedPages": "88",
                  "DataPages": "86",
                  "TotalSpaceMB": "0",
                  "UsedSpaceMB": "0",
                  "DataSpaceMB": "0"
                },
                {
                  "TableName": "BusinessEntity",
                  "indexName": "PK_BusinessEntity_BusinessEntityID",
                  "RowCounts": "20777",
                  "TotalPages": "105",
                  "UsedPages": "98",
                  "DataPages": "96",
                  "TotalSpaceMB": "0",
                  "UsedSpaceMB": "0",
                  "DataSpaceMB": "0"
                },
                {
                  "TableName": "PersonPhone",
                  "indexName": "PK_PersonPhone_BusinessEntityID_PhoneNumber_PhoneNumberTypeID",
                  "RowCounts": "19972",
                  "TotalPages": "161",
                  "UsedPages": "150",
                  "DataPages": "148",
                  "TotalSpaceMB": "1",
                  "UsedSpaceMB": "1",
                  "DataSpaceMB": "1"
                },
                {
                  "TableName": "Password",
                  "indexName": "PK_Password_BusinessEntityID",
                  "RowCounts": "19972",
                  "TotalPages": "249",
                  "UsedPages": "237",
                  "DataPages": "235",
                  "TotalSpaceMB": "1",
                  "UsedSpaceMB": "1",
                  "DataSpaceMB": "1"
                },
                {
                  "TableName": "EmailAddress",
                  "indexName": "PK_EmailAddress_BusinessEntityID_EmailAddressID",
                  "RowCounts": "19972",
                  "TotalPages": "265",
                  "UsedPages": "251",
                  "DataPages": "249",
                  "TotalSpaceMB": "2",
                  "UsedSpaceMB": "1",
                  "DataSpaceMB": "1"
                },
                {
                  "TableName": "Customer",
                  "indexName": "PK_Customer_CustomerID",
                  "RowCounts": "19820",
                  "TotalPages": "137",
                  "UsedPages": "123",
                  "DataPages": "121",
                  "TotalSpaceMB": "1",
                  "UsedSpaceMB": "0",
                  "DataSpaceMB": "0"
                },
                {
                  "TableName": "BusinessEntityAddress",
                  "indexName": "PK_BusinessEntityAddress_BusinessEntityID_AddressID_AddressTypeID",
                  "RowCounts": "19614",
                  "TotalPages": "121",
                  "UsedPages": "112",
                  "DataPages": "110",
                  "TotalSpaceMB": "0",
                  "UsedSpaceMB": "0",
                  "DataSpaceMB": "0"
                },
                {
                  "TableName": "CreditCard",
                  "indexName": "PK_CreditCard_CreditCardID",
                  "RowCounts": "19118",
                  "TotalPages": "201",
                  "UsedPages": "189",
                  "DataPages": "187",
                  "TotalSpaceMB": "1",
                  "UsedSpaceMB": "1",
                  "DataSpaceMB": "1"
                },
                {
                  "TableName": "PersonCreditCard",
                  "indexName": "PK_PersonCreditCard_BusinessEntityID_CreditCardID",
                  "RowCounts": "19118",
                  "TotalPages": "73",
                  "UsedPages": "62",
                  "DataPages": "60",
                  "TotalSpaceMB": "0",
                  "UsedSpaceMB": "0",
                  "DataSpaceMB": "0"
                },
                {
                  "TableName": "CurrencyRate",
                  "indexName": "PK_CurrencyRate_CurrencyRateID",
                  "RowCounts": "13532",
                  "TotalPages": "105",
                  "UsedPages": "98",
                  "DataPages": "96",
                  "TotalSpaceMB": "0",
                  "UsedSpaceMB": "0",
                  "DataSpaceMB": "0"
                },
                {
                  "TableName": "PurchaseOrderDetail",
                  "indexName": "PK_PurchaseOrderDetail_PurchaseOrderID_PurchaseOrderDetailID",
                  "RowCounts": "8845",
                  "TotalPages": "73",
                  "UsedPages": "66",
                  "DataPages": "64",
                  "TotalSpaceMB": "0",
                  "UsedSpaceMB": "0",
                  "DataSpaceMB": "0"
                },
                {
                  "TableName": "DatabaseLog",
                  "indexName": "NULL",
                  "RowCounts": "4788",
                  "TotalPages": "818",
                  "UsedPages": "813",
                  "DataPages": "776",
                  "TotalSpaceMB": "6",
                  "UsedSpaceMB": "6",
                  "DataSpaceMB": "6"
                },
                {
                  "TableName": "PurchaseOrderHeader",
                  "indexName": "PK_PurchaseOrderHeader_PurchaseOrderID",
                  "RowCounts": "4012",
                  "TotalPages": "57",
                  "UsedPages": "44",
                  "DataPages": "42",
                  "TotalSpaceMB": "0",
                  "UsedSpaceMB": "0",
                  "DataSpaceMB": "0"
                },
                {
                  "TableName": "BillOfMaterials",
                  "indexName": "AK_BillOfMaterials_ProductAssemblyID_ComponentID_StartDate",
                  "RowCounts": "2679",
                  "TotalPages": "41",
                  "UsedPages": "22",
                  "DataPages": "20",
                  "TotalSpaceMB": "0",
                  "UsedSpaceMB": "0",
                  "DataSpaceMB": "0"
                },
                {
                  "TableName": "Store",
                  "indexName": "PK_Store_BusinessEntityID",
                  "RowCounts": "2103",
                  "TotalPages": "113",
                  "UsedPages": "103",
                  "DataPages": "101",
                  "TotalSpaceMB": "0",
                  "UsedSpaceMB": "0",
                  "DataSpaceMB": "0"
                },
                {
                  "TableName": "ProductInventory",
                  "indexName": "PK_ProductInventory_ProductID_LocationID",
                  "RowCounts": "1069",
                  "TotalPages": "25",
                  "UsedPages": "9",
                  "DataPages": "7",
                  "TotalSpaceMB": "0",
                  "UsedSpaceMB": "0",
                  "DataSpaceMB": "0"
                },
                {
                  "TableName": "BusinessEntityContact",
                  "indexName": "PK_BusinessEntityContact_BusinessEntityID_PersonID_ContactTypeID",
                  "RowCounts": "909",
                  "TotalPages": "25",
                  "UsedPages": "8",
                  "DataPages": "6",
                  "TotalSpaceMB": "0",
                  "UsedSpaceMB": "0",
                  "DataSpaceMB": "0"
                },
                {
                  "TableName": "ProductDescription",
                  "indexName": "PK_ProductDescription_ProductDescriptionID",
                  "RowCounts": "762",
                  "TotalPages": "33",
                  "UsedPages": "20",
                  "DataPages": "18",
                  "TotalSpaceMB": "0",
                  "UsedSpaceMB": "0",
                  "DataSpaceMB": "0"
                },
                {
                  "TableName": "ProductModelProductDescriptionCulture",
                  "indexName": "PK_ProductModelProductDescriptionCulture_ProductModelID_ProductDescriptionID_CultureID",
                  "RowCounts": "762",
                  "TotalPages": "25",
                  "UsedPages": "6",
                  "DataPages": "4",
                  "TotalSpaceMB": "0",
                  "UsedSpaceMB": "0",
                  "DataSpaceMB": "0"
                },
                {
                  "TableName": "SpecialOfferProduct",
                  "indexName": "PK_SpecialOfferProduct_SpecialOfferID_ProductID",
                  "RowCounts": "538",
                  "TotalPages": "25",
                  "UsedPages": "5",
                  "DataPages": "3",
                  "TotalSpaceMB": "0",
                  "UsedSpaceMB": "0",
                  "DataSpaceMB": "0"
                },
                {
                  "TableName": "ProductProductPhoto",
                  "indexName": "NULL",
                  "RowCounts": "504",
                  "TotalPages": "9",
                  "UsedPages": "4",
                  "DataPages": "3",
                  "TotalSpaceMB": "0",
                  "UsedSpaceMB": "0",
                  "DataSpaceMB": "0"
                },
                {
                  "TableName": "Product",
                  "indexName": "PK_Product_ProductID",
                  "RowCounts": "504",
                  "TotalPages": "33",
                  "UsedPages": "15",
                  "DataPages": "13",
                  "TotalSpaceMB": "0",
                  "UsedSpaceMB": "0",
                  "DataSpaceMB": "0"
                },
                {
                  "TableName": "ProductVendor",
                  "indexName": "PK_ProductVendor_ProductID_BusinessEntityID",
                  "RowCounts": "460",
                  "TotalPages": "25",
                  "UsedPages": "7",
                  "DataPages": "5",
                  "TotalSpaceMB": "0",
                  "UsedSpaceMB": "0",
                  "DataSpaceMB": "0"
                },
                {
                  "TableName": "ProductCostHistory",
                  "indexName": "PK_ProductCostHistory_ProductID_StartDate",
                  "RowCounts": "395",
                  "TotalPages": "25",
                  "UsedPages": "5",
                  "DataPages": "3",
                  "TotalSpaceMB": "0",
                  "UsedSpaceMB": "0",
                  "DataSpaceMB": "0"
                },
                {
                  "TableName": "ProductListPriceHistory",
                  "indexName": "PK_ProductListPriceHistory_ProductID_StartDate",
                  "RowCounts": "395",
                  "TotalPages": "25",
                  "UsedPages": "5",
                  "DataPages": "3",
                  "TotalSpaceMB": "0",
                  "UsedSpaceMB": "0",
                  "DataSpaceMB": "0"
                },
                {
                  "TableName": "ProductModel",
                  "indexName": "PK_ProductModel_ProductModelID",
                  "RowCounts": "384",
                  "TotalPages": "42",
                  "UsedPages": "20",
                  "DataPages": "12",
                  "TotalSpaceMB": "0",
                  "UsedSpaceMB": "0",
                  "DataSpaceMB": "0"
                },
                {
                  "TableName": "EmployeePayHistory",
                  "indexName": "PK_EmployeePayHistory_BusinessEntityID_RateChangeDate",
                  "RowCounts": "316",
                  "TotalPages": "25",
                  "UsedPages": "4",
                  "DataPages": "2",
                  "TotalSpaceMB": "0",
                  "UsedSpaceMB": "0",
                  "DataSpaceMB": "0"
                },
                {
                  "TableName": "ProductPhoto",
                  "indexName": "PK_ProductPhoto_ProductPhotoID",
                  "RowCounts": "303",
                  "TotalPages": "314",
                  "UsedPages": "287",
                  "DataPages": "50",
                  "TotalSpaceMB": "2",
                  "UsedSpaceMB": "2",
                  "DataSpaceMB": "0"
                },
                {
                  "TableName": "EmployeeDepartmentHistory",
                  "indexName": "PK_EmployeeDepartmentHistory_BusinessEntityID_StartDate_DepartmentID",
                  "RowCounts": "296",
                  "TotalPages": "25",
                  "UsedPages": "4",
                  "DataPages": "2",
                  "TotalSpaceMB": "0",
                  "UsedSpaceMB": "0",
                  "DataSpaceMB": "0"
                },
                {
                  "TableName": "Employee",
                  "indexName": "PK_Employee_BusinessEntityID",
                  "RowCounts": "290",
                  "TotalPages": "17",
                  "UsedPages": "9",
                  "DataPages": "7",
                  "TotalSpaceMB": "0",
                  "UsedSpaceMB": "0",
                  "DataSpaceMB": "0"
                },
                {
                  "TableName": "CountryRegion",
                  "indexName": "PK_CountryRegion_CountryRegionCode",
                  "RowCounts": "238",
                  "TotalPages": "25",
                  "UsedPages": "4",
                  "DataPages": "2",
                  "TotalSpaceMB": "0",
                  "UsedSpaceMB": "0",
                  "DataSpaceMB": "0"
                },
                {
                  "TableName": "StateProvince",
                  "indexName": "PK_StateProvince_StateProvinceID",
                  "RowCounts": "181",
                  "TotalPages": "25",
                  "UsedPages": "4",
                  "DataPages": "2",
                  "TotalSpaceMB": "0",
                  "UsedSpaceMB": "0",
                  "DataSpaceMB": "0"
                },
                {
                  "TableName": "SalesPersonQuotaHistory",
                  "indexName": "PK_SalesPersonQuotaHistory_BusinessEntityID_QuotaDate",
                  "RowCounts": "163",
                  "TotalPages": "25",
                  "UsedPages": "4",
                  "DataPages": "2",
                  "TotalSpaceMB": "0",
                  "UsedSpaceMB": "0",
                  "DataSpaceMB": "0"
                },
                {
                  "TableName": "CountryRegionCurrency",
                  "indexName": "PK_CountryRegionCurrency_CountryRegionCode_CurrencyCode",
                  "RowCounts": "109",
                  "TotalPages": "9",
                  "UsedPages": "2",
                  "DataPages": "1",
                  "TotalSpaceMB": "0",
                  "UsedSpaceMB": "0",
                  "DataSpaceMB": "0"
                },
                {
                  "TableName": "Currency",
                  "indexName": "PK_Currency_CurrencyCode",
                  "RowCounts": "105",
                  "TotalPages": "9",
                  "UsedPages": "2",
                  "DataPages": "1",
                  "TotalSpaceMB": "0",
                  "UsedSpaceMB": "0",
                  "DataSpaceMB": "0"
                },
                {
                  "TableName": "Vendor",
                  "indexName": "PK_Vendor_BusinessEntityID",
                  "RowCounts": "104",
                  "TotalPages": "25",
                  "UsedPages": "4",
                  "DataPages": "2",
                  "TotalSpaceMB": "0",
                  "UsedSpaceMB": "0",
                  "DataSpaceMB": "0"
                },
                {
                  "TableName": "Document",
                  "indexName": "PK_Document_DocumentNode",
                  "RowCounts": "39",
                  "TotalPages": "58",
                  "UsedPages": "43",
                  "DataPages": "1",
                  "TotalSpaceMB": "0",
                  "UsedSpaceMB": "0",
                  "DataSpaceMB": "0"
                },
                {
                  "TableName": "UnitMeasure",
                  "indexName": "PK_UnitMeasure_UnitMeasureCode",
                  "RowCounts": "38",
                  "TotalPages": "9",
                  "UsedPages": "2",
                  "DataPages": "1",
                  "TotalSpaceMB": "0",
                  "UsedSpaceMB": "0",
                  "DataSpaceMB": "0"
                },
                {
                  "TableName": "ProductSubcategory",
                  "indexName": "PK_ProductSubcategory_ProductSubcategoryID",
                  "RowCounts": "37",
                  "TotalPages": "9",
                  "UsedPages": "2",
                  "DataPages": "1",
                  "TotalSpaceMB": "0",
                  "UsedSpaceMB": "0",
                  "DataSpaceMB": "0"
                },
                {
                  "TableName": "ProductDocument",
                  "indexName": "PK_ProductDocument_ProductID_DocumentNode",
                  "RowCounts": "32",
                  "TotalPages": "9",
                  "UsedPages": "2",
                  "DataPages": "1",
                  "TotalSpaceMB": "0",
                  "UsedSpaceMB": "0",
                  "DataSpaceMB": "0"
                },
                {
                  "TableName": "SalesTaxRate",
                  "indexName": "PK_SalesTaxRate_SalesTaxRateID",
                  "RowCounts": "29",
                  "TotalPages": "9",
                  "UsedPages": "2",
                  "DataPages": "1",
                  "TotalSpaceMB": "0",
                  "UsedSpaceMB": "0",
                  "DataSpaceMB": "0"
                },
                {
                  "TableName": "JobCandidate",
                  "indexName": "PK_JobCandidate_JobCandidateID",
                  "RowCounts": "26",
                  "TotalPages": "50",
                  "UsedPages": "18",
                  "DataPages": "11",
                  "TotalSpaceMB": "0",
                  "UsedSpaceMB": "0",
                  "DataSpaceMB": "0"
                },
                {
                  "TableName": "ContactType",
                  "indexName": "PK_ContactType_ContactTypeID",
                  "RowCounts": "20",
                  "TotalPages": "9",
                  "UsedPages": "2",
                  "DataPages": "1",
                  "TotalSpaceMB": "0",
                  "UsedSpaceMB": "0",
                  "DataSpaceMB": "0"
                },
                {
                  "TableName": "SalesPerson",
                  "indexName": "PK_SalesPerson_BusinessEntityID",
                  "RowCounts": "17",
                  "TotalPages": "9",
                  "UsedPages": "2",
                  "DataPages": "1",
                  "TotalSpaceMB": "0",
                  "UsedSpaceMB": "0",
                  "DataSpaceMB": "0"
                },
                {
                  "TableName": "SalesTerritoryHistory",
                  "indexName": "PK_SalesTerritoryHistory_BusinessEntityID_StartDate_TerritoryID",
                  "RowCounts": "17",
                  "TotalPages": "9",
                  "UsedPages": "2",
                  "DataPages": "1",
                  "TotalSpaceMB": "0",
                  "UsedSpaceMB": "0",
                  "DataSpaceMB": "0"
                },
                {
                  "TableName": "ScrapReason",
                  "indexName": "PK_ScrapReason_ScrapReasonID",
                  "RowCounts": "16",
                  "TotalPages": "9",
                  "UsedPages": "2",
                  "DataPages": "1",
                  "TotalSpaceMB": "0",
                  "UsedSpaceMB": "0",
                  "DataSpaceMB": "0"
                },
                {
                  "TableName": "SpecialOffer",
                  "indexName": "PK_SpecialOffer_SpecialOfferID",
                  "RowCounts": "16",
                  "TotalPages": "9",
                  "UsedPages": "2",
                  "DataPages": "1",
                  "TotalSpaceMB": "0",
                  "UsedSpaceMB": "0",
                  "DataSpaceMB": "0"
                },
                {
                  "TableName": "Department",
                  "indexName": "PK_Department_DepartmentID",
                  "RowCounts": "16",
                  "TotalPages": "9",
                  "UsedPages": "2",
                  "DataPages": "1",
                  "TotalSpaceMB": "0",
                  "UsedSpaceMB": "0",
                  "DataSpaceMB": "0"
                },
                {
                  "TableName": "Location",
                  "indexName": "PK_Location_LocationID",
                  "RowCounts": "14",
                  "TotalPages": "9",
                  "UsedPages": "2",
                  "DataPages": "1",
                  "TotalSpaceMB": "0",
                  "UsedSpaceMB": "0",
                  "DataSpaceMB": "0"
                },
                {
                  "TableName": "Illustration",
                  "indexName": "PK_Illustration_IllustrationID",
                  "RowCounts": "10",
                  "TotalPages": "50",
                  "UsedPages": "31",
                  "DataPages": "1",
                  "TotalSpaceMB": "0",
                  "UsedSpaceMB": "0",
                  "DataSpaceMB": "0"
                },
                {
                  "TableName": "SalesReason",
                  "indexName": "PK_SalesReason_SalesReasonID",
                  "RowCounts": "10",
                  "TotalPages": "9",
                  "UsedPages": "2",
                  "DataPages": "1",
                  "TotalSpaceMB": "0",
                  "UsedSpaceMB": "0",
                  "DataSpaceMB": "0"
                },
                {
                  "TableName": "SalesTerritory",
                  "indexName": "PK_SalesTerritory_TerritoryID",
                  "RowCounts": "10",
                  "TotalPages": "9",
                  "UsedPages": "2",
                  "DataPages": "1",
                  "TotalSpaceMB": "0",
                  "UsedSpaceMB": "0",
                  "DataSpaceMB": "0"
                },
                {
                  "TableName": "Culture",
                  "indexName": "PK_Culture_CultureID",
                  "RowCounts": "8",
                  "TotalPages": "9",
                  "UsedPages": "2",
                  "DataPages": "1",
                  "TotalSpaceMB": "0",
                  "UsedSpaceMB": "0",
                  "DataSpaceMB": "0"
                },
                {
                  "TableName": "ProductModelIllustration",
                  "indexName": "PK_ProductModelIllustration_ProductModelID_IllustrationID",
                  "RowCounts": "7",
                  "TotalPages": "9",
                  "UsedPages": "2",
                  "DataPages": "1",
                  "TotalSpaceMB": "0",
                  "UsedSpaceMB": "0",
                  "DataSpaceMB": "0"
                },
                {
                  "TableName": "AddressType",
                  "indexName": "PK_AddressType_AddressTypeID",
                  "RowCounts": "6",
                  "TotalPages": "9",
                  "UsedPages": "2",
                  "DataPages": "1",
                  "TotalSpaceMB": "0",
                  "UsedSpaceMB": "0",
                  "DataSpaceMB": "0"
                },
                {
                  "TableName": "ShipMethod",
                  "indexName": "PK_ShipMethod_ShipMethodID",
                  "RowCounts": "5",
                  "TotalPages": "9",
                  "UsedPages": "2",
                  "DataPages": "1",
                  "TotalSpaceMB": "0",
                  "UsedSpaceMB": "0",
                  "DataSpaceMB": "0"
                },
                {
                  "TableName": "ProductCategory",
                  "indexName": "PK_ProductCategory_ProductCategoryID",
                  "RowCounts": "4",
                  "TotalPages": "9",
                  "UsedPages": "2",
                  "DataPages": "1",
                  "TotalSpaceMB": "0",
                  "UsedSpaceMB": "0",
                  "DataSpaceMB": "0"
                },
                {
                  "TableName": "ProductReview",
                  "indexName": "PK_ProductReview_ProductReviewID",
                  "RowCounts": "4",
                  "TotalPages": "25",
                  "UsedPages": "4",
                  "DataPages": "2",
                  "TotalSpaceMB": "0",
                  "UsedSpaceMB": "0",
                  "DataSpaceMB": "0"
                },
                {
                  "TableName": "ShoppingCartItem",
                  "indexName": "PK_ShoppingCartItem_ShoppingCartItemID",
                  "RowCounts": "3",
                  "TotalPages": "9",
                  "UsedPages": "2",
                  "DataPages": "1",
                  "TotalSpaceMB": "0",
                  "UsedSpaceMB": "0",
                  "DataSpaceMB": "0"
                },
                {
                  "TableName": "PhoneNumberType",
                  "indexName": "PK_PhoneNumberType_PhoneNumberTypeID",
                  "RowCounts": "3",
                  "TotalPages": "9",
                  "UsedPages": "2",
                  "DataPages": "1",
                  "TotalSpaceMB": "0",
                  "UsedSpaceMB": "0",
                  "DataSpaceMB": "0"
                },
                {
                  "TableName": "Shift",
                  "indexName": "PK_Shift_ShiftID",
                  "RowCounts": "3",
                  "TotalPages": "9",
                  "UsedPages": "2",
                  "DataPages": "1",
                  "TotalSpaceMB": "0",
                  "UsedSpaceMB": "0",
                  "DataSpaceMB": "0"
                },
                {
                  "TableName": "AWBuildVersion",
                  "indexName": "PK_AWBuildVersion_SystemInformationID",
                  "RowCounts": "1",
                  "TotalPages": "9",
                  "UsedPages": "2",
                  "DataPages": "1",
                  "TotalSpaceMB": "0",
                  "UsedSpaceMB": "0",
                  "DataSpaceMB": "0"
                },
                {
                  "TableName": "ErrorLog",
                  "indexName": "PK_ErrorLog_ErrorLogID",
                  "RowCounts": "0",
                  "TotalPages": "0",
                  "UsedPages": "0",
                  "DataPages": "0",
                  "TotalSpaceMB": "0",
                  "UsedSpaceMB": "0",
                  "DataSpaceMB": "0"
                }
              ]
            },
            "text/html": [
              "<table>",
              "<tr><th>TableName</th><th>indexName</th><th>RowCounts</th><th>TotalPages</th><th>UsedPages</th><th>DataPages</th><th>TotalSpaceMB</th><th>UsedSpaceMB</th><th>DataSpaceMB</th></tr>",
              "<tr><td>SalesOrderDetail</td><td>PK_SalesOrderDetail_SalesOrderID_SalesOrderDetailID</td><td>121317</td><td>1249</td><td>1238</td><td>1233</td><td>9</td><td>9</td><td>9</td></tr>",
              "<tr><td>TransactionHistory</td><td>PK_TransactionHistory_TransactionID</td><td>113443</td><td>801</td><td>792</td><td>788</td><td>6</td><td>6</td><td>6</td></tr>",
              "<tr><td>TransactionHistoryArchive</td><td>PK_TransactionHistoryArchive_TransactionID</td><td>89253</td><td>633</td><td>622</td><td>620</td><td>4</td><td>4</td><td>4</td></tr>",
              "<tr><td>WorkOrder</td><td>PK_WorkOrder_WorkOrderID</td><td>72591</td><td>537</td><td>525</td><td>523</td><td>4</td><td>4</td><td>4</td></tr>",
              "<tr><td>WorkOrderRouting</td><td>PK_WorkOrderRouting_WorkOrderID_ProductID_OperationSequence</td><td>67131</td><td>705</td><td>697</td><td>693</td><td>5</td><td>5</td><td>5</td></tr>",
              "<tr><td>Person</td><td>PK_Person_BusinessEntityID</td><td>59916</td><td>3911</td><td>3826</td><td>3808</td><td>30</td><td>29</td><td>29</td></tr>",
              "<tr><td>Address</td><td>PK_Address_AddressID</td><td>58842</td><td>383</td><td>352</td><td>342</td><td>2</td><td>2</td><td>2</td></tr>",
              "<tr><td>SalesOrderHeader</td><td>PK_SalesOrderHeader_SalesOrderID</td><td>31465</td><td>697</td><td>686</td><td>682</td><td>5</td><td>5</td><td>5</td></tr>",
              "<tr><td>SalesOrderHeaderSalesReason</td><td>PK_SalesOrderHeaderSalesReason_SalesOrderID_SalesReasonID</td><td>27647</td><td>97</td><td>88</td><td>86</td><td>0</td><td>0</td><td>0</td></tr>",
              "<tr><td>BusinessEntity</td><td>PK_BusinessEntity_BusinessEntityID</td><td>20777</td><td>105</td><td>98</td><td>96</td><td>0</td><td>0</td><td>0</td></tr>",
              "<tr><td>PersonPhone</td><td>PK_PersonPhone_BusinessEntityID_PhoneNumber_PhoneNumberTypeID</td><td>19972</td><td>161</td><td>150</td><td>148</td><td>1</td><td>1</td><td>1</td></tr>",
              "<tr><td>Password</td><td>PK_Password_BusinessEntityID</td><td>19972</td><td>249</td><td>237</td><td>235</td><td>1</td><td>1</td><td>1</td></tr>",
              "<tr><td>EmailAddress</td><td>PK_EmailAddress_BusinessEntityID_EmailAddressID</td><td>19972</td><td>265</td><td>251</td><td>249</td><td>2</td><td>1</td><td>1</td></tr>",
              "<tr><td>Customer</td><td>PK_Customer_CustomerID</td><td>19820</td><td>137</td><td>123</td><td>121</td><td>1</td><td>0</td><td>0</td></tr>",
              "<tr><td>BusinessEntityAddress</td><td>PK_BusinessEntityAddress_BusinessEntityID_AddressID_AddressTypeID</td><td>19614</td><td>121</td><td>112</td><td>110</td><td>0</td><td>0</td><td>0</td></tr>",
              "<tr><td>CreditCard</td><td>PK_CreditCard_CreditCardID</td><td>19118</td><td>201</td><td>189</td><td>187</td><td>1</td><td>1</td><td>1</td></tr>",
              "<tr><td>PersonCreditCard</td><td>PK_PersonCreditCard_BusinessEntityID_CreditCardID</td><td>19118</td><td>73</td><td>62</td><td>60</td><td>0</td><td>0</td><td>0</td></tr>",
              "<tr><td>CurrencyRate</td><td>PK_CurrencyRate_CurrencyRateID</td><td>13532</td><td>105</td><td>98</td><td>96</td><td>0</td><td>0</td><td>0</td></tr>",
              "<tr><td>PurchaseOrderDetail</td><td>PK_PurchaseOrderDetail_PurchaseOrderID_PurchaseOrderDetailID</td><td>8845</td><td>73</td><td>66</td><td>64</td><td>0</td><td>0</td><td>0</td></tr>",
              "<tr><td>DatabaseLog</td><td>NULL</td><td>4788</td><td>818</td><td>813</td><td>776</td><td>6</td><td>6</td><td>6</td></tr>",
              "<tr><td>PurchaseOrderHeader</td><td>PK_PurchaseOrderHeader_PurchaseOrderID</td><td>4012</td><td>57</td><td>44</td><td>42</td><td>0</td><td>0</td><td>0</td></tr>",
              "<tr><td>BillOfMaterials</td><td>AK_BillOfMaterials_ProductAssemblyID_ComponentID_StartDate</td><td>2679</td><td>41</td><td>22</td><td>20</td><td>0</td><td>0</td><td>0</td></tr>",
              "<tr><td>Store</td><td>PK_Store_BusinessEntityID</td><td>2103</td><td>113</td><td>103</td><td>101</td><td>0</td><td>0</td><td>0</td></tr>",
              "<tr><td>ProductInventory</td><td>PK_ProductInventory_ProductID_LocationID</td><td>1069</td><td>25</td><td>9</td><td>7</td><td>0</td><td>0</td><td>0</td></tr>",
              "<tr><td>BusinessEntityContact</td><td>PK_BusinessEntityContact_BusinessEntityID_PersonID_ContactTypeID</td><td>909</td><td>25</td><td>8</td><td>6</td><td>0</td><td>0</td><td>0</td></tr>",
              "<tr><td>ProductDescription</td><td>PK_ProductDescription_ProductDescriptionID</td><td>762</td><td>33</td><td>20</td><td>18</td><td>0</td><td>0</td><td>0</td></tr>",
              "<tr><td>ProductModelProductDescriptionCulture</td><td>PK_ProductModelProductDescriptionCulture_ProductModelID_ProductDescriptionID_CultureID</td><td>762</td><td>25</td><td>6</td><td>4</td><td>0</td><td>0</td><td>0</td></tr>",
              "<tr><td>SpecialOfferProduct</td><td>PK_SpecialOfferProduct_SpecialOfferID_ProductID</td><td>538</td><td>25</td><td>5</td><td>3</td><td>0</td><td>0</td><td>0</td></tr>",
              "<tr><td>ProductProductPhoto</td><td>NULL</td><td>504</td><td>9</td><td>4</td><td>3</td><td>0</td><td>0</td><td>0</td></tr>",
              "<tr><td>Product</td><td>PK_Product_ProductID</td><td>504</td><td>33</td><td>15</td><td>13</td><td>0</td><td>0</td><td>0</td></tr>",
              "<tr><td>ProductVendor</td><td>PK_ProductVendor_ProductID_BusinessEntityID</td><td>460</td><td>25</td><td>7</td><td>5</td><td>0</td><td>0</td><td>0</td></tr>",
              "<tr><td>ProductCostHistory</td><td>PK_ProductCostHistory_ProductID_StartDate</td><td>395</td><td>25</td><td>5</td><td>3</td><td>0</td><td>0</td><td>0</td></tr>",
              "<tr><td>ProductListPriceHistory</td><td>PK_ProductListPriceHistory_ProductID_StartDate</td><td>395</td><td>25</td><td>5</td><td>3</td><td>0</td><td>0</td><td>0</td></tr>",
              "<tr><td>ProductModel</td><td>PK_ProductModel_ProductModelID</td><td>384</td><td>42</td><td>20</td><td>12</td><td>0</td><td>0</td><td>0</td></tr>",
              "<tr><td>EmployeePayHistory</td><td>PK_EmployeePayHistory_BusinessEntityID_RateChangeDate</td><td>316</td><td>25</td><td>4</td><td>2</td><td>0</td><td>0</td><td>0</td></tr>",
              "<tr><td>ProductPhoto</td><td>PK_ProductPhoto_ProductPhotoID</td><td>303</td><td>314</td><td>287</td><td>50</td><td>2</td><td>2</td><td>0</td></tr>",
              "<tr><td>EmployeeDepartmentHistory</td><td>PK_EmployeeDepartmentHistory_BusinessEntityID_StartDate_DepartmentID</td><td>296</td><td>25</td><td>4</td><td>2</td><td>0</td><td>0</td><td>0</td></tr>",
              "<tr><td>Employee</td><td>PK_Employee_BusinessEntityID</td><td>290</td><td>17</td><td>9</td><td>7</td><td>0</td><td>0</td><td>0</td></tr>",
              "<tr><td>CountryRegion</td><td>PK_CountryRegion_CountryRegionCode</td><td>238</td><td>25</td><td>4</td><td>2</td><td>0</td><td>0</td><td>0</td></tr>",
              "<tr><td>StateProvince</td><td>PK_StateProvince_StateProvinceID</td><td>181</td><td>25</td><td>4</td><td>2</td><td>0</td><td>0</td><td>0</td></tr>",
              "<tr><td>SalesPersonQuotaHistory</td><td>PK_SalesPersonQuotaHistory_BusinessEntityID_QuotaDate</td><td>163</td><td>25</td><td>4</td><td>2</td><td>0</td><td>0</td><td>0</td></tr>",
              "<tr><td>CountryRegionCurrency</td><td>PK_CountryRegionCurrency_CountryRegionCode_CurrencyCode</td><td>109</td><td>9</td><td>2</td><td>1</td><td>0</td><td>0</td><td>0</td></tr>",
              "<tr><td>Currency</td><td>PK_Currency_CurrencyCode</td><td>105</td><td>9</td><td>2</td><td>1</td><td>0</td><td>0</td><td>0</td></tr>",
              "<tr><td>Vendor</td><td>PK_Vendor_BusinessEntityID</td><td>104</td><td>25</td><td>4</td><td>2</td><td>0</td><td>0</td><td>0</td></tr>",
              "<tr><td>Document</td><td>PK_Document_DocumentNode</td><td>39</td><td>58</td><td>43</td><td>1</td><td>0</td><td>0</td><td>0</td></tr>",
              "<tr><td>UnitMeasure</td><td>PK_UnitMeasure_UnitMeasureCode</td><td>38</td><td>9</td><td>2</td><td>1</td><td>0</td><td>0</td><td>0</td></tr>",
              "<tr><td>ProductSubcategory</td><td>PK_ProductSubcategory_ProductSubcategoryID</td><td>37</td><td>9</td><td>2</td><td>1</td><td>0</td><td>0</td><td>0</td></tr>",
              "<tr><td>ProductDocument</td><td>PK_ProductDocument_ProductID_DocumentNode</td><td>32</td><td>9</td><td>2</td><td>1</td><td>0</td><td>0</td><td>0</td></tr>",
              "<tr><td>SalesTaxRate</td><td>PK_SalesTaxRate_SalesTaxRateID</td><td>29</td><td>9</td><td>2</td><td>1</td><td>0</td><td>0</td><td>0</td></tr>",
              "<tr><td>JobCandidate</td><td>PK_JobCandidate_JobCandidateID</td><td>26</td><td>50</td><td>18</td><td>11</td><td>0</td><td>0</td><td>0</td></tr>",
              "<tr><td>ContactType</td><td>PK_ContactType_ContactTypeID</td><td>20</td><td>9</td><td>2</td><td>1</td><td>0</td><td>0</td><td>0</td></tr>",
              "<tr><td>SalesPerson</td><td>PK_SalesPerson_BusinessEntityID</td><td>17</td><td>9</td><td>2</td><td>1</td><td>0</td><td>0</td><td>0</td></tr>",
              "<tr><td>SalesTerritoryHistory</td><td>PK_SalesTerritoryHistory_BusinessEntityID_StartDate_TerritoryID</td><td>17</td><td>9</td><td>2</td><td>1</td><td>0</td><td>0</td><td>0</td></tr>",
              "<tr><td>ScrapReason</td><td>PK_ScrapReason_ScrapReasonID</td><td>16</td><td>9</td><td>2</td><td>1</td><td>0</td><td>0</td><td>0</td></tr>",
              "<tr><td>SpecialOffer</td><td>PK_SpecialOffer_SpecialOfferID</td><td>16</td><td>9</td><td>2</td><td>1</td><td>0</td><td>0</td><td>0</td></tr>",
              "<tr><td>Department</td><td>PK_Department_DepartmentID</td><td>16</td><td>9</td><td>2</td><td>1</td><td>0</td><td>0</td><td>0</td></tr>",
              "<tr><td>Location</td><td>PK_Location_LocationID</td><td>14</td><td>9</td><td>2</td><td>1</td><td>0</td><td>0</td><td>0</td></tr>",
              "<tr><td>Illustration</td><td>PK_Illustration_IllustrationID</td><td>10</td><td>50</td><td>31</td><td>1</td><td>0</td><td>0</td><td>0</td></tr>",
              "<tr><td>SalesReason</td><td>PK_SalesReason_SalesReasonID</td><td>10</td><td>9</td><td>2</td><td>1</td><td>0</td><td>0</td><td>0</td></tr>",
              "<tr><td>SalesTerritory</td><td>PK_SalesTerritory_TerritoryID</td><td>10</td><td>9</td><td>2</td><td>1</td><td>0</td><td>0</td><td>0</td></tr>",
              "<tr><td>Culture</td><td>PK_Culture_CultureID</td><td>8</td><td>9</td><td>2</td><td>1</td><td>0</td><td>0</td><td>0</td></tr>",
              "<tr><td>ProductModelIllustration</td><td>PK_ProductModelIllustration_ProductModelID_IllustrationID</td><td>7</td><td>9</td><td>2</td><td>1</td><td>0</td><td>0</td><td>0</td></tr>",
              "<tr><td>AddressType</td><td>PK_AddressType_AddressTypeID</td><td>6</td><td>9</td><td>2</td><td>1</td><td>0</td><td>0</td><td>0</td></tr>",
              "<tr><td>ShipMethod</td><td>PK_ShipMethod_ShipMethodID</td><td>5</td><td>9</td><td>2</td><td>1</td><td>0</td><td>0</td><td>0</td></tr>",
              "<tr><td>ProductCategory</td><td>PK_ProductCategory_ProductCategoryID</td><td>4</td><td>9</td><td>2</td><td>1</td><td>0</td><td>0</td><td>0</td></tr>",
              "<tr><td>ProductReview</td><td>PK_ProductReview_ProductReviewID</td><td>4</td><td>25</td><td>4</td><td>2</td><td>0</td><td>0</td><td>0</td></tr>",
              "<tr><td>ShoppingCartItem</td><td>PK_ShoppingCartItem_ShoppingCartItemID</td><td>3</td><td>9</td><td>2</td><td>1</td><td>0</td><td>0</td><td>0</td></tr>",
              "<tr><td>PhoneNumberType</td><td>PK_PhoneNumberType_PhoneNumberTypeID</td><td>3</td><td>9</td><td>2</td><td>1</td><td>0</td><td>0</td><td>0</td></tr>",
              "<tr><td>Shift</td><td>PK_Shift_ShiftID</td><td>3</td><td>9</td><td>2</td><td>1</td><td>0</td><td>0</td><td>0</td></tr>",
              "<tr><td>AWBuildVersion</td><td>PK_AWBuildVersion_SystemInformationID</td><td>1</td><td>9</td><td>2</td><td>1</td><td>0</td><td>0</td><td>0</td></tr>",
              "<tr><td>ErrorLog</td><td>PK_ErrorLog_ErrorLogID</td><td>0</td><td>0</td><td>0</td><td>0</td><td>0</td><td>0</td><td>0</td></tr>",
              "</table>"
            ]
          }
        }
      ],
      "execution_count": null
    },
    {
      "cell_type": "markdown",
      "source": [
        "# **<mark>Questions o help us understand the database better:</mark>**\n",
        "\n",
        "1. _<u>How many tables are there in the database?</u>_\n",
        "2. <u>_What are the names of the tables in the database?_</u>\n",
        "3. <u>_How many columns does each table have? What are their names and data types?_</u>\n",
        "4. <u>_Which tables have foreign key relationships? What are these relationships?_</u>\n",
        "5. _<u>Which tables have primary keys? What are these primary keys?</u>_\n",
        "6. _<u>What are the most populated tables in the database?</u>_"
      ],
      "metadata": {
        "language": "sql",
        "azdata_cell_guid": "804006ca-283c-4623-8f61-af4c635d1f0f",
        "id": "Pw8X1N0lY4w9"
      }
    }
  ]
}